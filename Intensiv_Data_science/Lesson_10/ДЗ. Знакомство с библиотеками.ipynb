{
 "cells": [
  {
   "cell_type": "markdown",
   "id": "rubber-sport",
   "metadata": {},
   "source": [
    "### Pandas\n",
    "\n",
    "Для некоторых заданий, возможно, придется обратиться к документации: https://pandas.pydata.org/docs/\n",
    "\n",
    "* Скачайте любой табличный датасет (или создайте тестовый пример самостоятельно), например, с https://www.kaggle.com/datasets\n",
    "\n",
    "*  Загрузите данные и проанализируйте их (используя функции .info и .describe)\n",
    "*  Выведите отдельно интересующую вас колонку и столбец"
   ]
  },
  {
   "cell_type": "markdown",
   "id": "recovered-jordan",
   "metadata": {},
   "source": [
    "### Numpy\n",
    "\n",
    "Для некоторых заданий, возможно, придется обратиться к документации: https://numpy.org\n",
    "\n",
    "* Создайте вектор (одномерный массив) размера 10, заполненный нулями\n",
    "* Создайте вектор размера 10, заполненный числом 5.8\n",
    "* Создйте массив 3x3x3 со случайными значениями\n",
    "* Создайте 8x8 матрицу и заполнить её в шахматном порядке\n",
    "* Cоздайте матрицу 4 на 4 и заполните ее произвольными числами (понадобиться в дальйнешем)"
   ]
  },
  {
   "cell_type": "markdown",
   "id": "expired-hebrew",
   "metadata": {},
   "source": [
    "### Scipy\n",
    "\n",
    "\n",
    "* Возьмите интеграл $\\int_{-3}^{10} sin(x)* x^{2} \\,dx $\n",
    "* Найдите определитель, обратную матрицу и собственные значения к матрице из последнего пункта раздела Numpy\n"
   ]
  },
  {
   "cell_type": "markdown",
   "id": "alternate-classification",
   "metadata": {},
   "source": [
    "### Matplotlib/Seaborn\n",
    "\n",
    "\n",
    "* Нарисуйте график sin(x), подпишите оси, добавьте сетку\n",
    "* Нарисуйте график sin(x) и cos(x) на одном subplot'е и на разных, задайте цвета, которые вам больше нравятся"
   ]
  },
  {
   "cell_type": "code",
   "execution_count": null,
   "id": "facial-persian",
   "metadata": {},
   "outputs": [],
   "source": []
  }
 ],
 "metadata": {
  "kernelspec": {
   "display_name": "Python 3",
   "language": "python",
   "name": "python3"
  },
  "language_info": {
   "codemirror_mode": {
    "name": "ipython",
    "version": 3
   },
   "file_extension": ".py",
   "mimetype": "text/x-python",
   "name": "python",
   "nbconvert_exporter": "python",
   "pygments_lexer": "ipython3",
   "version": "3.8.3"
  }
 },
 "nbformat": 4,
 "nbformat_minor": 5
}
