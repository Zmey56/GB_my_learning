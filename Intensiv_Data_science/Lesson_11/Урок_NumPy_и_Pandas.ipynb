{
  "cells": [
    {
      "cell_type": "markdown",
      "id": "instrumental-gothic",
      "metadata": {
        "id": "instrumental-gothic"
      },
      "source": [
        "### Pandas"
      ]
    },
    {
      "cell_type": "code",
      "execution_count": null,
      "id": "alert-block",
      "metadata": {
        "id": "alert-block"
      },
      "outputs": [],
      "source": [
        "import pandas as pd"
      ]
    },
    {
      "cell_type": "code",
      "execution_count": null,
      "id": "expected-monkey",
      "metadata": {
        "id": "expected-monkey",
        "outputId": "a5bd1a59-e5ed-44f8-fb1f-e10ad1185fcb"
      },
      "outputs": [
        {
          "name": "stderr",
          "output_type": "stream",
          "text": [
            "/Library/Frameworks/Python.framework/Versions/3.8/lib/python3.8/site-packages/IPython/core/interactiveshell.py:3146: DtypeWarning: Columns (25) have mixed types.Specify dtype option on import or set low_memory=False.\n",
            "  has_raised = await self.run_ast_nodes(code_ast.body, cell_name,\n"
          ]
        },
        {
          "data": {
            "text/html": [
              "<div>\n",
              "<style scoped>\n",
              "    .dataframe tbody tr th:only-of-type {\n",
              "        vertical-align: middle;\n",
              "    }\n",
              "\n",
              "    .dataframe tbody tr th {\n",
              "        vertical-align: top;\n",
              "    }\n",
              "\n",
              "    .dataframe thead th {\n",
              "        text-align: right;\n",
              "    }\n",
              "</style>\n",
              "<table border=\"1\" class=\"dataframe\">\n",
              "  <thead>\n",
              "    <tr style=\"text-align: right;\">\n",
              "      <th></th>\n",
              "      <th>id</th>\n",
              "      <th>NAME</th>\n",
              "      <th>host id</th>\n",
              "      <th>host_identity_verified</th>\n",
              "      <th>host name</th>\n",
              "      <th>neighbourhood group</th>\n",
              "      <th>neighbourhood</th>\n",
              "      <th>lat</th>\n",
              "      <th>long</th>\n",
              "      <th>country</th>\n",
              "      <th>...</th>\n",
              "      <th>service fee</th>\n",
              "      <th>minimum nights</th>\n",
              "      <th>number of reviews</th>\n",
              "      <th>last review</th>\n",
              "      <th>reviews per month</th>\n",
              "      <th>review rate number</th>\n",
              "      <th>calculated host listings count</th>\n",
              "      <th>availability 365</th>\n",
              "      <th>house_rules</th>\n",
              "      <th>license</th>\n",
              "    </tr>\n",
              "  </thead>\n",
              "  <tbody>\n",
              "    <tr>\n",
              "      <th>0</th>\n",
              "      <td>1001254</td>\n",
              "      <td>Clean &amp; quiet apt home by the park</td>\n",
              "      <td>80014485718</td>\n",
              "      <td>unconfirmed</td>\n",
              "      <td>Madaline</td>\n",
              "      <td>Brooklyn</td>\n",
              "      <td>Kensington</td>\n",
              "      <td>40.64749</td>\n",
              "      <td>-73.97237</td>\n",
              "      <td>United States</td>\n",
              "      <td>...</td>\n",
              "      <td>$193</td>\n",
              "      <td>10.0</td>\n",
              "      <td>9.0</td>\n",
              "      <td>10/19/2021</td>\n",
              "      <td>0.21</td>\n",
              "      <td>4.0</td>\n",
              "      <td>6.0</td>\n",
              "      <td>286.0</td>\n",
              "      <td>Clean up and treat the home the way you'd like...</td>\n",
              "      <td>NaN</td>\n",
              "    </tr>\n",
              "    <tr>\n",
              "      <th>1</th>\n",
              "      <td>1002102</td>\n",
              "      <td>Skylit Midtown Castle</td>\n",
              "      <td>52335172823</td>\n",
              "      <td>verified</td>\n",
              "      <td>Jenna</td>\n",
              "      <td>Manhattan</td>\n",
              "      <td>Midtown</td>\n",
              "      <td>40.75362</td>\n",
              "      <td>-73.98377</td>\n",
              "      <td>United States</td>\n",
              "      <td>...</td>\n",
              "      <td>$28</td>\n",
              "      <td>30.0</td>\n",
              "      <td>45.0</td>\n",
              "      <td>5/21/2022</td>\n",
              "      <td>0.38</td>\n",
              "      <td>4.0</td>\n",
              "      <td>2.0</td>\n",
              "      <td>228.0</td>\n",
              "      <td>Pet friendly but please confirm with me if the...</td>\n",
              "      <td>NaN</td>\n",
              "    </tr>\n",
              "    <tr>\n",
              "      <th>2</th>\n",
              "      <td>1002403</td>\n",
              "      <td>THE VILLAGE OF HARLEM....NEW YORK !</td>\n",
              "      <td>78829239556</td>\n",
              "      <td>NaN</td>\n",
              "      <td>Elise</td>\n",
              "      <td>Manhattan</td>\n",
              "      <td>Harlem</td>\n",
              "      <td>40.80902</td>\n",
              "      <td>-73.94190</td>\n",
              "      <td>United States</td>\n",
              "      <td>...</td>\n",
              "      <td>$124</td>\n",
              "      <td>3.0</td>\n",
              "      <td>0.0</td>\n",
              "      <td>NaN</td>\n",
              "      <td>NaN</td>\n",
              "      <td>5.0</td>\n",
              "      <td>1.0</td>\n",
              "      <td>352.0</td>\n",
              "      <td>I encourage you to use my kitchen, cooking and...</td>\n",
              "      <td>NaN</td>\n",
              "    </tr>\n",
              "    <tr>\n",
              "      <th>3</th>\n",
              "      <td>1002755</td>\n",
              "      <td>NaN</td>\n",
              "      <td>85098326012</td>\n",
              "      <td>unconfirmed</td>\n",
              "      <td>Garry</td>\n",
              "      <td>Brooklyn</td>\n",
              "      <td>Clinton Hill</td>\n",
              "      <td>40.68514</td>\n",
              "      <td>-73.95976</td>\n",
              "      <td>United States</td>\n",
              "      <td>...</td>\n",
              "      <td>$74</td>\n",
              "      <td>30.0</td>\n",
              "      <td>270.0</td>\n",
              "      <td>7/5/2019</td>\n",
              "      <td>4.64</td>\n",
              "      <td>4.0</td>\n",
              "      <td>1.0</td>\n",
              "      <td>322.0</td>\n",
              "      <td>NaN</td>\n",
              "      <td>NaN</td>\n",
              "    </tr>\n",
              "    <tr>\n",
              "      <th>4</th>\n",
              "      <td>1003689</td>\n",
              "      <td>Entire Apt: Spacious Studio/Loft by central park</td>\n",
              "      <td>92037596077</td>\n",
              "      <td>verified</td>\n",
              "      <td>Lyndon</td>\n",
              "      <td>Manhattan</td>\n",
              "      <td>East Harlem</td>\n",
              "      <td>40.79851</td>\n",
              "      <td>-73.94399</td>\n",
              "      <td>United States</td>\n",
              "      <td>...</td>\n",
              "      <td>$41</td>\n",
              "      <td>10.0</td>\n",
              "      <td>9.0</td>\n",
              "      <td>11/19/2018</td>\n",
              "      <td>0.10</td>\n",
              "      <td>3.0</td>\n",
              "      <td>1.0</td>\n",
              "      <td>289.0</td>\n",
              "      <td>Please no smoking in the house, porch or on th...</td>\n",
              "      <td>NaN</td>\n",
              "    </tr>\n",
              "  </tbody>\n",
              "</table>\n",
              "<p>5 rows × 26 columns</p>\n",
              "</div>"
            ],
            "text/plain": [
              "        id                                              NAME      host id  \\\n",
              "0  1001254                Clean & quiet apt home by the park  80014485718   \n",
              "1  1002102                             Skylit Midtown Castle  52335172823   \n",
              "2  1002403               THE VILLAGE OF HARLEM....NEW YORK !  78829239556   \n",
              "3  1002755                                               NaN  85098326012   \n",
              "4  1003689  Entire Apt: Spacious Studio/Loft by central park  92037596077   \n",
              "\n",
              "  host_identity_verified host name neighbourhood group neighbourhood  \\\n",
              "0            unconfirmed  Madaline            Brooklyn    Kensington   \n",
              "1               verified     Jenna           Manhattan       Midtown   \n",
              "2                    NaN     Elise           Manhattan        Harlem   \n",
              "3            unconfirmed     Garry            Brooklyn  Clinton Hill   \n",
              "4               verified    Lyndon           Manhattan   East Harlem   \n",
              "\n",
              "        lat      long        country  ... service fee minimum nights  \\\n",
              "0  40.64749 -73.97237  United States  ...       $193            10.0   \n",
              "1  40.75362 -73.98377  United States  ...        $28            30.0   \n",
              "2  40.80902 -73.94190  United States  ...       $124             3.0   \n",
              "3  40.68514 -73.95976  United States  ...        $74            30.0   \n",
              "4  40.79851 -73.94399  United States  ...        $41            10.0   \n",
              "\n",
              "  number of reviews last review  reviews per month review rate number  \\\n",
              "0               9.0  10/19/2021               0.21                4.0   \n",
              "1              45.0   5/21/2022               0.38                4.0   \n",
              "2               0.0         NaN                NaN                5.0   \n",
              "3             270.0    7/5/2019               4.64                4.0   \n",
              "4               9.0  11/19/2018               0.10                3.0   \n",
              "\n",
              "  calculated host listings count  availability 365  \\\n",
              "0                            6.0             286.0   \n",
              "1                            2.0             228.0   \n",
              "2                            1.0             352.0   \n",
              "3                            1.0             322.0   \n",
              "4                            1.0             289.0   \n",
              "\n",
              "                                         house_rules license  \n",
              "0  Clean up and treat the home the way you'd like...     NaN  \n",
              "1  Pet friendly but please confirm with me if the...     NaN  \n",
              "2  I encourage you to use my kitchen, cooking and...     NaN  \n",
              "3                                                NaN     NaN  \n",
              "4  Please no smoking in the house, porch or on th...     NaN  \n",
              "\n",
              "[5 rows x 26 columns]"
            ]
          },
          "execution_count": 2,
          "metadata": {},
          "output_type": "execute_result"
        }
      ],
      "source": [
        "# загружаем данные\n",
        "data = pd.read_csv('gb/Airbnb_Open_Data.csv')\n",
        "data.head()"
      ]
    },
    {
      "cell_type": "code",
      "execution_count": null,
      "id": "general-comfort",
      "metadata": {
        "id": "general-comfort",
        "outputId": "c637f434-4643-4fa7-a7b4-c6ce0012e687"
      },
      "outputs": [
        {
          "name": "stdout",
          "output_type": "stream",
          "text": [
            "<class 'pandas.core.frame.DataFrame'>\n",
            "RangeIndex: 102599 entries, 0 to 102598\n",
            "Data columns (total 26 columns):\n",
            " #   Column                          Non-Null Count   Dtype  \n",
            "---  ------                          --------------   -----  \n",
            " 0   id                              102599 non-null  int64  \n",
            " 1   NAME                            102349 non-null  object \n",
            " 2   host id                         102599 non-null  int64  \n",
            " 3   host_identity_verified          102310 non-null  object \n",
            " 4   host name                       102193 non-null  object \n",
            " 5   neighbourhood group             102570 non-null  object \n",
            " 6   neighbourhood                   102583 non-null  object \n",
            " 7   lat                             102591 non-null  float64\n",
            " 8   long                            102591 non-null  float64\n",
            " 9   country                         102067 non-null  object \n",
            " 10  country code                    102468 non-null  object \n",
            " 11  instant_bookable                102494 non-null  object \n",
            " 12  cancellation_policy             102523 non-null  object \n",
            " 13  room type                       102599 non-null  object \n",
            " 14  Construction year               102385 non-null  float64\n",
            " 15  price                           102352 non-null  object \n",
            " 16  service fee                     102326 non-null  object \n",
            " 17  minimum nights                  102190 non-null  float64\n",
            " 18  number of reviews               102416 non-null  float64\n",
            " 19  last review                     86706 non-null   object \n",
            " 20  reviews per month               86720 non-null   float64\n",
            " 21  review rate number              102273 non-null  float64\n",
            " 22  calculated host listings count  102280 non-null  float64\n",
            " 23  availability 365                102151 non-null  float64\n",
            " 24  house_rules                     50468 non-null   object \n",
            " 25  license                         2 non-null       object \n",
            "dtypes: float64(9), int64(2), object(15)\n",
            "memory usage: 20.4+ MB\n"
          ]
        }
      ],
      "source": [
        "data.info()"
      ]
    },
    {
      "cell_type": "code",
      "execution_count": null,
      "id": "according-detroit",
      "metadata": {
        "id": "according-detroit",
        "outputId": "de15469e-26b0-46dd-d8ad-9126e5df23ed"
      },
      "outputs": [
        {
          "data": {
            "text/plain": [
              "(102599, 26)"
            ]
          },
          "execution_count": 4,
          "metadata": {},
          "output_type": "execute_result"
        }
      ],
      "source": [
        "data.shape"
      ]
    },
    {
      "cell_type": "code",
      "execution_count": null,
      "id": "meaningful-november",
      "metadata": {
        "id": "meaningful-november",
        "outputId": "665940ec-ea15-464e-80ab-d216eced3704"
      },
      "outputs": [
        {
          "data": {
            "text/html": [
              "<div>\n",
              "<style scoped>\n",
              "    .dataframe tbody tr th:only-of-type {\n",
              "        vertical-align: middle;\n",
              "    }\n",
              "\n",
              "    .dataframe tbody tr th {\n",
              "        vertical-align: top;\n",
              "    }\n",
              "\n",
              "    .dataframe thead th {\n",
              "        text-align: right;\n",
              "    }\n",
              "</style>\n",
              "<table border=\"1\" class=\"dataframe\">\n",
              "  <thead>\n",
              "    <tr style=\"text-align: right;\">\n",
              "      <th></th>\n",
              "      <th>id</th>\n",
              "      <th>host id</th>\n",
              "      <th>lat</th>\n",
              "      <th>long</th>\n",
              "      <th>Construction year</th>\n",
              "      <th>minimum nights</th>\n",
              "      <th>number of reviews</th>\n",
              "      <th>reviews per month</th>\n",
              "      <th>review rate number</th>\n",
              "      <th>calculated host listings count</th>\n",
              "      <th>availability 365</th>\n",
              "    </tr>\n",
              "  </thead>\n",
              "  <tbody>\n",
              "    <tr>\n",
              "      <th>count</th>\n",
              "      <td>1.025990e+05</td>\n",
              "      <td>1.025990e+05</td>\n",
              "      <td>102591.000000</td>\n",
              "      <td>102591.000000</td>\n",
              "      <td>102385.000000</td>\n",
              "      <td>102190.000000</td>\n",
              "      <td>102416.000000</td>\n",
              "      <td>86720.000000</td>\n",
              "      <td>102273.000000</td>\n",
              "      <td>102280.000000</td>\n",
              "      <td>102151.000000</td>\n",
              "    </tr>\n",
              "    <tr>\n",
              "      <th>mean</th>\n",
              "      <td>2.914623e+07</td>\n",
              "      <td>4.925411e+10</td>\n",
              "      <td>40.728094</td>\n",
              "      <td>-73.949644</td>\n",
              "      <td>2012.487464</td>\n",
              "      <td>8.135845</td>\n",
              "      <td>27.483743</td>\n",
              "      <td>1.374022</td>\n",
              "      <td>3.279106</td>\n",
              "      <td>7.936605</td>\n",
              "      <td>141.133254</td>\n",
              "    </tr>\n",
              "    <tr>\n",
              "      <th>std</th>\n",
              "      <td>1.625751e+07</td>\n",
              "      <td>2.853900e+10</td>\n",
              "      <td>0.055857</td>\n",
              "      <td>0.049521</td>\n",
              "      <td>5.765556</td>\n",
              "      <td>30.553781</td>\n",
              "      <td>49.508954</td>\n",
              "      <td>1.746621</td>\n",
              "      <td>1.284657</td>\n",
              "      <td>32.218780</td>\n",
              "      <td>135.435024</td>\n",
              "    </tr>\n",
              "    <tr>\n",
              "      <th>min</th>\n",
              "      <td>1.001254e+06</td>\n",
              "      <td>1.236005e+08</td>\n",
              "      <td>40.499790</td>\n",
              "      <td>-74.249840</td>\n",
              "      <td>2003.000000</td>\n",
              "      <td>-1223.000000</td>\n",
              "      <td>0.000000</td>\n",
              "      <td>0.010000</td>\n",
              "      <td>1.000000</td>\n",
              "      <td>1.000000</td>\n",
              "      <td>-10.000000</td>\n",
              "    </tr>\n",
              "    <tr>\n",
              "      <th>25%</th>\n",
              "      <td>1.508581e+07</td>\n",
              "      <td>2.458333e+10</td>\n",
              "      <td>40.688740</td>\n",
              "      <td>-73.982580</td>\n",
              "      <td>2007.000000</td>\n",
              "      <td>2.000000</td>\n",
              "      <td>1.000000</td>\n",
              "      <td>0.220000</td>\n",
              "      <td>2.000000</td>\n",
              "      <td>1.000000</td>\n",
              "      <td>3.000000</td>\n",
              "    </tr>\n",
              "    <tr>\n",
              "      <th>50%</th>\n",
              "      <td>2.913660e+07</td>\n",
              "      <td>4.911774e+10</td>\n",
              "      <td>40.722290</td>\n",
              "      <td>-73.954440</td>\n",
              "      <td>2012.000000</td>\n",
              "      <td>3.000000</td>\n",
              "      <td>7.000000</td>\n",
              "      <td>0.740000</td>\n",
              "      <td>3.000000</td>\n",
              "      <td>1.000000</td>\n",
              "      <td>96.000000</td>\n",
              "    </tr>\n",
              "    <tr>\n",
              "      <th>75%</th>\n",
              "      <td>4.320120e+07</td>\n",
              "      <td>7.399650e+10</td>\n",
              "      <td>40.762760</td>\n",
              "      <td>-73.932350</td>\n",
              "      <td>2017.000000</td>\n",
              "      <td>5.000000</td>\n",
              "      <td>30.000000</td>\n",
              "      <td>2.000000</td>\n",
              "      <td>4.000000</td>\n",
              "      <td>2.000000</td>\n",
              "      <td>269.000000</td>\n",
              "    </tr>\n",
              "    <tr>\n",
              "      <th>max</th>\n",
              "      <td>5.736742e+07</td>\n",
              "      <td>9.876313e+10</td>\n",
              "      <td>40.916970</td>\n",
              "      <td>-73.705220</td>\n",
              "      <td>2022.000000</td>\n",
              "      <td>5645.000000</td>\n",
              "      <td>1024.000000</td>\n",
              "      <td>90.000000</td>\n",
              "      <td>5.000000</td>\n",
              "      <td>332.000000</td>\n",
              "      <td>3677.000000</td>\n",
              "    </tr>\n",
              "  </tbody>\n",
              "</table>\n",
              "</div>"
            ],
            "text/plain": [
              "                 id       host id            lat           long  \\\n",
              "count  1.025990e+05  1.025990e+05  102591.000000  102591.000000   \n",
              "mean   2.914623e+07  4.925411e+10      40.728094     -73.949644   \n",
              "std    1.625751e+07  2.853900e+10       0.055857       0.049521   \n",
              "min    1.001254e+06  1.236005e+08      40.499790     -74.249840   \n",
              "25%    1.508581e+07  2.458333e+10      40.688740     -73.982580   \n",
              "50%    2.913660e+07  4.911774e+10      40.722290     -73.954440   \n",
              "75%    4.320120e+07  7.399650e+10      40.762760     -73.932350   \n",
              "max    5.736742e+07  9.876313e+10      40.916970     -73.705220   \n",
              "\n",
              "       Construction year  minimum nights  number of reviews  \\\n",
              "count      102385.000000   102190.000000      102416.000000   \n",
              "mean         2012.487464        8.135845          27.483743   \n",
              "std             5.765556       30.553781          49.508954   \n",
              "min          2003.000000    -1223.000000           0.000000   \n",
              "25%          2007.000000        2.000000           1.000000   \n",
              "50%          2012.000000        3.000000           7.000000   \n",
              "75%          2017.000000        5.000000          30.000000   \n",
              "max          2022.000000     5645.000000        1024.000000   \n",
              "\n",
              "       reviews per month  review rate number  calculated host listings count  \\\n",
              "count       86720.000000       102273.000000                   102280.000000   \n",
              "mean            1.374022            3.279106                        7.936605   \n",
              "std             1.746621            1.284657                       32.218780   \n",
              "min             0.010000            1.000000                        1.000000   \n",
              "25%             0.220000            2.000000                        1.000000   \n",
              "50%             0.740000            3.000000                        1.000000   \n",
              "75%             2.000000            4.000000                        2.000000   \n",
              "max            90.000000            5.000000                      332.000000   \n",
              "\n",
              "       availability 365  \n",
              "count     102151.000000  \n",
              "mean         141.133254  \n",
              "std          135.435024  \n",
              "min          -10.000000  \n",
              "25%            3.000000  \n",
              "50%           96.000000  \n",
              "75%          269.000000  \n",
              "max         3677.000000  "
            ]
          },
          "execution_count": 5,
          "metadata": {},
          "output_type": "execute_result"
        }
      ],
      "source": [
        "data.describe()"
      ]
    },
    {
      "cell_type": "code",
      "execution_count": null,
      "id": "ahead-makeup",
      "metadata": {
        "id": "ahead-makeup",
        "outputId": "2194eba1-44b7-41e3-85bb-85a3da9ea388"
      },
      "outputs": [
        {
          "data": {
            "text/html": [
              "<div>\n",
              "<style scoped>\n",
              "    .dataframe tbody tr th:only-of-type {\n",
              "        vertical-align: middle;\n",
              "    }\n",
              "\n",
              "    .dataframe tbody tr th {\n",
              "        vertical-align: top;\n",
              "    }\n",
              "\n",
              "    .dataframe thead th {\n",
              "        text-align: right;\n",
              "    }\n",
              "</style>\n",
              "<table border=\"1\" class=\"dataframe\">\n",
              "  <thead>\n",
              "    <tr style=\"text-align: right;\">\n",
              "      <th></th>\n",
              "      <th>id</th>\n",
              "      <th>name</th>\n",
              "      <th>host id</th>\n",
              "      <th>host_identity_verified</th>\n",
              "      <th>host name</th>\n",
              "      <th>neighbourhood group</th>\n",
              "      <th>neighbourhood</th>\n",
              "      <th>lat</th>\n",
              "      <th>long</th>\n",
              "      <th>country</th>\n",
              "      <th>...</th>\n",
              "      <th>service fee</th>\n",
              "      <th>minimum nights</th>\n",
              "      <th>number of reviews</th>\n",
              "      <th>last review</th>\n",
              "      <th>reviews per month</th>\n",
              "      <th>review rate number</th>\n",
              "      <th>calculated host listings count</th>\n",
              "      <th>availability 365</th>\n",
              "      <th>house_rules</th>\n",
              "      <th>license</th>\n",
              "    </tr>\n",
              "  </thead>\n",
              "  <tbody>\n",
              "    <tr>\n",
              "      <th>0</th>\n",
              "      <td>1001254</td>\n",
              "      <td>Clean &amp; quiet apt home by the park</td>\n",
              "      <td>80014485718</td>\n",
              "      <td>unconfirmed</td>\n",
              "      <td>Madaline</td>\n",
              "      <td>Brooklyn</td>\n",
              "      <td>Kensington</td>\n",
              "      <td>40.64749</td>\n",
              "      <td>-73.97237</td>\n",
              "      <td>United States</td>\n",
              "      <td>...</td>\n",
              "      <td>$193</td>\n",
              "      <td>10.0</td>\n",
              "      <td>9.0</td>\n",
              "      <td>10/19/2021</td>\n",
              "      <td>0.21</td>\n",
              "      <td>4.0</td>\n",
              "      <td>6.0</td>\n",
              "      <td>286.0</td>\n",
              "      <td>Clean up and treat the home the way you'd like...</td>\n",
              "      <td>NaN</td>\n",
              "    </tr>\n",
              "    <tr>\n",
              "      <th>1</th>\n",
              "      <td>1002102</td>\n",
              "      <td>Skylit Midtown Castle</td>\n",
              "      <td>52335172823</td>\n",
              "      <td>verified</td>\n",
              "      <td>Jenna</td>\n",
              "      <td>Manhattan</td>\n",
              "      <td>Midtown</td>\n",
              "      <td>40.75362</td>\n",
              "      <td>-73.98377</td>\n",
              "      <td>United States</td>\n",
              "      <td>...</td>\n",
              "      <td>$28</td>\n",
              "      <td>30.0</td>\n",
              "      <td>45.0</td>\n",
              "      <td>5/21/2022</td>\n",
              "      <td>0.38</td>\n",
              "      <td>4.0</td>\n",
              "      <td>2.0</td>\n",
              "      <td>228.0</td>\n",
              "      <td>Pet friendly but please confirm with me if the...</td>\n",
              "      <td>NaN</td>\n",
              "    </tr>\n",
              "    <tr>\n",
              "      <th>2</th>\n",
              "      <td>1002403</td>\n",
              "      <td>THE VILLAGE OF HARLEM....NEW YORK !</td>\n",
              "      <td>78829239556</td>\n",
              "      <td>NaN</td>\n",
              "      <td>Elise</td>\n",
              "      <td>Manhattan</td>\n",
              "      <td>Harlem</td>\n",
              "      <td>40.80902</td>\n",
              "      <td>-73.94190</td>\n",
              "      <td>United States</td>\n",
              "      <td>...</td>\n",
              "      <td>$124</td>\n",
              "      <td>3.0</td>\n",
              "      <td>0.0</td>\n",
              "      <td>NaN</td>\n",
              "      <td>NaN</td>\n",
              "      <td>5.0</td>\n",
              "      <td>1.0</td>\n",
              "      <td>352.0</td>\n",
              "      <td>I encourage you to use my kitchen, cooking and...</td>\n",
              "      <td>NaN</td>\n",
              "    </tr>\n",
              "    <tr>\n",
              "      <th>3</th>\n",
              "      <td>1002755</td>\n",
              "      <td>NaN</td>\n",
              "      <td>85098326012</td>\n",
              "      <td>unconfirmed</td>\n",
              "      <td>Garry</td>\n",
              "      <td>Brooklyn</td>\n",
              "      <td>Clinton Hill</td>\n",
              "      <td>40.68514</td>\n",
              "      <td>-73.95976</td>\n",
              "      <td>United States</td>\n",
              "      <td>...</td>\n",
              "      <td>$74</td>\n",
              "      <td>30.0</td>\n",
              "      <td>270.0</td>\n",
              "      <td>7/5/2019</td>\n",
              "      <td>4.64</td>\n",
              "      <td>4.0</td>\n",
              "      <td>1.0</td>\n",
              "      <td>322.0</td>\n",
              "      <td>NaN</td>\n",
              "      <td>NaN</td>\n",
              "    </tr>\n",
              "    <tr>\n",
              "      <th>4</th>\n",
              "      <td>1003689</td>\n",
              "      <td>Entire Apt: Spacious Studio/Loft by central park</td>\n",
              "      <td>92037596077</td>\n",
              "      <td>verified</td>\n",
              "      <td>Lyndon</td>\n",
              "      <td>Manhattan</td>\n",
              "      <td>East Harlem</td>\n",
              "      <td>40.79851</td>\n",
              "      <td>-73.94399</td>\n",
              "      <td>United States</td>\n",
              "      <td>...</td>\n",
              "      <td>$41</td>\n",
              "      <td>10.0</td>\n",
              "      <td>9.0</td>\n",
              "      <td>11/19/2018</td>\n",
              "      <td>0.10</td>\n",
              "      <td>3.0</td>\n",
              "      <td>1.0</td>\n",
              "      <td>289.0</td>\n",
              "      <td>Please no smoking in the house, porch or on th...</td>\n",
              "      <td>NaN</td>\n",
              "    </tr>\n",
              "  </tbody>\n",
              "</table>\n",
              "<p>5 rows × 26 columns</p>\n",
              "</div>"
            ],
            "text/plain": [
              "        id                                              name      host id  \\\n",
              "0  1001254                Clean & quiet apt home by the park  80014485718   \n",
              "1  1002102                             Skylit Midtown Castle  52335172823   \n",
              "2  1002403               THE VILLAGE OF HARLEM....NEW YORK !  78829239556   \n",
              "3  1002755                                               NaN  85098326012   \n",
              "4  1003689  Entire Apt: Spacious Studio/Loft by central park  92037596077   \n",
              "\n",
              "  host_identity_verified host name neighbourhood group neighbourhood  \\\n",
              "0            unconfirmed  Madaline            Brooklyn    Kensington   \n",
              "1               verified     Jenna           Manhattan       Midtown   \n",
              "2                    NaN     Elise           Manhattan        Harlem   \n",
              "3            unconfirmed     Garry            Brooklyn  Clinton Hill   \n",
              "4               verified    Lyndon           Manhattan   East Harlem   \n",
              "\n",
              "        lat      long        country  ... service fee minimum nights  \\\n",
              "0  40.64749 -73.97237  United States  ...       $193            10.0   \n",
              "1  40.75362 -73.98377  United States  ...        $28            30.0   \n",
              "2  40.80902 -73.94190  United States  ...       $124             3.0   \n",
              "3  40.68514 -73.95976  United States  ...        $74            30.0   \n",
              "4  40.79851 -73.94399  United States  ...        $41            10.0   \n",
              "\n",
              "  number of reviews last review  reviews per month review rate number  \\\n",
              "0               9.0  10/19/2021               0.21                4.0   \n",
              "1              45.0   5/21/2022               0.38                4.0   \n",
              "2               0.0         NaN                NaN                5.0   \n",
              "3             270.0    7/5/2019               4.64                4.0   \n",
              "4               9.0  11/19/2018               0.10                3.0   \n",
              "\n",
              "  calculated host listings count  availability 365  \\\n",
              "0                            6.0             286.0   \n",
              "1                            2.0             228.0   \n",
              "2                            1.0             352.0   \n",
              "3                            1.0             322.0   \n",
              "4                            1.0             289.0   \n",
              "\n",
              "                                         house_rules license  \n",
              "0  Clean up and treat the home the way you'd like...     NaN  \n",
              "1  Pet friendly but please confirm with me if the...     NaN  \n",
              "2  I encourage you to use my kitchen, cooking and...     NaN  \n",
              "3                                                NaN     NaN  \n",
              "4  Please no smoking in the house, porch or on th...     NaN  \n",
              "\n",
              "[5 rows x 26 columns]"
            ]
          },
          "execution_count": 6,
          "metadata": {},
          "output_type": "execute_result"
        }
      ],
      "source": [
        "data.rename(columns={\"NAME\": \"name\"}, inplace=True)\n",
        "data.head()"
      ]
    },
    {
      "cell_type": "code",
      "execution_count": null,
      "id": "opening-aquatic",
      "metadata": {
        "id": "opening-aquatic",
        "outputId": "be82cbe8-c5a4-4ad2-92de-6a2e95febc5a"
      },
      "outputs": [
        {
          "data": {
            "text/plain": [
              "541"
            ]
          },
          "execution_count": 7,
          "metadata": {},
          "output_type": "execute_result"
        }
      ],
      "source": [
        "data.duplicated().sum()"
      ]
    },
    {
      "cell_type": "code",
      "execution_count": null,
      "id": "behavioral-general",
      "metadata": {
        "id": "behavioral-general",
        "outputId": "eadd3791-1bf0-459e-9ecc-ff77184b1a87"
      },
      "outputs": [
        {
          "data": {
            "text/plain": [
              "array(['Brooklyn', 'Manhattan', 'brookln', 'manhatan', 'Queens', nan,\n",
              "       'Staten Island', 'Bronx'], dtype=object)"
            ]
          },
          "execution_count": 8,
          "metadata": {},
          "output_type": "execute_result"
        }
      ],
      "source": [
        "data['neighbourhood group'].unique()"
      ]
    },
    {
      "cell_type": "code",
      "execution_count": null,
      "id": "grave-elephant",
      "metadata": {
        "id": "grave-elephant",
        "outputId": "4eb12aeb-f65d-4349-9b82-78a507b99ea9"
      },
      "outputs": [
        {
          "data": {
            "text/plain": [
              "array(['United States', nan], dtype=object)"
            ]
          },
          "execution_count": 9,
          "metadata": {},
          "output_type": "execute_result"
        }
      ],
      "source": [
        "data['country'].unique()"
      ]
    },
    {
      "cell_type": "code",
      "execution_count": null,
      "id": "simplified-discovery",
      "metadata": {
        "id": "simplified-discovery",
        "outputId": "ed64d35c-f6ae-4a4e-bf70-bba0e466b428"
      },
      "outputs": [
        {
          "data": {
            "text/plain": [
              "array(['Private room', 'Entire home/apt', 'Shared room', 'Hotel room'],\n",
              "      dtype=object)"
            ]
          },
          "execution_count": 10,
          "metadata": {},
          "output_type": "execute_result"
        }
      ],
      "source": [
        "data['room type'].unique()"
      ]
    },
    {
      "cell_type": "code",
      "execution_count": null,
      "id": "subtle-paste",
      "metadata": {
        "id": "subtle-paste",
        "outputId": "81cf1c7b-8129-4c7e-8191-c90d7e166621"
      },
      "outputs": [
        {
          "data": {
            "text/plain": [
              "id                                     0\n",
              "name                                 250\n",
              "host id                                0\n",
              "host_identity_verified               289\n",
              "host name                            406\n",
              "neighbourhood group                   29\n",
              "neighbourhood                         16\n",
              "lat                                    8\n",
              "long                                   8\n",
              "country                              532\n",
              "country code                         131\n",
              "instant_bookable                     105\n",
              "cancellation_policy                   76\n",
              "room type                              0\n",
              "Construction year                    214\n",
              "price                                247\n",
              "service fee                          273\n",
              "minimum nights                       409\n",
              "number of reviews                    183\n",
              "last review                        15893\n",
              "reviews per month                  15879\n",
              "review rate number                   326\n",
              "calculated host listings count       319\n",
              "availability 365                     448\n",
              "house_rules                        52131\n",
              "license                           102597\n",
              "dtype: int64"
            ]
          },
          "execution_count": 11,
          "metadata": {},
          "output_type": "execute_result"
        }
      ],
      "source": [
        "data.isnull().sum()"
      ]
    },
    {
      "cell_type": "code",
      "execution_count": null,
      "id": "contained-establishment",
      "metadata": {
        "id": "contained-establishment",
        "outputId": "8f4a26c3-85a1-47ed-d0c8-67b8c535bb2b"
      },
      "outputs": [
        {
          "data": {
            "text/html": [
              "<div>\n",
              "<style scoped>\n",
              "    .dataframe tbody tr th:only-of-type {\n",
              "        vertical-align: middle;\n",
              "    }\n",
              "\n",
              "    .dataframe tbody tr th {\n",
              "        vertical-align: top;\n",
              "    }\n",
              "\n",
              "    .dataframe thead th {\n",
              "        text-align: right;\n",
              "    }\n",
              "</style>\n",
              "<table border=\"1\" class=\"dataframe\">\n",
              "  <thead>\n",
              "    <tr style=\"text-align: right;\">\n",
              "      <th></th>\n",
              "      <th>id</th>\n",
              "      <th>name</th>\n",
              "      <th>host id</th>\n",
              "      <th>host_identity_verified</th>\n",
              "      <th>host name</th>\n",
              "      <th>neighbourhood group</th>\n",
              "      <th>neighbourhood</th>\n",
              "      <th>lat</th>\n",
              "      <th>long</th>\n",
              "      <th>country</th>\n",
              "      <th>...</th>\n",
              "      <th>service fee</th>\n",
              "      <th>minimum nights</th>\n",
              "      <th>number of reviews</th>\n",
              "      <th>last review</th>\n",
              "      <th>reviews per month</th>\n",
              "      <th>review rate number</th>\n",
              "      <th>calculated host listings count</th>\n",
              "      <th>availability 365</th>\n",
              "      <th>house_rules</th>\n",
              "      <th>license</th>\n",
              "    </tr>\n",
              "  </thead>\n",
              "  <tbody>\n",
              "    <tr>\n",
              "      <th>0</th>\n",
              "      <td>1001254</td>\n",
              "      <td>Clean &amp; quiet apt home by the park</td>\n",
              "      <td>80014485718</td>\n",
              "      <td>unconfirmed</td>\n",
              "      <td>Madaline</td>\n",
              "      <td>Brooklyn</td>\n",
              "      <td>Kensington</td>\n",
              "      <td>40.64749</td>\n",
              "      <td>-73.97237</td>\n",
              "      <td>United States</td>\n",
              "      <td>...</td>\n",
              "      <td>$193</td>\n",
              "      <td>10.0</td>\n",
              "      <td>9.0</td>\n",
              "      <td>10/19/2021</td>\n",
              "      <td>0.21</td>\n",
              "      <td>4.0</td>\n",
              "      <td>6.0</td>\n",
              "      <td>286.0</td>\n",
              "      <td>Clean up and treat the home the way you'd like...</td>\n",
              "      <td>NaN</td>\n",
              "    </tr>\n",
              "    <tr>\n",
              "      <th>2</th>\n",
              "      <td>1002403</td>\n",
              "      <td>THE VILLAGE OF HARLEM....NEW YORK !</td>\n",
              "      <td>78829239556</td>\n",
              "      <td>NaN</td>\n",
              "      <td>Elise</td>\n",
              "      <td>Manhattan</td>\n",
              "      <td>Harlem</td>\n",
              "      <td>40.80902</td>\n",
              "      <td>-73.94190</td>\n",
              "      <td>United States</td>\n",
              "      <td>...</td>\n",
              "      <td>$124</td>\n",
              "      <td>3.0</td>\n",
              "      <td>0.0</td>\n",
              "      <td>NaN</td>\n",
              "      <td>NaN</td>\n",
              "      <td>5.0</td>\n",
              "      <td>1.0</td>\n",
              "      <td>352.0</td>\n",
              "      <td>I encourage you to use my kitchen, cooking and...</td>\n",
              "      <td>NaN</td>\n",
              "    </tr>\n",
              "    <tr>\n",
              "      <th>6</th>\n",
              "      <td>1004650</td>\n",
              "      <td>BlissArtsSpace!</td>\n",
              "      <td>61300605564</td>\n",
              "      <td>NaN</td>\n",
              "      <td>Alberta</td>\n",
              "      <td>Brooklyn</td>\n",
              "      <td>Bedford-Stuyvesant</td>\n",
              "      <td>40.68688</td>\n",
              "      <td>-73.95596</td>\n",
              "      <td>United States</td>\n",
              "      <td>...</td>\n",
              "      <td>$14</td>\n",
              "      <td>45.0</td>\n",
              "      <td>49.0</td>\n",
              "      <td>10/5/2017</td>\n",
              "      <td>0.40</td>\n",
              "      <td>5.0</td>\n",
              "      <td>1.0</td>\n",
              "      <td>224.0</td>\n",
              "      <td>Please no shoes in the house so bring slippers...</td>\n",
              "      <td>NaN</td>\n",
              "    </tr>\n",
              "    <tr>\n",
              "      <th>7</th>\n",
              "      <td>1005202</td>\n",
              "      <td>BlissArtsSpace!</td>\n",
              "      <td>90821839709</td>\n",
              "      <td>unconfirmed</td>\n",
              "      <td>Emma</td>\n",
              "      <td>Brooklyn</td>\n",
              "      <td>Bedford-Stuyvesant</td>\n",
              "      <td>40.68688</td>\n",
              "      <td>-73.95596</td>\n",
              "      <td>United States</td>\n",
              "      <td>...</td>\n",
              "      <td>$212</td>\n",
              "      <td>45.0</td>\n",
              "      <td>49.0</td>\n",
              "      <td>10/5/2017</td>\n",
              "      <td>0.40</td>\n",
              "      <td>5.0</td>\n",
              "      <td>1.0</td>\n",
              "      <td>219.0</td>\n",
              "      <td>House Guidelines for our BnB We are delighted ...</td>\n",
              "      <td>NaN</td>\n",
              "    </tr>\n",
              "    <tr>\n",
              "      <th>8</th>\n",
              "      <td>1005754</td>\n",
              "      <td>Large Furnished Room Near B'way</td>\n",
              "      <td>79384379533</td>\n",
              "      <td>verified</td>\n",
              "      <td>Evelyn</td>\n",
              "      <td>Manhattan</td>\n",
              "      <td>Hell's Kitchen</td>\n",
              "      <td>40.76489</td>\n",
              "      <td>-73.98493</td>\n",
              "      <td>United States</td>\n",
              "      <td>...</td>\n",
              "      <td>$204</td>\n",
              "      <td>2.0</td>\n",
              "      <td>430.0</td>\n",
              "      <td>6/24/2019</td>\n",
              "      <td>3.47</td>\n",
              "      <td>3.0</td>\n",
              "      <td>1.0</td>\n",
              "      <td>180.0</td>\n",
              "      <td>- Please clean up after yourself when using th...</td>\n",
              "      <td>NaN</td>\n",
              "    </tr>\n",
              "  </tbody>\n",
              "</table>\n",
              "<p>5 rows × 26 columns</p>\n",
              "</div>"
            ],
            "text/plain": [
              "        id                                 name      host id  \\\n",
              "0  1001254   Clean & quiet apt home by the park  80014485718   \n",
              "2  1002403  THE VILLAGE OF HARLEM....NEW YORK !  78829239556   \n",
              "6  1004650                      BlissArtsSpace!  61300605564   \n",
              "7  1005202                      BlissArtsSpace!  90821839709   \n",
              "8  1005754      Large Furnished Room Near B'way  79384379533   \n",
              "\n",
              "  host_identity_verified host name neighbourhood group       neighbourhood  \\\n",
              "0            unconfirmed  Madaline            Brooklyn          Kensington   \n",
              "2                    NaN     Elise           Manhattan              Harlem   \n",
              "6                    NaN   Alberta            Brooklyn  Bedford-Stuyvesant   \n",
              "7            unconfirmed      Emma            Brooklyn  Bedford-Stuyvesant   \n",
              "8               verified    Evelyn           Manhattan      Hell's Kitchen   \n",
              "\n",
              "        lat      long        country  ... service fee minimum nights  \\\n",
              "0  40.64749 -73.97237  United States  ...       $193            10.0   \n",
              "2  40.80902 -73.94190  United States  ...       $124             3.0   \n",
              "6  40.68688 -73.95596  United States  ...        $14            45.0   \n",
              "7  40.68688 -73.95596  United States  ...       $212            45.0   \n",
              "8  40.76489 -73.98493  United States  ...       $204             2.0   \n",
              "\n",
              "  number of reviews last review  reviews per month review rate number  \\\n",
              "0               9.0  10/19/2021               0.21                4.0   \n",
              "2               0.0         NaN                NaN                5.0   \n",
              "6              49.0   10/5/2017               0.40                5.0   \n",
              "7              49.0   10/5/2017               0.40                5.0   \n",
              "8             430.0   6/24/2019               3.47                3.0   \n",
              "\n",
              "  calculated host listings count  availability 365  \\\n",
              "0                            6.0             286.0   \n",
              "2                            1.0             352.0   \n",
              "6                            1.0             224.0   \n",
              "7                            1.0             219.0   \n",
              "8                            1.0             180.0   \n",
              "\n",
              "                                         house_rules license  \n",
              "0  Clean up and treat the home the way you'd like...     NaN  \n",
              "2  I encourage you to use my kitchen, cooking and...     NaN  \n",
              "6  Please no shoes in the house so bring slippers...     NaN  \n",
              "7  House Guidelines for our BnB We are delighted ...     NaN  \n",
              "8  - Please clean up after yourself when using th...     NaN  \n",
              "\n",
              "[5 rows x 26 columns]"
            ]
          },
          "execution_count": 12,
          "metadata": {},
          "output_type": "execute_result"
        }
      ],
      "source": [
        "data[data['room type'] == 'Private room'].head()"
      ]
    },
    {
      "cell_type": "code",
      "execution_count": null,
      "id": "hungry-diving",
      "metadata": {
        "id": "hungry-diving",
        "outputId": "d7b72b4a-aef7-459c-adcd-16f5cf32dcaf"
      },
      "outputs": [
        {
          "data": {
            "text/html": [
              "<div>\n",
              "<style scoped>\n",
              "    .dataframe tbody tr th:only-of-type {\n",
              "        vertical-align: middle;\n",
              "    }\n",
              "\n",
              "    .dataframe tbody tr th {\n",
              "        vertical-align: top;\n",
              "    }\n",
              "\n",
              "    .dataframe thead th {\n",
              "        text-align: right;\n",
              "    }\n",
              "</style>\n",
              "<table border=\"1\" class=\"dataframe\">\n",
              "  <thead>\n",
              "    <tr style=\"text-align: right;\">\n",
              "      <th></th>\n",
              "      <th>name</th>\n",
              "      <th>minimum nights</th>\n",
              "      <th>price</th>\n",
              "    </tr>\n",
              "  </thead>\n",
              "  <tbody>\n",
              "    <tr>\n",
              "      <th>15</th>\n",
              "      <td>West Village Nest - Superhost</td>\n",
              "      <td>90.0</td>\n",
              "      <td>$578</td>\n",
              "    </tr>\n",
              "    <tr>\n",
              "      <th>62</th>\n",
              "      <td>NaN</td>\n",
              "      <td>180.0</td>\n",
              "      <td>$779</td>\n",
              "    </tr>\n",
              "    <tr>\n",
              "      <th>107</th>\n",
              "      <td>Large 2 Bedroom Great for Groups!</td>\n",
              "      <td>90.0</td>\n",
              "      <td>$500</td>\n",
              "    </tr>\n",
              "    <tr>\n",
              "      <th>165</th>\n",
              "      <td>Charming &amp; Cozy midtown loft any WEEK ENDS  !!!</td>\n",
              "      <td>81.0</td>\n",
              "      <td>$950</td>\n",
              "    </tr>\n",
              "    <tr>\n",
              "      <th>166</th>\n",
              "      <td>* Spacious GARDEN Park Slope Duplex* 6 people max</td>\n",
              "      <td>144.0</td>\n",
              "      <td>$374</td>\n",
              "    </tr>\n",
              "  </tbody>\n",
              "</table>\n",
              "</div>"
            ],
            "text/plain": [
              "                                                  name  minimum nights  price\n",
              "15                       West Village Nest - Superhost            90.0  $578 \n",
              "62                                                 NaN           180.0  $779 \n",
              "107                  Large 2 Bedroom Great for Groups!            90.0  $500 \n",
              "165    Charming & Cozy midtown loft any WEEK ENDS  !!!            81.0  $950 \n",
              "166  * Spacious GARDEN Park Slope Duplex* 6 people max           144.0  $374 "
            ]
          },
          "execution_count": 13,
          "metadata": {},
          "output_type": "execute_result"
        }
      ],
      "source": [
        "data[data['minimum nights'] > 70][['name', 'minimum nights', 'price']].head()"
      ]
    },
    {
      "cell_type": "code",
      "execution_count": null,
      "id": "outside-pressure",
      "metadata": {
        "id": "outside-pressure",
        "outputId": "d6aa9944-a8fc-44bf-977a-a048213c31dc"
      },
      "outputs": [
        {
          "data": {
            "text/html": [
              "<div>\n",
              "<style scoped>\n",
              "    .dataframe tbody tr th:only-of-type {\n",
              "        vertical-align: middle;\n",
              "    }\n",
              "\n",
              "    .dataframe tbody tr th {\n",
              "        vertical-align: top;\n",
              "    }\n",
              "\n",
              "    .dataframe thead th {\n",
              "        text-align: right;\n",
              "    }\n",
              "</style>\n",
              "<table border=\"1\" class=\"dataframe\">\n",
              "  <thead>\n",
              "    <tr style=\"text-align: right;\">\n",
              "      <th></th>\n",
              "      <th>id</th>\n",
              "      <th>name</th>\n",
              "      <th>host id</th>\n",
              "      <th>host_identity_verified</th>\n",
              "      <th>host name</th>\n",
              "      <th>neighbourhood group</th>\n",
              "      <th>neighbourhood</th>\n",
              "      <th>lat</th>\n",
              "      <th>long</th>\n",
              "      <th>country</th>\n",
              "      <th>...</th>\n",
              "      <th>service fee</th>\n",
              "      <th>minimum nights</th>\n",
              "      <th>number of reviews</th>\n",
              "      <th>last review</th>\n",
              "      <th>reviews per month</th>\n",
              "      <th>review rate number</th>\n",
              "      <th>calculated host listings count</th>\n",
              "      <th>availability 365</th>\n",
              "      <th>house_rules</th>\n",
              "      <th>license</th>\n",
              "    </tr>\n",
              "  </thead>\n",
              "  <tbody>\n",
              "    <tr>\n",
              "      <th>107</th>\n",
              "      <td>1060432</td>\n",
              "      <td>Large 2 Bedroom Great for Groups!</td>\n",
              "      <td>94662871331</td>\n",
              "      <td>unconfirmed</td>\n",
              "      <td>Tess</td>\n",
              "      <td>Brooklyn</td>\n",
              "      <td>Bedford-Stuyvesant</td>\n",
              "      <td>40.68373</td>\n",
              "      <td>-73.92377</td>\n",
              "      <td>United States</td>\n",
              "      <td>...</td>\n",
              "      <td>$100</td>\n",
              "      <td>90.0</td>\n",
              "      <td>162.0</td>\n",
              "      <td>6/28/2019</td>\n",
              "      <td>1.46</td>\n",
              "      <td>3.0</td>\n",
              "      <td>2.0</td>\n",
              "      <td>189.0</td>\n",
              "      <td>- Thanks for not smoking and leaving your pets...</td>\n",
              "      <td>NaN</td>\n",
              "    </tr>\n",
              "    <tr>\n",
              "      <th>166</th>\n",
              "      <td>1093018</td>\n",
              "      <td>* Spacious GARDEN Park Slope Duplex* 6 people max</td>\n",
              "      <td>61571782497</td>\n",
              "      <td>verified</td>\n",
              "      <td>Nicole</td>\n",
              "      <td>Brooklyn</td>\n",
              "      <td>Gowanus</td>\n",
              "      <td>40.66858</td>\n",
              "      <td>-73.99083</td>\n",
              "      <td>United States</td>\n",
              "      <td>...</td>\n",
              "      <td>$75</td>\n",
              "      <td>144.0</td>\n",
              "      <td>80.0</td>\n",
              "      <td>7/6/2019</td>\n",
              "      <td>NaN</td>\n",
              "      <td>2.0</td>\n",
              "      <td>1.0</td>\n",
              "      <td>52.0</td>\n",
              "      <td>No candles, smoking or flame of any kind is al...</td>\n",
              "      <td>NaN</td>\n",
              "    </tr>\n",
              "    <tr>\n",
              "      <th>169</th>\n",
              "      <td>1094675</td>\n",
              "      <td>House On Henry (2nd FLR Suite)</td>\n",
              "      <td>44408473243</td>\n",
              "      <td>NaN</td>\n",
              "      <td>James</td>\n",
              "      <td>Brooklyn</td>\n",
              "      <td>Carroll Gardens</td>\n",
              "      <td>40.67830</td>\n",
              "      <td>-74.00135</td>\n",
              "      <td>United States</td>\n",
              "      <td>...</td>\n",
              "      <td>$168</td>\n",
              "      <td>273.0</td>\n",
              "      <td>150.0</td>\n",
              "      <td>6/18/2019</td>\n",
              "      <td>1.40</td>\n",
              "      <td>5.0</td>\n",
              "      <td>3.0</td>\n",
              "      <td>141.0</td>\n",
              "      <td>-Please no pets -Quiet hours are from 10pm - 8...</td>\n",
              "      <td>NaN</td>\n",
              "    </tr>\n",
              "    <tr>\n",
              "      <th>171</th>\n",
              "      <td>1095779</td>\n",
              "      <td>Sunny cozy room in Brklyn townhouse</td>\n",
              "      <td>29877853006</td>\n",
              "      <td>NaN</td>\n",
              "      <td>Jared</td>\n",
              "      <td>Brooklyn</td>\n",
              "      <td>Bushwick</td>\n",
              "      <td>40.70641</td>\n",
              "      <td>-73.91765</td>\n",
              "      <td>United States</td>\n",
              "      <td>...</td>\n",
              "      <td>$101</td>\n",
              "      <td>275.0</td>\n",
              "      <td>47.0</td>\n",
              "      <td>6/19/2019</td>\n",
              "      <td>0.94</td>\n",
              "      <td>5.0</td>\n",
              "      <td>1.0</td>\n",
              "      <td>263.0</td>\n",
              "      <td>No pets that shed; If you have a hypo-allergen...</td>\n",
              "      <td>NaN</td>\n",
              "    </tr>\n",
              "    <tr>\n",
              "      <th>181</th>\n",
              "      <td>1101302</td>\n",
              "      <td>Fort Greene, Brooklyn: Center Bedroom</td>\n",
              "      <td>9549678609</td>\n",
              "      <td>unconfirmed</td>\n",
              "      <td>Adele</td>\n",
              "      <td>Brooklyn</td>\n",
              "      <td>Fort Greene</td>\n",
              "      <td>40.68863</td>\n",
              "      <td>-73.97691</td>\n",
              "      <td>United States</td>\n",
              "      <td>...</td>\n",
              "      <td>$21</td>\n",
              "      <td>350.0</td>\n",
              "      <td>206.0</td>\n",
              "      <td>6/30/2019</td>\n",
              "      <td>1.92</td>\n",
              "      <td>4.0</td>\n",
              "      <td>2.0</td>\n",
              "      <td>96.0</td>\n",
              "      <td>-No shoes in our home. Please leave them at th...</td>\n",
              "      <td>NaN</td>\n",
              "    </tr>\n",
              "  </tbody>\n",
              "</table>\n",
              "<p>5 rows × 26 columns</p>\n",
              "</div>"
            ],
            "text/plain": [
              "          id                                               name      host id  \\\n",
              "107  1060432                  Large 2 Bedroom Great for Groups!  94662871331   \n",
              "166  1093018  * Spacious GARDEN Park Slope Duplex* 6 people max  61571782497   \n",
              "169  1094675                     House On Henry (2nd FLR Suite)  44408473243   \n",
              "171  1095779                Sunny cozy room in Brklyn townhouse  29877853006   \n",
              "181  1101302              Fort Greene, Brooklyn: Center Bedroom   9549678609   \n",
              "\n",
              "    host_identity_verified host name neighbourhood group       neighbourhood  \\\n",
              "107            unconfirmed      Tess            Brooklyn  Bedford-Stuyvesant   \n",
              "166               verified    Nicole            Brooklyn             Gowanus   \n",
              "169                    NaN     James            Brooklyn     Carroll Gardens   \n",
              "171                    NaN     Jared            Brooklyn            Bushwick   \n",
              "181            unconfirmed     Adele            Brooklyn         Fort Greene   \n",
              "\n",
              "          lat      long        country  ... service fee minimum nights  \\\n",
              "107  40.68373 -73.92377  United States  ...       $100            90.0   \n",
              "166  40.66858 -73.99083  United States  ...        $75           144.0   \n",
              "169  40.67830 -74.00135  United States  ...       $168           273.0   \n",
              "171  40.70641 -73.91765  United States  ...       $101           275.0   \n",
              "181  40.68863 -73.97691  United States  ...        $21           350.0   \n",
              "\n",
              "    number of reviews last review  reviews per month review rate number  \\\n",
              "107             162.0   6/28/2019               1.46                3.0   \n",
              "166              80.0    7/6/2019                NaN                2.0   \n",
              "169             150.0   6/18/2019               1.40                5.0   \n",
              "171              47.0   6/19/2019               0.94                5.0   \n",
              "181             206.0   6/30/2019               1.92                4.0   \n",
              "\n",
              "    calculated host listings count  availability 365  \\\n",
              "107                            2.0             189.0   \n",
              "166                            1.0              52.0   \n",
              "169                            3.0             141.0   \n",
              "171                            1.0             263.0   \n",
              "181                            2.0              96.0   \n",
              "\n",
              "                                           house_rules license  \n",
              "107  - Thanks for not smoking and leaving your pets...     NaN  \n",
              "166  No candles, smoking or flame of any kind is al...     NaN  \n",
              "169  -Please no pets -Quiet hours are from 10pm - 8...     NaN  \n",
              "171  No pets that shed; If you have a hypo-allergen...     NaN  \n",
              "181  -No shoes in our home. Please leave them at th...     NaN  \n",
              "\n",
              "[5 rows x 26 columns]"
            ]
          },
          "execution_count": 14,
          "metadata": {},
          "output_type": "execute_result"
        }
      ],
      "source": [
        "data[(data['minimum nights'] > 70) & (data['neighbourhood group'] == 'Brooklyn')].head()"
      ]
    },
    {
      "cell_type": "code",
      "execution_count": null,
      "id": "mounted-variety",
      "metadata": {
        "id": "mounted-variety",
        "outputId": "e977b33d-f8f8-49d8-ac2b-0c8735862357"
      },
      "outputs": [
        {
          "data": {
            "text/html": [
              "<div>\n",
              "<style scoped>\n",
              "    .dataframe tbody tr th:only-of-type {\n",
              "        vertical-align: middle;\n",
              "    }\n",
              "\n",
              "    .dataframe tbody tr th {\n",
              "        vertical-align: top;\n",
              "    }\n",
              "\n",
              "    .dataframe thead th {\n",
              "        text-align: right;\n",
              "    }\n",
              "</style>\n",
              "<table border=\"1\" class=\"dataframe\">\n",
              "  <thead>\n",
              "    <tr style=\"text-align: right;\">\n",
              "      <th></th>\n",
              "      <th>id</th>\n",
              "      <th>host id</th>\n",
              "      <th>lat</th>\n",
              "      <th>long</th>\n",
              "      <th>Construction year</th>\n",
              "      <th>minimum nights</th>\n",
              "      <th>number of reviews</th>\n",
              "      <th>reviews per month</th>\n",
              "      <th>review rate number</th>\n",
              "      <th>calculated host listings count</th>\n",
              "      <th>availability 365</th>\n",
              "    </tr>\n",
              "  </thead>\n",
              "  <tbody>\n",
              "    <tr>\n",
              "      <th>id</th>\n",
              "      <td>1.000000</td>\n",
              "      <td>-0.000830</td>\n",
              "      <td>-0.008832</td>\n",
              "      <td>0.042546</td>\n",
              "      <td>0.001081</td>\n",
              "      <td>0.005668</td>\n",
              "      <td>-0.041530</td>\n",
              "      <td>0.038038</td>\n",
              "      <td>0.036633</td>\n",
              "      <td>0.024296</td>\n",
              "      <td>-0.139226</td>\n",
              "    </tr>\n",
              "    <tr>\n",
              "      <th>host id</th>\n",
              "      <td>-0.000830</td>\n",
              "      <td>1.000000</td>\n",
              "      <td>0.000661</td>\n",
              "      <td>-0.008999</td>\n",
              "      <td>0.004871</td>\n",
              "      <td>-0.002266</td>\n",
              "      <td>-0.004503</td>\n",
              "      <td>-0.001746</td>\n",
              "      <td>0.003459</td>\n",
              "      <td>0.001722</td>\n",
              "      <td>-0.002044</td>\n",
              "    </tr>\n",
              "    <tr>\n",
              "      <th>lat</th>\n",
              "      <td>-0.008832</td>\n",
              "      <td>0.000661</td>\n",
              "      <td>1.000000</td>\n",
              "      <td>0.074348</td>\n",
              "      <td>0.005697</td>\n",
              "      <td>0.014889</td>\n",
              "      <td>-0.025236</td>\n",
              "      <td>-0.019492</td>\n",
              "      <td>-0.003917</td>\n",
              "      <td>0.032468</td>\n",
              "      <td>-0.005011</td>\n",
              "    </tr>\n",
              "    <tr>\n",
              "      <th>long</th>\n",
              "      <td>0.042546</td>\n",
              "      <td>-0.008999</td>\n",
              "      <td>0.074348</td>\n",
              "      <td>1.000000</td>\n",
              "      <td>0.000861</td>\n",
              "      <td>-0.039639</td>\n",
              "      <td>0.069169</td>\n",
              "      <td>0.118598</td>\n",
              "      <td>0.015283</td>\n",
              "      <td>-0.104154</td>\n",
              "      <td>0.058428</td>\n",
              "    </tr>\n",
              "    <tr>\n",
              "      <th>Construction year</th>\n",
              "      <td>0.001081</td>\n",
              "      <td>0.004871</td>\n",
              "      <td>0.005697</td>\n",
              "      <td>0.000861</td>\n",
              "      <td>1.000000</td>\n",
              "      <td>-0.000486</td>\n",
              "      <td>0.001990</td>\n",
              "      <td>0.004092</td>\n",
              "      <td>0.004753</td>\n",
              "      <td>-0.002745</td>\n",
              "      <td>-0.008264</td>\n",
              "    </tr>\n",
              "    <tr>\n",
              "      <th>minimum nights</th>\n",
              "      <td>0.005668</td>\n",
              "      <td>-0.002266</td>\n",
              "      <td>0.014889</td>\n",
              "      <td>-0.039639</td>\n",
              "      <td>-0.000486</td>\n",
              "      <td>1.000000</td>\n",
              "      <td>-0.049997</td>\n",
              "      <td>-0.096141</td>\n",
              "      <td>-0.002167</td>\n",
              "      <td>0.084846</td>\n",
              "      <td>0.063541</td>\n",
              "    </tr>\n",
              "    <tr>\n",
              "      <th>number of reviews</th>\n",
              "      <td>-0.041530</td>\n",
              "      <td>-0.004503</td>\n",
              "      <td>-0.025236</td>\n",
              "      <td>0.069169</td>\n",
              "      <td>0.001990</td>\n",
              "      <td>-0.049997</td>\n",
              "      <td>1.000000</td>\n",
              "      <td>0.590939</td>\n",
              "      <td>-0.018412</td>\n",
              "      <td>-0.080907</td>\n",
              "      <td>0.099368</td>\n",
              "    </tr>\n",
              "    <tr>\n",
              "      <th>reviews per month</th>\n",
              "      <td>0.038038</td>\n",
              "      <td>-0.001746</td>\n",
              "      <td>-0.019492</td>\n",
              "      <td>0.118598</td>\n",
              "      <td>0.004092</td>\n",
              "      <td>-0.096141</td>\n",
              "      <td>0.590939</td>\n",
              "      <td>1.000000</td>\n",
              "      <td>0.037526</td>\n",
              "      <td>-0.025621</td>\n",
              "      <td>0.077193</td>\n",
              "    </tr>\n",
              "    <tr>\n",
              "      <th>review rate number</th>\n",
              "      <td>0.036633</td>\n",
              "      <td>0.003459</td>\n",
              "      <td>-0.003917</td>\n",
              "      <td>0.015283</td>\n",
              "      <td>0.004753</td>\n",
              "      <td>-0.002167</td>\n",
              "      <td>-0.018412</td>\n",
              "      <td>0.037526</td>\n",
              "      <td>1.000000</td>\n",
              "      <td>0.024273</td>\n",
              "      <td>-0.006217</td>\n",
              "    </tr>\n",
              "    <tr>\n",
              "      <th>calculated host listings count</th>\n",
              "      <td>0.024296</td>\n",
              "      <td>0.001722</td>\n",
              "      <td>0.032468</td>\n",
              "      <td>-0.104154</td>\n",
              "      <td>-0.002745</td>\n",
              "      <td>0.084846</td>\n",
              "      <td>-0.080907</td>\n",
              "      <td>-0.025621</td>\n",
              "      <td>0.024273</td>\n",
              "      <td>1.000000</td>\n",
              "      <td>0.159194</td>\n",
              "    </tr>\n",
              "    <tr>\n",
              "      <th>availability 365</th>\n",
              "      <td>-0.139226</td>\n",
              "      <td>-0.002044</td>\n",
              "      <td>-0.005011</td>\n",
              "      <td>0.058428</td>\n",
              "      <td>-0.008264</td>\n",
              "      <td>0.063541</td>\n",
              "      <td>0.099368</td>\n",
              "      <td>0.077193</td>\n",
              "      <td>-0.006217</td>\n",
              "      <td>0.159194</td>\n",
              "      <td>1.000000</td>\n",
              "    </tr>\n",
              "  </tbody>\n",
              "</table>\n",
              "</div>"
            ],
            "text/plain": [
              "                                      id   host id       lat      long  \\\n",
              "id                              1.000000 -0.000830 -0.008832  0.042546   \n",
              "host id                        -0.000830  1.000000  0.000661 -0.008999   \n",
              "lat                            -0.008832  0.000661  1.000000  0.074348   \n",
              "long                            0.042546 -0.008999  0.074348  1.000000   \n",
              "Construction year               0.001081  0.004871  0.005697  0.000861   \n",
              "minimum nights                  0.005668 -0.002266  0.014889 -0.039639   \n",
              "number of reviews              -0.041530 -0.004503 -0.025236  0.069169   \n",
              "reviews per month               0.038038 -0.001746 -0.019492  0.118598   \n",
              "review rate number              0.036633  0.003459 -0.003917  0.015283   \n",
              "calculated host listings count  0.024296  0.001722  0.032468 -0.104154   \n",
              "availability 365               -0.139226 -0.002044 -0.005011  0.058428   \n",
              "\n",
              "                                Construction year  minimum nights  \\\n",
              "id                                       0.001081        0.005668   \n",
              "host id                                  0.004871       -0.002266   \n",
              "lat                                      0.005697        0.014889   \n",
              "long                                     0.000861       -0.039639   \n",
              "Construction year                        1.000000       -0.000486   \n",
              "minimum nights                          -0.000486        1.000000   \n",
              "number of reviews                        0.001990       -0.049997   \n",
              "reviews per month                        0.004092       -0.096141   \n",
              "review rate number                       0.004753       -0.002167   \n",
              "calculated host listings count          -0.002745        0.084846   \n",
              "availability 365                        -0.008264        0.063541   \n",
              "\n",
              "                                number of reviews  reviews per month  \\\n",
              "id                                      -0.041530           0.038038   \n",
              "host id                                 -0.004503          -0.001746   \n",
              "lat                                     -0.025236          -0.019492   \n",
              "long                                     0.069169           0.118598   \n",
              "Construction year                        0.001990           0.004092   \n",
              "minimum nights                          -0.049997          -0.096141   \n",
              "number of reviews                        1.000000           0.590939   \n",
              "reviews per month                        0.590939           1.000000   \n",
              "review rate number                      -0.018412           0.037526   \n",
              "calculated host listings count          -0.080907          -0.025621   \n",
              "availability 365                         0.099368           0.077193   \n",
              "\n",
              "                                review rate number  \\\n",
              "id                                        0.036633   \n",
              "host id                                   0.003459   \n",
              "lat                                      -0.003917   \n",
              "long                                      0.015283   \n",
              "Construction year                         0.004753   \n",
              "minimum nights                           -0.002167   \n",
              "number of reviews                        -0.018412   \n",
              "reviews per month                         0.037526   \n",
              "review rate number                        1.000000   \n",
              "calculated host listings count            0.024273   \n",
              "availability 365                         -0.006217   \n",
              "\n",
              "                                calculated host listings count  \\\n",
              "id                                                    0.024296   \n",
              "host id                                               0.001722   \n",
              "lat                                                   0.032468   \n",
              "long                                                 -0.104154   \n",
              "Construction year                                    -0.002745   \n",
              "minimum nights                                        0.084846   \n",
              "number of reviews                                    -0.080907   \n",
              "reviews per month                                    -0.025621   \n",
              "review rate number                                    0.024273   \n",
              "calculated host listings count                        1.000000   \n",
              "availability 365                                      0.159194   \n",
              "\n",
              "                                availability 365  \n",
              "id                                     -0.139226  \n",
              "host id                                -0.002044  \n",
              "lat                                    -0.005011  \n",
              "long                                    0.058428  \n",
              "Construction year                      -0.008264  \n",
              "minimum nights                          0.063541  \n",
              "number of reviews                       0.099368  \n",
              "reviews per month                       0.077193  \n",
              "review rate number                     -0.006217  \n",
              "calculated host listings count          0.159194  \n",
              "availability 365                        1.000000  "
            ]
          },
          "execution_count": 15,
          "metadata": {},
          "output_type": "execute_result"
        }
      ],
      "source": [
        "data.corr()"
      ]
    },
    {
      "cell_type": "code",
      "execution_count": null,
      "id": "inside-briefing",
      "metadata": {
        "id": "inside-briefing",
        "outputId": "45869e63-d221-45ff-ae56-600345151245"
      },
      "outputs": [
        {
          "data": {
            "text/html": [
              "<div>\n",
              "<style scoped>\n",
              "    .dataframe tbody tr th:only-of-type {\n",
              "        vertical-align: middle;\n",
              "    }\n",
              "\n",
              "    .dataframe tbody tr th {\n",
              "        vertical-align: top;\n",
              "    }\n",
              "\n",
              "    .dataframe thead th {\n",
              "        text-align: right;\n",
              "    }\n",
              "</style>\n",
              "<table border=\"1\" class=\"dataframe\">\n",
              "  <thead>\n",
              "    <tr style=\"text-align: right;\">\n",
              "      <th></th>\n",
              "      <th>id</th>\n",
              "      <th>name</th>\n",
              "      <th>host id</th>\n",
              "      <th>host_identity_verified</th>\n",
              "      <th>host name</th>\n",
              "      <th>neighbourhood group</th>\n",
              "      <th>neighbourhood</th>\n",
              "      <th>lat</th>\n",
              "      <th>long</th>\n",
              "      <th>country</th>\n",
              "      <th>...</th>\n",
              "      <th>minimum nights</th>\n",
              "      <th>number of reviews</th>\n",
              "      <th>last review</th>\n",
              "      <th>reviews per month</th>\n",
              "      <th>review rate number</th>\n",
              "      <th>calculated host listings count</th>\n",
              "      <th>availability 365</th>\n",
              "      <th>house_rules</th>\n",
              "      <th>license</th>\n",
              "      <th>availability</th>\n",
              "    </tr>\n",
              "  </thead>\n",
              "  <tbody>\n",
              "    <tr>\n",
              "      <th>0</th>\n",
              "      <td>1001254</td>\n",
              "      <td>Clean &amp; quiet apt home by the park</td>\n",
              "      <td>80014485718</td>\n",
              "      <td>unconfirmed</td>\n",
              "      <td>Madaline</td>\n",
              "      <td>Brooklyn</td>\n",
              "      <td>Kensington</td>\n",
              "      <td>40.64749</td>\n",
              "      <td>-73.97237</td>\n",
              "      <td>United States</td>\n",
              "      <td>...</td>\n",
              "      <td>10.0</td>\n",
              "      <td>9.0</td>\n",
              "      <td>10/19/2021</td>\n",
              "      <td>0.21</td>\n",
              "      <td>4.0</td>\n",
              "      <td>6.0</td>\n",
              "      <td>286.0</td>\n",
              "      <td>Clean up and treat the home the way you'd like...</td>\n",
              "      <td>NaN</td>\n",
              "      <td>78.356164</td>\n",
              "    </tr>\n",
              "    <tr>\n",
              "      <th>1</th>\n",
              "      <td>1002102</td>\n",
              "      <td>Skylit Midtown Castle</td>\n",
              "      <td>52335172823</td>\n",
              "      <td>verified</td>\n",
              "      <td>Jenna</td>\n",
              "      <td>Manhattan</td>\n",
              "      <td>Midtown</td>\n",
              "      <td>40.75362</td>\n",
              "      <td>-73.98377</td>\n",
              "      <td>United States</td>\n",
              "      <td>...</td>\n",
              "      <td>30.0</td>\n",
              "      <td>45.0</td>\n",
              "      <td>5/21/2022</td>\n",
              "      <td>0.38</td>\n",
              "      <td>4.0</td>\n",
              "      <td>2.0</td>\n",
              "      <td>228.0</td>\n",
              "      <td>Pet friendly but please confirm with me if the...</td>\n",
              "      <td>NaN</td>\n",
              "      <td>62.465753</td>\n",
              "    </tr>\n",
              "    <tr>\n",
              "      <th>2</th>\n",
              "      <td>1002403</td>\n",
              "      <td>THE VILLAGE OF HARLEM....NEW YORK !</td>\n",
              "      <td>78829239556</td>\n",
              "      <td>NaN</td>\n",
              "      <td>Elise</td>\n",
              "      <td>Manhattan</td>\n",
              "      <td>Harlem</td>\n",
              "      <td>40.80902</td>\n",
              "      <td>-73.94190</td>\n",
              "      <td>United States</td>\n",
              "      <td>...</td>\n",
              "      <td>3.0</td>\n",
              "      <td>0.0</td>\n",
              "      <td>NaN</td>\n",
              "      <td>NaN</td>\n",
              "      <td>5.0</td>\n",
              "      <td>1.0</td>\n",
              "      <td>352.0</td>\n",
              "      <td>I encourage you to use my kitchen, cooking and...</td>\n",
              "      <td>NaN</td>\n",
              "      <td>96.438356</td>\n",
              "    </tr>\n",
              "    <tr>\n",
              "      <th>3</th>\n",
              "      <td>1002755</td>\n",
              "      <td>NaN</td>\n",
              "      <td>85098326012</td>\n",
              "      <td>unconfirmed</td>\n",
              "      <td>Garry</td>\n",
              "      <td>Brooklyn</td>\n",
              "      <td>Clinton Hill</td>\n",
              "      <td>40.68514</td>\n",
              "      <td>-73.95976</td>\n",
              "      <td>United States</td>\n",
              "      <td>...</td>\n",
              "      <td>30.0</td>\n",
              "      <td>270.0</td>\n",
              "      <td>7/5/2019</td>\n",
              "      <td>4.64</td>\n",
              "      <td>4.0</td>\n",
              "      <td>1.0</td>\n",
              "      <td>322.0</td>\n",
              "      <td>NaN</td>\n",
              "      <td>NaN</td>\n",
              "      <td>88.219178</td>\n",
              "    </tr>\n",
              "    <tr>\n",
              "      <th>4</th>\n",
              "      <td>1003689</td>\n",
              "      <td>Entire Apt: Spacious Studio/Loft by central park</td>\n",
              "      <td>92037596077</td>\n",
              "      <td>verified</td>\n",
              "      <td>Lyndon</td>\n",
              "      <td>Manhattan</td>\n",
              "      <td>East Harlem</td>\n",
              "      <td>40.79851</td>\n",
              "      <td>-73.94399</td>\n",
              "      <td>United States</td>\n",
              "      <td>...</td>\n",
              "      <td>10.0</td>\n",
              "      <td>9.0</td>\n",
              "      <td>11/19/2018</td>\n",
              "      <td>0.10</td>\n",
              "      <td>3.0</td>\n",
              "      <td>1.0</td>\n",
              "      <td>289.0</td>\n",
              "      <td>Please no smoking in the house, porch or on th...</td>\n",
              "      <td>NaN</td>\n",
              "      <td>79.178082</td>\n",
              "    </tr>\n",
              "  </tbody>\n",
              "</table>\n",
              "<p>5 rows × 27 columns</p>\n",
              "</div>"
            ],
            "text/plain": [
              "        id                                              name      host id  \\\n",
              "0  1001254                Clean & quiet apt home by the park  80014485718   \n",
              "1  1002102                             Skylit Midtown Castle  52335172823   \n",
              "2  1002403               THE VILLAGE OF HARLEM....NEW YORK !  78829239556   \n",
              "3  1002755                                               NaN  85098326012   \n",
              "4  1003689  Entire Apt: Spacious Studio/Loft by central park  92037596077   \n",
              "\n",
              "  host_identity_verified host name neighbourhood group neighbourhood  \\\n",
              "0            unconfirmed  Madaline            Brooklyn    Kensington   \n",
              "1               verified     Jenna           Manhattan       Midtown   \n",
              "2                    NaN     Elise           Manhattan        Harlem   \n",
              "3            unconfirmed     Garry            Brooklyn  Clinton Hill   \n",
              "4               verified    Lyndon           Manhattan   East Harlem   \n",
              "\n",
              "        lat      long        country  ... minimum nights number of reviews  \\\n",
              "0  40.64749 -73.97237  United States  ...           10.0               9.0   \n",
              "1  40.75362 -73.98377  United States  ...           30.0              45.0   \n",
              "2  40.80902 -73.94190  United States  ...            3.0               0.0   \n",
              "3  40.68514 -73.95976  United States  ...           30.0             270.0   \n",
              "4  40.79851 -73.94399  United States  ...           10.0               9.0   \n",
              "\n",
              "  last review reviews per month  review rate number  \\\n",
              "0  10/19/2021              0.21                 4.0   \n",
              "1   5/21/2022              0.38                 4.0   \n",
              "2         NaN               NaN                 5.0   \n",
              "3    7/5/2019              4.64                 4.0   \n",
              "4  11/19/2018              0.10                 3.0   \n",
              "\n",
              "  calculated host listings count availability 365  \\\n",
              "0                            6.0            286.0   \n",
              "1                            2.0            228.0   \n",
              "2                            1.0            352.0   \n",
              "3                            1.0            322.0   \n",
              "4                            1.0            289.0   \n",
              "\n",
              "                                         house_rules  license availability  \n",
              "0  Clean up and treat the home the way you'd like...      NaN    78.356164  \n",
              "1  Pet friendly but please confirm with me if the...      NaN    62.465753  \n",
              "2  I encourage you to use my kitchen, cooking and...      NaN    96.438356  \n",
              "3                                                NaN      NaN    88.219178  \n",
              "4  Please no smoking in the house, porch or on th...      NaN    79.178082  \n",
              "\n",
              "[5 rows x 27 columns]"
            ]
          },
          "execution_count": 16,
          "metadata": {},
          "output_type": "execute_result"
        }
      ],
      "source": [
        "data['availability'] = data['availability 365'] / 365 * 100\n",
        "data.head()"
      ]
    },
    {
      "cell_type": "code",
      "execution_count": null,
      "id": "grave-capitol",
      "metadata": {
        "id": "grave-capitol",
        "outputId": "46a02f53-5875-49d1-ae66-fd238c40a266"
      },
      "outputs": [
        {
          "data": {
            "text/plain": [
              "neighbourhood group\n",
              "Bronx             2712\n",
              "Brooklyn         41842\n",
              "Manhattan        43792\n",
              "Queens           13267\n",
              "Staten Island      955\n",
              "brookln              1\n",
              "manhatan             1\n",
              "Name: id, dtype: int64"
            ]
          },
          "execution_count": 17,
          "metadata": {},
          "output_type": "execute_result"
        }
      ],
      "source": [
        "data.groupby(['neighbourhood group'])['id'].count()"
      ]
    },
    {
      "cell_type": "code",
      "execution_count": null,
      "id": "following-pearl",
      "metadata": {
        "id": "following-pearl",
        "outputId": "d8d15481-386c-41e7-8a1d-95604af94b82"
      },
      "outputs": [
        {
          "data": {
            "text/plain": [
              "array(['Brooklyn', 'Manhattan', 'manhatan', 'Queens', nan,\n",
              "       'Staten Island', 'Bronx'], dtype=object)"
            ]
          },
          "execution_count": 18,
          "metadata": {},
          "output_type": "execute_result"
        }
      ],
      "source": [
        "data['neighbourhood group'] = data['neighbourhood group'].replace({'brookln': 'Brooklyn'})\n",
        "data['neighbourhood group'].unique()"
      ]
    },
    {
      "cell_type": "code",
      "execution_count": null,
      "id": "played-senate",
      "metadata": {
        "id": "played-senate",
        "outputId": "6b2e06c2-7228-4ad0-9421-c9f8a50a8d7d"
      },
      "outputs": [
        {
          "data": {
            "text/html": [
              "<div>\n",
              "<style scoped>\n",
              "    .dataframe tbody tr th:only-of-type {\n",
              "        vertical-align: middle;\n",
              "    }\n",
              "\n",
              "    .dataframe tbody tr th {\n",
              "        vertical-align: top;\n",
              "    }\n",
              "\n",
              "    .dataframe thead th {\n",
              "        text-align: right;\n",
              "    }\n",
              "</style>\n",
              "<table border=\"1\" class=\"dataframe\">\n",
              "  <thead>\n",
              "    <tr style=\"text-align: right;\">\n",
              "      <th></th>\n",
              "      <th>id</th>\n",
              "      <th>name</th>\n",
              "      <th>host id</th>\n",
              "      <th>host_identity_verified</th>\n",
              "      <th>host name</th>\n",
              "      <th>neighbourhood group</th>\n",
              "      <th>neighbourhood</th>\n",
              "      <th>lat</th>\n",
              "      <th>long</th>\n",
              "      <th>country</th>\n",
              "      <th>...</th>\n",
              "      <th>minimum nights</th>\n",
              "      <th>number of reviews</th>\n",
              "      <th>last review</th>\n",
              "      <th>reviews per month</th>\n",
              "      <th>review rate number</th>\n",
              "      <th>calculated host listings count</th>\n",
              "      <th>availability 365</th>\n",
              "      <th>house_rules</th>\n",
              "      <th>license</th>\n",
              "      <th>availability</th>\n",
              "    </tr>\n",
              "  </thead>\n",
              "  <tbody>\n",
              "    <tr>\n",
              "      <th>0</th>\n",
              "      <td>1001254</td>\n",
              "      <td>Clean &amp; quiet apt home by the park</td>\n",
              "      <td>80014485718</td>\n",
              "      <td>unconfirmed</td>\n",
              "      <td>Madaline</td>\n",
              "      <td>Brooklyn</td>\n",
              "      <td>Kensington</td>\n",
              "      <td>40.64749</td>\n",
              "      <td>-73.97237</td>\n",
              "      <td>United States</td>\n",
              "      <td>...</td>\n",
              "      <td>10.0</td>\n",
              "      <td>9.0</td>\n",
              "      <td>10/19/2021</td>\n",
              "      <td>0.21</td>\n",
              "      <td>4.0</td>\n",
              "      <td>6.0</td>\n",
              "      <td>286.0</td>\n",
              "      <td>Clean up and treat the home the way you'd like...</td>\n",
              "      <td>NaN</td>\n",
              "      <td>78.356164</td>\n",
              "    </tr>\n",
              "    <tr>\n",
              "      <th>1</th>\n",
              "      <td>1002102</td>\n",
              "      <td>Skylit Midtown Castle</td>\n",
              "      <td>52335172823</td>\n",
              "      <td>verified</td>\n",
              "      <td>Jenna</td>\n",
              "      <td>Manhattan</td>\n",
              "      <td>Midtown</td>\n",
              "      <td>40.75362</td>\n",
              "      <td>-73.98377</td>\n",
              "      <td>United States</td>\n",
              "      <td>...</td>\n",
              "      <td>30.0</td>\n",
              "      <td>45.0</td>\n",
              "      <td>5/21/2022</td>\n",
              "      <td>0.38</td>\n",
              "      <td>4.0</td>\n",
              "      <td>2.0</td>\n",
              "      <td>228.0</td>\n",
              "      <td>Pet friendly but please confirm with me if the...</td>\n",
              "      <td>NaN</td>\n",
              "      <td>62.465753</td>\n",
              "    </tr>\n",
              "    <tr>\n",
              "      <th>2</th>\n",
              "      <td>1002403</td>\n",
              "      <td>THE VILLAGE OF HARLEM....NEW YORK !</td>\n",
              "      <td>78829239556</td>\n",
              "      <td>NaN</td>\n",
              "      <td>Elise</td>\n",
              "      <td>Manhattan</td>\n",
              "      <td>Harlem</td>\n",
              "      <td>40.80902</td>\n",
              "      <td>-73.94190</td>\n",
              "      <td>United States</td>\n",
              "      <td>...</td>\n",
              "      <td>3.0</td>\n",
              "      <td>0.0</td>\n",
              "      <td>NaN</td>\n",
              "      <td>NaN</td>\n",
              "      <td>5.0</td>\n",
              "      <td>1.0</td>\n",
              "      <td>352.0</td>\n",
              "      <td>I encourage you to use my kitchen, cooking and...</td>\n",
              "      <td>NaN</td>\n",
              "      <td>96.438356</td>\n",
              "    </tr>\n",
              "    <tr>\n",
              "      <th>3</th>\n",
              "      <td>1002755</td>\n",
              "      <td>NaN</td>\n",
              "      <td>85098326012</td>\n",
              "      <td>unconfirmed</td>\n",
              "      <td>Garry</td>\n",
              "      <td>Brooklyn</td>\n",
              "      <td>Clinton Hill</td>\n",
              "      <td>40.68514</td>\n",
              "      <td>-73.95976</td>\n",
              "      <td>United States</td>\n",
              "      <td>...</td>\n",
              "      <td>30.0</td>\n",
              "      <td>270.0</td>\n",
              "      <td>7/5/2019</td>\n",
              "      <td>4.64</td>\n",
              "      <td>4.0</td>\n",
              "      <td>1.0</td>\n",
              "      <td>322.0</td>\n",
              "      <td>NaN</td>\n",
              "      <td>NaN</td>\n",
              "      <td>88.219178</td>\n",
              "    </tr>\n",
              "    <tr>\n",
              "      <th>4</th>\n",
              "      <td>1003689</td>\n",
              "      <td>Entire Apt: Spacious Studio/Loft by central park</td>\n",
              "      <td>92037596077</td>\n",
              "      <td>verified</td>\n",
              "      <td>Lyndon</td>\n",
              "      <td>Manhattan</td>\n",
              "      <td>East Harlem</td>\n",
              "      <td>40.79851</td>\n",
              "      <td>-73.94399</td>\n",
              "      <td>United States</td>\n",
              "      <td>...</td>\n",
              "      <td>10.0</td>\n",
              "      <td>9.0</td>\n",
              "      <td>11/19/2018</td>\n",
              "      <td>0.10</td>\n",
              "      <td>3.0</td>\n",
              "      <td>1.0</td>\n",
              "      <td>289.0</td>\n",
              "      <td>Please no smoking in the house, porch or on th...</td>\n",
              "      <td>NaN</td>\n",
              "      <td>79.178082</td>\n",
              "    </tr>\n",
              "    <tr>\n",
              "      <th>...</th>\n",
              "      <td>...</td>\n",
              "      <td>...</td>\n",
              "      <td>...</td>\n",
              "      <td>...</td>\n",
              "      <td>...</td>\n",
              "      <td>...</td>\n",
              "      <td>...</td>\n",
              "      <td>...</td>\n",
              "      <td>...</td>\n",
              "      <td>...</td>\n",
              "      <td>...</td>\n",
              "      <td>...</td>\n",
              "      <td>...</td>\n",
              "      <td>...</td>\n",
              "      <td>...</td>\n",
              "      <td>...</td>\n",
              "      <td>...</td>\n",
              "      <td>...</td>\n",
              "      <td>...</td>\n",
              "      <td>...</td>\n",
              "      <td>...</td>\n",
              "    </tr>\n",
              "    <tr>\n",
              "      <th>102594</th>\n",
              "      <td>6092437</td>\n",
              "      <td>Spare room in Williamsburg</td>\n",
              "      <td>12312296767</td>\n",
              "      <td>verified</td>\n",
              "      <td>Krik</td>\n",
              "      <td>Brooklyn</td>\n",
              "      <td>Williamsburg</td>\n",
              "      <td>40.70862</td>\n",
              "      <td>-73.94651</td>\n",
              "      <td>United States</td>\n",
              "      <td>...</td>\n",
              "      <td>1.0</td>\n",
              "      <td>0.0</td>\n",
              "      <td>NaN</td>\n",
              "      <td>NaN</td>\n",
              "      <td>3.0</td>\n",
              "      <td>1.0</td>\n",
              "      <td>227.0</td>\n",
              "      <td>No Smoking No Parties or Events of any kind Pl...</td>\n",
              "      <td>NaN</td>\n",
              "      <td>62.191781</td>\n",
              "    </tr>\n",
              "    <tr>\n",
              "      <th>102595</th>\n",
              "      <td>6092990</td>\n",
              "      <td>Best Location near Columbia U</td>\n",
              "      <td>77864383453</td>\n",
              "      <td>unconfirmed</td>\n",
              "      <td>Mifan</td>\n",
              "      <td>Manhattan</td>\n",
              "      <td>Morningside Heights</td>\n",
              "      <td>40.80460</td>\n",
              "      <td>-73.96545</td>\n",
              "      <td>United States</td>\n",
              "      <td>...</td>\n",
              "      <td>1.0</td>\n",
              "      <td>1.0</td>\n",
              "      <td>7/6/2015</td>\n",
              "      <td>0.02</td>\n",
              "      <td>2.0</td>\n",
              "      <td>2.0</td>\n",
              "      <td>395.0</td>\n",
              "      <td>House rules: Guests agree to the following ter...</td>\n",
              "      <td>NaN</td>\n",
              "      <td>108.219178</td>\n",
              "    </tr>\n",
              "    <tr>\n",
              "      <th>102596</th>\n",
              "      <td>6093542</td>\n",
              "      <td>Comfy, bright room in Brooklyn</td>\n",
              "      <td>69050334417</td>\n",
              "      <td>unconfirmed</td>\n",
              "      <td>Megan</td>\n",
              "      <td>Brooklyn</td>\n",
              "      <td>Park Slope</td>\n",
              "      <td>40.67505</td>\n",
              "      <td>-73.98045</td>\n",
              "      <td>United States</td>\n",
              "      <td>...</td>\n",
              "      <td>3.0</td>\n",
              "      <td>0.0</td>\n",
              "      <td>NaN</td>\n",
              "      <td>NaN</td>\n",
              "      <td>5.0</td>\n",
              "      <td>1.0</td>\n",
              "      <td>342.0</td>\n",
              "      <td>NaN</td>\n",
              "      <td>NaN</td>\n",
              "      <td>93.698630</td>\n",
              "    </tr>\n",
              "    <tr>\n",
              "      <th>102597</th>\n",
              "      <td>6094094</td>\n",
              "      <td>Big Studio-One Stop from Midtown</td>\n",
              "      <td>11160591270</td>\n",
              "      <td>unconfirmed</td>\n",
              "      <td>Christopher</td>\n",
              "      <td>Queens</td>\n",
              "      <td>Long Island City</td>\n",
              "      <td>40.74989</td>\n",
              "      <td>-73.93777</td>\n",
              "      <td>United States</td>\n",
              "      <td>...</td>\n",
              "      <td>2.0</td>\n",
              "      <td>5.0</td>\n",
              "      <td>10/11/2015</td>\n",
              "      <td>0.10</td>\n",
              "      <td>3.0</td>\n",
              "      <td>1.0</td>\n",
              "      <td>386.0</td>\n",
              "      <td>NaN</td>\n",
              "      <td>NaN</td>\n",
              "      <td>105.753425</td>\n",
              "    </tr>\n",
              "    <tr>\n",
              "      <th>102598</th>\n",
              "      <td>6094647</td>\n",
              "      <td>585 sf Luxury Studio</td>\n",
              "      <td>68170633372</td>\n",
              "      <td>unconfirmed</td>\n",
              "      <td>Rebecca</td>\n",
              "      <td>Manhattan</td>\n",
              "      <td>Upper West Side</td>\n",
              "      <td>40.76807</td>\n",
              "      <td>-73.98342</td>\n",
              "      <td>United States</td>\n",
              "      <td>...</td>\n",
              "      <td>1.0</td>\n",
              "      <td>0.0</td>\n",
              "      <td>NaN</td>\n",
              "      <td>NaN</td>\n",
              "      <td>3.0</td>\n",
              "      <td>1.0</td>\n",
              "      <td>69.0</td>\n",
              "      <td>NaN</td>\n",
              "      <td>NaN</td>\n",
              "      <td>18.904110</td>\n",
              "    </tr>\n",
              "  </tbody>\n",
              "</table>\n",
              "<p>102599 rows × 27 columns</p>\n",
              "</div>"
            ],
            "text/plain": [
              "             id                                              name  \\\n",
              "0       1001254                Clean & quiet apt home by the park   \n",
              "1       1002102                             Skylit Midtown Castle   \n",
              "2       1002403               THE VILLAGE OF HARLEM....NEW YORK !   \n",
              "3       1002755                                               NaN   \n",
              "4       1003689  Entire Apt: Spacious Studio/Loft by central park   \n",
              "...         ...                                               ...   \n",
              "102594  6092437                        Spare room in Williamsburg   \n",
              "102595  6092990                     Best Location near Columbia U   \n",
              "102596  6093542                    Comfy, bright room in Brooklyn   \n",
              "102597  6094094                  Big Studio-One Stop from Midtown   \n",
              "102598  6094647                              585 sf Luxury Studio   \n",
              "\n",
              "            host id host_identity_verified    host name neighbourhood group  \\\n",
              "0       80014485718            unconfirmed     Madaline            Brooklyn   \n",
              "1       52335172823               verified        Jenna           Manhattan   \n",
              "2       78829239556                    NaN        Elise           Manhattan   \n",
              "3       85098326012            unconfirmed        Garry            Brooklyn   \n",
              "4       92037596077               verified       Lyndon           Manhattan   \n",
              "...             ...                    ...          ...                 ...   \n",
              "102594  12312296767               verified         Krik            Brooklyn   \n",
              "102595  77864383453            unconfirmed        Mifan           Manhattan   \n",
              "102596  69050334417            unconfirmed        Megan            Brooklyn   \n",
              "102597  11160591270            unconfirmed  Christopher              Queens   \n",
              "102598  68170633372            unconfirmed      Rebecca           Manhattan   \n",
              "\n",
              "              neighbourhood       lat      long        country  ...  \\\n",
              "0                Kensington  40.64749 -73.97237  United States  ...   \n",
              "1                   Midtown  40.75362 -73.98377  United States  ...   \n",
              "2                    Harlem  40.80902 -73.94190  United States  ...   \n",
              "3              Clinton Hill  40.68514 -73.95976  United States  ...   \n",
              "4               East Harlem  40.79851 -73.94399  United States  ...   \n",
              "...                     ...       ...       ...            ...  ...   \n",
              "102594         Williamsburg  40.70862 -73.94651  United States  ...   \n",
              "102595  Morningside Heights  40.80460 -73.96545  United States  ...   \n",
              "102596           Park Slope  40.67505 -73.98045  United States  ...   \n",
              "102597     Long Island City  40.74989 -73.93777  United States  ...   \n",
              "102598      Upper West Side  40.76807 -73.98342  United States  ...   \n",
              "\n",
              "       minimum nights number of reviews last review reviews per month  \\\n",
              "0                10.0               9.0  10/19/2021              0.21   \n",
              "1                30.0              45.0   5/21/2022              0.38   \n",
              "2                 3.0               0.0         NaN               NaN   \n",
              "3                30.0             270.0    7/5/2019              4.64   \n",
              "4                10.0               9.0  11/19/2018              0.10   \n",
              "...               ...               ...         ...               ...   \n",
              "102594            1.0               0.0         NaN               NaN   \n",
              "102595            1.0               1.0    7/6/2015              0.02   \n",
              "102596            3.0               0.0         NaN               NaN   \n",
              "102597            2.0               5.0  10/11/2015              0.10   \n",
              "102598            1.0               0.0         NaN               NaN   \n",
              "\n",
              "        review rate number calculated host listings count availability 365  \\\n",
              "0                      4.0                            6.0            286.0   \n",
              "1                      4.0                            2.0            228.0   \n",
              "2                      5.0                            1.0            352.0   \n",
              "3                      4.0                            1.0            322.0   \n",
              "4                      3.0                            1.0            289.0   \n",
              "...                    ...                            ...              ...   \n",
              "102594                 3.0                            1.0            227.0   \n",
              "102595                 2.0                            2.0            395.0   \n",
              "102596                 5.0                            1.0            342.0   \n",
              "102597                 3.0                            1.0            386.0   \n",
              "102598                 3.0                            1.0             69.0   \n",
              "\n",
              "                                              house_rules  license  \\\n",
              "0       Clean up and treat the home the way you'd like...      NaN   \n",
              "1       Pet friendly but please confirm with me if the...      NaN   \n",
              "2       I encourage you to use my kitchen, cooking and...      NaN   \n",
              "3                                                     NaN      NaN   \n",
              "4       Please no smoking in the house, porch or on th...      NaN   \n",
              "...                                                   ...      ...   \n",
              "102594  No Smoking No Parties or Events of any kind Pl...      NaN   \n",
              "102595  House rules: Guests agree to the following ter...      NaN   \n",
              "102596                                                NaN      NaN   \n",
              "102597                                                NaN      NaN   \n",
              "102598                                                NaN      NaN   \n",
              "\n",
              "       availability  \n",
              "0         78.356164  \n",
              "1         62.465753  \n",
              "2         96.438356  \n",
              "3         88.219178  \n",
              "4         79.178082  \n",
              "...             ...  \n",
              "102594    62.191781  \n",
              "102595   108.219178  \n",
              "102596    93.698630  \n",
              "102597   105.753425  \n",
              "102598    18.904110  \n",
              "\n",
              "[102599 rows x 27 columns]"
            ]
          },
          "execution_count": 19,
          "metadata": {},
          "output_type": "execute_result"
        }
      ],
      "source": [
        "data"
      ]
    },
    {
      "cell_type": "markdown",
      "id": "arabic-pickup",
      "metadata": {
        "id": "arabic-pickup"
      },
      "source": [
        "## NumPy"
      ]
    },
    {
      "cell_type": "code",
      "execution_count": null,
      "id": "tender-hurricane",
      "metadata": {
        "id": "tender-hurricane"
      },
      "outputs": [],
      "source": [
        "import numpy as np"
      ]
    },
    {
      "cell_type": "markdown",
      "id": "residential-custody",
      "metadata": {
        "id": "residential-custody"
      },
      "source": [
        "### 1. Одномерные массивы"
      ]
    },
    {
      "cell_type": "code",
      "execution_count": null,
      "id": "alternate-demonstration",
      "metadata": {
        "id": "alternate-demonstration",
        "outputId": "9dbb1cec-b2be-420b-828a-737f95eaf56f"
      },
      "outputs": [
        {
          "data": {
            "text/plain": [
              "(array([0, 2, 1]), numpy.ndarray)"
            ]
          },
          "execution_count": 21,
          "metadata": {},
          "output_type": "execute_result"
        }
      ],
      "source": [
        "a = np.array([0, 2, 1])\n",
        "a, type(a)"
      ]
    },
    {
      "cell_type": "code",
      "execution_count": null,
      "id": "measured-offense",
      "metadata": {
        "id": "measured-offense",
        "outputId": "d77c3a90-558d-463b-e007-a8c369bae9a0"
      },
      "outputs": [
        {
          "data": {
            "text/plain": [
              "(3,)"
            ]
          },
          "execution_count": 72,
          "metadata": {},
          "output_type": "execute_result"
        }
      ],
      "source": [
        "a.shape"
      ]
    },
    {
      "cell_type": "code",
      "execution_count": null,
      "id": "behind-surname",
      "metadata": {
        "id": "behind-surname",
        "outputId": "921d7b53-d7b1-4970-ec86-5b1d058d8def"
      },
      "outputs": [
        {
          "data": {
            "text/plain": [
              "(3, 3)"
            ]
          },
          "execution_count": 73,
          "metadata": {},
          "output_type": "execute_result"
        }
      ],
      "source": [
        "len(a), a.size"
      ]
    },
    {
      "cell_type": "code",
      "execution_count": null,
      "id": "brutal-communist",
      "metadata": {
        "id": "brutal-communist",
        "outputId": "60b4ee20-918f-43ee-9908-b55156a6f94b"
      },
      "outputs": [
        {
          "data": {
            "text/plain": [
              "(array([0., 0., 0.]), array([1, 1, 1]))"
            ]
          },
          "execution_count": 25,
          "metadata": {},
          "output_type": "execute_result"
        }
      ],
      "source": [
        "a = np.zeros(3)\n",
        "b = np.ones(3, dtype=np.int64)\n",
        "a, b"
      ]
    },
    {
      "cell_type": "code",
      "execution_count": null,
      "id": "sapphire-chemistry",
      "metadata": {
        "id": "sapphire-chemistry",
        "outputId": "fc6e9901-5db0-457b-9ad6-f56481f4d65b"
      },
      "outputs": [
        {
          "data": {
            "text/plain": [
              "array([0, 2, 4, 6, 8])"
            ]
          },
          "execution_count": 27,
          "metadata": {},
          "output_type": "execute_result"
        }
      ],
      "source": [
        "a = np.arange(0, 9, 2)\n",
        "a"
      ]
    },
    {
      "cell_type": "markdown",
      "id": "regular-filename",
      "metadata": {
        "id": "regular-filename"
      },
      "source": [
        "### 1.1 Операции над одномерными массивами"
      ]
    },
    {
      "cell_type": "code",
      "execution_count": null,
      "id": "solar-secretariat",
      "metadata": {
        "id": "solar-secretariat",
        "outputId": "c212d449-d8ff-46fc-d3b5-fdd1e83a5bf4"
      },
      "outputs": [
        {
          "data": {
            "text/plain": [
              "(array([0, 2, 4, 6, 8]), array([10, 12, 14, 16, 18]))"
            ]
          },
          "execution_count": 29,
          "metadata": {},
          "output_type": "execute_result"
        }
      ],
      "source": [
        "a = np.arange(0, 9, 2)\n",
        "b = np.arange(10, 20, 2)\n",
        "a, b"
      ]
    },
    {
      "cell_type": "code",
      "execution_count": null,
      "id": "following-taylor",
      "metadata": {
        "id": "following-taylor",
        "outputId": "7c414832-6072-4142-b9ae-f06fdc9a63c8"
      },
      "outputs": [
        {
          "data": {
            "text/plain": [
              "array([10, 14, 18, 22, 26])"
            ]
          },
          "execution_count": 30,
          "metadata": {},
          "output_type": "execute_result"
        }
      ],
      "source": [
        "a + b"
      ]
    },
    {
      "cell_type": "code",
      "execution_count": null,
      "id": "sudden-weather",
      "metadata": {
        "id": "sudden-weather",
        "outputId": "55760fbb-76f1-4a89-d95d-f2f389dfc127"
      },
      "outputs": [
        {
          "data": {
            "text/plain": [
              "array([-10, -10, -10, -10, -10])"
            ]
          },
          "execution_count": 31,
          "metadata": {},
          "output_type": "execute_result"
        }
      ],
      "source": [
        "a - b"
      ]
    },
    {
      "cell_type": "code",
      "execution_count": null,
      "id": "sought-apparel",
      "metadata": {
        "id": "sought-apparel",
        "outputId": "7dc4b082-d07a-446b-e2d7-ba0f78a5c7a8"
      },
      "outputs": [
        {
          "data": {
            "text/plain": [
              "array([0.        , 0.16666667, 0.28571429, 0.375     , 0.44444444])"
            ]
          },
          "execution_count": 32,
          "metadata": {},
          "output_type": "execute_result"
        }
      ],
      "source": [
        "a / b"
      ]
    },
    {
      "cell_type": "code",
      "execution_count": null,
      "id": "collaborative-naples",
      "metadata": {
        "id": "collaborative-naples",
        "outputId": "71c0687e-f130-4d56-cb12-1ca3576f5977"
      },
      "outputs": [
        {
          "data": {
            "text/plain": [
              "array([-10, -12, -14, -16, -18])"
            ]
          },
          "execution_count": 33,
          "metadata": {},
          "output_type": "execute_result"
        }
      ],
      "source": [
        "b * (-1)"
      ]
    },
    {
      "cell_type": "code",
      "execution_count": null,
      "id": "above-quarter",
      "metadata": {
        "id": "above-quarter",
        "outputId": "0ee7085d-080e-433d-c2f1-dfbabe3a035b"
      },
      "outputs": [
        {
          "data": {
            "text/plain": [
              "array([False, False, False, False, False])"
            ]
          },
          "execution_count": 34,
          "metadata": {},
          "output_type": "execute_result"
        }
      ],
      "source": [
        "a > b"
      ]
    },
    {
      "cell_type": "code",
      "execution_count": null,
      "id": "comprehensive-effects",
      "metadata": {
        "id": "comprehensive-effects",
        "outputId": "40b6860f-8055-47ed-b438-608f3ab23572"
      },
      "outputs": [
        {
          "data": {
            "text/plain": [
              "array([ 0,  2,  4,  6,  8, 10, 12, 14, 16, 18])"
            ]
          },
          "execution_count": 35,
          "metadata": {},
          "output_type": "execute_result"
        }
      ],
      "source": [
        "# объединение массивов\n",
        "np.hstack((a, b))"
      ]
    },
    {
      "cell_type": "code",
      "execution_count": null,
      "id": "outside-preserve",
      "metadata": {
        "id": "outside-preserve",
        "outputId": "745c4813-b2b1-48f4-e973-ed18de5eb235"
      },
      "outputs": [
        {
          "data": {
            "text/plain": [
              "array([0, 2, 4, 6, 8, 1, 2, 3])"
            ]
          },
          "execution_count": 36,
          "metadata": {},
          "output_type": "execute_result"
        }
      ],
      "source": [
        "# добавление элементов\n",
        "np.append(a, [1, 2, 3])"
      ]
    },
    {
      "cell_type": "code",
      "execution_count": null,
      "id": "statutory-absence",
      "metadata": {
        "id": "statutory-absence",
        "outputId": "2f7bd825-99f6-4096-c9c2-ecee82edcd4e"
      },
      "outputs": [
        {
          "data": {
            "text/plain": [
              "(array([4, 6, 8]), array([2, 6]))"
            ]
          },
          "execution_count": 37,
          "metadata": {},
          "output_type": "execute_result"
        }
      ],
      "source": [
        "# срезы\n",
        "a[2:6], a[1:4:2]"
      ]
    },
    {
      "cell_type": "markdown",
      "id": "prepared-virgin",
      "metadata": {
        "id": "prepared-virgin"
      },
      "source": [
        "### 2. Двумерные массивы массивы"
      ]
    },
    {
      "cell_type": "code",
      "execution_count": null,
      "id": "digital-graduation",
      "metadata": {
        "id": "digital-graduation",
        "outputId": "ce99a4ff-e844-4adc-9876-dbab056be345"
      },
      "outputs": [
        {
          "data": {
            "text/plain": [
              "array([[ 0.,  1.],\n",
              "       [-1.,  0.]])"
            ]
          },
          "execution_count": 40,
          "metadata": {},
          "output_type": "execute_result"
        }
      ],
      "source": [
        "a = np.array([[0.0, 1.0], [-1.0, 0.0]])\n",
        "a"
      ]
    },
    {
      "cell_type": "code",
      "execution_count": null,
      "id": "animal-newport",
      "metadata": {
        "id": "animal-newport",
        "outputId": "0d06a672-65be-42b9-c869-4a316efea994"
      },
      "outputs": [
        {
          "data": {
            "text/plain": [
              "((2, 2), 2, 4)"
            ]
          },
          "execution_count": 41,
          "metadata": {},
          "output_type": "execute_result"
        }
      ],
      "source": [
        "a.shape, len(a), a.size"
      ]
    },
    {
      "cell_type": "code",
      "execution_count": null,
      "id": "global-registrar",
      "metadata": {
        "id": "global-registrar",
        "outputId": "165fb471-72c4-4e67-81bf-6e6d1400fe9a"
      },
      "outputs": [
        {
          "data": {
            "text/plain": [
              "array([ 0.,  1., -1.,  0.])"
            ]
          },
          "execution_count": 42,
          "metadata": {},
          "output_type": "execute_result"
        }
      ],
      "source": [
        "a.ravel()"
      ]
    },
    {
      "cell_type": "code",
      "execution_count": null,
      "id": "nuclear-january",
      "metadata": {
        "id": "nuclear-january",
        "outputId": "ca3b727a-0aed-41ea-ba4c-b60e72546350"
      },
      "outputs": [
        {
          "data": {
            "text/plain": [
              "array([[1., 2.],\n",
              "       [0., 1.]])"
            ]
          },
          "execution_count": 43,
          "metadata": {},
          "output_type": "execute_result"
        }
      ],
      "source": [
        "a + 1"
      ]
    },
    {
      "cell_type": "code",
      "execution_count": null,
      "id": "circular-flower",
      "metadata": {
        "id": "circular-flower",
        "outputId": "9f7e9282-1db0-49f3-bebc-9569efb8d6a7"
      },
      "outputs": [
        {
          "data": {
            "text/plain": [
              "array([[ 0. ,  0.5],\n",
              "       [-0.5,  0. ]])"
            ]
          },
          "execution_count": 44,
          "metadata": {},
          "output_type": "execute_result"
        }
      ],
      "source": [
        "a / 2"
      ]
    },
    {
      "cell_type": "markdown",
      "id": "realistic-computer",
      "metadata": {
        "id": "realistic-computer"
      },
      "source": [
        "### 2.2 Работа с матрицами"
      ]
    },
    {
      "cell_type": "code",
      "execution_count": null,
      "id": "collectible-navigation",
      "metadata": {
        "id": "collectible-navigation",
        "outputId": "c0e90c58-fba0-4b61-cabd-0f4c03fe3c1b"
      },
      "outputs": [
        {
          "data": {
            "text/plain": [
              "(array([[-3,  4],\n",
              "        [ 4,  3]]),\n",
              " array([[2, 1],\n",
              "        [1, 2]]))"
            ]
          },
          "execution_count": 45,
          "metadata": {},
          "output_type": "execute_result"
        }
      ],
      "source": [
        "a = np.array([[-3, 4], [4, 3]])\n",
        "b = np.array([[2, 1], [1, 2]])\n",
        "a, b"
      ]
    },
    {
      "cell_type": "code",
      "execution_count": null,
      "id": "theoretical-african",
      "metadata": {
        "id": "theoretical-african",
        "outputId": "9909b584-a9cf-4912-a748-8aa558d461b9"
      },
      "outputs": [
        {
          "data": {
            "text/plain": [
              "array([[-6,  4],\n",
              "       [ 4,  6]])"
            ]
          },
          "execution_count": 46,
          "metadata": {},
          "output_type": "execute_result"
        }
      ],
      "source": [
        "# поэлементное умножение\n",
        "a * b"
      ]
    },
    {
      "cell_type": "code",
      "execution_count": null,
      "id": "applied-school",
      "metadata": {
        "id": "applied-school",
        "outputId": "7a0206e0-2337-4ff6-9fb7-e748c6fdd935"
      },
      "outputs": [
        {
          "data": {
            "text/plain": [
              "array([[-2,  5],\n",
              "       [11, 10]])"
            ]
          },
          "execution_count": 47,
          "metadata": {},
          "output_type": "execute_result"
        }
      ],
      "source": [
        "# умножение матриц\n",
        "a @ b"
      ]
    },
    {
      "cell_type": "code",
      "execution_count": null,
      "id": "protective-identity",
      "metadata": {
        "id": "protective-identity",
        "outputId": "92cd8442-dbfc-4470-cb4f-478d75a2070c"
      },
      "outputs": [
        {
          "data": {
            "text/plain": [
              "array([[-2,  5],\n",
              "       [11, 10]])"
            ]
          },
          "execution_count": 48,
          "metadata": {},
          "output_type": "execute_result"
        }
      ],
      "source": [
        "a.dot(b)"
      ]
    },
    {
      "cell_type": "markdown",
      "id": "disabled-namibia",
      "metadata": {
        "id": "disabled-namibia"
      },
      "source": [
        "### 3. Тензоры"
      ]
    },
    {
      "cell_type": "code",
      "execution_count": null,
      "id": "fifteen-rogers",
      "metadata": {
        "id": "fifteen-rogers",
        "outputId": "8f0b9d42-248b-40ca-d27a-ea86906e449f"
      },
      "outputs": [
        {
          "data": {
            "text/plain": [
              "array([[[ 0,  1,  2,  3],\n",
              "        [ 4,  5,  6,  7],\n",
              "        [ 8,  9, 10, 11]],\n",
              "\n",
              "       [[12, 13, 14, 15],\n",
              "        [16, 17, 18, 19],\n",
              "        [20, 21, 22, 23]]])"
            ]
          },
          "execution_count": 55,
          "metadata": {},
          "output_type": "execute_result"
        }
      ],
      "source": [
        "x = np.arange(24).reshape(2, 3, 4)\n",
        "x"
      ]
    },
    {
      "cell_type": "code",
      "execution_count": null,
      "id": "incorporated-forestry",
      "metadata": {
        "id": "incorporated-forestry",
        "outputId": "f826ccf4-b1e4-4c47-b001-93a69f4928e1"
      },
      "outputs": [
        {
          "data": {
            "text/plain": [
              "(2, 3, 4)"
            ]
          },
          "execution_count": 56,
          "metadata": {},
          "output_type": "execute_result"
        }
      ],
      "source": [
        "x.shape"
      ]
    },
    {
      "cell_type": "markdown",
      "id": "breathing-insertion",
      "metadata": {
        "id": "breathing-insertion"
      },
      "source": [
        "### 4. Линейная алгебра"
      ]
    },
    {
      "cell_type": "code",
      "execution_count": null,
      "id": "demographic-bunch",
      "metadata": {
        "id": "demographic-bunch",
        "outputId": "4fc3c775-3b9a-4135-bc12-db5faf680906",
        "colab": {
          "base_uri": "https://localhost:8080/",
          "height": 181
        }
      },
      "outputs": [
        {
          "output_type": "error",
          "ename": "NameError",
          "evalue": "ignored",
          "traceback": [
            "\u001b[0;31m---------------------------------------------------------------------------\u001b[0m",
            "\u001b[0;31mNameError\u001b[0m                                 Traceback (most recent call last)",
            "\u001b[0;32m<ipython-input-1-72861ba9343b>\u001b[0m in \u001b[0;36m<module>\u001b[0;34m\u001b[0m\n\u001b[0;32m----> 1\u001b[0;31m \u001b[0ma\u001b[0m \u001b[0;34m=\u001b[0m \u001b[0mnp\u001b[0m\u001b[0;34m.\u001b[0m\u001b[0marray\u001b[0m\u001b[0;34m(\u001b[0m\u001b[0;34m[\u001b[0m\u001b[0;34m[\u001b[0m\u001b[0;36m0\u001b[0m\u001b[0;34m,\u001b[0m \u001b[0;36m1\u001b[0m\u001b[0;34m]\u001b[0m\u001b[0;34m,\u001b[0m \u001b[0;34m[\u001b[0m\u001b[0;36m2\u001b[0m\u001b[0;34m,\u001b[0m \u001b[0;36m3\u001b[0m\u001b[0;34m]\u001b[0m\u001b[0;34m]\u001b[0m\u001b[0;34m)\u001b[0m\u001b[0;34m\u001b[0m\u001b[0;34m\u001b[0m\u001b[0m\n\u001b[0m\u001b[1;32m      2\u001b[0m \u001b[0ma\u001b[0m\u001b[0;34m\u001b[0m\u001b[0;34m\u001b[0m\u001b[0m\n",
            "\u001b[0;31mNameError\u001b[0m: name 'np' is not defined"
          ]
        }
      ],
      "source": [
        "a = np.array([[0, 1], [2, 3]])\n",
        "a"
      ]
    },
    {
      "cell_type": "code",
      "execution_count": null,
      "id": "bright-agreement",
      "metadata": {
        "id": "bright-agreement"
      },
      "outputs": [],
      "source": [
        "# определитель матрицы\n",
        "np.linalg.det(a)"
      ]
    },
    {
      "cell_type": "code",
      "execution_count": null,
      "id": "sporting-surgery",
      "metadata": {
        "id": "sporting-surgery"
      },
      "outputs": [],
      "source": [
        "# обратная матрица\n",
        "np.linalg.inv(a)"
      ]
    },
    {
      "cell_type": "code",
      "execution_count": null,
      "id": "adaptive-penguin",
      "metadata": {
        "id": "adaptive-penguin"
      },
      "outputs": [],
      "source": [
        "# собственные значения\n",
        "np.linalg.eig(a)"
      ]
    }
  ],
  "metadata": {
    "kernelspec": {
      "display_name": "Python 3",
      "language": "python",
      "name": "python3"
    },
    "language_info": {
      "codemirror_mode": {
        "name": "ipython",
        "version": 3
      },
      "file_extension": ".py",
      "mimetype": "text/x-python",
      "name": "python",
      "nbconvert_exporter": "python",
      "pygments_lexer": "ipython3",
      "version": "3.8.3"
    },
    "colab": {
      "provenance": []
    }
  },
  "nbformat": 4,
  "nbformat_minor": 5
}