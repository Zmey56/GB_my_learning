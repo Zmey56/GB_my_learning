{
  "cells": [
    {
      "cell_type": "markdown",
      "id": "designed-lucas",
      "metadata": {
        "id": "designed-lucas"
      },
      "source": [
        "### Pandas\n",
        "\n",
        "* Скачайте любой табличный датасет (можете использовать тот же, что и в дз к занятию \"Знакомство с библиотеками\"), например, с https://www.kaggle.com/datasets\n",
        "* Проведите поноценный EDA \n",
        "    * \"погрузитесь\" в данные\n",
        "    * составьте описание измерений из датасета\n",
        "    * очистите данные, если это необходимо\n",
        "    * попробуйте создать дополнительные переменные, которые могут помочь лучше понять данные"
      ]
    },
    {
      "cell_type": "markdown",
      "id": "nearby-array",
      "metadata": {
        "id": "nearby-array"
      },
      "source": [
        "### Numpy"
      ]
    },
    {
      "cell_type": "code",
      "execution_count": null,
      "id": "eligible-finding",
      "metadata": {
        "id": "eligible-finding"
      },
      "outputs": [],
      "source": []
    },
    {
      "cell_type": "markdown",
      "id": "durable-freeware",
      "metadata": {
        "id": "durable-freeware"
      },
      "source": [
        "1. Вычислите A + B, A - B\n",
        " \n",
        " $\\\\\n",
        "A = \\left(\n",
        "\\begin{array}{cccc}\n",
        "1 & -2 & 4\\\\\n",
        "2 & 0 & -1\\\\\n",
        "\\end{array}\n",
        "\\right), B = \\left(\n",
        "\\begin{array}{cccc}\n",
        "5 & 2 & 3\\\\\n",
        "4 & 6 & 2\\\\\n",
        "\\end{array}\n",
        "\\right)$"
      ]
    },
    {
      "cell_type": "markdown",
      "id": "certified-andrew",
      "metadata": {
        "id": "certified-andrew"
      },
      "source": [
        "2. Найдите матрицу С = A - 3B\n",
        " \n",
        " $\\\\\n",
        "A = \\left(\n",
        "\\begin{array}{cccc}\n",
        "1 & 2 \\\\\n",
        "2 & -1\\\\\n",
        "3 & 0\\\\\n",
        "\\end{array}\n",
        "\\right), B = \\left(\n",
        "\\begin{array}{cccc}\n",
        "-1 & 1 \\\\\n",
        "1 & 2\\\\\n",
        "0 & 0\\\\\n",
        "\\end{array}\n",
        "\\right)$"
      ]
    },
    {
      "cell_type": "markdown",
      "id": "motivated-mason",
      "metadata": {
        "id": "motivated-mason"
      },
      "source": [
        "3. Вычислите С = AB\n",
        " \n",
        " $\\\\\n",
        "A = \\left(\n",
        "\\begin{array}{cccc}\n",
        "1 & -1 \\\\\n",
        "2 & 0\\\\\n",
        "3 & 0\\\\\n",
        "\\end{array}\n",
        "\\right), B = \\left(\n",
        "\\begin{array}{cccc}\n",
        "1 & 1 \\\\\n",
        "2 & 0\\\\\n",
        "\\end{array}\n",
        "\\right)$"
      ]
    },
    {
      "cell_type": "markdown",
      "id": "chemical-thomson",
      "metadata": {
        "id": "chemical-thomson"
      },
      "source": [
        "4. Вычислите определитель матрицы А\n",
        " \n",
        " $\\\\\n",
        "A = \\left(\n",
        "\\begin{array}{cccc}\n",
        "6 & -1 & 4\\\\\n",
        "2 & 1 & 10\\\\\n",
        "8 & 0 & 2\\\\\n",
        "\\end{array}\n",
        "\\right)$"
      ]
    },
    {
      "cell_type": "markdown",
      "id": "unlimited-throw",
      "metadata": {
        "id": "unlimited-throw"
      },
      "source": [
        "5. Вычислите матрицу, обратную матрице А. И покажите, что она действительно является обратной\n",
        " \n",
        " $\\\\\n",
        "A = \\left(\n",
        "\\begin{array}{cccc}\n",
        "3 & 3 & -1\\\\\n",
        "4 & 1 & 3\\\\\n",
        "1 & -2 & -2\\\\\n",
        "\\end{array}\n",
        "\\right)$"
      ]
    },
    {
      "cell_type": "code",
      "execution_count": null,
      "id": "about-national",
      "metadata": {
        "id": "about-national"
      },
      "outputs": [],
      "source": []
    }
  ],
  "metadata": {
    "kernelspec": {
      "display_name": "Python 3",
      "language": "python",
      "name": "python3"
    },
    "language_info": {
      "codemirror_mode": {
        "name": "ipython",
        "version": 3
      },
      "file_extension": ".py",
      "mimetype": "text/x-python",
      "name": "python",
      "nbconvert_exporter": "python",
      "pygments_lexer": "ipython3",
      "version": "3.8.3"
    },
    "colab": {
      "provenance": []
    }
  },
  "nbformat": 4,
  "nbformat_minor": 5
}