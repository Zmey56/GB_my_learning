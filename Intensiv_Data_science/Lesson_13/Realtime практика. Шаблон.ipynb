{
 "cells": [
  {
   "cell_type": "markdown",
   "id": "connected-maria",
   "metadata": {},
   "source": [
    "<b>Чтобы вам было комфортно писать код параллельно ходу занятия, проверьте, что у вас установлены нужные зависимости (ячейки ниже успешно запускаются). Установите библиотеки, если их вдруг еще нет. \n",
    "    \n",
    "Если что-то не успели, пропустили или запутались, не переживайте и просто откройте уже готовый файл \"Практика. Визуализация данных. Matplotlib, Seaborn, Plotly\" и найдите пропущенную часть</b>"
   ]
  },
  {
   "cell_type": "code",
   "execution_count": 3,
   "id": "toxic-frederick",
   "metadata": {},
   "outputs": [],
   "source": [
    "import pandas as pd\n",
    "\n",
    "import seaborn as sns\n",
    "import matplotlib.pyplot as plt"
   ]
  },
  {
   "cell_type": "markdown",
   "id": "public-salem",
   "metadata": {},
   "source": [
    "## Seaborn"
   ]
  },
  {
   "cell_type": "markdown",
   "id": "specific-suffering",
   "metadata": {},
   "source": [
    "## Matplotlib"
   ]
  },
  {
   "cell_type": "markdown",
   "id": "separated-discipline",
   "metadata": {},
   "source": [
    "## Plotly"
   ]
  },
  {
   "cell_type": "code",
   "execution_count": 4,
   "id": "annoying-spending",
   "metadata": {},
   "outputs": [],
   "source": [
    "import plotly.express as px"
   ]
  },
  {
   "cell_type": "code",
   "execution_count": null,
   "id": "broad-acoustic",
   "metadata": {},
   "outputs": [],
   "source": []
  },
  {
   "cell_type": "code",
   "execution_count": null,
   "id": "dominant-updating",
   "metadata": {},
   "outputs": [],
   "source": []
  }
 ],
 "metadata": {
  "kernelspec": {
   "display_name": "Python 3",
   "language": "python",
   "name": "python3"
  },
  "language_info": {
   "codemirror_mode": {
    "name": "ipython",
    "version": 3
   },
   "file_extension": ".py",
   "mimetype": "text/x-python",
   "name": "python",
   "nbconvert_exporter": "python",
   "pygments_lexer": "ipython3",
   "version": "3.8.3"
  }
 },
 "nbformat": 4,
 "nbformat_minor": 5
}
