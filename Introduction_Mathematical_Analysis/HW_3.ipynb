{
  "nbformat": 4,
  "nbformat_minor": 0,
  "metadata": {
    "colab": {
      "name": "HW_3.ipynb",
      "provenance": []
    },
    "kernelspec": {
      "name": "python3",
      "display_name": "Python 3"
    },
    "language_info": {
      "name": "python"
    }
  },
  "cells": [
    {
      "cell_type": "markdown",
      "source": [
        "1. Предложить пример функции, не имеющей предела в нуле и в бесконечностях."
      ],
      "metadata": {
        "id": "lF8KXW2byU3r"
      }
    },
    {
      "cell_type": "markdown",
      "source": [
        "$f(x) = sin(\\frac{1}{x})$"
      ],
      "metadata": {
        "id": "Guecef2Iy-1c"
      }
    },
    {
      "cell_type": "markdown",
      "source": [
        "2. Привести пример функции, не имеющей предела в точке, но определенной в ней.\n",
        "\n",
        "$f(x) = sin(x)$"
      ],
      "metadata": {
        "id": "8lqohkmbziIu"
      }
    },
    {
      "cell_type": "markdown",
      "source": [
        "3. Исследовать функцию $f(x) = x^3 - x^2$  по плану:\n",
        "* Область задания и область значений. - $(-∞;∞)$\n",
        "* Нули функции и их кратность. - $x = 0 (кратность\\; 2)$ и $x = 1 (кратность\\; 1)$\n",
        "* Отрезки знакопостоянства. $(-∞; 0)(0;1)(1;∞)$\n",
        "* Интервалы монотонности.$(-∞; 0)(0;\\frac{2}{3})(\\frac{2}{3};∞)$\n",
        "* Четность функции. $ни\\; чётная,\\; ни\\; нечётная$\n",
        "* Ограниченность.$функция\\; не\\; ограничена.$\n",
        "* Периодичность.$не\\; периодична$\n"
      ],
      "metadata": {
        "id": "J7WFP8213GMj"
      }
    },
    {
      "cell_type": "markdown",
      "source": [
        "4. Найти предел:\n",
        "$$ \\lim_{x\\to0} \\frac{3x^3-2x^2}{4x^2} = \\frac{2x^2(\\frac{3}{2}x-1)}{4x^2} = \\frac{1}{2}(\\frac{3}{2}*0 - 1) = -\\frac{1}{2} $$"
      ],
      "metadata": {
        "id": "0Q446yjs6xZ9"
      }
    },
    {
      "cell_type": "markdown",
      "source": [
        "### Тема “Теоремы о пределах”\n",
        "\n",
        "$$ \\lim_{x\\to0} \\frac{sin(2x)}{4x} = \\frac{1}{2} $$\n",
        "\n",
        "$$ \\lim_{x\\to0} \\frac{x}{sin(x)} = 1 $$"
      ],
      "metadata": {
        "id": "wVgn_n1YAkeH"
      }
    },
    {
      "cell_type": "code",
      "execution_count": null,
      "metadata": {
        "id": "Hha48DPsxuGj"
      },
      "outputs": [],
      "source": [
        ""
      ]
    }
  ]
}