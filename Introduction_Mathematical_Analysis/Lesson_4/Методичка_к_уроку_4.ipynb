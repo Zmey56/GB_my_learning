{
  "nbformat": 4,
  "nbformat_minor": 0,
  "metadata": {
    "colab": {
      "name": "Методичка к уроку 4.ipynb",
      "provenance": [],
      "collapsed_sections": []
    },
    "kernelspec": {
      "display_name": "Python 3",
      "language": "python",
      "name": "python3"
    },
    "language_info": {
      "codemirror_mode": {
        "name": "ipython",
        "version": 3
      },
      "file_extension": ".py",
      "mimetype": "text/x-python",
      "name": "python",
      "nbconvert_exporter": "python",
      "pygments_lexer": "ipython3",
      "version": "3.8.5"
    }
  },
  "cells": [
    {
      "cell_type": "markdown",
      "metadata": {
        "id": "zz7SDkPIkVlM"
      },
      "source": [
        "# Урок 4"
      ]
    },
    {
      "cell_type": "markdown",
      "metadata": {
        "id": "p_3vqG5-kVlP"
      },
      "source": [
        "# Функция. Предел функции"
      ]
    },
    {
      "cell_type": "markdown",
      "metadata": {
        "id": "wOOKv112RLY2"
      },
      "source": [
        "### Определение\n",
        "\n",
        "Функция (отображение) — соответствие между элементами двух множеств, установленное по такому правилу.\n",
        "\n",
        "Представим, что у нас есть два множества $X$ и $Y$ и некая функция $f$ перевода элементов первого множества во второе\n",
        "\n",
        "Математически это можно описать так:\n",
        "\n",
        "### $$f: X \\to Y$$\n",
        "\n",
        "Читается как отображение $f$ множества $X$ в множество $Y$.\n",
        "\n",
        "<img src=\"https://i.ibb.co/J2bG2v0/4-1.png\"  width = 500/>\n",
        "\n",
        "В нашем случае эти множества будут числовые поэтому запись можно представить  в более знакомом виде:\n",
        "\n",
        "### $$(x\\in X, y\\in Y, f: X \\to Y): (f(x)=y)$$\n",
        "\n",
        "По рисунку выше видно, что отображение может происходить с определёнными свойствами"
      ]
    },
    {
      "cell_type": "markdown",
      "metadata": {
        "id": "vp2ziPFrRLY5"
      },
      "source": [
        "### Инъекция\n",
        "\n",
        "Это отображение $f$ множества $X$ в множество $Y (f\\colon X\\to Y)$, при котором разные элементы множества $X$ переводятся в разные элементы множества $Y$, то есть, если два образа при отображении совпадают, то и прообразы совпадают: \n",
        "### $$f(x_1)=f(x_2) \\Rightarrow x_1=x_2$$\n",
        "\n",
        "<img src=\"https://i.ibb.co/Ld5K8Rh/4-2.png\"  width = 500/>\n",
        "<img src=\"https://i.ibb.co/3CMDbvx/4-3.png\"  width = 500/>"
      ]
    },
    {
      "cell_type": "markdown",
      "metadata": {
        "id": "BwcHRg55RLY7"
      },
      "source": [
        "### Сюръекция\n",
        "\n",
        "Это отображение множества $X$ на множество $Y (f\\colon X\\to Y)$, при котором каждый элемент множества $Y$ является образом хотя бы одного элемента множества $X$, то есть\n",
        "\n",
        "### $$\\forall y\\in Y\\;\\exists x\\in X:y=f(x)$$\n",
        "\n",
        "иными словами — функция, принимающая все возможные значения.\n",
        "\n",
        "<img src=\"https://i.ibb.co/FV4VK9W/4-4.png\"  width = 500/>\n",
        "<img src=\"https://i.ibb.co/CBZxDk2/4-5.png\"  width = 500/>"
      ]
    },
    {
      "cell_type": "markdown",
      "metadata": {
        "id": "yxagf8HdRLY9"
      },
      "source": [
        "### Биекция\n",
        "\n",
        "Это отображение, которое является одновременно и сюръективным, и инъективным. \n",
        "\n",
        "<img src=\"https://i.ibb.co/W2sspZs/4-6.png\"  width = 500/>\n",
        "<img src=\"https://i.ibb.co/5ngPSWR/4-7.png\"  width = 500/>"
      ]
    },
    {
      "cell_type": "markdown",
      "metadata": {
        "id": "mJMGvfjNRLY-"
      },
      "source": [
        "### Способы задания функций\n",
        "\n",
        "Рассмотрим основные способы задания числовой функции:\n",
        "\n",
        "- явный.\n",
        "- неявный.\n",
        "- параметрический.\n",
        "- дискретный.\n",
        "- графический.\n",
        "\n",
        "При этом стоит отметить, что смысл функции не изменяется от способа её задания. А лишь является удобством или необходимостью. \n",
        "\n",
        "В качестве примера возьмем явную функцию - уравнение прямой $y=2x-3$ и представим её различными способами. \n",
        "\n",
        "- явный. \n",
        "### $$y=2x-3$$\n",
        "- неявный.\n",
        "### $$y-2x+3=0$$\n",
        "- параметрический.\n",
        "### $$\\begin{cases}\n",
        "   x=t, \\\\\n",
        "   \\\\\n",
        "   y=2t-3\n",
        " \\end{cases}$$\n",
        "- дискретный.\n",
        "### $$(0, −3); (1, −1); (2,1 ); (3,3)$$\n",
        "\n",
        "- графический."
      ]
    },
    {
      "cell_type": "code",
      "metadata": {
        "id": "sWhvxX7jRLZA",
        "outputId": "e2518714-7e7f-4be8-e3c0-c5d3d39913f0"
      },
      "source": [
        "from matplotlib import pylab as plt\n",
        "import numpy as np\n",
        "%matplotlib inline\n",
        "\n",
        "plt.figure(figsize=(6,6))\n",
        "plt.axis([-3, 5, -4, 4])\n",
        "\n",
        "x=np.linspace(-5, 7, 200)\n",
        "y=2*x-3\n",
        "plt.plot(x,y, c='b')\n",
        "plt.show()"
      ],
      "execution_count": null,
      "outputs": [
        {
          "output_type": "display_data",
          "data": {
            "image/png": "[encoded data removed]",
            "text/plain": [
              "<Figure size 432x432 with 1 Axes>"
            ]
          },
          "metadata": {
            "tags": [],
            "needs_background": "light"
          }
        }
      ]
    },
    {
      "cell_type": "markdown",
      "metadata": {
        "id": "q7cmv2kKRLZL"
      },
      "source": [
        "### Классы функций\n",
        "\n",
        "Так же обычно вводят два класса функций:\n",
        "    \n",
        "- элементарные;\n",
        "\n",
        "- неэлементарные (специальные).\n",
        "\n",
        "Почти все элементарные функции проходят в школьном курсе:\n",
        "\n",
        "### $$x^n$$\n",
        "\n",
        "### $$\\sqrt[n] x$$\n",
        "\n",
        "### $$\\sin x$$\n",
        "\n",
        "### $$\\ln x$$\n",
        "\n",
        "Любые их комбинации являются уже неэлементарными\n",
        "\n",
        "\n",
        "### $$y= \\mbox{tg}^2 x$$\n",
        "\n",
        "### $$g=\\cos x^3$$\n",
        "\n",
        "Эти классы нам пригодятся при изучении производных, но так же хотелось отметить написание элементарных функций. __Все элементарные функции пишутся обычными символами. Константы, переменные или и названия неэлементарных функций курсивом.__\n",
        "\n",
        "### $$y= f(x)$$\n",
        "\n",
        "### $$F(x, y)=0$$\n",
        "\n",
        "### $$y= \\sin x+ \\ln x$$\n",
        "\n",
        "### $$\\lim_{x\\to +\\infty} \\Bigr(1+\\frac{1}{x}\\Bigl)^x=e$$"
      ]
    },
    {
      "cell_type": "markdown",
      "metadata": {
        "id": "2v1wJqKuRLZM"
      },
      "source": [
        "### Замечание\n",
        "\n",
        "Сразу отметим, что в математике много греческих символов. Обычно их делят на созвучные \n",
        "\n",
        "Обычно для функций\n",
        "\n",
        "### $$\\mbox{Фи:}\\,\\,\\,\\,\\varphi, \\,\\,\\mbox{заглавная}\\,\\,\\varPhi$$\n",
        "### $$\\mbox{Пси:}\\,\\,\\,\\,\\psi, \\,\\,\\mbox{заглавная}\\,\\,\\varPsi$$\n",
        "### $$\\mbox{Кси:}\\,\\,\\,\\,\\xi, \\,\\,\\mbox{заглавная}\\,\\,\\varXi$$\n",
        "\n",
        "Обычно для переменных\n",
        "\n",
        "### $$\\mbox{Дзета:}\\,\\,\\,\\,\\zeta, \\,\\,\\mbox{заглавная}\\,\\,Z$$\n",
        "### $$\\mbox{Эта:}\\,\\,\\,\\,\\eta, \\,\\,\\mbox{заглавная}\\,\\,H$$\n",
        "### $$\\mbox{Тета:}\\,\\,\\,\\,\\theta, \\,\\,\\mbox{заглавная}\\,\\,\\Theta$$\n",
        "\n",
        "Или\n",
        "\n",
        "### $$\\mbox{Альфа:}\\,\\,\\,\\,\\alpha, \\,\\,\\mbox{заглавная}\\,\\,A$$\n",
        "### $$\\mbox{Бета:}\\,\\,\\,\\,\\beta, \\,\\,\\mbox{заглавная}\\,\\,B$$\n",
        "\n",
        "Для погрешности\n",
        "### $$\\mbox{Эпсилон:}\\,\\,\\,\\,\\varepsilon, \\,\\,\\mbox{заглавная}\\,\\,E$$\n",
        "### $$\\mbox{Дельта:}\\,\\,\\,\\,\\delta, \\,\\,\\mbox{заглавная}\\,\\,\\Delta$$"
      ]
    },
    {
      "cell_type": "markdown",
      "metadata": {
        "id": "UiHM1a2nRLZN"
      },
      "source": [
        "### Предел функции\n",
        "\n",
        "### $$\\lim_{x\\to x_0} f(x)=A$$\n",
        "\n",
        "### Определение\n",
        "\n",
        "\n",
        "Для любого $\\varepsilon>0$ существует $\\delta(\\varepsilon)$, такая\n",
        "что, для любого $x$ из $\\delta(\\varepsilon)$ окресности верно неравенство $|f(x)-A|<\\varepsilon$.\n",
        "\n",
        "### $$\\forall\\varepsilon>0\\,\\,\\,\\exists \\delta(\\varepsilon), \\,\\,\\,\\forall x\\,\\,\\, |x-x_0|<\\delta:|f(x)-A|<\\varepsilon$$\n",
        "\n",
        "\n",
        "Благодаря  немецкому математику Эдуарду Гейне предел функции можно выразить через предел последовательности\n",
        "\n",
        "### определение по Гейне\n",
        "\n",
        "Значение $A$ называется пределом функции $f(x)$ в точке $x_{0}$, если для любой последовательности точек $\\Bigr\\{ x_n \\Bigl\\}_{n=1}^{\\infty}$, сходящейся к $x_{0}$, но не содержащей $x_{0}$ в качестве одного из своих элементов, последовательность значений функции $\\Bigr\\{f(x_n)\\Bigl\\}_{n=1}^{\\infty}$ сходится к $A$.\n",
        "\n",
        "Поэтому не будет останавливаться на теории и приступим к практике"
      ]
    },
    {
      "cell_type": "markdown",
      "metadata": {
        "id": "r8tqk8aFRLZO"
      },
      "source": [
        "### Примеры аналитических вычислений предела функции\n",
        "\n",
        "1. \n",
        "### $$\\lim_{x\\to \\infty} \\frac{x^2-1}{2x^2-x-1}=\\Bigl(\\frac{\\infty}{\\infty}\\Bigr)$$\n",
        "\n",
        "Данный пример ничем не отличается изученных на предыдущем уроке\n",
        "\n",
        "### $$\\lim_{x\\to \\infty} \\frac{x^2-1}{2x^2-x-1}=\\Bigl(\\frac{\\infty}{\\infty}\\Bigr)=\\frac{1}{2}$$"
      ]
    },
    {
      "cell_type": "markdown",
      "metadata": {
        "id": "KgDcmY4VRLZP"
      },
      "source": [
        "2. \n",
        "### $$\\lim_{x\\to 0} \\frac{x^2-1}{2x^2-x-1}=\\Bigl(\\frac{-1}{-1}\\Bigr)$$\n",
        "\n",
        "Та же самая функция, только теперь $x\\to 0$. При проверке никакой неопределённости нет. Предел функции совпадает со значением функции в точке $x=0$\n",
        "\n",
        "### $$\\lim_{x\\to 0} \\frac{x^2-1}{2x^2-x-1}=\\Bigl(\\frac{-1}{-1}\\Bigr)=1$$"
      ]
    },
    {
      "cell_type": "markdown",
      "metadata": {
        "id": "22pktCG7RLZQ"
      },
      "source": [
        "3. \n",
        "### $$\\lim_{x\\to 1} \\frac{x^2-1}{2x^2-x-1}=\\Bigl(\\frac{0}{0}\\Bigr)$$\n",
        "\n",
        "Та же самая функция, только теперь $x\\to 1$. При проверки получаем новый тип неопределенности $\\Bigl(\\frac{0}{0}\\Bigr)$. В данном примере это говори о том, что $x=1$ является корнем многочлена в и числителе, и знаменателе. Значит этот корень можно изъять и сократить по крайней мере один раз\n",
        "\n",
        "### $$\\lim_{x\\to 1} \\frac{x^2-1}{2x^2-x-1}=\\Bigl(\\frac{0}{0}\\Bigr)=\\lim_{x\\to 1} \\frac{(x-1)(x+1)}{(x-1)(2x+1)}=$$\n",
        "### $$=\\lim_{x\\to 1} \\frac{x+1}{2x+1}=\\frac{1+1}{2+1}=\\frac{2}{3}$$"
      ]
    },
    {
      "cell_type": "markdown",
      "metadata": {
        "id": "EYuklPCaRLZT"
      },
      "source": [
        "#### Закрепим материал, который мы прошли на предыдущем  уроке\n",
        "4. \n",
        "### $$\\lim_{x\\to \\infty} \\frac{(x-1)(x-2)(x-3)(x-4)(x-5)}{(2x-1)^5}=\\Bigl(\\frac{\\infty}{\\infty}\\Bigr)=\\,\\, ?$$\n",
        "5. \n",
        "### $$\\lim_{x\\to \\infty} \\frac{\\sqrt{x+\\sqrt{x+\\sqrt{x}}}}{\\sqrt{2x+1}}=\\Bigl(\\frac{\\infty}{\\infty}\\Bigr)=\\,\\, ?$$\n",
        "\n",
        "Ответ \n",
        "\n",
        "4. \n",
        "### $$\\lim_{x\\to \\infty} \\frac{(x-1)(x-2)(x-3)(x-4)(x-5)}{(2x-1)^5}=\\Bigl(\\frac{\\infty}{\\infty}\\Bigr)=$$\n",
        "### $$=\\frac{1}{2^5}=\\frac{1}{32}$$\n",
        "\n",
        "5. \n",
        "### $$\\lim_{x\\to \\infty} \\frac{\\sqrt{x+\\sqrt{x+\\sqrt{x}}}}{\\sqrt{2x+1}}=\\Bigl(\\frac{\\infty}{\\infty}\\Bigr)=$$\n",
        "### $$=\\frac{1}{\\sqrt2}=\\frac{1}{\\sqrt2}\\cdot\\frac{\\sqrt2}{\\sqrt2}=\\frac{\\sqrt2}{2}$$"
      ]
    },
    {
      "cell_type": "markdown",
      "metadata": {
        "id": "4_Q16-m5RLZV"
      },
      "source": [
        "6. \n",
        "### $$\\lim_{x\\to 3} \\frac{x^2-5x+6}{x^2-8x+15}=\\Bigl(\\frac{0}{0}\\Bigr)$$\n",
        "\n",
        "Раз получилось $\\Bigl(\\frac{0}{0}\\Bigr)$, то $x=3$ является корнем многочлена в и числителе, и знаменателя.\n",
        "\n",
        "### $$\\lim_{x\\to 3} \\frac{x^2-5x+6}{x^2-8x+15}=\\Bigl(\\frac{0}{0}\\Bigr)=\\lim_{x\\to 3} \\frac{(x-3)(x-2)}{(x-3)(x-5)}=$$\n",
        "\n",
        "### $$=\\lim_{x\\to 3} \\frac{x-2}{x-5}=\\frac{1}{-2}=-\\frac{1}{2}$$"
      ]
    },
    {
      "cell_type": "markdown",
      "metadata": {
        "id": "faE-uB1URLZW"
      },
      "source": [
        "7. \n",
        "### $$\\lim_{x\\to 1} \\frac{x^3-3x+2}{x^4-4x+3}=\\Bigl(\\frac{0}{0}\\Bigr)$$\n",
        "\n",
        "Раз получилось $\\Bigl(\\frac{0}{0}\\Bigr)$, то $x=1$ является корнем многочлена в и числителе, и знаменателя. Многочлены можно получить обычным делением столбиком или по схеме Горнера.\n",
        "\n",
        "### $$\\lim_{x\\to 1} \\frac{x^3-3x+2}{x^4-4x+3}=\\Bigl(\\frac{0}{0}\\Bigr)=$$\n",
        "### $$\\lim_{x\\to 1} \\frac{(x-1)(x^2+x-2)}{(x-1)(x^3+x^2+x-3)}=$$\n",
        "### $$=\\lim_{x\\to 1} \\frac{x^2+x-2}{x^3+x^2+x-3}=\\Bigl(\\frac{0}{0}\\Bigr)$$\n",
        "\n",
        "В этом примере после сокращения и повторной подстановки $x=1$, мы опять наблюдаем неопределенность вида $\\Bigl(\\frac{0}{0}\\Bigr)$. Это гооврит о том, что операцию следует повторить.\n",
        "\n",
        "### $$\\lim_{x\\to 1} \\frac{x^2+x-2}{x^3+x^2+x-3}=\\Bigl(\\frac{0}{0}\\Bigr)=\\lim_{x\\to 1} \\frac{(x-1)(x+2)}{(x-1)(x^2+2x+3)}=$$\n",
        "\n",
        "### $$=\\lim_{x\\to 1} \\frac{x+2}{x^2+2x+3}=\\frac{1+2}{1+2+3}=\\frac{3}{6}=\\frac{1}{2}$$"
      ]
    },
    {
      "cell_type": "markdown",
      "metadata": {
        "id": "x_Er44jxRLZY"
      },
      "source": [
        "8. \n",
        "### $$\\lim_{x\\to 4} \\frac{\\sqrt{1+2x}-3}{\\sqrt{x}-2}=\\Bigl(\\frac{0}{0}\\Bigr)$$\n",
        "\n",
        "В этом примере при $x=3$ мы так же наблюдаем неопределенность вида $\\Bigl(\\frac{0}{0}\\Bigr)$. Но сократить корни мешает иррациональность в числителе и знаменателе. В таком виде нам достаточно поделить и умножить на сопряженное.\n",
        "\n",
        "### $$\\lim_{x\\to 4} \\frac{\\sqrt{1+2x}-3}{\\sqrt{x}-2}=\\Bigl(\\frac{0}{0}\\Bigr)=$$\n",
        "\n",
        "### $$=\\lim_{x\\to 4} \\frac{\\sqrt{1+2x}-3}{\\sqrt{x}-2}\\cdot\\frac{\\sqrt{1+2x}+3}{\\sqrt{1+2x}+3}\\cdot\\frac{\\sqrt{x}+2}{\\sqrt{x}+2}=$$\n",
        "\n",
        "### $$=\\lim_{x\\to 4} \\frac{(1+2x-9)(\\sqrt{x}+2)}{(x-4)(\\sqrt{1+2x}+3)}=$$\n",
        "\n",
        "### $$=\\lim_{x\\to 4} \\frac{2(x-4)(\\sqrt{x}+2)}{(x-4)(\\sqrt{1+2x}+3)}=\\lim_{x\\to 4} \\frac{2(\\sqrt{x}+2)}{\\sqrt{1+2x}+3}=$$\n",
        "### $$=\\frac{2(\\sqrt{4}+2)}{\\sqrt{9}+3}=\\frac{8}{6}=\\frac{4}{3}$$"
      ]
    },
    {
      "cell_type": "markdown",
      "metadata": {
        "id": "R0qvzMhgRLZa"
      },
      "source": [
        "9. \n",
        "### $$\\lim_{x\\to -8} \\frac{\\sqrt{1-x}-3}{2+\\sqrt[3]{x}}=\\Bigl(\\frac{0}{0}\\Bigr)$$\n",
        "\n",
        "Чтобы избавиться от кубического корня придется вспомнить уже формулу разности кубов\n",
        "\n",
        "### $$(a\\pm b)(a^2\\mp ab+b^2)=a^3\\pm b^3$$\n",
        "\n",
        "### $$\\lim_{x\\to -8} \\frac{\\sqrt{1-x}-3}{2+\\sqrt[3]{x}}=\\Bigl(\\frac{0}{0}\\Bigr)$$\n",
        "\n",
        "### $$=\\lim_{x\\to -8} \\frac{\\sqrt{1-x}-3}{2+\\sqrt[3]{x}}\\cdot\\frac{\\sqrt{1-x}+3}{\\sqrt{1-x}+3}\\cdot\\frac{4-2\\sqrt[3]{x}+\\sqrt[3]{x^2}}{4-2\\sqrt[3]{x}+\\sqrt[3]{x^2}}=$$\n",
        "\n",
        "### $$=\\lim_{x\\to -8} \\frac{(1-x-9)(4-2\\sqrt[3]{x}+\\sqrt[3]{x^2})}{(8+x)(\\sqrt{1-x}+3)}=$$\n",
        "\n",
        "### $$=\\lim_{x\\to -8} \\frac{-(8+x)(4-2\\sqrt[3]{x}+\\sqrt[3]{x^2})}{(8+x)(\\sqrt{1-x}+3)}=$$\n",
        "\n",
        "### $$=-\\frac{4-2\\sqrt[3]{-8}+\\sqrt[3]{(-8)^2}}{\\sqrt{1-(-8)}+3}=$$\n",
        "\n",
        "### $$=-\\frac{4+4+4}{3+3}=-2$$"
      ]
    },
    {
      "cell_type": "markdown",
      "metadata": {
        "id": "mEhxhKTYRLZc"
      },
      "source": [
        "### Первый замечательный предел\n",
        "\n",
        "### $$\\lim_{x\\to 0} \\frac{\\sin x}{x}=\\Bigl(\\frac{0}{0}\\Bigr)=1$$\n",
        "\n",
        "Че же он замечателен? \n",
        "\n",
        "При проверке мы получаем неопределенность вида $\\Bigl(\\frac{0}{0}\\Bigr)$. Значит $x=0$ является корнем и числителя, и знаменателя. Но типы функций разный. Так вот первый замечательный предел как раз связывает функции тригонометрические со степенными.\n",
        "\n",
        "#### Для удобства, в пределе $\\sin x$ можно заменить на $x$, если $x\\to 0$\n",
        "\n",
        "### $$\\lim_{x\\to 0} \\frac{\\sin x}{x}=\\lim_{x\\to 0} \\frac{x}{x}=1$$\n",
        "\n",
        "### Следствия из первого замечательного предела:\n",
        "\n",
        "10. \n",
        "### $$\\lim_{x\\to 0} \\frac{x}{\\sin x}=\\Bigl(\\frac{0}{0}\\Bigr)=1$$\n",
        "\n",
        "11. \n",
        "### $$\\lim_{x\\to 0} \\frac{\\mbox{tg}\\,x}{x}=\\Bigl(\\frac{0}{0}\\Bigr)=$$\n",
        "### $$=\\lim_{x\\to 0} \\frac{\\sin x}{x\\cos x}=\\Bigl(\\frac{0}{0}\\Bigr)=1$$\n",
        "#### Для удобства, в пределе $\\mbox{tg}\\,x$ можно заменить на $x$, если $x\\to 0$\n",
        "\n",
        "12. \n",
        "### $$\\lim_{x\\to 0} x\\,\\mbox{ctg}\\,x=\\Bigl(0\\cdot\\infty\\Bigr)=$$\n",
        "Неопределенность вида $\\Bigl(0\\cdot\\infty\\Bigr)$ и $\\Bigl(\\frac{0}{0}\\Bigr)$ являются эквивалентными\n",
        "### $$=\\lim_{x\\to 0} \\frac{x\\cos x}{\\sin x}=\\Bigl(\\frac{0}{0}\\Bigr)=1$$\n",
        "#### Для удобства, в пределе $\\mbox{ctg}\\,x$ можно заменить на $\\frac{1}{x}$, если $x\\to 0$\n",
        "\n",
        "13. \n",
        "### $$\\lim_{x\\to 0} \\frac{\\arcsin x}{x}=\\Bigl(\\frac{0}{0}\\Bigr)=1$$\n",
        "#### Для удобства, в пределе $\\arcsin x$ можно заменить на $x$, если $x\\to 0$\n",
        "\n",
        "14. \n",
        "### $$\\lim_{x\\to 0} \\frac{\\,\\mbox{arctg}\\,x}{x}=\\Bigl(\\frac{0}{0}\\Bigr)=1$$\n",
        "#### Для удобства, в пределе $\\,\\mbox{arctg}\\,x$ можно заменить на $x$, если $x\\to 0$\n",
        "\n",
        "15. \n",
        "### $$\\lim_{x\\to 0} \\frac{1-\\cos x}{\\frac{x^2}{2}}=\\Bigl(\\frac{0}{0}\\Bigr)=$$\n",
        "### $$=\\lim_{x\\to 0} \\frac{2\\sin^2 \\frac{x}{2}}{\\frac{x^2}{2}}=$$\n",
        "### $$=\\lim_{x\\to 0} \\frac{2\\Bigr(\\frac{x}{2}\\Bigr)^2}{\\frac{x^2}{2}}=$$\n",
        "### $$=\\lim_{x\\to 0} \\frac{2\\cdot\\frac{1}{4}}{\\frac{1}{2}}=1$$\n",
        "\n",
        "#### Для удобства, в пределе $1-\\cos x$ можно заменить на $\\frac{x^2}{2}$, если $x\\to 0$"
      ]
    },
    {
      "cell_type": "markdown",
      "metadata": {
        "id": "qhIbjoeSRLZe"
      },
      "source": [
        "### Примеры \n",
        "\n",
        "16. \n",
        "### $$\\lim_{x\\to 0} \\frac{\\sin 5x}{3x}=\\Bigl(\\frac{0}{0}\\Bigr)$$\n",
        "\n",
        "Решение \n",
        "### $$\\lim_{x\\to 0} \\frac{\\sin 5x}{3x}=\\lim_{x\\to 0} \\frac{5\\sin 5x}{3\\cdot5x}=\\frac{5}{3} $$\n",
        "\n",
        "17. \n",
        "### $$\\lim_{x\\to 0} \\frac{\\sin 5x}{\\sin 3x}=\\Bigl(\\frac{0}{0}\\Bigr)$$\n",
        "Решение \n",
        "### $$\\lim_{x\\to 0} \\frac{\\sin 5x}{\\sin 3x}=$$\n",
        "### $$=\\lim_{x\\to 0} \\frac{\\sin 5x}{5x}\\cdot\\frac{3x}{\\sin 3x}\\cdot\\frac{5}{3}=\\frac{5}{3}$$\n",
        "\n",
        "18. \n",
        "### $$\\lim_{x\\to 0} \\frac{\\sin x^2}{x^2}=\\Bigl(\\frac{0}{0}\\Bigr)$$\n",
        "Решение \n",
        "### $$\\lim_{x\\to 0} \\frac{\\sin x^2}{x^2}=1$$\n",
        "\n",
        "19. \n",
        "### $$\\lim_{x\\to 0} \\frac{\\sin^2 x}{x^2}=\\Bigl(\\frac{0}{0}\\Bigr)$$\n",
        "Решение \n",
        "### $$\\lim_{x\\to 0} \\frac{\\sin^2 x}{x^2}=\\lim_{x\\to 0} \\frac{\\sin x}{x}\\cdot\\frac{\\sin x}{x}=1$$\n",
        "20. \n",
        "### $$\\lim_{x\\to 0} \\frac{1-\\cos x}{x^2}=\\Bigl(\\frac{0}{0}\\Bigr)$$\n",
        "Решение \n",
        "### $$\\lim_{x\\to 0} \\frac{1-\\cos x}{x^2}=\\lim_{x\\to 0} \\frac{2\\sin^2 \\frac{x}{2}}{x^2}=$$\n",
        "### $$=\\lim_{x\\to 0} \\frac{2\\sin^2 \\frac{x}{2}}{4(\\frac{x}{2})^2}=\\frac{2}{4}=\\frac{1}{2}$$"
      ]
    },
    {
      "cell_type": "markdown",
      "metadata": {
        "id": "A29fRnEFRLZf"
      },
      "source": [
        "21. \n",
        "### $$\\lim_{x\\to 0} \\frac{\\cos x \\sin^2 3x}{4x \\,\\mbox{tg}\\,\\frac{x}{3}}=\\Bigl(\\frac{0}{0}\\Bigr)$$\n",
        "Решение \n",
        "### $$\\lim_{x\\to 0} \\frac{\\cos x \\sin^2 3x}{4x \\,\\mbox{tg}\\,\\frac{x}{3}}=$$\n",
        "### $$=\\lim_{x\\to 0} \\frac{9x^2}{4x\\cdot\\frac{x}{3}}=\\frac{27}{4}$$\n",
        "\n",
        "22. \n",
        "### $$\\lim_{x\\to 0} \\frac{1-\\cos \\frac{x}{3}}{6x\\sin \\frac{x}{2}}=\\Bigl(\\frac{0}{0}\\Bigr)$$\n",
        "Решение \n",
        "### $$\\lim_{x\\to 0} \\frac{1-\\cos \\frac{x}{3}}{6x\\sin \\frac{x}{2}}=$$\n",
        "\n",
        "### $$=\\lim_{x\\to 0} \\frac{\\frac{x^2}{9\\cdot2}}{6x\\cdot\\frac{x}{2}}=\\frac{1}{9\\cdot2\\cdot3}=\\frac{1}{54}$$\n",
        "\n",
        "23. \n",
        "### $$\\lim_{x\\to 0} \\frac{3x\\,\\mbox{tg}\\,\\frac{x}{2}}{\\cos^2 6x \\sin^2 2x}=\\Bigl(\\frac{0}{0}\\Bigr)$$\n",
        "Решение \n",
        "### $$\\lim_{x\\to 0} \\frac{3x\\,\\mbox{tg}\\,\\frac{x}{2}}{\\cos^2 6x \\sin^2 2x}=$$\n",
        "### $$=\\lim_{x\\to 0} \\frac{3x\\cdot\\frac{x}{2}}{4x^2}=\\frac{3}{4\\cdot2}=\\frac{3}{8}$$"
      ]
    },
    {
      "cell_type": "markdown",
      "metadata": {
        "id": "UtgmIsnyRLZh"
      },
      "source": [
        "### Второй замечательный предел\n",
        "\n",
        "### $$\\lim_{x\\to +\\infty} \\Bigr(1+\\frac{1}{x}\\Bigl)^x=e$$\n",
        "\n",
        "Мы уже познакомились с ним в конце прошлого урока\n",
        "\n",
        "Это предел с неопределённостью вида:\n",
        "\n",
        "### $$\\lim_{x\\to +\\infty} \\Bigr(U(x)\\Bigl)^{V(x)}=(1)^{+\\infty}$$\n",
        "\n",
        "### $$\\mbox{где}\\, U(x)\\to1, V(x)\\to+\\infty \\,\\mbox{при}\\,x\\to +\\infty$$\n",
        "\n",
        "### Примеры\n",
        "\n",
        "\n",
        "24. \n",
        "### $$\\lim_{x\\to 0} \\Bigr(\\frac{1+x}{2+x}\\Bigl)^\\frac{1-\\sqrt x}{1-x}=\\Bigr(\\frac{1}{2}\\Bigl)^1=\\frac{1}{2}$$\n",
        "\n",
        "25. \n",
        "### $$\\lim_{x\\to 1} \\Bigr(\\frac{1+x}{2+x}\\Bigl)^\\frac{1-\\sqrt x}{1-x}=\\Bigr(\\frac{2}{3}\\Bigl)^\\frac{1}{2}=\\sqrt\\frac{2}{3}$$\n",
        "\n",
        "26. \n",
        "### $$\\lim_{x\\to \\infty} \\Bigr(\\frac{1+x}{2+x}\\Bigl)^\\frac{1-\\sqrt x}{1-x}=(1)^0=1$$\n",
        "\n",
        "То есть не один из предыдущих примеров не является вторым замечательным пределом\n",
        "\n",
        "27. \n",
        "### $$\\lim_{x\\to \\infty} \\Bigr(\\frac{3x+5}{3x-2}\\Bigl)^\\frac{6x^2-13}{3x}=(1)^{+\\infty}$$\n",
        "\n",
        "Данный пример можно решить подгоном, сперва выделим единичку, потом создадим необходимую степень.\n",
        "\n",
        "### $$\\lim_{x\\to \\infty} \\Bigr(\\frac{3x+5}{3x-2}\\Bigl)^\\frac{6x^2-13}{3x}=$$\n",
        "### $$=\\lim_{x\\to \\infty} \\Bigr(\\frac{3x-2+7}{3x-2}\\Bigl)^\\frac{6x^2-13}{3x}$$\n",
        "### $$=\\lim_{x\\to \\infty} \\Bigr(1+\\frac{7}{3x-2}\\Bigl)^\\frac{6x^2-13}{3x}=$$\n",
        "### $$=\\lim_{x\\to \\infty} \\Bigr(1+\\frac{7}{3x-2}\\Bigl)^{\\frac{3x-2}{7}\\cdot\\frac{7}{3x-2}\\cdot\\frac{6x^2-13}{3x}}=$$\n",
        "### $$=\\lim_{x\\to \\infty} e^{\\frac{7(6x^2-13)}{(3x-2)3x}}=e^\\frac{7\\cdot6}{3\\cdot3}=e^\\frac{14}{3}$$\n",
        "\n",
        "Но есть и другой способ. Поняв, что перед нами второй замечательный предел можно сразу воспользоваться формулой:\n",
        "\n",
        "### $$\\lim_{x\\to \\infty} \\Bigr(U(x)\\Bigl)^{V(x)}=(1)^{+\\infty}=\\lim_{x\\to \\infty} e^{(U(x)-1)V(x)}$$\n",
        "\n",
        "### $$\\lim_{x\\to \\infty} \\Bigr(\\frac{3x+5}{3x-2}\\Bigl)^\\frac{6x^2-13}{3x}=(1)^{+\\infty}=$$\n",
        "### $$=\\lim_{x\\to \\infty} e^{\\Bigl(\\frac{3x+5}{3x-2}-1\\Bigr)\\frac{6x^2-13}{3x}}=$$\n",
        "### $$=\\lim_{x\\to \\infty} e^{\\frac{7}{3x-2}\\cdot\\frac{6x^2-13}{3x}}=e^\\frac{7\\cdot6}{3\\cdot3}=e^\\frac{14}{3}$$"
      ]
    },
    {
      "cell_type": "markdown",
      "metadata": {
        "id": "MI3s6RdVRLZj"
      },
      "source": [
        "### Следствия из второго замечательного предела\n",
        "\n",
        "### $$\\lim_{x\\to +\\infty} \\Bigr(1+\\frac{1}{x}\\Bigl)^x=(1)^{+\\infty}=e$$\n",
        "\n",
        "\n",
        "28. \n",
        "### $$\\lim_{x\\to +0} \\Bigr(1+x\\Bigl)^\\frac{1}{x}=(1)^{+\\infty}=e$$\n",
        "\n",
        "Если прологарифмировать оба равенства, то получим еще два следствия\n",
        "\n",
        "29. \n",
        "### $$\\lim_{x\\to +\\infty} x\\ln\\Bigr(1+\\frac{1}{x}\\Bigl)=\\Bigl(\\infty\\cdot0\\Bigr)=1$$\n",
        "\n",
        "30. \n",
        "### $$\\lim_{x\\to +0} \\frac{\\ln(1+x)}{x}=\\Bigl(\\frac{0}{0}\\Bigr)=1$$\n",
        "\n",
        "Последнее даю без вывода\n",
        "\n",
        "31. \n",
        "### $$\\lim_{x\\to +0} \\frac{e^x-1}{x}=\\Bigl(\\frac{0}{0}\\Bigr)=1$$\n",
        "\n"
      ]
    },
    {
      "cell_type": "markdown",
      "metadata": {
        "id": "rkuJzNOiRLZl"
      },
      "source": [
        "### Пример\n",
        "\n",
        "\n",
        "### $$\\lim_{x\\to +0} \\frac{\\ln(1+x)}{x}=\\Bigl(\\frac{0}{0}\\Bigr)=1$$\n",
        "\n",
        "29. \n",
        "### $$\\lim_{x\\to +2} \\frac{\\ln x - \\ln 2}{x-2}=\\Bigl(\\frac{0}{0}\\Bigr)$$\n",
        "\n",
        "В данном примере при $x\\to 2$ мы получаем неопределенность вида $\\Bigl(\\frac{0}{0}\\Bigr)$. При этом в числителе логарифмическая, а в знаменателе степенная функция. Это говорит о том, что пример можно решить с помощью следствия из второго замечательного предела. Но проблема в том, что аргумент должен стремиться в $0$ или $\\infty$\n",
        "\n",
        "Сделаем замену $y=x-2$, тогда при $x\\to 2: y\\to 0$ \n",
        "\n",
        "### $$\\lim_{x\\to +2} \\frac{\\ln x - \\ln 2}{x-2}=$$\n",
        "### $$=\\lim_{y\\to +0} \\frac{\\ln (y+2) - \\ln 2}{y}=$$\n",
        "### $$=\\lim_{y\\to +0} \\frac{\\ln (\\frac{y+2}{2})}{y}=$$\n",
        "### $$=\\lim_{y\\to +0} \\frac{\\ln (1+\\frac{y}{2})}{y}=$$\n",
        "### $$=\\lim_{y\\to +0} \\frac{\\ln (1+\\frac{y}{2})}{2\\cdot\\frac{y}{2}}=\\frac{1}{2}$$"
      ]
    }
  ]
}