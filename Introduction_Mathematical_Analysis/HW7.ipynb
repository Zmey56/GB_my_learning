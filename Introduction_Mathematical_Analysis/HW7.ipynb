{
  "nbformat": 4,
  "nbformat_minor": 0,
  "metadata": {
    "colab": {
      "name": "HW7.ipynb",
      "provenance": []
    },
    "kernelspec": {
      "name": "python3",
      "display_name": "Python 3"
    },
    "language_info": {
      "name": "python"
    }
  },
  "cells": [
    {
      "cell_type": "markdown",
      "source": [
        "Найдите экстремумы функций, если они есть:\n",
        "\n",
        "---\n",
        "\n",
        "$y = |2x|$\n",
        "\n",
        "$|2x|' = 2\\frac{x}{|x|} = 0$\n",
        "\n",
        "Экстремум функции 0\n",
        "---\n",
        "\n",
        "$y = x^3$\n",
        "\n",
        "$(x^3)' = 3x^{2} = 0$\n",
        "\n",
        "Экстримумов нет, так как до 0 и после него функция возрастает\n",
        "\n",
        "---\n",
        "\n",
        "$y = e^{3x}$\n",
        "\n",
        "$(e^{3x})'= 3e^{3x} = 0$\n",
        "\n",
        "Решений нет, экстремумов нет\n",
        "\n",
        "---\n",
        "\n",
        "$y = x^{3} - 5$\n",
        "\n",
        "$(x^{3} - 5)'= 3x^2 -5 = 0$\n",
        "\n",
        "$x = \\pm\\sqrt\\frac{5}{3}$\n",
        "\n",
        "$-\\sqrt\\frac{5}{3} $ local max\n",
        "\n",
        "$\\sqrt\\frac{5}{3} $ local min"
      ],
      "metadata": {
        "id": "m-eYtrsPa-sU"
      }
    },
    {
      "cell_type": "code",
      "execution_count": null,
      "metadata": {
        "id": "ChgApT13ayVg"
      },
      "outputs": [],
      "source": [
        ""
      ]
    }
  ]
}