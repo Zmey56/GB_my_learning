{
  "nbformat": 4,
  "nbformat_minor": 0,
  "metadata": {
    "colab": {
      "name": "HW_5.ipynb",
      "provenance": [],
      "collapsed_sections": []
    },
    "kernelspec": {
      "name": "python3",
      "display_name": "Python 3"
    },
    "language_info": {
      "name": "python"
    }
  },
  "cells": [
    {
      "cell_type": "markdown",
      "source": [
        "### Тема “Теоремы о пределах”"
      ],
      "metadata": {
        "id": "l7IxJ1GRqSJa"
      }
    },
    {
      "cell_type": "markdown",
      "source": [
        "$$\\lim_{x\\to\\infty} \\frac{x}{arcsin(x)} = (\\frac{0}{0}) = 1$$"
      ],
      "metadata": {
        "id": "kY1eGmpqqXqh"
      }
    },
    {
      "cell_type": "markdown",
      "source": [
        "$$\\lim_{x\\to\\infty} (\\frac{4x+3}{4x-3})^{6x} = 1^{∞} = e^{9} $$"
      ],
      "metadata": {
        "id": "mI3CPz2hrAsY"
      }
    },
    {
      "cell_type": "code",
      "execution_count": null,
      "metadata": {
        "id": "YEIUQ8pCqQGT"
      },
      "outputs": [],
      "source": [
        ""
      ]
    }
  ]
}