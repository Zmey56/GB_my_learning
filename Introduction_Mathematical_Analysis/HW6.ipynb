{
  "nbformat": 4,
  "nbformat_minor": 0,
  "metadata": {
    "colab": {
      "name": "HW6.ipynb",
      "provenance": [],
      "collapsed_sections": []
    },
    "kernelspec": {
      "name": "python3",
      "display_name": "Python 3"
    },
    "language_info": {
      "name": "python"
    }
  },
  "cells": [
    {
      "cell_type": "markdown",
      "source": [
        "# Тема 6 “Понятие о производной”"
      ],
      "metadata": {
        "id": "dvEFOB_b7DoY"
      }
    },
    {
      "cell_type": "markdown",
      "source": [
        "1. Найти производную выражения:\n",
        "\n",
        "$[sin(x) * cos(x)]'= sin(x)'cos(x) + cos(x)'sin(x) = cos^2x - sin^2x = cos(2x)$\n",
        "\n",
        "$[ln(2x + 1)^3]' = \\frac{3 * (2x + 1)^2 * 3}{(2x+1)^3} = \\frac{6}{2x + 1}$ \n",
        "\n",
        "$[\\sqrt{sin^2(ln(x^3))}]' = (\\frac{1}{2}sin^2(ln(x^3)))^{-\\frac{1}{2}} * 2sin(ln(x^3))*cos(ln(x^3))*\\frac{1}{x^3}*3x^2 = \\frac{sin(ln(x^3))*cos(ln(x^3))*3}{\\sqrt{sin^{2}(ln(x^3))*3}}$\n",
        "\n",
        "$[\\frac{x^4}{ln(x)}]'= \\frac{4x^{3}ln(x)-(\\frac{x^4}{x})}{ln^2(x)} = \\frac{4x^{3}ln(x)-x^{3}}{ln^{2}(x)} = \\frac{x^{3}(4ln(x)-1)}{ln^2(x)}$"
      ],
      "metadata": {
        "id": "Xa0PuKIz7LaC"
      }
    },
    {
      "cell_type": "markdown",
      "source": [
        "---\n",
        "\n",
        "2. Найти выражение производной функции и ее значение в точке:\n",
        "\n",
        "$f(x) = cos(x^{2}+3x),\\, x_{0} = \\sqrt{\\pi} $\n",
        "\n",
        "$f'(x) = cos(x^{2}+3x)'= -(2x+3)*sin(x^{2} + 3x)$\n",
        "\n",
        "$f'(x_{0}) = -(2\\sqrt{\\pi}+3)*sin(\\pi + 3\\sqrt{\\pi}) = -(2\\sqrt{\\pi}+3)*sin(3\\sqrt{\\pi})$"
      ],
      "metadata": {
        "id": "0eDmfXEhFcMy"
      }
    },
    {
      "cell_type": "markdown",
      "source": [
        "---\n",
        "4. Найти угол наклона касательной к графику функции в точке:\n",
        "\n",
        "$f(x) = \\sqrt{3x}*ln\\,x, \\, x_0=1$\n",
        "\n",
        "$f'(x) = ( \\sqrt{3x}*ln\\,x)'= (\\sqrt{3x})'*ln\\,x+\\sqrt{3x}*(ln\\,x)'=(3x^{\\frac{1}{2}})*ln\\,x+\\sqrt{3x}*(ln\\,x)'= \\frac{3}{2}x^{\\frac{1}{2}}*ln\\,x+\\sqrt{3x}*\\frac{1}{x}=\\frac{1}{\\frac{3}{2}x^{\\frac{1}{2}}}*ln\\,x+3x^{\\frac{1}{2}}*\\frac{1}{x}$\n",
        "\n",
        "$f'(1) = \\sqrt{3} = 60^{0}$"
      ],
      "metadata": {
        "id": "WnmYIC9fZFOp"
      }
    }
  ]
}