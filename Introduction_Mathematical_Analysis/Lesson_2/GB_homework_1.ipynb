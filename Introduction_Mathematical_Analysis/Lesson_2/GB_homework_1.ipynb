{
  "nbformat": 4,
  "nbformat_minor": 0,
  "metadata": {
    "colab": {
      "name": "GB_homework_1.ipynb",
      "provenance": []
    },
    "kernelspec": {
      "name": "python3",
      "display_name": "Python 3"
    },
    "language_info": {
      "name": "python"
    }
  },
  "cells": [
    {
      "cell_type": "markdown",
      "source": [
        "**Тема 1 “Введение в математическую логику”**\n",
        "1. Прочитать высказывания математической логики, построить их отрицания и установить истинность."
      ],
      "metadata": {
        "id": "fSAO7r-psIM_"
      }
    },
    {
      "cell_type": "markdown",
      "source": [
        "$\\forall y =  \\in[0;1] : sgn(y)=1$\n",
        "\n",
        "Answer: \n",
        "\n",
        "$\\exists y = \\in[0;1] : sgn(y) \\neq 1$"
      ],
      "metadata": {
        "id": "443tnh2EuEGv"
      }
    },
    {
      "cell_type": "markdown",
      "source": [
        "---\n",
        "$\\forall n \\in N > 2 \\exists x, y, z \\in N : x^n = y^n + z^n $\n",
        "\n",
        "Answer: \n",
        "\n",
        "$\\exists n \\in N > 2 \\forall x, y, z \\in N : x^n \\neq y^n + z^n$ "
      ],
      "metadata": {
        "id": "22jzLF_-w00g"
      }
    },
    {
      "cell_type": "markdown",
      "source": [
        "---\n",
        "$\\forall x \\in R ∃ X ∈ R : X > x$\n",
        "\n",
        "Answer:\n",
        "\n",
        "$∃ x \\in R ∀ X ∈ R : X \\leq x$"
      ],
      "metadata": {
        "id": "4p6kDTyP2JgX"
      }
    },
    {
      "cell_type": "markdown",
      "source": [
        "---\n",
        "$∀ x \\in C \\not \\exists y \\in C : x > y || x < y$\n",
        "\n",
        "Answer:\n",
        "\n",
        "$∃ x \\in C \\not \\exists y \\in C : x ≤ y || x \\ge y$\n"
      ],
      "metadata": {
        "id": "w3Tx6_Va3q5u"
      }
    },
    {
      "cell_type": "markdown",
      "source": [
        "---\n",
        "$∀y \\in [0; \\frac{\\pi}{2}] ∃ \\varepsilon > 0 : sin(y) < sin(y + ɛ)$\n",
        "\n",
        "Answer:\n",
        "\n",
        "$\\exists y \\in [0; \\frac{\\pi}{2}] ∀ \\varepsilon \\le 0 : sin(y) \\ge sin(y + ɛ)$"
      ],
      "metadata": {
        "id": "_2zOOFb85aNQ"
      }
    },
    {
      "cell_type": "markdown",
      "source": [
        "---\n",
        "$∀y \\in [0; \\pi] ∃ \\varepsilon > 0 : cos(y) > cos(y + ɛ)$\n",
        "\n",
        "Answer:\n",
        "\n",
        "$\\exists y \\in [0; \\pi] ∀ \\varepsilon \\le 0 : cos(y) \\le cos(y + ɛ)$"
      ],
      "metadata": {
        "id": "vMPlc-0L92DZ"
      }
    },
    {
      "cell_type": "markdown",
      "source": [
        "---\n",
        "$∃x : x \\not \\in \\{N, Z, Q, R, C\\} $\n",
        "\n",
        "Answer:\n",
        "\n",
        "$∀x : x \\not \\in \\{N, Z, Q, R, C\\} $"
      ],
      "metadata": {
        "id": "Xa9wmwdr-p6v"
      }
    },
    {
      "cell_type": "markdown",
      "source": [
        "**Тема 2 “Множество”**\n",
        "1. Даны три множества a,b и с. Необходимо выполнить все изученные виды бинарных операций над всеми комбинациями множеств.\n",
        "2. Выполнить задание 1 на языке Python"
      ],
      "metadata": {
        "id": "ApRxTwrmrZHE"
      }
    },
    {
      "cell_type": "code",
      "execution_count": 13,
      "metadata": {
        "id": "zZDW-HChrrCO"
      },
      "outputs": [],
      "source": [
        "import numpy as np\n",
        "import random\n",
        "import math\n",
        "import itertools\n",
        "from sympy import factorial"
      ]
    },
    {
      "cell_type": "code",
      "source": [
        "a = set([random.randint(0, 99) for _ in range(random.randint(1, 10))])\n",
        "b = set([random.randint(0, 99) for _ in range(random.randint(1, 10))])\n",
        "c = set([random.randint(0, 99) for _ in range(random.randint(1, 10))])"
      ],
      "metadata": {
        "id": "uar1BE2Grvdq"
      },
      "execution_count": 11,
      "outputs": []
    },
    {
      "cell_type": "code",
      "source": [
        "sets = {\n",
        "    'a': a,\n",
        "    'b': b,\n",
        "    'c': c\n",
        "}"
      ],
      "metadata": {
        "id": "P4IBm7CpvKBo"
      },
      "execution_count": 15,
      "outputs": []
    },
    {
      "cell_type": "code",
      "source": [
        "for combination in itertools.combinations(sets.keys(), 2):\n",
        "    x, y = combination[0], combination[1]\n",
        "    print(f'Множества: {x}, {y}')\n",
        "    print(f'x: {sets[x]},\\ny: {sets[y]}')\n",
        "    print(f'Объединение {x} | {y}: {sets[x] | sets[y]}')\n",
        "    print(f'Пересечение {x} & {y}: {sets[x] & sets[y]}')\n",
        "    print(f'Разность {x} - {y}: {sets[x] - sets[y]}')\n",
        "    print(f'Симметрическая разность {x} ^ {y}: {sets[x] ^ sets[y]}')\n",
        "    cartesian = []\n",
        "    for item in itertools.product(sets[x], sets[y]):\n",
        "        cartesian.append(item)\n",
        "    print(f'Декартово произведение {x} * {y}: {set(cartesian)}')\n",
        "    print()"
      ],
      "metadata": {
        "colab": {
          "base_uri": "https://localhost:8080/"
        },
        "id": "JxcY_HMasB8k",
        "outputId": "6f68b754-e765-458b-e89d-903ee03bf4cf"
      },
      "execution_count": 16,
      "outputs": [
        {
          "output_type": "stream",
          "name": "stdout",
          "text": [
            "Множества: a, b\n",
            "x: {35, 11, 17, 57, 91, 61, 31},\n",
            "y: {10, 14, 83, 22, 89, 28, 25}\n",
            "Объединение a | b: {89, 35, 10, 11, 14, 17, 83, 22, 57, 91, 28, 61, 25, 31}\n",
            "Пересечение a & b: set()\n",
            "Разность a - b: {35, 11, 17, 57, 91, 61, 31}\n",
            "Симметрическая разность a ^ b: {10, 11, 14, 17, 83, 22, 25, 89, 91, 28, 31, 35, 57, 61}\n",
            "Декартово произведение a * b: {(57, 10), (17, 83), (35, 22), (57, 83), (11, 28), (61, 10), (17, 25), (11, 14), (61, 14), (91, 22), (11, 10), (35, 25), (61, 28), (17, 28), (91, 89), (57, 89), (11, 22), (31, 22), (35, 28), (35, 83), (31, 25), (61, 89), (11, 89), (17, 14), (35, 14), (17, 10), (31, 83), (35, 10), (91, 83), (61, 22), (17, 22), (17, 89), (57, 22), (11, 83), (31, 10), (31, 28), (35, 89), (91, 14), (61, 83), (31, 14), (91, 25), (57, 25), (91, 10), (57, 14), (31, 89), (61, 25), (11, 25), (91, 28), (57, 28)}\n",
            "\n",
            "Множества: a, c\n",
            "x: {35, 11, 17, 57, 91, 61, 31},\n",
            "y: {64, 76, 52}\n",
            "Объединение a | c: {64, 35, 11, 76, 17, 52, 57, 91, 61, 31}\n",
            "Пересечение a & c: set()\n",
            "Разность a - c: {35, 11, 17, 57, 91, 61, 31}\n",
            "Симметрическая разность a ^ c: {64, 35, 11, 76, 17, 52, 57, 91, 61, 31}\n",
            "Декартово произведение a * c: {(11, 64), (57, 64), (61, 76), (11, 52), (11, 76), (17, 64), (61, 52), (17, 76), (57, 52), (35, 76), (91, 52), (31, 52), (91, 64), (35, 64), (35, 52), (91, 76), (17, 52), (57, 76), (61, 64), (31, 76), (31, 64)}\n",
            "\n",
            "Множества: b, c\n",
            "x: {10, 14, 83, 22, 89, 28, 25},\n",
            "y: {64, 76, 52}\n",
            "Объединение b | c: {89, 64, 10, 76, 14, 83, 52, 22, 25, 28}\n",
            "Пересечение b & c: set()\n",
            "Разность b - c: {10, 14, 83, 22, 89, 28, 25}\n",
            "Симметрическая разность b ^ c: {64, 10, 76, 14, 83, 52, 22, 89, 28, 25}\n",
            "Декартово произведение b * c: {(89, 76), (10, 52), (89, 52), (83, 64), (22, 64), (22, 76), (14, 76), (89, 64), (28, 52), (28, 64), (14, 52), (83, 52), (22, 52), (25, 76), (14, 64), (25, 52), (28, 76), (10, 76), (25, 64), (83, 76), (10, 64)}\n",
            "\n"
          ]
        }
      ]
    }
  ]
}