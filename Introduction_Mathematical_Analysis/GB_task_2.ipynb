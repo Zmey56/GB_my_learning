{
  "nbformat": 4,
  "nbformat_minor": 0,
  "metadata": {
    "colab": {
      "name": "GB_task_2.ipynb",
      "provenance": [],
      "collapsed_sections": []
    },
    "kernelspec": {
      "name": "python3",
      "display_name": "Python 3"
    },
    "language_info": {
      "name": "python"
    }
  },
  "cells": [
    {
      "cell_type": "markdown",
      "source": [
        "Последовательность - это составная часть множества."
      ],
      "metadata": {
        "id": "toSbYQk0JMrT"
      }
    },
    {
      "cell_type": "markdown",
      "source": [
        "---"
      ],
      "metadata": {
        "id": "on5jnPwdJH4J"
      }
    },
    {
      "cell_type": "code",
      "source": [
        "import math\n",
        "from sympy import *"
      ],
      "metadata": {
        "id": "Q7q5CanHlNm_"
      },
      "execution_count": 73,
      "outputs": []
    },
    {
      "cell_type": "markdown",
      "source": [
        "Даны 4 последовательности. Необходимо:\n",
        "* исследовать их на монотонность; \n",
        "* исследовать на ограниченность;\n",
        "* найти пятый по счету член.\n"
      ],
      "metadata": {
        "id": "j0Fb7wRZTBO-"
      }
    },
    {
      "cell_type": "code",
      "source": [
        "#функция на монотонность\n",
        "def isMonotonic(A):  \n",
        "    return (all(A[i] <= A[i + 1] for i in range(len(A) - 1)) or\n",
        "            all(A[i] >= A[i + 1] for i in range(len(A) - 1)))"
      ],
      "metadata": {
        "id": "KHq1dIgdi22S"
      },
      "execution_count": 35,
      "outputs": []
    },
    {
      "cell_type": "code",
      "source": [
        "numbers = list(range(1, 20, 1))"
      ],
      "metadata": {
        "id": "HqDm1LeMYBvE"
      },
      "execution_count": 36,
      "outputs": []
    },
    {
      "cell_type": "markdown",
      "source": [
        "$\\{a_{n}\\}^{∞}_{n=1} = 2^{n} - n$"
      ],
      "metadata": {
        "id": "KvQFW0xGTWr-"
      }
    },
    {
      "cell_type": "markdown",
      "source": [
        "Ограничена снизу 1, сверху бесконечность"
      ],
      "metadata": {
        "id": "pPTj5BRoZJIR"
      }
    },
    {
      "cell_type": "code",
      "execution_count": 39,
      "metadata": {
        "id": "QhkjkEDUS56q"
      },
      "outputs": [],
      "source": [
        "def a_func(n):\n",
        "  return 2**(n) - n\n",
        "\n",
        "result_a = list(map(a_func, numbers))"
      ]
    },
    {
      "cell_type": "code",
      "source": [
        "#исследование на монотонность\n",
        "isMonotonic(result_a)"
      ],
      "metadata": {
        "colab": {
          "base_uri": "https://localhost:8080/"
        },
        "id": "mAb691sLZXvT",
        "outputId": "68100c5a-f69f-4a89-bb7f-91e2b0c974d5"
      },
      "execution_count": 41,
      "outputs": [
        {
          "output_type": "execute_result",
          "data": {
            "text/plain": [
              "True"
            ]
          },
          "metadata": {},
          "execution_count": 41
        }
      ]
    },
    {
      "cell_type": "code",
      "source": [
        "print('Пятый элемент', result_a[4])"
      ],
      "metadata": {
        "colab": {
          "base_uri": "https://localhost:8080/"
        },
        "id": "SS0gqv0RY_W_",
        "outputId": "3cf857e3-9a97-4e2b-8fa1-727c461971bc"
      },
      "execution_count": 43,
      "outputs": [
        {
          "output_type": "stream",
          "name": "stdout",
          "text": [
            "Пятый элемент 27\n"
          ]
        }
      ]
    },
    {
      "cell_type": "markdown",
      "source": [
        "$\\{b_{n}\\}^{∞}_{n=2} = \\frac{1}{1-n}$"
      ],
      "metadata": {
        "id": "cEP8Jfn7UqgU"
      }
    },
    {
      "cell_type": "markdown",
      "source": [
        "Ограничение снизу - (-1), сверху - 0"
      ],
      "metadata": {
        "id": "-V2CtPa7kbdk"
      }
    },
    {
      "cell_type": "code",
      "source": [
        "def b_func(n):\n",
        "  return 1/(1-n)\n",
        "\n",
        "result_b = list(map(b_func, numbers[1:]))"
      ],
      "metadata": {
        "id": "yP9bRvu0VNhi"
      },
      "execution_count": 32,
      "outputs": []
    },
    {
      "cell_type": "code",
      "source": [
        "isMonotonic(result_b)"
      ],
      "metadata": {
        "colab": {
          "base_uri": "https://localhost:8080/"
        },
        "id": "Y6SUKsLtaNH9",
        "outputId": "def1c826-d149-413f-f523-b96c2a111d5f"
      },
      "execution_count": 33,
      "outputs": [
        {
          "output_type": "execute_result",
          "data": {
            "text/plain": [
              "True"
            ]
          },
          "metadata": {},
          "execution_count": 33
        }
      ]
    },
    {
      "cell_type": "code",
      "source": [
        "print('Пятый элемент', result_b[4])"
      ],
      "metadata": {
        "colab": {
          "base_uri": "https://localhost:8080/"
        },
        "id": "MfWHM6TpaNDh",
        "outputId": "df605455-0c67-466e-a955-8f5b660811e8"
      },
      "execution_count": 20,
      "outputs": [
        {
          "output_type": "stream",
          "name": "stdout",
          "text": [
            "Пятый элемент -0.2\n"
          ]
        }
      ]
    },
    {
      "cell_type": "code",
      "source": [
        "x = symbols('x')\n",
        "expr = 1/(1-x);\n",
        "   \n",
        "print(\"Expression : {}\".format(expr))\n",
        "     \n",
        "# Use sympy.limit() method\n",
        "limit_expr_2 = limit(expr, x, 2)\n",
        "limit_expr_oo = limit(expr, x, oo)\n",
        "     \n",
        "print(\"Limit of the expression tends to 2 : {}\".format(limit_expr_2)) \n",
        "print(\"Limit of the expression tends to oo : {}\".format(limit_expr_oo)) "
      ],
      "metadata": {
        "colab": {
          "base_uri": "https://localhost:8080/"
        },
        "id": "Qvhgi_c3DoHF",
        "outputId": "27e45977-4c10-49a8-d160-3027af97002b"
      },
      "execution_count": 66,
      "outputs": [
        {
          "output_type": "stream",
          "name": "stdout",
          "text": [
            "Expression : 1/(1 - x)\n",
            "Limit of the expression tends to 2 : -1\n",
            "Limit of the expression tends to oo : 0\n"
          ]
        }
      ]
    },
    {
      "cell_type": "markdown",
      "source": [
        "$\\{c_{n}\\}^{∞}_{n=1} = -1^{n} + \\sqrt{2n}$"
      ],
      "metadata": {
        "id": "LRv4AOHiVV0Y"
      }
    },
    {
      "cell_type": "markdown",
      "source": [
        "Последовательность ограничина снизу 0,41, сверху бесконечность"
      ],
      "metadata": {
        "id": "2Ks53NozHnMc"
      }
    },
    {
      "cell_type": "code",
      "source": [
        "def c_func(n):\n",
        "  return (-1)**n+(2*n)**0.5\n",
        "\n",
        "result_c = list(map(c_func, numbers))"
      ],
      "metadata": {
        "id": "BXiLN1AVV7X1"
      },
      "execution_count": 21,
      "outputs": []
    },
    {
      "cell_type": "code",
      "source": [
        "isMonotonic(result_c)"
      ],
      "metadata": {
        "colab": {
          "base_uri": "https://localhost:8080/"
        },
        "id": "E4B8J1mVh9GO",
        "outputId": "1bd0108e-ac59-4618-a486-15cae37bbfd3"
      },
      "execution_count": 28,
      "outputs": [
        {
          "output_type": "execute_result",
          "data": {
            "text/plain": [
              "False"
            ]
          },
          "metadata": {},
          "execution_count": 28
        }
      ]
    },
    {
      "cell_type": "code",
      "source": [
        "print('Пятый элемент', result_c[4])"
      ],
      "metadata": {
        "colab": {
          "base_uri": "https://localhost:8080/"
        },
        "id": "6zcebKbAbpx5",
        "outputId": "d96fde4b-1611-48b1-bc91-c3b9fef2fa0a"
      },
      "execution_count": 23,
      "outputs": [
        {
          "output_type": "stream",
          "name": "stdout",
          "text": [
            "Пятый элемент 2.1622776601683795\n"
          ]
        }
      ]
    },
    {
      "cell_type": "code",
      "source": [
        "x = symbols('x', positive = True)\n",
        "expr = (-1)**x+(2*x)**0.5;\n",
        "   \n",
        "print(\"Expression : {}\".format(expr))\n",
        "     \n",
        "# Use sympy.limit() method\n",
        "limit_expr_1 = limit(expr, x, 1)\n",
        "#limit_expr_oo = limit(expr, x, oo)\n",
        "     \n",
        "print(\"Limit of the expression tends to 1 : {}\".format(limit_expr_1)) \n",
        "#print(\"Limit of the expression tends to oo : {}\".format(limit_expr_oo)) "
      ],
      "metadata": {
        "colab": {
          "base_uri": "https://localhost:8080/"
        },
        "id": "DknNy01gEVlO",
        "outputId": "298192d3-4e67-453f-fa4c-8e90f7fc64d7"
      },
      "execution_count": 77,
      "outputs": [
        {
          "output_type": "stream",
          "name": "stdout",
          "text": [
            "Expression : (-1)**x + 1.4142135623731*x**0.5\n",
            "Limit of the expression tends to 1 : 0.414213562373095\n"
          ]
        }
      ]
    },
    {
      "cell_type": "markdown",
      "source": [
        "$\\{d_{n}\\}^{∞}_{n=1} = (-1)^{2n} + \\frac{1}{n^2}$"
      ],
      "metadata": {
        "id": "Mpv9GKk4V_7s"
      }
    },
    {
      "cell_type": "markdown",
      "source": [
        "Последовательность снизу сходиться к 2, а сверху к 1"
      ],
      "metadata": {
        "id": "_MzrRGipIxuh"
      }
    },
    {
      "cell_type": "code",
      "source": [
        "def d_func(n):\n",
        "  return (-1)**(2*n)+(1/(n**2))\n",
        "\n",
        "result_d = list(map(d_func, numbers))"
      ],
      "metadata": {
        "id": "iXlAOoknWnJI"
      },
      "execution_count": 80,
      "outputs": []
    },
    {
      "cell_type": "code",
      "source": [
        "isMonotonic(result_d)"
      ],
      "metadata": {
        "colab": {
          "base_uri": "https://localhost:8080/"
        },
        "id": "QsBVgL1zcKE5",
        "outputId": "2937fbca-4e7d-4388-a47d-a61023dd1493"
      },
      "execution_count": 81,
      "outputs": [
        {
          "output_type": "execute_result",
          "data": {
            "text/plain": [
              "True"
            ]
          },
          "metadata": {},
          "execution_count": 81
        }
      ]
    },
    {
      "cell_type": "code",
      "source": [
        "print('Пятый элемент', result_d[4])"
      ],
      "metadata": {
        "colab": {
          "base_uri": "https://localhost:8080/"
        },
        "id": "zyV48VxYcObd",
        "outputId": "e69f3048-e549-4e25-f202-0a60c536dc43"
      },
      "execution_count": 82,
      "outputs": [
        {
          "output_type": "stream",
          "name": "stdout",
          "text": [
            "Пятый элемент 1.04\n"
          ]
        }
      ]
    },
    {
      "cell_type": "markdown",
      "source": [
        "---\n",
        "\n",
        "Найти 12-й член заданной неявно последовательности:\n",
        "\n",
        "$a_{1} = 128, a_{n+1} - a_{n} = 6$"
      ],
      "metadata": {
        "id": "qxAftv8adhfb"
      }
    },
    {
      "cell_type": "code",
      "source": [
        "a1 = 128\n",
        "delta = 6\n",
        "\n",
        "a12 = a1\n",
        "for _ in range(11):\n",
        "    a12 += delta\n",
        "    \n",
        "print(f'a12: {a12}')"
      ],
      "metadata": {
        "colab": {
          "base_uri": "https://localhost:8080/"
        },
        "id": "n71WEidHdXJd",
        "outputId": "b8363f84-367c-4800-d508-e563cf0971db"
      },
      "execution_count": null,
      "outputs": [
        {
          "output_type": "stream",
          "name": "stdout",
          "text": [
            "a12: 194\n"
          ]
        }
      ]
    },
    {
      "cell_type": "code",
      "source": [
        ""
      ],
      "metadata": {
        "id": "4LaPaHlqddXb"
      },
      "execution_count": null,
      "outputs": []
    }
  ]
}