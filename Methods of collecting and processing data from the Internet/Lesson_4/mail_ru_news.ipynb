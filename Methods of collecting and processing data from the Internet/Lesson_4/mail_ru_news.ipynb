{
  "nbformat": 4,
  "nbformat_minor": 0,
  "metadata": {
    "colab": {
      "name": "mail_ru_news.ipynb",
      "provenance": []
    },
    "kernelspec": {
      "name": "python3",
      "display_name": "Python 3"
    },
    "language_info": {
      "name": "python"
    }
  },
  "cells": [
    {
      "cell_type": "markdown",
      "metadata": {
        "id": "E_fdTrQpZHb1"
      },
      "source": [
        "**Выполнил с двух блоков с news.mail.ru и наполнил базу данных MongoDB**"
      ]
    },
    {
      "cell_type": "code",
      "metadata": {
        "id": "xcHHrWXqCgPS"
      },
      "source": [
        "import requests\n",
        "from pprint import pprint"
      ],
      "execution_count": 1,
      "outputs": []
    },
    {
      "cell_type": "code",
      "metadata": {
        "id": "g_dC44RqCvoP"
      },
      "source": [
        "from lxml import html\n",
        "from pymongo import MongoClient"
      ],
      "execution_count": 2,
      "outputs": []
    },
    {
      "cell_type": "code",
      "metadata": {
        "colab": {
          "base_uri": "https://localhost:8080/"
        },
        "id": "XZsf2zRjV3gD",
        "outputId": "20391062-2e07-43fa-bfe7-264a5d2ee62e"
      },
      "source": [
        "!apt install mongodb >log\n",
        "!service mongodb start"
      ],
      "execution_count": 3,
      "outputs": [
        {
          "output_type": "stream",
          "name": "stdout",
          "text": [
            "\n",
            "WARNING: apt does not have a stable CLI interface. Use with caution in scripts.\n",
            "\n",
            " * Starting database mongodb\n",
            "   ...done.\n"
          ]
        }
      ]
    },
    {
      "cell_type": "code",
      "metadata": {
        "id": "M9Wf-XVrVkoi"
      },
      "source": [
        "client = MongoClient('127.0.0.1', 27017)"
      ],
      "execution_count": 4,
      "outputs": []
    },
    {
      "cell_type": "code",
      "metadata": {
        "colab": {
          "base_uri": "https://localhost:8080/"
        },
        "id": "VaoewzP_VnOE",
        "outputId": "5773be1e-1677-40e9-b9fc-8c798a21caa7"
      },
      "source": [
        "client.status"
      ],
      "execution_count": 5,
      "outputs": [
        {
          "output_type": "execute_result",
          "data": {
            "text/plain": [
              "Database(MongoClient(host=['127.0.0.1:27017'], document_class=dict, tz_aware=False, connect=True), 'status')"
            ]
          },
          "metadata": {},
          "execution_count": 5
        }
      ]
    },
    {
      "cell_type": "code",
      "metadata": {
        "colab": {
          "base_uri": "https://localhost:8080/"
        },
        "id": "9E0OJC7vVror",
        "outputId": "3a4e9e7d-6ea8-44ae-d9dc-c83f4f2b0e8e"
      },
      "source": [
        "client.list_database_names()"
      ],
      "execution_count": 6,
      "outputs": [
        {
          "output_type": "execute_result",
          "data": {
            "text/plain": [
              "['admin', 'local']"
            ]
          },
          "metadata": {},
          "execution_count": 6
        }
      ]
    },
    {
      "cell_type": "code",
      "metadata": {
        "id": "yLI6D8O1WKty"
      },
      "source": [
        "db = client.news"
      ],
      "execution_count": 7,
      "outputs": []
    },
    {
      "cell_type": "code",
      "metadata": {
        "colab": {
          "base_uri": "https://localhost:8080/"
        },
        "id": "iQZFHgEDWKnH",
        "outputId": "2b4ea103-711d-476c-c971-e76b2e79453a"
      },
      "source": [
        "db.create_collection('news_list')"
      ],
      "execution_count": 8,
      "outputs": [
        {
          "output_type": "execute_result",
          "data": {
            "text/plain": [
              "Collection(Database(MongoClient(host=['127.0.0.1:27017'], document_class=dict, tz_aware=False, connect=True), 'news'), 'news_list')"
            ]
          },
          "metadata": {},
          "execution_count": 8
        }
      ]
    },
    {
      "cell_type": "code",
      "metadata": {
        "colab": {
          "base_uri": "https://localhost:8080/"
        },
        "id": "MqAYFIHqWKjv",
        "outputId": "a0973528-3d04-4b20-afb4-001f7f6f5941"
      },
      "source": [
        "list (db.list_collections()) "
      ],
      "execution_count": 9,
      "outputs": [
        {
          "output_type": "execute_result",
          "data": {
            "text/plain": [
              "[{'idIndex': {'key': {'_id': 1},\n",
              "   'name': '_id_',\n",
              "   'ns': 'news.news_list',\n",
              "   'v': 2},\n",
              "  'info': {'readOnly': False,\n",
              "   'uuid': UUID('7a2d1ecf-914e-44ef-a8de-ee97f6d4bf84')},\n",
              "  'name': 'news_list',\n",
              "  'options': {},\n",
              "  'type': 'collection'}]"
            ]
          },
          "metadata": {},
          "execution_count": 9
        }
      ]
    },
    {
      "cell_type": "code",
      "metadata": {
        "id": "8xx_BgCAWKgD"
      },
      "source": [
        "collection = db.news_list"
      ],
      "execution_count": 10,
      "outputs": []
    },
    {
      "cell_type": "code",
      "metadata": {
        "id": "i8hEyIztDAkr"
      },
      "source": [
        "header = {'User-Agent':'Mozilla/5.0 (Windows NT 10.0; Win64; x64) AppleWebKit/537.36 (KHTML, like Gecko) Chrome/96.0.4664.55 Safari/537.36 Edg/96.0.1054.34'}"
      ],
      "execution_count": 11,
      "outputs": []
    },
    {
      "cell_type": "code",
      "metadata": {
        "id": "KW9hZVraGQOg"
      },
      "source": [
        "response = requests.get('https://news.mail.ru/', headers=header)"
      ],
      "execution_count": 12,
      "outputs": []
    },
    {
      "cell_type": "code",
      "metadata": {
        "id": "_VyP1wX6GZZI"
      },
      "source": [
        "dom = html.fromstring(response.text)"
      ],
      "execution_count": 13,
      "outputs": []
    },
    {
      "cell_type": "code",
      "metadata": {
        "id": "0Z_E3lYz_dBf"
      },
      "source": [
        "#новости с фото\n",
        "news_photo = dom.xpath(\"//div[@class='daynews__item' or @class='daynews__item daynews__item_big' or @class='daynews__item hidden_small']\")\n",
        "\n",
        "#новости со списка\n",
        "news_list = dom.xpath(\"//li[@class = 'list__item hidden_medium hidden_large' or @class = 'list__item']\")"
      ],
      "execution_count": 15,
      "outputs": []
    },
    {
      "cell_type": "markdown",
      "metadata": {
        "id": "2tAFHsGBPXGS"
      },
      "source": [
        "Кажется что-то перемудрил заставляя каждый раз делать отдельный запрос на сайт чтоб найти информацию. Так же на одном из сайтов столкнулся с проблемой что класс называется по другому. По этому ввел оператор \"или\"."
      ]
    },
    {
      "cell_type": "code",
      "metadata": {
        "id": "Nyur3m4Q-O2_",
        "colab": {
          "base_uri": "https://localhost:8080/"
        },
        "outputId": "837476db-716f-4114-953a-ebc108b338e5"
      },
      "source": [
        "list_all_news = [] \n",
        "\n",
        "for item in news_photo:\n",
        "  news_data = {}\n",
        "  news = item.xpath(\".//span[@class='photo__title photo__title_new photo__title_new_hidden js-topnews__notification']/text()\")[0].replace('\\xa0', ' ')\n",
        "  link = item.xpath(\".//a/@href\")[0]\n",
        "  response_news = requests.get(link, headers=header)\n",
        "  dom_news = html.fromstring(response_news.text)\n",
        "  data = dom_news.xpath(\"//span[@datetime]/@datetime\")[0]\n",
        "  source = dom_news.xpath(\"//a[@class='link color_gray breadcrumbs__link']//text()\")[0]\n",
        "  \n",
        "  news_data['News'] = news\n",
        "  news_data['Link'] = link\n",
        "  news_data['Source'] = source\n",
        "  news_data['Data'] = data\n",
        "\n",
        "  list_all_news.append(news_data)"
      ],
      "execution_count": 17,
      "outputs": [
        {
          "output_type": "stream",
          "name": "stdout",
          "text": [
            "Волевая, сильная, непоколебимая: не стало Нины Ургант\n",
            "https://news.mail.ru/society/49067454/\n",
            "2021-12-03T19:45:36+03:00\n",
            "Известия\n",
            "Первый российский регион достиг целевого уровня вакцинации\n",
            "https://news.mail.ru/society/49064626/\n",
            "2021-12-03T15:18:33+03:00\n",
            "РБК\n",
            "«Омикрон» за неделю охватил 26 стран. Первые результаты\n",
            "https://news.mail.ru/incident/49064802/\n",
            "2021-12-03T16:09:49+03:00\n",
            "Телеканал 360°\n",
            "Талибы издали указ о правах женщин\n",
            "https://news.mail.ru/politics/49062721/\n",
            "2021-12-03T13:23:30+03:00\n",
            "Коммерсантъ\n",
            "Олимпийский чемпион назвал комфортную сумму для жизни в месяц\n",
            "https://sportmail.ru/news/boxing/49057264/\n",
            "2021-12-03T09:42:23+03:00\n",
            "РБК\n"
          ]
        }
      ]
    },
    {
      "cell_type": "code",
      "metadata": {
        "id": "ATNfbc0USGWo"
      },
      "source": [
        "for item in news_list:\n",
        "  news_data = {}\n",
        "  tmp_news = item.xpath(\".//a/text()\")\n",
        "  if len(tmp_news)>0:\n",
        "    news = tmp_news[0].replace('\\xa0', ' ')\n",
        "    link = item.xpath(\".//a/@href\")[0]\n",
        "    response_news = requests.get(link, headers=header)\n",
        "    dom_news = html.fromstring(response_news.text)\n",
        "    data = dom_news.xpath(\"//span[@datetime]/@datetime\")[0]\n",
        "    source = dom_news.xpath(\"//a[@class='link color_gray breadcrumbs__link']//text()\")[0]\n",
        "    news_data['News'] = news\n",
        "    news_data['Link'] = link\n",
        "    news_data['Source'] = source\n",
        "    news_data['Data'] = data\n",
        "\n",
        "    list_all_news.append(news_data)"
      ],
      "execution_count": 18,
      "outputs": []
    },
    {
      "cell_type": "code",
      "metadata": {
        "colab": {
          "base_uri": "https://localhost:8080/"
        },
        "id": "n3UWCzrIYHYJ",
        "outputId": "1dac34e6-f092-47a2-aa2b-ededcfec90c6"
      },
      "source": [
        "pprint(list_all_news)"
      ],
      "execution_count": 19,
      "outputs": [
        {
          "output_type": "stream",
          "name": "stdout",
          "text": [
            "[{'Data': '2021-12-03T13:23:30+03:00',\n",
            "  'Link': 'https://news.mail.ru/politics/49062721/',\n",
            "  'News': 'Талибы издали указ о правах женщин',\n",
            "  'Source': 'Коммерсантъ'},\n",
            " {'Data': '2021-12-03T09:42:23+03:00',\n",
            "  'Link': 'https://sportmail.ru/news/boxing/49057264/',\n",
            "  'News': 'Олимпийский чемпион назвал комфортную сумму для жизни в месяц',\n",
            "  'Source': 'РБК'},\n",
            " {'Data': '2021-12-03T11:07:59+03:00',\n",
            "  'Link': 'https://news.mail.ru/politics/49058713/',\n",
            "  'News': 'Ангелу Меркель проводили с факельным шествием (фото)',\n",
            "  'Source': 'Коммерсантъ'},\n",
            " {'Data': '2021-12-03T12:03:45+03:00',\n",
            "  'Link': 'https://news.mail.ru/society/49053293/',\n",
            "  'News': 'Главную елку Британии высмеяли в соцсетях',\n",
            "  'Source': 'BBC News Русская служба'},\n",
            " {'Data': '2021-12-03T09:30:29+03:00',\n",
            "  'Link': 'https://sportmail.ru/news/figure-skating/49054837/',\n",
            "  'News': 'Фигуристам поднимают возрастной ценз. Чем это грозит для России',\n",
            "  'Source': 'РБК'},\n",
            " {'Data': '2021-12-03T03:49:42+03:00',\n",
            "  'Link': 'https://news.mail.ru/society/49055168/',\n",
            "  'News': 'Глава РФПИ объяснил, почему ВОЗ не признает «Спутник V»',\n",
            "  'Source': '© РИА Новости'},\n",
            " {'Data': '2021-12-03T15:03:24+03:00',\n",
            "  'Link': 'https://news.mail.ru/society/49064813/',\n",
            "  'News': 'Ученые нашли народ, который процветал во время «конца света»',\n",
            "  'Source': 'Новости Mail.ru'},\n",
            " {'Data': '2021-12-03T14:19:31+03:00',\n",
            "  'Link': 'https://news.mail.ru/society/49063354/',\n",
            "  'News': 'В Германии назвали слово года',\n",
            "  'Source': '© РИА Новости'}]\n"
          ]
        }
      ]
    },
    {
      "cell_type": "code",
      "metadata": {
        "id": "tM79l4k4YHSO"
      },
      "source": [
        "for news in list_all_news:\n",
        "  collection.insert_one(news)"
      ],
      "execution_count": null,
      "outputs": []
    },
    {
      "cell_type": "code",
      "metadata": {
        "colab": {
          "base_uri": "https://localhost:8080/"
        },
        "id": "Q-aZt9VuYHPP",
        "outputId": "d8da208d-ab82-4d4f-d5f7-0ebe592c0b4d"
      },
      "source": [
        "list(collection.find())"
      ],
      "execution_count": null,
      "outputs": [
        {
          "output_type": "execute_result",
          "data": {
            "text/plain": [
              "[{'Data': '2021-12-01',\n",
              "  'Link': 'https://news.mail.ru/politics/49033287/',\n",
              "  'News': 'Нуланд пригрозила России новыми санкциями за Украину',\n",
              "  'Source': '© РИА Новости',\n",
              "  '_id': ObjectId('61a7c752b15d5345b74afc45')},\n",
              " {'Data': '2021-12-01',\n",
              "  'Link': 'https://sportmail.ru/news/sync-swimming/49030896/',\n",
              "  'News': 'Трехкратная чемпионка Игр завершила карьеру ради работы в Кремле',\n",
              "  'Source': 'РБК',\n",
              "  '_id': ObjectId('61a7c752b15d5345b74afc46')},\n",
              " {'Data': '2021-12-01',\n",
              "  'Link': 'https://news.mail.ru/society/49024348/',\n",
              "  'News': 'В Москве простились с Александром Градским (фото)',\n",
              "  'Source': 'Коммерсантъ',\n",
              "  '_id': ObjectId('61a7c752b15d5345b74afc47')},\n",
              " {'Data': '2021-12-01',\n",
              "  'Link': 'https://news.mail.ru/economics/49035403/',\n",
              "  'News': 'Размер средней зарплаты в России превысил 54 000 рублей',\n",
              "  'Source': 'Ведомости',\n",
              "  '_id': ObjectId('61a7c752b15d5345b74afc48')},\n",
              " {'Data': '2021-12-01',\n",
              "  'Link': 'https://news.mail.ru/society/49034720/',\n",
              "  'News': 'В Китае заявили об открытии антитела против всех штаммов SARS',\n",
              "  'Source': 'РБК',\n",
              "  '_id': ObjectId('61a7c752b15d5345b74afc49')},\n",
              " {'Data': '2021-12-01',\n",
              "  'Link': 'https://news.mail.ru/economics/49035403/',\n",
              "  'News': 'Размер средней зарплаты в России превысил 54 000 рублей',\n",
              "  'Source': 'Ведомости',\n",
              "  '_id': ObjectId('61a7c752b15d5345b74afc4a')},\n",
              " {'Data': '2021-12-01',\n",
              "  'Link': 'https://news.mail.ru/society/49034720/',\n",
              "  'News': 'В Китае заявили об открытии антитела против всех штаммов SARS',\n",
              "  'Source': 'РБК',\n",
              "  '_id': ObjectId('61a7c752b15d5345b74afc4b')},\n",
              " {'Data': '2021-12-01',\n",
              "  'Link': 'https://news.mail.ru/politics/49033884/',\n",
              "  'News': 'США призвали Киев проявить сдержанность в отношениях с Россией',\n",
              "  'Source': 'Известия',\n",
              "  '_id': ObjectId('61a7c752b15d5345b74afc4c')},\n",
              " {'Data': '2021-12-01',\n",
              "  'Link': 'https://news.mail.ru/society/49027242/',\n",
              "  'News': 'Назван самый дорогой город для жизни в мире',\n",
              "  'Source': 'Новости Mail.ru',\n",
              "  '_id': ObjectId('61a7c752b15d5345b74afc4d')},\n",
              " {'Data': '2021-12-01',\n",
              "  'Link': 'https://news.mail.ru/economics/49030688/',\n",
              "  'News': 'Путин поручил найти средства для повышения зарплат бюджетников',\n",
              "  'Source': 'Ведомости',\n",
              "  '_id': ObjectId('61a7c752b15d5345b74afc4e')},\n",
              " {'Data': '2021-12-01',\n",
              "  'Link': 'https://news.mail.ru/society/44226108/',\n",
              "  'News': 'Фото дня: в Якутске зажгли огни первой новогодней елки',\n",
              "  'Source': 'Новости Mail.ru',\n",
              "  '_id': ObjectId('61a7c752b15d5345b74afc4f')},\n",
              " {'Data': '2021-12-01',\n",
              "  'Link': 'https://sportmail.ru/news/football-worldcup/49030968/',\n",
              "  'News': 'Кудряшов получил более 500 писем после матча с Хорватией',\n",
              "  'Source': 'Sport24',\n",
              "  '_id': ObjectId('61a7c752b15d5345b74afc50')},\n",
              " {'Data': '2021-12-01',\n",
              "  'Link': 'https://news.mail.ru/society/49029189/',\n",
              "  'News': 'Ученые рассказали, как обеззаразить одноразовую маску',\n",
              "  'Source': 'Новости Mail.ru',\n",
              "  '_id': ObjectId('61a7c752b15d5345b74afc51')}]"
            ]
          },
          "metadata": {},
          "execution_count": 125
        }
      ]
    }
  ]
}