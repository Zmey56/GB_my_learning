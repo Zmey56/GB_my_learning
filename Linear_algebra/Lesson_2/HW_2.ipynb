{
  "nbformat": 4,
  "nbformat_minor": 0,
  "metadata": {
    "colab": {
      "name": "HW_2.ipynb",
      "provenance": []
    },
    "kernelspec": {
      "name": "python3",
      "display_name": "Python 3"
    },
    "language_info": {
      "name": "python"
    }
  },
  "cells": [
    {
      "cell_type": "markdown",
      "source": [
        "# Практическое задание 1"
      ],
      "metadata": {
        "id": "6a1zICQXU_9V"
      }
    },
    {
      "cell_type": "markdown",
      "source": [
        "__1.__ Установите, какие произведения матриц $AB$ и $BA$ определены, и найдите размерности полученных матриц:\n",
        "\n",
        "   а) $A$ — матрица $4\\times 2$, $B$ — матрица $4\\times 2$;\n",
        "    \n",
        "   б) $A$ — матрица $2\\times 5$, $B$ — матрица $5\\times 3$;\n",
        "    \n",
        "   в) $A$ — матрица $8\\times 3$, $B$ — матрица $3\\times 8$;\n",
        "    \n",
        "   г) $A$ — квадратная матрица $4\\times 4$, $B$ — квадратная матрица $4\\times 4$.\n",
        "\n",
        "\n",
        "   Если количество столбцов в первой матрице соответствует количеству строк во второй, то можно сказать, что произведение матриц определено.\n",
        "\n",
        "а) произведение матриц неопределено, 2 не равно 4;\n",
        "\n",
        "б) произведение матриц определено, 5 = 5, размерность полученной матрицы 2×3;\n",
        "\n",
        "в) произведение матриц определено, 3 = 3, размерность полученной матрицыь 8×8;\n",
        "\n",
        "г) произведение матриц определено, 4 = 4, размерность полученной матрицы 4×4."
      ],
      "metadata": {
        "id": "4XXDD2IYU-mY"
      }
    },
    {
      "cell_type": "markdown",
      "source": [
        "__2.__ Найдите сумму и произведение матриц $A=\\begin{pmatrix}\n",
        "1 & -2\\\\ \n",
        "3 & 0\n",
        "\\end{pmatrix}$ и $B=\\begin{pmatrix}\n",
        "4 & -1\\\\ \n",
        "0 & 5\n",
        "\\end{pmatrix}.$"
      ],
      "metadata": {
        "id": "PYEdywjRVTJI"
      }
    },
    {
      "cell_type": "code",
      "execution_count": 1,
      "metadata": {
        "id": "CF69epb1UebH"
      },
      "outputs": [],
      "source": [
        "import numpy as np"
      ]
    },
    {
      "cell_type": "code",
      "source": [
        "a = np.array([[1, -2], [3, 0]])\n",
        "print(f'Матрица:\\n{a}')\n",
        "\n",
        "b = np.array([[4, -1], [0, 5]])\n",
        "print(f'Матрица:\\n{b}')"
      ],
      "metadata": {
        "colab": {
          "base_uri": "https://localhost:8080/"
        },
        "id": "J2jT_L0nVaUV",
        "outputId": "bad9f8ae-fa27-4aa3-a8d6-04244e2a5269"
      },
      "execution_count": 2,
      "outputs": [
        {
          "output_type": "stream",
          "name": "stdout",
          "text": [
            "Матрица:\n",
            "[[ 1 -2]\n",
            " [ 3  0]]\n",
            "Матрица:\n",
            "[[ 4 -1]\n",
            " [ 0  5]]\n"
          ]
        }
      ]
    },
    {
      "cell_type": "markdown",
      "source": [
        "Cумма матриц"
      ],
      "metadata": {
        "id": "DyK0f9zTViF3"
      }
    },
    {
      "cell_type": "code",
      "source": [
        "print(f'Матрица С = A + B\\n{a + b}')"
      ],
      "metadata": {
        "colab": {
          "base_uri": "https://localhost:8080/"
        },
        "id": "AyFvCl9nVc-I",
        "outputId": "ea899778-c13d-41fc-f545-5b780717d2a1"
      },
      "execution_count": 3,
      "outputs": [
        {
          "output_type": "stream",
          "name": "stdout",
          "text": [
            "Матрица С = A + B\n",
            "[[ 5 -3]\n",
            " [ 3  5]]\n"
          ]
        }
      ]
    },
    {
      "cell_type": "markdown",
      "source": [
        "Произведение матриц"
      ],
      "metadata": {
        "id": "8xUOAO_CVrOx"
      }
    },
    {
      "cell_type": "code",
      "source": [
        "print(f'Матрица AB\\n{np.dot(a, b)}')"
      ],
      "metadata": {
        "colab": {
          "base_uri": "https://localhost:8080/"
        },
        "id": "_H4jCNyDVmao",
        "outputId": "b139dc68-0788-47f6-baa2-dc664541e3c3"
      },
      "execution_count": 4,
      "outputs": [
        {
          "output_type": "stream",
          "name": "stdout",
          "text": [
            "Матрица AB\n",
            "[[  4 -11]\n",
            " [ 12  -3]]\n"
          ]
        }
      ]
    },
    {
      "cell_type": "markdown",
      "source": [
        "__3.__ Из закономерностей сложения и умножения матриц на число можно сделать вывод, что матрицы одного размера образуют линейное пространство. Вычислите линейную комбинацию $3A-2B+4C$ для матриц $A=\\begin{pmatrix}\n",
        "1 & 7\\\\ \n",
        "3 & -6\n",
        "\\end{pmatrix}$, $B=\\begin{pmatrix}\n",
        "0 & 5\\\\ \n",
        "2 & -1\n",
        "\\end{pmatrix}$, $C=\\begin{pmatrix}\n",
        "2 & -4\\\\ \n",
        "1 & 1\n",
        "\\end{pmatrix}.$"
      ],
      "metadata": {
        "id": "99V0kk17Vzvh"
      }
    },
    {
      "cell_type": "code",
      "source": [
        "A = np.array([[1, 7], [3, -6]])\n",
        "B = np.array([[0, 5], [2, -1]])\n",
        "C = np.array([[2, -4], [1, 1]])\n",
        "\n",
        "print(f'Матрица:\\n{A}')\n",
        "print(f'Матрица:\\n{B}')\n",
        "print(f'Матрица:\\n{C}')\n",
        "\n",
        "print(f'Комбинация 3𝐴−2𝐵+4𝐶\\n{3*A -2*B + 4*C}')"
      ],
      "metadata": {
        "colab": {
          "base_uri": "https://localhost:8080/"
        },
        "id": "1ZVzrLt5VqZj",
        "outputId": "26acff1f-ea7e-4b98-b330-063846878fa5"
      },
      "execution_count": 5,
      "outputs": [
        {
          "output_type": "stream",
          "name": "stdout",
          "text": [
            "Матрица:\n",
            "[[ 1  7]\n",
            " [ 3 -6]]\n",
            "Матрица:\n",
            "[[ 0  5]\n",
            " [ 2 -1]]\n",
            "Матрица:\n",
            "[[ 2 -4]\n",
            " [ 1  1]]\n",
            "Комбинация 3𝐴−2𝐵+4𝐶\n",
            "[[ 11  -5]\n",
            " [  9 -12]]\n"
          ]
        }
      ]
    },
    {
      "cell_type": "markdown",
      "source": [
        "__4.__ Дана матрица $A=\\begin{pmatrix}\n",
        "4 & 1\\\\ \n",
        "5 & -2\\\\ \n",
        "2 & 3\n",
        "\\end{pmatrix}$.\n",
        "Вычислите $AA^{T}$ и $A^{T}A$."
      ],
      "metadata": {
        "id": "45d9zhcjV_ZK"
      }
    },
    {
      "cell_type": "code",
      "source": [
        "A = np.array([[4, 1], [5, -2], [2, 3]])\n",
        "print(f'Матрица:\\n{A}')\n",
        "\n",
        "print(f'Транспонированная матрица:\\n{A.T}')\n",
        "print(f'Матрица 𝐴𝐴𝑇:\\n{np.dot(A, A.T)}')\n",
        "print(f'Матрица 𝐴𝑇𝐴:\\n{np.dot(A.T, A)}')"
      ],
      "metadata": {
        "colab": {
          "base_uri": "https://localhost:8080/"
        },
        "id": "HcZWIXn2V8Jp",
        "outputId": "4fb85202-9f07-46e7-aecd-70a89bf75581"
      },
      "execution_count": 6,
      "outputs": [
        {
          "output_type": "stream",
          "name": "stdout",
          "text": [
            "Матрица:\n",
            "[[ 4  1]\n",
            " [ 5 -2]\n",
            " [ 2  3]]\n",
            "Транспонированная матрица:\n",
            "[[ 4  5  2]\n",
            " [ 1 -2  3]]\n",
            "Матрица 𝐴𝐴𝑇:\n",
            "[[17 18 11]\n",
            " [18 29  4]\n",
            " [11  4 13]]\n",
            "Матрица 𝐴𝑇𝐴:\n",
            "[[45  0]\n",
            " [ 0 14]]\n"
          ]
        }
      ]
    },
    {
      "cell_type": "markdown",
      "source": [
        "# Практическое задание 2"
      ],
      "metadata": {
        "id": "G5uCL76ZWN11"
      }
    },
    {
      "cell_type": "markdown",
      "source": [
        "__1.__ Вычислите определитель:\n",
        "\n",
        "   a)\n",
        "\n",
        "$$\\begin{vmatrix}\n",
        "sinx & -cosx\\\\ \n",
        "cosx & sinx\n",
        "\\end{vmatrix};$$\n",
        "\n",
        "   б)\n",
        "    \n",
        "$$\\begin{vmatrix}\n",
        "4 & 2 & 3\\\\ \n",
        "0 & 5 & 1\\\\ \n",
        "0 & 0 & 9\n",
        "\\end{vmatrix};$$\n",
        "    \n",
        "   в)\n",
        "\n",
        "$$\\begin{vmatrix}\n",
        "1 & 2 & 3\\\\ \n",
        "4 & 5 & 6\\\\ \n",
        "7 & 8 & 9\n",
        "\\end{vmatrix}.$$"
      ],
      "metadata": {
        "id": "rzke00IIWTkv"
      }
    },
    {
      "cell_type": "code",
      "source": [
        "a = np.array([[np.sin(0), -np.cos(0)], [np.cos(0), np.sin(0)]])\n",
        "print(f'Матрица:\\n{a}')\n",
        "print(f'Определитель:\\n{np.linalg.det(a):.0f}')"
      ],
      "metadata": {
        "colab": {
          "base_uri": "https://localhost:8080/"
        },
        "id": "Jz90o5cEWEih",
        "outputId": "68a18a14-a5bc-40e7-e0b8-ba8d31a66b60"
      },
      "execution_count": 7,
      "outputs": [
        {
          "output_type": "stream",
          "name": "stdout",
          "text": [
            "Матрица:\n",
            "[[ 0. -1.]\n",
            " [ 1.  0.]]\n",
            "Определитель:\n",
            "1\n"
          ]
        }
      ]
    },
    {
      "cell_type": "code",
      "source": [
        "b = np.array([[4, 2, 3], [0, 5, 1], [0, 0, 9]])\n",
        "print(f'Матрица:\\n{b}')\n",
        "print(f'Определитель:\\n{np.linalg.det(b):.0f}')"
      ],
      "metadata": {
        "colab": {
          "base_uri": "https://localhost:8080/"
        },
        "id": "eohc0YTiWYEu",
        "outputId": "69fe339a-6bcf-4761-a820-79167a5f5777"
      },
      "execution_count": 8,
      "outputs": [
        {
          "output_type": "stream",
          "name": "stdout",
          "text": [
            "Матрица:\n",
            "[[4 2 3]\n",
            " [0 5 1]\n",
            " [0 0 9]]\n",
            "Определитель:\n",
            "180\n"
          ]
        }
      ]
    },
    {
      "cell_type": "code",
      "source": [
        "c = np.array([[1, 2, 3], [4, 5, 6], [7, 8, 9]])\n",
        "print(f'Матрица:\\n{c}')\n",
        "print(f'Определитель:\\n{np.linalg.det(c):.0f}')"
      ],
      "metadata": {
        "colab": {
          "base_uri": "https://localhost:8080/"
        },
        "id": "WdkeaUMfWbOa",
        "outputId": "58c9a032-045a-446d-9d14-3156b2530102"
      },
      "execution_count": 9,
      "outputs": [
        {
          "output_type": "stream",
          "name": "stdout",
          "text": [
            "Матрица:\n",
            "[[1 2 3]\n",
            " [4 5 6]\n",
            " [7 8 9]]\n",
            "Определитель:\n",
            "0\n"
          ]
        }
      ]
    },
    {
      "cell_type": "markdown",
      "source": [
        "__2.__ Определитель матрицы $A$ равен $4$. Найдите:\n",
        "\n",
        "   а) $det(A^{2})$;\n",
        "    \n",
        "   б) $det(A^{T})$;\n",
        "    \n",
        "   в) $det(2A)$.\n",
        "   \n",
        "\n",
        "   a) Согласно свойству для двух квадратных матриц одинакового размера,\n",
        "   $$det(AB) = det(A)⋅det(B)$$\n",
        "   \n",
        "   $$det(A⋅A) = det(A)⋅det(A)=16$$\n",
        "\n",
        "   б) Определитель транспонированной матрицы равен определителю исходной:\n",
        "   $$det(A)^T = det(A) = 4$$\n",
        "\n",
        "   в) Умножение строки или столбца матрицы на число \n",
        "λ\n",
        " приведёт к умножению определителя матрицы на то же число в степени равной размеру одной из сторон.\n",
        "\n",
        "$$det(2A) = det(A)⋅2^n$$"
      ],
      "metadata": {
        "id": "FbdEF8D0WmL7"
      }
    },
    {
      "cell_type": "markdown",
      "source": [
        "__3.__  Докажите, что матрица:\n",
        "\n",
        "$$\\begin{pmatrix}\n",
        "-2 & 7 & -3\\\\ \n",
        "4 & -14 & 6\\\\ \n",
        "-3 & 7 & 13\n",
        "\\end{pmatrix}$$\n",
        "   \n",
        "вырожденная."
      ],
      "metadata": {
        "id": "2Hs14o3cap6T"
      }
    },
    {
      "cell_type": "code",
      "source": [
        "d = np.array([[-2, 7, -3], [4, -14, 6], [-3, 7, 13]])\n",
        "print(f'Матрица:\\n{d}')\n",
        "print(f'Определитель:\\n{np.linalg.det(d):.0f}')"
      ],
      "metadata": {
        "colab": {
          "base_uri": "https://localhost:8080/"
        },
        "id": "k4ClVt1zWeoP",
        "outputId": "c8a08f24-2b8b-4758-f133-248b1273691e"
      },
      "execution_count": 18,
      "outputs": [
        {
          "output_type": "stream",
          "name": "stdout",
          "text": [
            "Матрица:\n",
            "[[ -2   7  -3]\n",
            " [  4 -14   6]\n",
            " [ -3   7  13]]\n",
            "Определитель:\n",
            "0\n"
          ]
        }
      ]
    },
    {
      "cell_type": "markdown",
      "source": [
        "Матрица называется сингулярной или вырожденной, если её определитель равен нулю"
      ],
      "metadata": {
        "id": "NPYk8g8waz8I"
      }
    },
    {
      "cell_type": "markdown",
      "source": [
        "__4.__ Найдите ранг матрицы:\n",
        "\n",
        "   а) $\\begin{pmatrix}\n",
        "1 & 2 & 3\\\\ \n",
        "1 & 1 & 1\\\\ \n",
        "2 & 3 & 4\n",
        "\\end{pmatrix};$\n",
        "\n",
        "   б) $\\begin{pmatrix}\n",
        "0 & 0 & 2 & 1\\\\ \n",
        "0 & 0 & 2 & 2\\\\ \n",
        "0 & 0 & 4 & 3\\\\ \n",
        "2 & 3 & 5 & 6\n",
        "\\end{pmatrix}.$"
      ],
      "metadata": {
        "id": "HfuZ6cEla4Gn"
      }
    },
    {
      "cell_type": "code",
      "source": [
        "x = [1, 2, 3]\n",
        "y = [1, 1, 1]\n",
        "z = [2, 3, 4]\n",
        "\n",
        "a = np.array([x, y, z])\n",
        "r = np.linalg.matrix_rank(a)\n",
        "\n",
        "print(f'Ранг матрицы: {r}')"
      ],
      "metadata": {
        "colab": {
          "base_uri": "https://localhost:8080/"
        },
        "id": "8N3XzlsYYdm-",
        "outputId": "f1b74e87-f746-4fbb-b000-826b447715ff"
      },
      "execution_count": 19,
      "outputs": [
        {
          "output_type": "stream",
          "name": "stdout",
          "text": [
            "Ранг матрицы: 2\n"
          ]
        }
      ]
    },
    {
      "cell_type": "code",
      "source": [
        "x1 = [0, 0, 2, 1]\n",
        "y1 = [0, 0, 2, 2]\n",
        "z1 = [0, 0, 4, 3]\n",
        "d = [2, 3, 5, 6]\n",
        "\n",
        "b = np.array([x1, y1, z1, d])\n",
        "r1 = np.linalg.matrix_rank(b)\n",
        "\n",
        "print(f'Ранг матрицы: {r1}')"
      ],
      "metadata": {
        "colab": {
          "base_uri": "https://localhost:8080/"
        },
        "id": "UBthFTCFYjIr",
        "outputId": "aff2df11-f299-4a7c-ba5f-7936445690b2"
      },
      "execution_count": 20,
      "outputs": [
        {
          "output_type": "stream",
          "name": "stdout",
          "text": [
            "Ранг матрицы: 3\n"
          ]
        }
      ]
    },
    {
      "cell_type": "code",
      "source": [
        ""
      ],
      "metadata": {
        "id": "VSWwfd23aGDz"
      },
      "execution_count": null,
      "outputs": []
    }
  ]
}