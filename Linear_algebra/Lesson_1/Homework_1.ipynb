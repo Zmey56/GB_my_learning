{
  "nbformat": 4,
  "nbformat_minor": 0,
  "metadata": {
    "colab": {
      "name": "Homework_1.ipynb",
      "provenance": []
    },
    "kernelspec": {
      "name": "python3",
      "display_name": "Python 3"
    },
    "language_info": {
      "name": "python"
    }
  },
  "cells": [
    {
      "cell_type": "markdown",
      "source": [
        "## Практическое задание 1"
      ],
      "metadata": {
        "id": "ZckPcrdAVdWp"
      }
    },
    {
      "cell_type": "markdown",
      "source": [
        "__1.__ Исследуйте на линейную зависимость:\n",
        "\n",
        "$$f_{1}(x)=e^{x}, f_{2}(x)=1, f_{3}(x)=x+1, f_{4}(x)=x-e^{x}.$$"
      ],
      "metadata": {
        "id": "JrsgIDxtVhsX"
      }
    },
    {
      "cell_type": "markdown",
      "source": [
        "Мы можем выразить одну функцию, через другую:\n",
        "\n",
        "$f_{4}(x)=f_{3}(x)-f_{2}(x)-f_{1}(x)$\n",
        "\n",
        "**Таким образом мы видим линейную зависимость.**"
      ],
      "metadata": {
        "id": "CRAQJBIwV48n"
      }
    },
    {
      "cell_type": "markdown",
      "source": [
        "__2.__ Исследуйте на линейную зависимость:\n",
        "$$f_{1}(x)=2, f_{2}(x)=x, f_{3}(x)=x^{2}, f_{4}(x)=(x+1)^{2}$$\n",
        "\n",
        "Сдесь мы можем выразить одну функцию через другую.\n",
        "\n",
        "$f_{4}(x)=f_{3}(x)+2f_{2}(x)+f_{1}(x)$\n",
        "\n",
        "**Таким образом мы видим линейную зависимость.**"
      ],
      "metadata": {
        "id": "rU12-VGfWJgH"
      }
    },
    {
      "cell_type": "markdown",
      "source": [
        "__3.__ Найдите координаты вектора $x = (2, 3, 5)\\in \\mathbb{R}^{3}$ в базисе $b_{1}=(0, 0, 10)$, $b_{2}=(2, 0, 0)$, $b_{3}=(0, 1, 0)$.\n",
        "\n",
        " Стандартный базис линейного пространства $\\mathbb{R}^{3}$ образует векторы\n",
        "$e_{1}=(1, 0, 0)$, $e_{2}=(0, 1, 0)$, $e_{3}=(0, 0, 1)$\n",
        "\n",
        "Решение\n",
        "\n",
        "x=(2,3,5)=(2,0,0)+(0,3,0)+(0,0,5)=1*(2,0,0)+3*(0,1,0)+0.5*(0,0,10)=0.5b1+1*b2+3*b3=(0.5,1,3)\n",
        "\n",
        "координаты вектора x в стандартном базисе (- 0.5,1,3)."
      ],
      "metadata": {
        "id": "JOW1Q1-KWujv"
      }
    },
    {
      "cell_type": "markdown",
      "source": [
        "__4.__ Найдите координаты вектора $3x^{2}-2x+2\\in\\mathbb{R}^{3}[x]$:\n",
        "\n",
        "а) в базисе $1$, $x$, $x^{2}$;\n",
        "\n",
        "б) в базисе $x^{2}$, $x-1$, $1$.\n",
        "\n",
        "Решение\n",
        "\n",
        "Для базиса $1,x,x^{2}$  координаты (2, -2,3)\n",
        "\n",
        "Для базиса $x^{2},x-1,1$  приведем вектор к нужному виду: $3x^{2}-2x+2=3x^{2}-2(x-1)$\n",
        "\n",
        "тогда координаты для базиса $x^{2},x-1,1$ будут (3,-2,0)"
      ],
      "metadata": {
        "id": "FHBK5FrRXfVn"
      }
    },
    {
      "cell_type": "markdown",
      "source": [
        "__5.__ Установите, считается ли линейным подпространством:\n",
        "\n",
        "а) совокупность всех векторов трёхмерного пространства, у которых по крайней мере одна из первых двух координат равна нулю;\n",
        "    \n",
        "б) все векторы, считающиеся линейными комбинациями данных векторов $\\{u_{1}, u_{2} \\ldots, u_{n}\\}$.\n",
        "\n",
        "Решение\n",
        "\n",
        "а) Возьмем два вектора для примера a=(0,a2,a3) и b=(b1,0,b3)\n",
        "Сумма данных векторов a+b=(b1,a2,a3+b3).\n",
        "Ни одна из двух первых координат не равна нулю, следовательно, данная совокупность векторов не является линейным подпространством.\n",
        "\n",
        "б) Т.к. сумма линейных комбинаций векторов и произведение линейной комбинации этих векторов на число также являются линейными комбинациями данных векторов, то множество всех линейных комбинаций векторов является замкнутым относительно сложения векторов и умножения векторов на число, т.е. подпространство считается линейным"
      ],
      "metadata": {
        "id": "N4Yctfu4YAnR"
      }
    },
    {
      "cell_type": "markdown",
      "source": [
        "# Практическое задание 2"
      ],
      "metadata": {
        "id": "Kp7mWxDAZMDg"
      }
    },
    {
      "cell_type": "markdown",
      "source": [
        "__1.__ Найдите скалярное произведение векторов $x, y \\in \\mathbb{R}$:<br>\n",
        "а) $x=(0,-3, 6),~y=(-4, 7, 9);$<br>\n",
        "б) $x=(7, -4, 0, 1),~y=(-3, 1, 11, 2).$"
      ],
      "metadata": {
        "id": "HiMFN06UZXlq"
      }
    },
    {
      "cell_type": "code",
      "source": [
        "import numpy as np\n",
        "from numpy.linalg import norm"
      ],
      "metadata": {
        "id": "onxEp7Q0VhFG"
      },
      "execution_count": 1,
      "outputs": []
    },
    {
      "cell_type": "code",
      "execution_count": 2,
      "metadata": {
        "colab": {
          "base_uri": "https://localhost:8080/"
        },
        "id": "s-rrQVGdVW4t",
        "outputId": "e7876af8-710d-47d2-c667-ac8fe1770a02"
      },
      "outputs": [
        {
          "output_type": "stream",
          "name": "stdout",
          "text": [
            "a * b = 33\n"
          ]
        }
      ],
      "source": [
        "x = np.array([0, -3, 6])\n",
        "y = np.array([-4, 7, 9])\n",
        "print(\"a * b =\", np.dot(x, y))"
      ]
    },
    {
      "cell_type": "code",
      "source": [
        "x = np.array([7, -4, 0, 1])\n",
        "y = np.array([-3, 1, 11, 2])\n",
        "print(\"a * b =\", np.dot(x, y))"
      ],
      "metadata": {
        "colab": {
          "base_uri": "https://localhost:8080/"
        },
        "id": "YKWn-RulZq9f",
        "outputId": "35623351-4e74-47d6-a8ba-fa1e91c8a89e"
      },
      "execution_count": 3,
      "outputs": [
        {
          "output_type": "stream",
          "name": "stdout",
          "text": [
            "a * b = -23\n"
          ]
        }
      ]
    },
    {
      "cell_type": "markdown",
      "source": [
        "__2.__ Найдите нормы векторов $(4, 2, 4)$ и $(12, 3, 4)$ и угол между ними."
      ],
      "metadata": {
        "id": "6_vZYIGHZkEw"
      }
    },
    {
      "cell_type": "code",
      "source": [
        "a = np.array([4, 2, 4])\n",
        "b = np.array([12, 3, 4])\n",
        "\n",
        "print(norm(a))\n",
        "print(norm(b))\n",
        "\n",
        "cos_phi = np.dot(a, b) / norm(a) / norm(b)\n",
        "print(f'Косинус угла между векторами {cos_phi:.2f}')\n",
        "print(f'Угол {np.arccos(cos_phi):.2f}')"
      ],
      "metadata": {
        "colab": {
          "base_uri": "https://localhost:8080/"
        },
        "id": "qyIUfStVZgnr",
        "outputId": "fe4dcb53-d607-46a5-8f39-55262c1b3f5b"
      },
      "execution_count": 4,
      "outputs": [
        {
          "output_type": "stream",
          "name": "stdout",
          "text": [
            "6.0\n",
            "13.0\n",
            "Косинус угла между векторами 0.90\n",
            "Угол 0.46\n"
          ]
        }
      ]
    },
    {
      "cell_type": "markdown",
      "source": [
        "__3.__ Определите, будет ли линейное пространство евклидовым, если за скалярное произведение принять:<br>\n",
        "а) произведение длин векторов;<br>\n",
        "б) утроенное обычное скалярное произведение векторов?<br>\n",
        "\n",
        "Линейное пространство называется евклидовым,если в нем определено скалярное произведение. Значит ответ на оба вопроса - ДА"
      ],
      "metadata": {
        "id": "J3hPhQ3tZz44"
      }
    },
    {
      "cell_type": "markdown",
      "source": [
        "__4.__ Выясните, какие из нижеперечисленных векторов образуют ортонормированный базис в линейном пространстве $\\mathbb{R}^{3}$:<br>\n",
        "а) $(1,0,0),(0,0,1);$ <br>\n",
        "б) $(1/\\sqrt{2},-1/\\sqrt{2},0),(1/\\sqrt{2},1/\\sqrt{2},0), (0,0,1);$<br>\n",
        "в) $(1/2, -1/2, 0), (0, 1/2, 1/2), (0,0,1);$<br>\n",
        "г) $(1,0,0),(0,1,0),(0,0,1)?$ "
      ],
      "metadata": {
        "id": "5oSVLmN9aKAn"
      }
    },
    {
      "cell_type": "code",
      "source": [
        "# а)  (1,0,0),(0,0,1);\n",
        "a = np.array([1, 0, 0])\n",
        "b = np.array([0, 0, 1])\n",
        "print('Ортонормированный базис', np.dot(a, b))"
      ],
      "metadata": {
        "colab": {
          "base_uri": "https://localhost:8080/"
        },
        "id": "-CyNu7ReZwkS",
        "outputId": "4f8f5ede-b36d-4530-abdf-06c2058a7c9e"
      },
      "execution_count": 5,
      "outputs": [
        {
          "output_type": "stream",
          "name": "stdout",
          "text": [
            "Ортонормированный базис 0\n"
          ]
        }
      ]
    },
    {
      "cell_type": "code",
      "source": [
        "#б)  (1/2⎯⎯√,−1/2⎯⎯√,0),(1/2⎯⎯√,1/2⎯⎯√,0),(0,0,1); \n",
        "c = np.array([(1/(2**0.5)), (-1/(2**0.5)), 0])\n",
        "d = np.array([(1/(2**0.5)), (1/(2**0.5)), 0])\n",
        "b = np.array([0, 0, 1])\n",
        "print('Ортонормированный базис')\n",
        "print(np.dot(c, d))\n",
        "print(np.dot(c, b))\n",
        "print(np.dot(b, d))\n",
        "print(f'{norm(c):.1f}, {norm(d):.1f}, {norm(b):.1f}')"
      ],
      "metadata": {
        "colab": {
          "base_uri": "https://localhost:8080/"
        },
        "id": "i3-HM7aCamY4",
        "outputId": "76477e62-13fa-4809-e7fc-aecfea9e9055"
      },
      "execution_count": 6,
      "outputs": [
        {
          "output_type": "stream",
          "name": "stdout",
          "text": [
            "Ортонормированный базис\n",
            "0.0\n",
            "0.0\n",
            "0.0\n",
            "1.0, 1.0, 1.0\n"
          ]
        }
      ]
    },
    {
      "cell_type": "code",
      "source": [
        "#в)  (1/2,−1/2,0),(0,1/2,1/2),(0,0,1); \n",
        "e = np.array([0.5, -0.5, 0])\n",
        "f = np.array([0, 0.5, 0.5])\n",
        "b = np.array([0, 0, 1])\n",
        "print('Не ортогональный, не ортонормированный базис')\n",
        "print(np.dot(e, f))\n",
        "print(np.dot(e, b))\n",
        "print(np.dot(b, f))\n",
        "print(norm(e), norm(f), norm(b))"
      ],
      "metadata": {
        "colab": {
          "base_uri": "https://localhost:8080/"
        },
        "id": "xxmt2rquapqB",
        "outputId": "93656407-1f28-4be2-c33a-e93b5547a0e7"
      },
      "execution_count": 7,
      "outputs": [
        {
          "output_type": "stream",
          "name": "stdout",
          "text": [
            "Не ортогональный, не ортонормированный базис\n",
            "-0.25\n",
            "0.0\n",
            "0.5\n",
            "0.7071067811865476 0.7071067811865476 1.0\n"
          ]
        }
      ]
    },
    {
      "cell_type": "code",
      "source": [
        "#г)  (1,0,0),(0,1,0),(0,0,1)\n",
        "print('Ортонормированный базис')"
      ],
      "metadata": {
        "colab": {
          "base_uri": "https://localhost:8080/"
        },
        "id": "pREba8CFa1Bk",
        "outputId": "295bd17f-c087-429f-c5c7-3f161c71006d"
      },
      "execution_count": 8,
      "outputs": [
        {
          "output_type": "stream",
          "name": "stdout",
          "text": [
            "Ортонормированный базис\n"
          ]
        }
      ]
    },
    {
      "cell_type": "code",
      "source": [
        ""
      ],
      "metadata": {
        "id": "LqqRGveQa4_O"
      },
      "execution_count": null,
      "outputs": []
    }
  ]
}