{
 "cells": [
  {
   "cell_type": "markdown",
   "id": "8a7f5687",
   "metadata": {},
   "source": [
    "# Практическое задание 1"
   ]
  },
  {
   "cell_type": "markdown",
   "id": "d7d6b94d",
   "metadata": {},
   "source": [
    "__1.__ Решите систему уравнений методом Гаусса:\n",
    "\n",
    "$$\\begin{cases}\n",
    "x_{1}+x_{2}-x_{3}-2x_{4}=0, \\\\\n",
    "2x_{1}+x_{2}-x_{3}+x_{4}=-2, \\\\\n",
    "x_{1}+x_{2}-3x_{3}+x_{4}=4.\n",
    "\\end{cases}$$"
   ]
  },
  {
   "cell_type": "code",
   "execution_count": 1,
   "id": "22201030",
   "metadata": {},
   "outputs": [],
   "source": [
    "import numpy as np"
   ]
  },
  {
   "cell_type": "code",
   "execution_count": 2,
   "id": "4b44eab2",
   "metadata": {},
   "outputs": [],
   "source": [
    "def gauss_method(A, b, n):\n",
    "    rnk_A = np.linalg.matrix_rank(A)\n",
    "    rnk_Ab = np.linalg.matrix_rank(np.hstack((A, b)))\n",
    "    if  rnk_A == rnk_Ab == n:\n",
    "        return 'Cистема имеет единственное решение'\n",
    "    elif (rnk_A == rnk_Ab) and (rnk_A < n):\n",
    "        return 'Cистема имеет бесконечное количество решений'\n",
    "    elif rnk_A < rnk_Ab:\n",
    "        return 'Cистема несовместна'"
   ]
  },
  {
   "cell_type": "code",
   "execution_count": 3,
   "id": "dc8c8513",
   "metadata": {},
   "outputs": [
    {
     "data": {
      "text/plain": [
       "'Cистема имеет бесконечное количество решений'"
      ]
     },
     "execution_count": 3,
     "metadata": {},
     "output_type": "execute_result"
    }
   ],
   "source": [
    "A = np.array([[1, 1, -1, -2], [2, 1, -1, 1], [1, 1, -3, 1]])\n",
    "b = np.array([0, -2, 4]).reshape(-1, 1)\n",
    "gauss_method(A, b, 4)"
   ]
  },
  {
   "cell_type": "markdown",
   "id": "b41a771a",
   "metadata": {},
   "source": [
    "__2.__ Проверьте на совместность и выясните, сколько решений будет иметь система линейных уравнений:\n",
    "\n",
    "   а) $\\begin{cases}\n",
    "3x_{1}-x_{2}+x_{3}=4, \\\\\n",
    "2x_{1}-5x_{2}-3x_{3}=-17, \\\\\n",
    "x_{1}+x_{2}-x_{3}=0;\n",
    "\\end{cases}$\n",
    "    \n",
    "   б) $\\begin{cases}\n",
    "2x_{1}-4x_{2}+6x_{3}=1, \\\\\n",
    "x_{1}-2x_{2}+3x_{3}=-2, \\\\\n",
    "3x_{1}-6x_{2}+9x_{3}=5;\n",
    "\\end{cases}$\n",
    "    \n",
    "   в) $\\begin{cases}\n",
    "x_{1}+2x_{2}+5x_{3}=4, \\\\\n",
    "3x_{1}+x_{2}-8x_{3}=-2. \n",
    "\\end{cases}$"
   ]
  },
  {
   "cell_type": "code",
   "execution_count": 4,
   "id": "d9bc9671",
   "metadata": {},
   "outputs": [
    {
     "data": {
      "text/plain": [
       "'Cистема имеет единственное решение'"
      ]
     },
     "execution_count": 4,
     "metadata": {},
     "output_type": "execute_result"
    }
   ],
   "source": [
    "A = np.array([[3, -1, 1], [2, -5, -3], [1, 1, -1]])\n",
    "b = np.array([4, 17, 0]).reshape(-1, 1)\n",
    "gauss_method(A, b, 3)"
   ]
  },
  {
   "cell_type": "code",
   "execution_count": 5,
   "id": "613cca3b",
   "metadata": {},
   "outputs": [
    {
     "data": {
      "text/plain": [
       "'Cистема несовместна'"
      ]
     },
     "execution_count": 5,
     "metadata": {},
     "output_type": "execute_result"
    }
   ],
   "source": [
    "A = np.array([[2, -4, 6], [1, -2, 3], [3, -6, 9]])\n",
    "b = np.array([1, -2, 5]).reshape(-1, 1)\n",
    "gauss_method(A, b, 3)"
   ]
  },
  {
   "cell_type": "code",
   "execution_count": 6,
   "id": "927ea8b1",
   "metadata": {},
   "outputs": [
    {
     "data": {
      "text/plain": [
       "'Cистема имеет бесконечное количество решений'"
      ]
     },
     "execution_count": 6,
     "metadata": {},
     "output_type": "execute_result"
    }
   ],
   "source": [
    "A = np.array([[1, 2, 5], [3, 1, -8]])\n",
    "b = np.array([4, -2]).reshape(-1, 1)\n",
    "gauss_method(A, b, 3)"
   ]
  },
  {
   "cell_type": "markdown",
   "id": "c942d394",
   "metadata": {},
   "source": [
    "__3.__ Проверьте на совместность и выясните, сколько решений будет иметь система линейных уравнений, заданная расширенной матрицей:\n",
    "\n",
    "$$\\tilde{A}=\\begin{pmatrix}\n",
    "\\left.\\begin{matrix}\n",
    "1 & 3 & -2 & 4\\\\ \n",
    "0 & 5 & 0 & 1\\\\ \n",
    "0 & 0 & 3 & 0\\\\ \n",
    "0 & 0 & 0 & 2\n",
    "\\end{matrix}\\right|\n",
    "\\begin{matrix}\n",
    "3\\\\ \n",
    "2\\\\\n",
    "4\\\\\n",
    "1\n",
    "\\end{matrix}\n",
    "\\end{pmatrix}.$$"
   ]
  },
  {
   "cell_type": "code",
   "execution_count": 7,
   "id": "62dd2aee",
   "metadata": {},
   "outputs": [
    {
     "data": {
      "text/plain": [
       "'Cистема имеет единственное решение'"
      ]
     },
     "execution_count": 7,
     "metadata": {},
     "output_type": "execute_result"
    }
   ],
   "source": [
    "A = np.array([[1, 3, -2, 4], [0, 5, 0, 1], [0, 0, 3, 0], [0, 0, 0, 2]])\n",
    "b = np.array([3, 2, 4, 1]).reshape(-1, 1)\n",
    "gauss_method(A, b, 4)"
   ]
  },
  {
   "cell_type": "markdown",
   "id": "688fab60",
   "metadata": {},
   "source": [
    "__4.__ Дана система линейных уравнений, заданная расширенной матрицей:\n",
    "\n",
    "$$\\tilde{A}=\\begin{pmatrix}\n",
    "\\left.\\begin{matrix}\n",
    "1 & 2 & 3\\\\ \n",
    "4 & 5 & 6\\\\ \n",
    "7 & 8 & 9\n",
    "\\end{matrix}\\right|\n",
    "\\begin{matrix}\n",
    "a\\\\ \n",
    "b\\\\\n",
    "c\n",
    "\\end{matrix}\n",
    "\\end{pmatrix}.$$\n",
    "\n",
    "Найдите соотношение между параметрами $a$, $b$ и $c$, при которых система считается несовместной."
   ]
  },
  {
   "cell_type": "markdown",
   "id": "c848bebe",
   "metadata": {},
   "source": [
    "Выполним простейшие преобразования над матрией (вычтем из второй первую строку умноженную на 4, а из третьей первую, умноженную на 7, после чего из третье строки вычтем вторую умноженную на 2) и получим"
   ]
  },
  {
   "cell_type": "markdown",
   "id": "85ff3ad5",
   "metadata": {},
   "source": [
    "$$\\tilde{A}=\\begin{pmatrix}\n",
    "\\left.\\begin{matrix}\n",
    "1 & 2 & 3\\\\ \n",
    "0 & -3 & -6\\\\ \n",
    "0 & 0 & 0\n",
    "\\end{matrix}\\right|\n",
    "\\begin{matrix}\n",
    "a\\\\ \n",
    "b-4a\\\\\n",
    "c+a-2b\n",
    "\\end{matrix}\n",
    "\\end{pmatrix}.$$"
   ]
  },
  {
   "cell_type": "markdown",
   "id": "fd94e978",
   "metadata": {},
   "source": [
    "Данная система несовместна, если $c+a-2b\\not = 0$ Решений бесконечно много, (a, b, c) = (1, 1, 0) "
   ]
  },
  {
   "cell_type": "markdown",
   "id": "c330d6ad",
   "metadata": {},
   "source": [
    "# Практическое задание 2"
   ]
  },
  {
   "cell_type": "markdown",
   "id": "a714a47b",
   "metadata": {},
   "source": [
    "__1.__ Решите систему уравнений методом Крамера:\n",
    "\n",
    "   а) $\\begin{cases}\n",
    "x_{1}-2x_{2}=1 \\\\\n",
    "3x_{1}-4x_{2}=7\n",
    "\\end{cases}$\n",
    "    \n",
    "   б) $\\begin{cases}\n",
    "2x_{1}-x_{2}+5x_{3}=10 \\\\\n",
    "x_{1}+x_{2}-3x_{3}=-2 \\\\\n",
    "2x_{1}+4x_{2}+x_{3}=1\n",
    "\\end{cases}$"
   ]
  },
  {
   "cell_type": "code",
   "execution_count": 10,
   "id": "b30fd1cb",
   "metadata": {},
   "outputs": [
    {
     "name": "stdout",
     "output_type": "stream",
     "text": [
      "det(A): 2.0000000000000004\n",
      "\n"
     ]
    }
   ],
   "source": [
    "A = np.array([[1, -2], [3, -4]])\n",
    "b = np.array([1, 7])\n",
    "\n",
    "det_A = np.linalg.det(A)\n",
    "\n",
    "\n",
    "print(f'det(A): {det_A}\\n')"
   ]
  },
  {
   "cell_type": "code",
   "execution_count": 11,
   "id": "bf6a7af0",
   "metadata": {},
   "outputs": [
    {
     "name": "stdout",
     "output_type": "stream",
     "text": [
      "A1:\n",
      "[[ 1 -2]\n",
      " [ 7 -4]]\n",
      "\n",
      "det(A1): 9.999999999999998\n",
      "\n",
      "A2:\n",
      "[[1 1]\n",
      " [3 7]]\n",
      "\n",
      "det(A2): 3.999999999999999\n",
      "\n",
      "x1 = 4.999999999999998\n",
      "x2 = 1.9999999999999991\n"
     ]
    }
   ],
   "source": [
    "# Определитель матрицы квадратной системы не равен 0, система совместна и имеет единственное решение.\n",
    "\n",
    "A1 = np.column_stack([b, A[:, 1]])\n",
    "det_A1 = np.linalg.det(A1)\n",
    "\n",
    "print(f'A1:\\n{A1}\\n')\n",
    "print(f'det(A1): {det_A1}\\n')\n",
    "\n",
    "A2 = np.column_stack([A[:, 0], b])\n",
    "det_A2 = np.linalg.det(A2)\n",
    "\n",
    "print(f'A2:\\n{A2}\\n')\n",
    "print(f'det(A2): {det_A2}\\n')\n",
    "\n",
    "print(f'x1 = {det_A1 / det_A}')\n",
    "print(f'x2 = {det_A2 / det_A}')"
   ]
  },
  {
   "cell_type": "code",
   "execution_count": 12,
   "id": "82d43ffd",
   "metadata": {},
   "outputs": [
    {
     "name": "stdout",
     "output_type": "stream",
     "text": [
      "det(A): 42.99999999999998\n",
      "\n"
     ]
    }
   ],
   "source": [
    "A = np.array([[2, -1, 5], [1, 1, -3], [2, 4, 1]])\n",
    "b = np.array([10, -2, 1])\n",
    "\n",
    "det_A = np.linalg.det(A)\n",
    "\n",
    "print(f'det(A): {det_A}\\n')"
   ]
  },
  {
   "cell_type": "code",
   "execution_count": 13,
   "id": "f57a4eab",
   "metadata": {},
   "outputs": [
    {
     "name": "stdout",
     "output_type": "stream",
     "text": [
      "A1:\n",
      "[[10 -1  5]\n",
      " [-2  1 -3]\n",
      " [ 1  4  1]]\n",
      "\n",
      "det(A1): 86.00000000000004\n",
      "\n",
      "A2:\n",
      "[[ 2 10  5]\n",
      " [ 1 -2 -3]\n",
      " [ 2  1  1]]\n",
      "\n",
      "det(A2): -43.000000000000014\n",
      "\n",
      "A3:\n",
      "[[ 2 -1 10]\n",
      " [ 1  1 -2]\n",
      " [ 2  4  1]]\n",
      "\n",
      "det(A3): 43.0\n",
      "\n",
      "x1 = 2.0000000000000018\n",
      "x2 = -1.0000000000000009\n",
      "x3 = 1.0000000000000004\n"
     ]
    }
   ],
   "source": [
    "# Определитель матрицы квадратной системы не равен 0, система совместна и имеет единственное решение.\n",
    "\n",
    "A1 = np.column_stack([b, A[:, 1:]])\n",
    "det_A1 = np.linalg.det(A1)\n",
    "\n",
    "print(f'A1:\\n{A1}\\n')\n",
    "print(f'det(A1): {det_A1}\\n')\n",
    "\n",
    "A2 = np.column_stack([A[:, 0], b, A[:, 2]])\n",
    "det_A2 = np.linalg.det(A2)\n",
    "\n",
    "print(f'A2:\\n{A2}\\n')\n",
    "print(f'det(A2): {det_A2}\\n')\n",
    "\n",
    "A3 = np.column_stack([A[:, 0:2], b])\n",
    "det_A3 = np.linalg.det(A3)\n",
    "\n",
    "print(f'A3:\\n{A3}\\n')\n",
    "print(f'det(A3): {det_A3}\\n')\n",
    "\n",
    "print(f'x1 = {det_A1 / det_A}')\n",
    "print(f'x2 = {det_A2 / det_A}')\n",
    "print(f'x3 = {det_A3 / det_A}')"
   ]
  },
  {
   "cell_type": "code",
   "execution_count": null,
   "id": "68a786e3",
   "metadata": {},
   "outputs": [],
   "source": []
  }
 ],
 "metadata": {
  "kernelspec": {
   "display_name": "Python 3 (ipykernel)",
   "language": "python",
   "name": "python3"
  },
  "language_info": {
   "codemirror_mode": {
    "name": "ipython",
    "version": 3
   },
   "file_extension": ".py",
   "mimetype": "text/x-python",
   "name": "python",
   "nbconvert_exporter": "python",
   "pygments_lexer": "ipython3",
   "version": "3.9.12"
  }
 },
 "nbformat": 4,
 "nbformat_minor": 5
}
