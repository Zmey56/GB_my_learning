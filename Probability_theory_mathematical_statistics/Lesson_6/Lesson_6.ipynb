{
  "nbformat": 4,
  "nbformat_minor": 0,
  "metadata": {
    "colab": {
      "name": "Lesson_6.ipynb",
      "provenance": []
    },
    "kernelspec": {
      "name": "python3",
      "display_name": "Python 3"
    },
    "language_info": {
      "name": "python"
    }
  },
  "cells": [
    {
      "cell_type": "code",
      "source": [
        "import numpy as np"
      ],
      "metadata": {
        "id": "OxhP7XdqZJ4A"
      },
      "execution_count": 3,
      "outputs": []
    },
    {
      "cell_type": "markdown",
      "source": [
        "**1. Даны значения величины заработной платы заемщиков банка (zp) и значения их поведенческого кредитного скоринга (ks):\n",
        "zp = [35, 45, 190, 200, 40, 70, 54, 150, 120, 110],\n",
        "ks = [401, 574, 874, 919, 459, 739, 653, 902, 746, 832].\n",
        "Найдите ковариацию этих двух величин с помощью элементарных действий, а затем с помощью функции cov из numpy\n",
        "Полученные значения должны быть равны.\n",
        "Найдите коэффициент корреляции Пирсона с помощью ковариации и среднеквадратичных отклонений двух признаков,\n",
        "а затем с использованием функций из библиотек numpy и pandas.**\n"
      ],
      "metadata": {
        "id": "Wetx3CPtYb20"
      }
    },
    {
      "cell_type": "code",
      "execution_count": 4,
      "metadata": {
        "colab": {
          "base_uri": "https://localhost:8080/"
        },
        "id": "uWO0-e_3YWG0",
        "outputId": "e9b0eae7-7295-448e-adcb-2093557d28d3"
      },
      "outputs": [
        {
          "output_type": "execute_result",
          "data": {
            "text/plain": [
              "array([ 35,  45, 190, 200,  40,  70,  54, 150, 120, 110])"
            ]
          },
          "metadata": {},
          "execution_count": 4
        }
      ],
      "source": [
        "zp = np.array([35, 45, 190, 200, 40, 70, 54, 150, 120, 110])\n",
        "zp"
      ]
    },
    {
      "cell_type": "code",
      "source": [
        "ks = np.array([401, 574, 874, 919, 459, 739, 653, 902, 746, 832])\n",
        "ks"
      ],
      "metadata": {
        "colab": {
          "base_uri": "https://localhost:8080/"
        },
        "id": "8qDvJ2JEZFiL",
        "outputId": "a6fbb255-fea5-4f0f-a04c-d8e00bfd4f89"
      },
      "execution_count": 5,
      "outputs": [
        {
          "output_type": "execute_result",
          "data": {
            "text/plain": [
              "array([401, 574, 874, 919, 459, 739, 653, 902, 746, 832])"
            ]
          },
          "metadata": {},
          "execution_count": 5
        }
      ]
    },
    {
      "cell_type": "markdown",
      "source": [
        "Ковариация с помощью элементарных действий:"
      ],
      "metadata": {
        "id": "AYsgYLkqZQW4"
      }
    },
    {
      "cell_type": "code",
      "source": [
        "cov = np.mean(zp * ks) - np.mean(zp) * np.mean(ks)\n",
        "cov"
      ],
      "metadata": {
        "colab": {
          "base_uri": "https://localhost:8080/"
        },
        "id": "L8JOCWgAZIEZ",
        "outputId": "9e4b6987-82d2-41a8-c162-8921badc5824"
      },
      "execution_count": 6,
      "outputs": [
        {
          "output_type": "execute_result",
          "data": {
            "text/plain": [
              "9157.839999999997"
            ]
          },
          "metadata": {},
          "execution_count": 6
        }
      ]
    },
    {
      "cell_type": "code",
      "source": [
        "np.cov(zp, ks, ddof=0)"
      ],
      "metadata": {
        "colab": {
          "base_uri": "https://localhost:8080/"
        },
        "id": "-bLkjHmSZSiL",
        "outputId": "e2954be4-95ea-4dbe-b825-aad8ee728402"
      },
      "execution_count": 7,
      "outputs": [
        {
          "output_type": "execute_result",
          "data": {
            "text/plain": [
              "array([[ 3494.64,  9157.84],\n",
              "       [ 9157.84, 30468.89]])"
            ]
          },
          "metadata": {},
          "execution_count": 7
        }
      ]
    },
    {
      "cell_type": "code",
      "source": [
        "np.std(zp)"
      ],
      "metadata": {
        "colab": {
          "base_uri": "https://localhost:8080/"
        },
        "id": "IUm10IWeZVLz",
        "outputId": "304cab2b-7a58-4905-dd6e-ba8b5d36339f"
      },
      "execution_count": 8,
      "outputs": [
        {
          "output_type": "execute_result",
          "data": {
            "text/plain": [
              "59.115480206118605"
            ]
          },
          "metadata": {},
          "execution_count": 8
        }
      ]
    },
    {
      "cell_type": "code",
      "source": [
        "np.std(ks)"
      ],
      "metadata": {
        "colab": {
          "base_uri": "https://localhost:8080/"
        },
        "id": "tMjZsj4DZXbz",
        "outputId": "307da2b6-3feb-43d6-ad80-37815fea6513"
      },
      "execution_count": 9,
      "outputs": [
        {
          "output_type": "execute_result",
          "data": {
            "text/plain": [
              "174.55340157098058"
            ]
          },
          "metadata": {},
          "execution_count": 9
        }
      ]
    },
    {
      "cell_type": "markdown",
      "source": [
        "Коэффициент корреляции Пирсона с помощью ковариации и среднеквадратичных отклонений двух признаков:"
      ],
      "metadata": {
        "id": "Q8RW5JhWZiSV"
      }
    },
    {
      "cell_type": "code",
      "source": [
        "cov / (np.std(zp) * np.std(ks))"
      ],
      "metadata": {
        "colab": {
          "base_uri": "https://localhost:8080/"
        },
        "id": "CyU-dUzyZZMH",
        "outputId": "8a4d5808-d75c-4ad6-8b71-9540b4cf16ff"
      },
      "execution_count": 10,
      "outputs": [
        {
          "output_type": "execute_result",
          "data": {
            "text/plain": [
              "0.8874900920739158"
            ]
          },
          "metadata": {},
          "execution_count": 10
        }
      ]
    },
    {
      "cell_type": "markdown",
      "source": [
        "Коэффициент корреляции Пирсона с помощью библиотеки:"
      ],
      "metadata": {
        "id": "ybOz2IzgZqXK"
      }
    },
    {
      "cell_type": "code",
      "source": [
        "np.corrcoef(zp, ks)"
      ],
      "metadata": {
        "colab": {
          "base_uri": "https://localhost:8080/"
        },
        "id": "Vhf3dNvyZngS",
        "outputId": "5b800e92-c212-4fde-a5c6-b2ab1e169269"
      },
      "execution_count": 11,
      "outputs": [
        {
          "output_type": "execute_result",
          "data": {
            "text/plain": [
              "array([[1.        , 0.88749009],\n",
              "       [0.88749009, 1.        ]])"
            ]
          },
          "metadata": {},
          "execution_count": 11
        }
      ]
    },
    {
      "cell_type": "markdown",
      "source": [
        "**2. Измерены значения IQ выборки студентов,\n",
        "обучающихся в местных технических вузах:\n",
        "131, 125, 115, 122, 131, 115, 107, 99, 125, 111.\n",
        "Известно, что в генеральной совокупности IQ распределен нормально.\n",
        "Найдите доверительный интервал для математического ожидания с надежностью 0.95.**\n"
      ],
      "metadata": {
        "id": "_0FtlD5-Z7AJ"
      }
    },
    {
      "cell_type": "code",
      "source": [
        "x = np.array([131, 125, 115, 122, 131, 115, 107, 99, 125, 111])\n",
        "x"
      ],
      "metadata": {
        "colab": {
          "base_uri": "https://localhost:8080/"
        },
        "id": "rcC7fFf3Zsvs",
        "outputId": "ed73d1a4-c794-407a-ca36-7eb10d5c6d0c"
      },
      "execution_count": 12,
      "outputs": [
        {
          "output_type": "execute_result",
          "data": {
            "text/plain": [
              "array([131, 125, 115, 122, 131, 115, 107,  99, 125, 111])"
            ]
          },
          "metadata": {},
          "execution_count": 12
        }
      ]
    },
    {
      "cell_type": "code",
      "source": [
        "mu = x.mean()\n",
        "mu"
      ],
      "metadata": {
        "colab": {
          "base_uri": "https://localhost:8080/"
        },
        "id": "eB_xtfCWZ_z8",
        "outputId": "091f948c-6373-4b1b-e637-9c3209a4a041"
      },
      "execution_count": 13,
      "outputs": [
        {
          "output_type": "execute_result",
          "data": {
            "text/plain": [
              "118.1"
            ]
          },
          "metadata": {},
          "execution_count": 13
        }
      ]
    },
    {
      "cell_type": "code",
      "source": [
        "variance = x.var(ddof=1)\n",
        "variance"
      ],
      "metadata": {
        "colab": {
          "base_uri": "https://localhost:8080/"
        },
        "id": "t2IoL4jUaBpl",
        "outputId": "1c1ecd0d-d927-4a41-bc8f-9f768f640902"
      },
      "execution_count": 14,
      "outputs": [
        {
          "output_type": "execute_result",
          "data": {
            "text/plain": [
              "111.21111111111111"
            ]
          },
          "metadata": {},
          "execution_count": 14
        }
      ]
    },
    {
      "cell_type": "code",
      "source": [
        "s = variance**0.5\n",
        "s"
      ],
      "metadata": {
        "colab": {
          "base_uri": "https://localhost:8080/"
        },
        "id": "p7sty3tBaHop",
        "outputId": "f5d75b53-8beb-459a-8202-5a6af7149711"
      },
      "execution_count": 15,
      "outputs": [
        {
          "output_type": "execute_result",
          "data": {
            "text/plain": [
              "10.54566788359614"
            ]
          },
          "metadata": {},
          "execution_count": 15
        }
      ]
    },
    {
      "cell_type": "markdown",
      "source": [
        "Доверительный интервал для математического ожидания:"
      ],
      "metadata": {
        "id": "OBqsWFxjaNbI"
      }
    },
    {
      "cell_type": "code",
      "source": [
        "[mu - 2.262 * s / np.sqrt(10), mu + 2.262 * s / np.sqrt(10)]"
      ],
      "metadata": {
        "colab": {
          "base_uri": "https://localhost:8080/"
        },
        "id": "qhiEs9_-aJ6c",
        "outputId": "5c650bde-f0d1-423b-f2fe-c328a80cebda"
      },
      "execution_count": 16,
      "outputs": [
        {
          "output_type": "execute_result",
          "data": {
            "text/plain": [
              "[110.55660776308164, 125.64339223691834]"
            ]
          },
          "metadata": {},
          "execution_count": 16
        }
      ]
    },
    {
      "cell_type": "markdown",
      "source": [
        "**3. Известно, что рост футболистов в сборной распределен нормально\n",
        "с дисперсией генеральной совокупности, равной 25 кв.см. Объем выборки равен 27,\n",
        "среднее выборочное составляет 174.2. Найдите доверительный интервал для математического\n",
        "ожидания с надежностью 0.95.**"
      ],
      "metadata": {
        "id": "e_4H82cMaYdN"
      }
    },
    {
      "cell_type": "code",
      "source": [
        "[174.2 - 1.96 * 5 / np.sqrt(27), 174.2 + 1.96 * 5 / np.sqrt(27)]"
      ],
      "metadata": {
        "colab": {
          "base_uri": "https://localhost:8080/"
        },
        "id": "IUAmbNKJaP0a",
        "outputId": "53091379-c5b0-4ece-9bab-484af46b3b3a"
      },
      "execution_count": 17,
      "outputs": [
        {
          "output_type": "execute_result",
          "data": {
            "text/plain": [
              "[172.31398912064722, 176.08601087935276]"
            ]
          },
          "metadata": {},
          "execution_count": 17
        }
      ]
    },
    {
      "cell_type": "code",
      "source": [
        ""
      ],
      "metadata": {
        "id": "n_GlIPq0amya"
      },
      "execution_count": null,
      "outputs": []
    }
  ]
}