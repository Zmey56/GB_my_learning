{
  "nbformat": 4,
  "nbformat_minor": 0,
  "metadata": {
    "colab": {
      "name": "practice8.ipynb",
      "provenance": []
    },
    "kernelspec": {
      "display_name": "Python 3",
      "language": "python",
      "name": "python3"
    },
    "language_info": {
      "codemirror_mode": {
        "name": "ipython",
        "version": 3
      },
      "file_extension": ".py",
      "mimetype": "text/x-python",
      "name": "python",
      "nbconvert_exporter": "python",
      "pygments_lexer": "ipython3",
      "version": "3.8.5"
    }
  },
  "cells": [
    {
      "cell_type": "markdown",
      "metadata": {
        "id": "ZSsVqR7ea_0w"
      },
      "source": [
        "# Теория вероятностей и математическая статистика\n",
        "\n",
        "## Урок 8\n",
        "\n",
        "## Дисперсионный анализ. Метод главных компонент. Логистическая регрессия"
      ]
    },
    {
      "cell_type": "markdown",
      "metadata": {
        "id": "vGvPz-PJYo5C"
      },
      "source": [
        "### Дисперсионный анализ\n",
        "\n",
        "__Дисперсионный анализ__ — метод в математической статистике, направленный на поиск зависимостей в данных, в которых целевая переменная является _количественной_, а факторы являются _категориальными_.\n",
        "\n",
        "В __однофакторном дисперсионном анализе__ исследуется влияние одного категориального фактора $x$ на переменную $y$. Допустим, у фактора $x$ имеется $k$ разных значений или __уровней__. На практике это означает, что у нас имеется $k$ выборок:\n",
        "$$Y_1, \\dots, Y_k,$$\n",
        "и выборка $Y_i$ соответствует значениям переменной $y$ на $i$-м уровне фактора $x$."
      ]
    },
    {
      "cell_type": "markdown",
      "metadata": {
        "id": "Dwwd0jPta_1E"
      },
      "source": [
        "Итак, нулевая гипотеза $H_0$ утверждает, что средние по всем этим выборкам равны:\n",
        "$$H_0: \\:\\: \\overline{Y_1} = \\dots = \\overline{Y_k}$$\n",
        "\n",
        "Другими словами, нулевая гипотеза заключается в том, что фактор $x$ никак не влияет на значения переменной $y$."
      ]
    },
    {
      "cell_type": "markdown",
      "metadata": {
        "id": "5_0A-XfGa_1G"
      },
      "source": [
        "Для проверки гипотез в дисперсионном анализе используется __F-критерий Фишера__. Используемая статистика представляет из себя отношение дисперсии между уровнями к дисперсии внутри уровней.\n",
        "\n",
        "Пусть в каждой выборке $Y_i$ содержится $n_i$ элементов. Обозначим через $Y$ объединение всех выборок, т.е. выборку размера $n = n_1 + \\dots + n_k$."
      ]
    },
    {
      "cell_type": "markdown",
      "metadata": {
        "id": "oF-GR5B_a_1I"
      },
      "source": [
        "Рассмотрим две суммы квадратов:\n",
        "$$SS_b = \\displaystyle\\sum_{i=1}^k \\left( \\overline{Y_i} - \\overline{Y} \\right)^2 n_i, \\:\\:\n",
        "SS_w = \\displaystyle\\sum_{i=1}^k \\displaystyle\\sum_{j=1}^{n_i} \\left( y_{ij} - \\overline{Y_i} \\right)^2,$$\n",
        "где $y_{ij}$ — $j$-й элемент $i$-й выборки.\n",
        "\n",
        "Первая сумма — отклонения между группами («b» от слова Between — между), вторая — отклонения внутри групп («w» от слова Within — внутри)."
      ]
    },
    {
      "cell_type": "markdown",
      "metadata": {
        "id": "K-QIO5JXa_1I"
      },
      "source": [
        "По этим значениям вычисляются соответствующие несмещённые оценки дисперсий:\n",
        "$$\\sigma_b^2 = \\dfrac{SS_b}{k - 1}, \\:\\: \\sigma_w^2 = \\dfrac{SS_w}{n - k}$$\n",
        "\n",
        "Итак, статистика для проверки гипотезы $H_0$:\n",
        "$$F = \\dfrac{\\sigma_b^2}{\\sigma_w^2}$$"
      ]
    },
    {
      "cell_type": "markdown",
      "metadata": {
        "id": "Buf3miW-a_1J"
      },
      "source": [
        "В предположении верности гипотезы $H_0$ статистика $F$ имеет распределение Фишера с параметрами $k_1 = k - 1$, $k_2 = n - k$. Критическая область здесь правосторонняя:\n",
        "$$\\Omega_\\alpha = \\left( t_{1 - \\alpha, \\: k_1, k_2}, \\infty \\right),$$\n",
        "где $t_{x, \\: k_1, k_2}$ — квантиль порядка $x$ для распределения Фишера с параметрами $k_1$, $k_2$."
      ]
    },
    {
      "cell_type": "markdown",
      "metadata": {
        "id": "fAc1QNbba_1K"
      },
      "source": [
        "__Пример 1__\n",
        "\n",
        "Среди людей, проживающих в одном городе, выделены три группы по профессии: бухгалтеры, юристы, программисты. Имеются данные по зарплатам в этих трёх группах:\n",
        "```\n",
        "y1 = [70, 50, 65, 60, 75]\n",
        "y2 = [80, 75, 90, 70, 75, 65, 85, 100]\n",
        "y3 = [130, 100, 140, 150, 160, 170, 200]\n",
        "```\n",
        "Требуется проверить гипотезу у равенстве средней зарплаты по каждой группе. Для проверки этой гипотезы воспользуемся однофакторным дисперсионным анализом."
      ]
    },
    {
      "cell_type": "code",
      "metadata": {
        "execution": {
          "iopub.execute_input": "2021-02-13T12:52:56.049602Z",
          "iopub.status.busy": "2021-02-13T12:52:56.047858Z",
          "iopub.status.idle": "2021-02-13T12:52:56.216128Z",
          "shell.execute_reply": "2021-02-13T12:52:56.217221Z"
        },
        "id": "qDtpQVaaa_1R"
      },
      "source": [
        "import numpy as np"
      ],
      "execution_count": null,
      "outputs": []
    },
    {
      "cell_type": "code",
      "metadata": {
        "execution": {
          "iopub.execute_input": "2021-02-13T12:52:56.236973Z",
          "iopub.status.busy": "2021-02-13T12:52:56.235469Z",
          "iopub.status.idle": "2021-02-13T12:52:56.240263Z",
          "shell.execute_reply": "2021-02-13T12:52:56.241521Z"
        },
        "id": "Q_eyYMO0a_1T",
        "outputId": "ed92aad5-a64a-49dc-ced4-f3950fbaa0a4"
      },
      "source": [
        "y1 = np.array([70, 50, 65, 60, 75])\n",
        "y2 = np.array([80, 75, 90, 70, 75, 65, 85, 100])\n",
        "y3 = np.array([130, 100, 140, 150, 160, 170, 200])\n",
        "\n",
        "n1 = y1.shape[0]\n",
        "n2 = y2.shape[0]\n",
        "n3 = y3.shape[0]\n",
        "\n",
        "n1, n2, n3"
      ],
      "execution_count": null,
      "outputs": [
        {
          "data": {
            "text/plain": [
              "(5, 8, 7)"
            ]
          },
          "execution_count": 1,
          "metadata": {},
          "output_type": "execute_result"
        }
      ]
    },
    {
      "cell_type": "markdown",
      "metadata": {
        "id": "tmc2xH-Ua_1U"
      },
      "source": [
        "Выборочные средние по каждой группе:"
      ]
    },
    {
      "cell_type": "code",
      "metadata": {
        "execution": {
          "iopub.execute_input": "2021-02-13T12:52:56.250182Z",
          "iopub.status.busy": "2021-02-13T12:52:56.248774Z",
          "iopub.status.idle": "2021-02-13T12:52:56.253123Z",
          "shell.execute_reply": "2021-02-13T12:52:56.254373Z"
        },
        "id": "i6SYJ6PTa_1V",
        "outputId": "ff938cd1-ec8c-4450-fa9f-f619d661b47d"
      },
      "source": [
        "y1_mean = y1.mean()\n",
        "y2_mean = y2.mean()\n",
        "y3_mean = y3.mean()\n",
        "\n",
        "y1_mean, y2_mean, y3_mean"
      ],
      "execution_count": null,
      "outputs": [
        {
          "data": {
            "text/plain": [
              "(64.0, 80.0, 150.0)"
            ]
          },
          "execution_count": 1,
          "metadata": {},
          "output_type": "execute_result"
        }
      ]
    },
    {
      "cell_type": "markdown",
      "metadata": {
        "id": "1w0ErArWa_1V"
      },
      "source": [
        "Видно, что средние зарплаты разнятся. Проверим статистическую значимость этого отличия. \n",
        "\n",
        "Соберём все значения заработных плат в один массив:"
      ]
    },
    {
      "cell_type": "code",
      "metadata": {
        "execution": {
          "iopub.execute_input": "2021-02-13T12:52:56.261415Z",
          "iopub.status.busy": "2021-02-13T12:52:56.260309Z",
          "iopub.status.idle": "2021-02-13T12:52:56.264085Z",
          "shell.execute_reply": "2021-02-13T12:52:56.265155Z"
        },
        "id": "GB-OJM9Ba_1W",
        "outputId": "f2b3221e-7d6b-4336-a7da-a78d2a1c9610"
      },
      "source": [
        "y = np.concatenate([y1, y2, y3])\n",
        "\n",
        "print(y)"
      ],
      "execution_count": null,
      "outputs": [
        {
          "name": "stdout",
          "output_type": "stream",
          "text": [
            "[ 70  50  65  60  75  80  75  90  70  75  65  85 100 130 100 140 150 160\n",
            " 170 200]\n"
          ]
        }
      ]
    },
    {
      "cell_type": "code",
      "metadata": {
        "execution": {
          "iopub.execute_input": "2021-02-13T12:52:56.272160Z",
          "iopub.status.busy": "2021-02-13T12:52:56.271042Z",
          "iopub.status.idle": "2021-02-13T12:52:56.276523Z",
          "shell.execute_reply": "2021-02-13T12:52:56.275454Z"
        },
        "id": "XgFPpVx9a_1W",
        "outputId": "83816e49-9fc4-4996-8972-88972f0cb316"
      },
      "source": [
        "y_mean = y.mean()\n",
        "y_mean"
      ],
      "execution_count": null,
      "outputs": [
        {
          "data": {
            "text/plain": [
              "100.5"
            ]
          },
          "execution_count": 1,
          "metadata": {},
          "output_type": "execute_result"
        }
      ]
    },
    {
      "cell_type": "markdown",
      "metadata": {
        "id": "grD2rKS6a_1Y"
      },
      "source": [
        "Найдём значения $SS_b$ и $SS_w$:"
      ]
    },
    {
      "cell_type": "code",
      "metadata": {
        "execution": {
          "iopub.execute_input": "2021-02-13T12:52:56.285607Z",
          "iopub.status.busy": "2021-02-13T12:52:56.284459Z",
          "iopub.status.idle": "2021-02-13T12:52:56.290536Z",
          "shell.execute_reply": "2021-02-13T12:52:56.289163Z"
        },
        "id": "M05AUoU5a_1Y",
        "outputId": "905b4e6d-d12f-41b2-e6e4-18b3087c3a61"
      },
      "source": [
        "SS_b = n1 * (y1_mean - y_mean) ** 2 + n2 * (y2_mean - y_mean) ** 2 + n3 * (y3_mean - y_mean) ** 2\n",
        "\n",
        "SS_w = ((y1 - y1_mean) ** 2).sum() + ((y2 - y2_mean) ** 2).sum() + ((y3 - y3_mean) ** 2).sum()\n",
        "\n",
        "SS_b, SS_w"
      ],
      "execution_count": null,
      "outputs": [
        {
          "data": {
            "text/plain": [
              "(27175.0, 7270.0)"
            ]
          },
          "execution_count": 1,
          "metadata": {},
          "output_type": "execute_result"
        }
      ]
    },
    {
      "cell_type": "markdown",
      "metadata": {
        "id": "hVY0b86Qa_1Z"
      },
      "source": [
        "Запишем оценки дисперсий:"
      ]
    },
    {
      "cell_type": "code",
      "metadata": {
        "execution": {
          "iopub.execute_input": "2021-02-13T12:52:56.298456Z",
          "iopub.status.busy": "2021-02-13T12:52:56.297145Z",
          "iopub.status.idle": "2021-02-13T12:52:56.301153Z",
          "shell.execute_reply": "2021-02-13T12:52:56.302527Z"
        },
        "id": "xkvOTOIva_1Z",
        "outputId": "e062b5ff-9d2b-483f-b4bb-c6fd62ac4a35"
      },
      "source": [
        "k = 3\n",
        "n = n1 + n2 + n3\n",
        "\n",
        "k1 = k - 1\n",
        "k2 = n - k\n",
        "\n",
        "sigma2_b = SS_b / k1\n",
        "sigma2_w = SS_w / k2\n",
        "\n",
        "sigma2_b, sigma2_w"
      ],
      "execution_count": null,
      "outputs": [
        {
          "data": {
            "text/plain": [
              "(13587.5, 427.6470588235294)"
            ]
          },
          "execution_count": 1,
          "metadata": {},
          "output_type": "execute_result"
        }
      ]
    },
    {
      "cell_type": "markdown",
      "metadata": {
        "id": "guopEzLca_1Z"
      },
      "source": [
        "Итак, значение статистики $F$:"
      ]
    },
    {
      "cell_type": "code",
      "metadata": {
        "execution": {
          "iopub.execute_input": "2021-02-13T12:52:56.309173Z",
          "iopub.status.busy": "2021-02-13T12:52:56.308075Z",
          "iopub.status.idle": "2021-02-13T12:52:56.312122Z",
          "shell.execute_reply": "2021-02-13T12:52:56.313236Z"
        },
        "id": "1qdfu7hxa_1a",
        "outputId": "d5a324f2-4744-49eb-cd27-d64d33387ad8"
      },
      "source": [
        "F = sigma2_b / sigma2_w\n",
        "F"
      ],
      "execution_count": null,
      "outputs": [
        {
          "data": {
            "text/plain": [
              "31.77269601100413"
            ]
          },
          "execution_count": 1,
          "metadata": {},
          "output_type": "execute_result"
        }
      ]
    },
    {
      "cell_type": "markdown",
      "metadata": {
        "id": "KZERJio3a_1a"
      },
      "source": [
        "Зафиксируем уровень значимости $\\alpha = 0.05$. Для него найдём нужный нам квантиль:"
      ]
    },
    {
      "cell_type": "code",
      "metadata": {
        "execution": {
          "iopub.execute_input": "2021-02-13T12:52:56.319030Z",
          "iopub.status.busy": "2021-02-13T12:52:56.318072Z",
          "iopub.status.idle": "2021-02-13T12:52:56.998182Z",
          "shell.execute_reply": "2021-02-13T12:52:56.999060Z"
        },
        "id": "XIuHf_yJa_1a"
      },
      "source": [
        "from scipy import stats"
      ],
      "execution_count": null,
      "outputs": []
    },
    {
      "cell_type": "code",
      "metadata": {
        "execution": {
          "iopub.execute_input": "2021-02-13T12:52:57.006687Z",
          "iopub.status.busy": "2021-02-13T12:52:57.005798Z",
          "iopub.status.idle": "2021-02-13T12:52:57.008554Z",
          "shell.execute_reply": "2021-02-13T12:52:57.009572Z"
        },
        "id": "ziFHtptPa_1a",
        "outputId": "c075142b-77ab-4d3e-8f1b-a7bd3758600f"
      },
      "source": [
        "alpha = 0.05\n",
        "\n",
        "t = stats.f.ppf(1 - alpha, k1, k2)\n",
        "t"
      ],
      "execution_count": null,
      "outputs": [
        {
          "data": {
            "text/plain": [
              "3.5915305684750827"
            ]
          },
          "execution_count": 1,
          "metadata": {},
          "output_type": "execute_result"
        }
      ]
    },
    {
      "cell_type": "markdown",
      "metadata": {
        "id": "lzqVjEFNa_1b"
      },
      "source": [
        "Итак, наша критическая область имеет вид:\n",
        "$$\\Omega_\\alpha = \\left( 3.59, \\infty \\right)$$"
      ]
    },
    {
      "cell_type": "code",
      "metadata": {
        "execution": {
          "iopub.execute_input": "2021-02-13T12:52:57.016380Z",
          "iopub.status.busy": "2021-02-13T12:52:57.015550Z",
          "iopub.status.idle": "2021-02-13T12:52:57.452747Z",
          "shell.execute_reply": "2021-02-13T12:52:57.453582Z"
        },
        "id": "Xb-I4e01a_1b"
      },
      "source": [
        "from matplotlib import pyplot as plt\n",
        "\n",
        "plt.style.use('seaborn-whitegrid')\n",
        "%config InlineBackend.figure_formats = ['svg']"
      ],
      "execution_count": null,
      "outputs": []
    },
    {
      "cell_type": "code",
      "metadata": {
        "execution": {
          "iopub.execute_input": "2021-02-13T12:52:57.460008Z",
          "iopub.status.busy": "2021-02-13T12:52:57.459243Z",
          "iopub.status.idle": "2021-02-13T12:52:57.586535Z",
          "shell.execute_reply": "2021-02-13T12:52:57.585630Z"
        },
        "id": "xD4ZDqlna_1b",
        "outputId": "7c2e6a2b-135d-4278-e651-e8980466a8e3"
      },
      "source": [
        "ox = np.linspace(0, 6, 500)\n",
        "oy = stats.f.pdf(ox, k1, k2)\n",
        "\n",
        "ox_right = np.linspace(t, 6, 100)\n",
        "oy_right = stats.f.pdf(ox_right, k1, k2)\n",
        "\n",
        "plt.plot(ox, oy)\n",
        "plt.fill_between(ox_right, oy_right, alpha=0.5)"
      ],
      "execution_count": null,
      "outputs": [
        {
          "data": {
            "text/plain": [
              "<matplotlib.collections.PolyCollection at 0x1287a2190>"
            ]
          },
          "execution_count": 1,
          "metadata": {},
          "output_type": "execute_result"
        },
        {
          "data": {
            "image/svg+xml": [
              "<?xml version=\"1.0\" encoding=\"utf-8\" standalone=\"no\"?>\n",
              "<!DOCTYPE svg PUBLIC \"-//W3C//DTD SVG 1.1//EN\"\n",
              "  \"http://www.w3.org/Graphics/SVG/1.1/DTD/svg11.dtd\">\n",
              "<!-- Created with matplotlib (https://matplotlib.org/) -->\n",
              "<svg height=\"244.485312pt\" version=\"1.1\" viewBox=\"0 0 366.6 244.485312\" width=\"366.6pt\" xmlns=\"http://www.w3.org/2000/svg\" xmlns:xlink=\"http://www.w3.org/1999/xlink\">\n",
              " <metadata>\n",
              "  <rdf:RDF xmlns:cc=\"http://creativecommons.org/ns#\" xmlns:dc=\"http://purl.org/dc/elements/1.1/\" xmlns:rdf=\"http://www.w3.org/1999/02/22-rdf-syntax-ns#\">\n",
              "   <cc:Work>\n",
              "    <dc:type rdf:resource=\"http://purl.org/dc/dcmitype/StillImage\"/>\n",
              "    <dc:date>2021-02-13T15:52:57.548427</dc:date>\n",
              "    <dc:format>image/svg+xml</dc:format>\n",
              "    <dc:creator>\n",
              "     <cc:Agent>\n",
              "      <dc:title>Matplotlib v3.3.3, https://matplotlib.org/</dc:title>\n",
              "     </cc:Agent>\n",
              "    </dc:creator>\n",
              "   </cc:Work>\n",
              "  </rdf:RDF>\n",
              " </metadata>\n",
              " <defs>\n",
              "  <style type=\"text/css\">*{stroke-linecap:butt;stroke-linejoin:round;}</style>\n",
              " </defs>\n",
              " <g id=\"figure_1\">\n",
              "  <g id=\"patch_1\">\n",
              "   <path d=\"M 0 244.485312 \n",
              "L 366.6 244.485312 \n",
              "L 366.6 0 \n",
              "L 0 0 \n",
              "z\n",
              "\" style=\"fill:#ffffff;\"/>\n",
              "  </g>\n",
              "  <g id=\"axes_1\">\n",
              "   <g id=\"patch_2\">\n",
              "    <path d=\"M 24.6 224.64 \n",
              "L 359.4 224.64 \n",
              "L 359.4 7.2 \n",
              "L 24.6 7.2 \n",
              "z\n",
              "\" style=\"fill:#ffffff;\"/>\n",
              "   </g>\n",
              "   <g id=\"matplotlib.axis_1\">\n",
              "    <g id=\"xtick_1\">\n",
              "     <g id=\"line2d_1\">\n",
              "      <path clip-path=\"url(#p21da7298c3)\" d=\"M 39.818182 224.64 \n",
              "L 39.818182 7.2 \n",
              "\" style=\"fill:none;stroke:#cccccc;stroke-linecap:round;stroke-width:0.8;\"/>\n",
              "     </g>\n",
              "     <g id=\"line2d_2\"/>\n",
              "     <g id=\"text_1\">\n",
              "      <!-- 0 -->\n",
              "      <g style=\"fill:#262626;\" transform=\"translate(37.037713 235.297812)scale(0.1 -0.1)\">\n",
              "       <defs>\n",
              "        <path d=\"M 4.15625 35.296875 \n",
              "Q 4.15625 48 6.765625 55.734375 \n",
              "Q 9.375 63.484375 14.515625 67.671875 \n",
              "Q 19.671875 71.875 27.484375 71.875 \n",
              "Q 33.25 71.875 37.59375 69.546875 \n",
              "Q 41.9375 67.234375 44.765625 62.859375 \n",
              "Q 47.609375 58.5 49.21875 52.21875 \n",
              "Q 50.828125 45.953125 50.828125 35.296875 \n",
              "Q 50.828125 22.703125 48.234375 14.96875 \n",
              "Q 45.65625 7.234375 40.5 3 \n",
              "Q 35.359375 -1.21875 27.484375 -1.21875 \n",
              "Q 17.140625 -1.21875 11.234375 6.203125 \n",
              "Q 4.15625 15.140625 4.15625 35.296875 \n",
              "z\n",
              "M 13.1875 35.296875 \n",
              "Q 13.1875 17.671875 17.3125 11.828125 \n",
              "Q 21.4375 6 27.484375 6 \n",
              "Q 33.546875 6 37.671875 11.859375 \n",
              "Q 41.796875 17.71875 41.796875 35.296875 \n",
              "Q 41.796875 52.984375 37.671875 58.78125 \n",
              "Q 33.546875 64.59375 27.390625 64.59375 \n",
              "Q 21.34375 64.59375 17.71875 59.46875 \n",
              "Q 13.1875 52.9375 13.1875 35.296875 \n",
              "z\n",
              "\" id=\"ArialMT-48\"/>\n",
              "       </defs>\n",
              "       <use xlink:href=\"#ArialMT-48\"/>\n",
              "      </g>\n",
              "     </g>\n",
              "    </g>\n",
              "    <g id=\"xtick_2\">\n",
              "     <g id=\"line2d_3\">\n",
              "      <path clip-path=\"url(#p21da7298c3)\" d=\"M 90.545455 224.64 \n",
              "L 90.545455 7.2 \n",
              "\" style=\"fill:none;stroke:#cccccc;stroke-linecap:round;stroke-width:0.8;\"/>\n",
              "     </g>\n",
              "     <g id=\"line2d_4\"/>\n",
              "     <g id=\"text_2\">\n",
              "      <!-- 1 -->\n",
              "      <g style=\"fill:#262626;\" transform=\"translate(87.764986 235.297812)scale(0.1 -0.1)\">\n",
              "       <defs>\n",
              "        <path d=\"M 37.25 0 \n",
              "L 28.46875 0 \n",
              "L 28.46875 56 \n",
              "Q 25.296875 52.984375 20.140625 49.953125 \n",
              "Q 14.984375 46.921875 10.890625 45.40625 \n",
              "L 10.890625 53.90625 \n",
              "Q 18.265625 57.375 23.78125 62.296875 \n",
              "Q 29.296875 67.234375 31.59375 71.875 \n",
              "L 37.25 71.875 \n",
              "z\n",
              "\" id=\"ArialMT-49\"/>\n",
              "       </defs>\n",
              "       <use xlink:href=\"#ArialMT-49\"/>\n",
              "      </g>\n",
              "     </g>\n",
              "    </g>\n",
              "    <g id=\"xtick_3\">\n",
              "     <g id=\"line2d_5\">\n",
              "      <path clip-path=\"url(#p21da7298c3)\" d=\"M 141.272727 224.64 \n",
              "L 141.272727 7.2 \n",
              "\" style=\"fill:none;stroke:#cccccc;stroke-linecap:round;stroke-width:0.8;\"/>\n",
              "     </g>\n",
              "     <g id=\"line2d_6\"/>\n",
              "     <g id=\"text_3\">\n",
              "      <!-- 2 -->\n",
              "      <g style=\"fill:#262626;\" transform=\"translate(138.492259 235.297812)scale(0.1 -0.1)\">\n",
              "       <defs>\n",
              "        <path d=\"M 50.34375 8.453125 \n",
              "L 50.34375 0 \n",
              "L 3.03125 0 \n",
              "Q 2.9375 3.171875 4.046875 6.109375 \n",
              "Q 5.859375 10.9375 9.828125 15.625 \n",
              "Q 13.8125 20.3125 21.34375 26.46875 \n",
              "Q 33.015625 36.03125 37.109375 41.625 \n",
              "Q 41.21875 47.21875 41.21875 52.203125 \n",
              "Q 41.21875 57.421875 37.46875 61 \n",
              "Q 33.734375 64.59375 27.734375 64.59375 \n",
              "Q 21.390625 64.59375 17.578125 60.78125 \n",
              "Q 13.765625 56.984375 13.71875 50.25 \n",
              "L 4.6875 51.171875 \n",
              "Q 5.609375 61.28125 11.65625 66.578125 \n",
              "Q 17.71875 71.875 27.9375 71.875 \n",
              "Q 38.234375 71.875 44.234375 66.15625 \n",
              "Q 50.25 60.453125 50.25 52 \n",
              "Q 50.25 47.703125 48.484375 43.546875 \n",
              "Q 46.734375 39.40625 42.65625 34.8125 \n",
              "Q 38.578125 30.21875 29.109375 22.21875 \n",
              "Q 21.1875 15.578125 18.9375 13.203125 \n",
              "Q 16.703125 10.84375 15.234375 8.453125 \n",
              "z\n",
              "\" id=\"ArialMT-50\"/>\n",
              "       </defs>\n",
              "       <use xlink:href=\"#ArialMT-50\"/>\n",
              "      </g>\n",
              "     </g>\n",
              "    </g>\n",
              "    <g id=\"xtick_4\">\n",
              "     <g id=\"line2d_7\">\n",
              "      <path clip-path=\"url(#p21da7298c3)\" d=\"M 192 224.64 \n",
              "L 192 7.2 \n",
              "\" style=\"fill:none;stroke:#cccccc;stroke-linecap:round;stroke-width:0.8;\"/>\n",
              "     </g>\n",
              "     <g id=\"line2d_8\"/>\n",
              "     <g id=\"text_4\">\n",
              "      <!-- 3 -->\n",
              "      <g style=\"fill:#262626;\" transform=\"translate(189.219531 235.297812)scale(0.1 -0.1)\">\n",
              "       <defs>\n",
              "        <path d=\"M 4.203125 18.890625 \n",
              "L 12.984375 20.0625 \n",
              "Q 14.5 12.59375 18.140625 9.296875 \n",
              "Q 21.78125 6 27 6 \n",
              "Q 33.203125 6 37.46875 10.296875 \n",
              "Q 41.75 14.59375 41.75 20.953125 \n",
              "Q 41.75 27 37.796875 30.921875 \n",
              "Q 33.84375 34.859375 27.734375 34.859375 \n",
              "Q 25.25 34.859375 21.53125 33.890625 \n",
              "L 22.515625 41.609375 \n",
              "Q 23.390625 41.5 23.921875 41.5 \n",
              "Q 29.546875 41.5 34.03125 44.421875 \n",
              "Q 38.53125 47.359375 38.53125 53.46875 \n",
              "Q 38.53125 58.296875 35.25 61.46875 \n",
              "Q 31.984375 64.65625 26.8125 64.65625 \n",
              "Q 21.6875 64.65625 18.265625 61.421875 \n",
              "Q 14.84375 58.203125 13.875 51.765625 \n",
              "L 5.078125 53.328125 \n",
              "Q 6.6875 62.15625 12.390625 67.015625 \n",
              "Q 18.109375 71.875 26.609375 71.875 \n",
              "Q 32.46875 71.875 37.390625 69.359375 \n",
              "Q 42.328125 66.84375 44.9375 62.5 \n",
              "Q 47.5625 58.15625 47.5625 53.265625 \n",
              "Q 47.5625 48.640625 45.0625 44.828125 \n",
              "Q 42.578125 41.015625 37.703125 38.765625 \n",
              "Q 44.046875 37.3125 47.5625 32.6875 \n",
              "Q 51.078125 28.078125 51.078125 21.140625 \n",
              "Q 51.078125 11.765625 44.234375 5.25 \n",
              "Q 37.40625 -1.265625 26.953125 -1.265625 \n",
              "Q 17.53125 -1.265625 11.296875 4.34375 \n",
              "Q 5.078125 9.96875 4.203125 18.890625 \n",
              "z\n",
              "\" id=\"ArialMT-51\"/>\n",
              "       </defs>\n",
              "       <use xlink:href=\"#ArialMT-51\"/>\n",
              "      </g>\n",
              "     </g>\n",
              "    </g>\n",
              "    <g id=\"xtick_5\">\n",
              "     <g id=\"line2d_9\">\n",
              "      <path clip-path=\"url(#p21da7298c3)\" d=\"M 242.727273 224.64 \n",
              "L 242.727273 7.2 \n",
              "\" style=\"fill:none;stroke:#cccccc;stroke-linecap:round;stroke-width:0.8;\"/>\n",
              "     </g>\n",
              "     <g id=\"line2d_10\"/>\n",
              "     <g id=\"text_5\">\n",
              "      <!-- 4 -->\n",
              "      <g style=\"fill:#262626;\" transform=\"translate(239.946804 235.297812)scale(0.1 -0.1)\">\n",
              "       <defs>\n",
              "        <path d=\"M 32.328125 0 \n",
              "L 32.328125 17.140625 \n",
              "L 1.265625 17.140625 \n",
              "L 1.265625 25.203125 \n",
              "L 33.9375 71.578125 \n",
              "L 41.109375 71.578125 \n",
              "L 41.109375 25.203125 \n",
              "L 50.78125 25.203125 \n",
              "L 50.78125 17.140625 \n",
              "L 41.109375 17.140625 \n",
              "L 41.109375 0 \n",
              "z\n",
              "M 32.328125 25.203125 \n",
              "L 32.328125 57.46875 \n",
              "L 9.90625 25.203125 \n",
              "z\n",
              "\" id=\"ArialMT-52\"/>\n",
              "       </defs>\n",
              "       <use xlink:href=\"#ArialMT-52\"/>\n",
              "      </g>\n",
              "     </g>\n",
              "    </g>\n",
              "    <g id=\"xtick_6\">\n",
              "     <g id=\"line2d_11\">\n",
              "      <path clip-path=\"url(#p21da7298c3)\" d=\"M 293.454545 224.64 \n",
              "L 293.454545 7.2 \n",
              "\" style=\"fill:none;stroke:#cccccc;stroke-linecap:round;stroke-width:0.8;\"/>\n",
              "     </g>\n",
              "     <g id=\"line2d_12\"/>\n",
              "     <g id=\"text_6\">\n",
              "      <!-- 5 -->\n",
              "      <g style=\"fill:#262626;\" transform=\"translate(290.674077 235.297812)scale(0.1 -0.1)\">\n",
              "       <defs>\n",
              "        <path d=\"M 4.15625 18.75 \n",
              "L 13.375 19.53125 \n",
              "Q 14.40625 12.796875 18.140625 9.390625 \n",
              "Q 21.875 6 27.15625 6 \n",
              "Q 33.5 6 37.890625 10.78125 \n",
              "Q 42.28125 15.578125 42.28125 23.484375 \n",
              "Q 42.28125 31 38.0625 35.34375 \n",
              "Q 33.84375 39.703125 27 39.703125 \n",
              "Q 22.75 39.703125 19.328125 37.765625 \n",
              "Q 15.921875 35.84375 13.96875 32.765625 \n",
              "L 5.71875 33.84375 \n",
              "L 12.640625 70.609375 \n",
              "L 48.25 70.609375 \n",
              "L 48.25 62.203125 \n",
              "L 19.671875 62.203125 \n",
              "L 15.828125 42.96875 \n",
              "Q 22.265625 47.46875 29.34375 47.46875 \n",
              "Q 38.71875 47.46875 45.15625 40.96875 \n",
              "Q 51.609375 34.46875 51.609375 24.265625 \n",
              "Q 51.609375 14.546875 45.953125 7.46875 \n",
              "Q 39.0625 -1.21875 27.15625 -1.21875 \n",
              "Q 17.390625 -1.21875 11.203125 4.25 \n",
              "Q 5.03125 9.71875 4.15625 18.75 \n",
              "z\n",
              "\" id=\"ArialMT-53\"/>\n",
              "       </defs>\n",
              "       <use xlink:href=\"#ArialMT-53\"/>\n",
              "      </g>\n",
              "     </g>\n",
              "    </g>\n",
              "    <g id=\"xtick_7\">\n",
              "     <g id=\"line2d_13\">\n",
              "      <path clip-path=\"url(#p21da7298c3)\" d=\"M 344.181818 224.64 \n",
              "L 344.181818 7.2 \n",
              "\" style=\"fill:none;stroke:#cccccc;stroke-linecap:round;stroke-width:0.8;\"/>\n",
              "     </g>\n",
              "     <g id=\"line2d_14\"/>\n",
              "     <g id=\"text_7\">\n",
              "      <!-- 6 -->\n",
              "      <g style=\"fill:#262626;\" transform=\"translate(341.401349 235.297812)scale(0.1 -0.1)\">\n",
              "       <defs>\n",
              "        <path d=\"M 49.75 54.046875 \n",
              "L 41.015625 53.375 \n",
              "Q 39.84375 58.546875 37.703125 60.890625 \n",
              "Q 34.125 64.65625 28.90625 64.65625 \n",
              "Q 24.703125 64.65625 21.53125 62.3125 \n",
              "Q 17.390625 59.28125 14.984375 53.46875 \n",
              "Q 12.59375 47.65625 12.5 36.921875 \n",
              "Q 15.671875 41.75 20.265625 44.09375 \n",
              "Q 24.859375 46.4375 29.890625 46.4375 \n",
              "Q 38.671875 46.4375 44.84375 39.96875 \n",
              "Q 51.03125 33.5 51.03125 23.25 \n",
              "Q 51.03125 16.5 48.125 10.71875 \n",
              "Q 45.21875 4.9375 40.140625 1.859375 \n",
              "Q 35.0625 -1.21875 28.609375 -1.21875 \n",
              "Q 17.625 -1.21875 10.6875 6.859375 \n",
              "Q 3.765625 14.9375 3.765625 33.5 \n",
              "Q 3.765625 54.25 11.421875 63.671875 \n",
              "Q 18.109375 71.875 29.4375 71.875 \n",
              "Q 37.890625 71.875 43.28125 67.140625 \n",
              "Q 48.6875 62.40625 49.75 54.046875 \n",
              "z\n",
              "M 13.875 23.1875 \n",
              "Q 13.875 18.65625 15.796875 14.5 \n",
              "Q 17.71875 10.359375 21.1875 8.171875 \n",
              "Q 24.65625 6 28.46875 6 \n",
              "Q 34.03125 6 38.03125 10.484375 \n",
              "Q 42.046875 14.984375 42.046875 22.703125 \n",
              "Q 42.046875 30.125 38.078125 34.390625 \n",
              "Q 34.125 38.671875 28.125 38.671875 \n",
              "Q 22.171875 38.671875 18.015625 34.390625 \n",
              "Q 13.875 30.125 13.875 23.1875 \n",
              "z\n",
              "\" id=\"ArialMT-54\"/>\n",
              "       </defs>\n",
              "       <use xlink:href=\"#ArialMT-54\"/>\n",
              "      </g>\n",
              "     </g>\n",
              "    </g>\n",
              "   </g>\n",
              "   <g id=\"matplotlib.axis_2\">\n",
              "    <g id=\"ytick_1\">\n",
              "     <g id=\"line2d_15\">\n",
              "      <path clip-path=\"url(#p21da7298c3)\" d=\"M 24.6 214.756364 \n",
              "L 359.4 214.756364 \n",
              "\" style=\"fill:none;stroke:#cccccc;stroke-linecap:round;stroke-width:0.8;\"/>\n",
              "     </g>\n",
              "     <g id=\"line2d_16\"/>\n",
              "     <g id=\"text_8\">\n",
              "      <!-- 0.0 -->\n",
              "      <g style=\"fill:#262626;\" transform=\"translate(7.2 218.33527)scale(0.1 -0.1)\">\n",
              "       <defs>\n",
              "        <path d=\"M 9.078125 0 \n",
              "L 9.078125 10.015625 \n",
              "L 19.09375 10.015625 \n",
              "L 19.09375 0 \n",
              "z\n",
              "\" id=\"ArialMT-46\"/>\n",
              "       </defs>\n",
              "       <use xlink:href=\"#ArialMT-48\"/>\n",
              "       <use x=\"55.615234\" xlink:href=\"#ArialMT-46\"/>\n",
              "       <use x=\"83.398438\" xlink:href=\"#ArialMT-48\"/>\n",
              "      </g>\n",
              "     </g>\n",
              "    </g>\n",
              "    <g id=\"ytick_2\">\n",
              "     <g id=\"line2d_17\">\n",
              "      <path clip-path=\"url(#p21da7298c3)\" d=\"M 24.6 175.221818 \n",
              "L 359.4 175.221818 \n",
              "\" style=\"fill:none;stroke:#cccccc;stroke-linecap:round;stroke-width:0.8;\"/>\n",
              "     </g>\n",
              "     <g id=\"line2d_18\"/>\n",
              "     <g id=\"text_9\">\n",
              "      <!-- 0.2 -->\n",
              "      <g style=\"fill:#262626;\" transform=\"translate(7.2 178.800724)scale(0.1 -0.1)\">\n",
              "       <use xlink:href=\"#ArialMT-48\"/>\n",
              "       <use x=\"55.615234\" xlink:href=\"#ArialMT-46\"/>\n",
              "       <use x=\"83.398438\" xlink:href=\"#ArialMT-50\"/>\n",
              "      </g>\n",
              "     </g>\n",
              "    </g>\n",
              "    <g id=\"ytick_3\">\n",
              "     <g id=\"line2d_19\">\n",
              "      <path clip-path=\"url(#p21da7298c3)\" d=\"M 24.6 135.687273 \n",
              "L 359.4 135.687273 \n",
              "\" style=\"fill:none;stroke:#cccccc;stroke-linecap:round;stroke-width:0.8;\"/>\n",
              "     </g>\n",
              "     <g id=\"line2d_20\"/>\n",
              "     <g id=\"text_10\">\n",
              "      <!-- 0.4 -->\n",
              "      <g style=\"fill:#262626;\" transform=\"translate(7.2 139.266179)scale(0.1 -0.1)\">\n",
              "       <use xlink:href=\"#ArialMT-48\"/>\n",
              "       <use x=\"55.615234\" xlink:href=\"#ArialMT-46\"/>\n",
              "       <use x=\"83.398438\" xlink:href=\"#ArialMT-52\"/>\n",
              "      </g>\n",
              "     </g>\n",
              "    </g>\n",
              "    <g id=\"ytick_4\">\n",
              "     <g id=\"line2d_21\">\n",
              "      <path clip-path=\"url(#p21da7298c3)\" d=\"M 24.6 96.152727 \n",
              "L 359.4 96.152727 \n",
              "\" style=\"fill:none;stroke:#cccccc;stroke-linecap:round;stroke-width:0.8;\"/>\n",
              "     </g>\n",
              "     <g id=\"line2d_22\"/>\n",
              "     <g id=\"text_11\">\n",
              "      <!-- 0.6 -->\n",
              "      <g style=\"fill:#262626;\" transform=\"translate(7.2 99.731634)scale(0.1 -0.1)\">\n",
              "       <use xlink:href=\"#ArialMT-48\"/>\n",
              "       <use x=\"55.615234\" xlink:href=\"#ArialMT-46\"/>\n",
              "       <use x=\"83.398438\" xlink:href=\"#ArialMT-54\"/>\n",
              "      </g>\n",
              "     </g>\n",
              "    </g>\n",
              "    <g id=\"ytick_5\">\n",
              "     <g id=\"line2d_23\">\n",
              "      <path clip-path=\"url(#p21da7298c3)\" d=\"M 24.6 56.618182 \n",
              "L 359.4 56.618182 \n",
              "\" style=\"fill:none;stroke:#cccccc;stroke-linecap:round;stroke-width:0.8;\"/>\n",
              "     </g>\n",
              "     <g id=\"line2d_24\"/>\n",
              "     <g id=\"text_12\">\n",
              "      <!-- 0.8 -->\n",
              "      <g style=\"fill:#262626;\" transform=\"translate(7.2 60.197088)scale(0.1 -0.1)\">\n",
              "       <defs>\n",
              "        <path d=\"M 17.671875 38.8125 \n",
              "Q 12.203125 40.828125 9.5625 44.53125 \n",
              "Q 6.9375 48.25 6.9375 53.421875 \n",
              "Q 6.9375 61.234375 12.546875 66.546875 \n",
              "Q 18.171875 71.875 27.484375 71.875 \n",
              "Q 36.859375 71.875 42.578125 66.421875 \n",
              "Q 48.296875 60.984375 48.296875 53.171875 \n",
              "Q 48.296875 48.1875 45.671875 44.5 \n",
              "Q 43.0625 40.828125 37.75 38.8125 \n",
              "Q 44.34375 36.671875 47.78125 31.875 \n",
              "Q 51.21875 27.09375 51.21875 20.453125 \n",
              "Q 51.21875 11.28125 44.71875 5.03125 \n",
              "Q 38.234375 -1.21875 27.640625 -1.21875 \n",
              "Q 17.046875 -1.21875 10.546875 5.046875 \n",
              "Q 4.046875 11.328125 4.046875 20.703125 \n",
              "Q 4.046875 27.6875 7.59375 32.390625 \n",
              "Q 11.140625 37.109375 17.671875 38.8125 \n",
              "z\n",
              "M 15.921875 53.71875 \n",
              "Q 15.921875 48.640625 19.1875 45.40625 \n",
              "Q 22.46875 42.1875 27.6875 42.1875 \n",
              "Q 32.765625 42.1875 36.015625 45.375 \n",
              "Q 39.265625 48.578125 39.265625 53.21875 \n",
              "Q 39.265625 58.0625 35.90625 61.359375 \n",
              "Q 32.5625 64.65625 27.59375 64.65625 \n",
              "Q 22.5625 64.65625 19.234375 61.421875 \n",
              "Q 15.921875 58.203125 15.921875 53.71875 \n",
              "z\n",
              "M 13.09375 20.65625 \n",
              "Q 13.09375 16.890625 14.875 13.375 \n",
              "Q 16.65625 9.859375 20.171875 7.921875 \n",
              "Q 23.6875 6 27.734375 6 \n",
              "Q 34.03125 6 38.125 10.046875 \n",
              "Q 42.234375 14.109375 42.234375 20.359375 \n",
              "Q 42.234375 26.703125 38.015625 30.859375 \n",
              "Q 33.796875 35.015625 27.4375 35.015625 \n",
              "Q 21.234375 35.015625 17.15625 30.90625 \n",
              "Q 13.09375 26.8125 13.09375 20.65625 \n",
              "z\n",
              "\" id=\"ArialMT-56\"/>\n",
              "       </defs>\n",
              "       <use xlink:href=\"#ArialMT-48\"/>\n",
              "       <use x=\"55.615234\" xlink:href=\"#ArialMT-46\"/>\n",
              "       <use x=\"83.398438\" xlink:href=\"#ArialMT-56\"/>\n",
              "      </g>\n",
              "     </g>\n",
              "    </g>\n",
              "    <g id=\"ytick_6\">\n",
              "     <g id=\"line2d_25\">\n",
              "      <path clip-path=\"url(#p21da7298c3)\" d=\"M 24.6 17.083636 \n",
              "L 359.4 17.083636 \n",
              "\" style=\"fill:none;stroke:#cccccc;stroke-linecap:round;stroke-width:0.8;\"/>\n",
              "     </g>\n",
              "     <g id=\"line2d_26\"/>\n",
              "     <g id=\"text_13\">\n",
              "      <!-- 1.0 -->\n",
              "      <g style=\"fill:#262626;\" transform=\"translate(7.2 20.662543)scale(0.1 -0.1)\">\n",
              "       <use xlink:href=\"#ArialMT-49\"/>\n",
              "       <use x=\"55.615234\" xlink:href=\"#ArialMT-46\"/>\n",
              "       <use x=\"83.398438\" xlink:href=\"#ArialMT-48\"/>\n",
              "      </g>\n",
              "     </g>\n",
              "    </g>\n",
              "   </g>\n",
              "   <g id=\"PolyCollection_1\">\n",
              "    <path clip-path=\"url(#p21da7298c3)\" d=\"M 222.006732 214.756364 \n",
              "L 222.006732 207.80845 \n",
              "L 223.240824 207.939859 \n",
              "L 224.474916 208.068527 \n",
              "L 225.709008 208.194516 \n",
              "L 226.9431 208.317887 \n",
              "L 228.177191 208.438699 \n",
              "L 229.411283 208.55701 \n",
              "L 230.645375 208.672878 \n",
              "L 231.879467 208.786356 \n",
              "L 233.113558 208.8975 \n",
              "L 234.34765 209.006361 \n",
              "L 235.581742 209.112991 \n",
              "L 236.815834 209.21744 \n",
              "L 238.049926 209.319756 \n",
              "L 239.284017 209.419987 \n",
              "L 240.518109 209.51818 \n",
              "L 241.752201 209.614379 \n",
              "L 242.986293 209.70863 \n",
              "L 244.220384 209.800975 \n",
              "L 245.454476 209.891456 \n",
              "L 246.688568 209.980115 \n",
              "L 247.92266 210.066992 \n",
              "L 249.156752 210.152125 \n",
              "L 250.390843 210.235553 \n",
              "L 251.624935 210.317314 \n",
              "L 252.859027 210.397443 \n",
              "L 254.093119 210.475977 \n",
              "L 255.32721 210.55295 \n",
              "L 256.561302 210.628396 \n",
              "L 257.795394 210.702348 \n",
              "L 259.029486 210.774838 \n",
              "L 260.263577 210.845899 \n",
              "L 261.497669 210.91556 \n",
              "L 262.731761 210.983852 \n",
              "L 263.965853 211.050805 \n",
              "L 265.199945 211.116447 \n",
              "L 266.434036 211.180806 \n",
              "L 267.668128 211.24391 \n",
              "L 268.90222 211.305785 \n",
              "L 270.136312 211.366457 \n",
              "L 271.370403 211.425953 \n",
              "L 272.604495 211.484297 \n",
              "L 273.838587 211.541513 \n",
              "L 275.072679 211.597625 \n",
              "L 276.306771 211.652657 \n",
              "L 277.540862 211.706631 \n",
              "L 278.774954 211.759569 \n",
              "L 280.009046 211.811494 \n",
              "L 281.243138 211.862426 \n",
              "L 282.477229 211.912386 \n",
              "L 283.711321 211.961395 \n",
              "L 284.945413 212.009472 \n",
              "L 286.179505 212.056636 \n",
              "L 287.413597 212.102908 \n",
              "L 288.647688 212.148304 \n",
              "L 289.88178 212.192843 \n",
              "L 291.115872 212.236543 \n",
              "L 292.349964 212.279422 \n",
              "L 293.584055 212.321495 \n",
              "L 294.818147 212.36278 \n",
              "L 296.052239 212.403292 \n",
              "L 297.286331 212.443048 \n",
              "L 298.520423 212.482063 \n",
              "L 299.754514 212.520352 \n",
              "L 300.988606 212.55793 \n",
              "L 302.222698 212.59481 \n",
              "L 303.45679 212.631009 \n",
              "L 304.690881 212.666538 \n",
              "L 305.924973 212.701412 \n",
              "L 307.159065 212.735645 \n",
              "L 308.393157 212.769247 \n",
              "L 309.627248 212.802234 \n",
              "L 310.86134 212.834616 \n",
              "L 312.095432 212.866406 \n",
              "L 313.329524 212.897616 \n",
              "L 314.563616 212.928257 \n",
              "L 315.797707 212.958341 \n",
              "L 317.031799 212.987879 \n",
              "L 318.265891 213.016881 \n",
              "L 319.499983 213.045359 \n",
              "L 320.734074 213.073322 \n",
              "L 321.968166 213.100781 \n",
              "L 323.202258 213.127746 \n",
              "L 324.43635 213.154226 \n",
              "L 325.670442 213.180231 \n",
              "L 326.904533 213.20577 \n",
              "L 328.138625 213.230853 \n",
              "L 329.372717 213.255487 \n",
              "L 330.606809 213.279683 \n",
              "L 331.8409 213.303449 \n",
              "L 333.074992 213.326793 \n",
              "L 334.309084 213.349722 \n",
              "L 335.543176 213.372246 \n",
              "L 336.777268 213.394372 \n",
              "L 338.011359 213.416108 \n",
              "L 339.245451 213.437461 \n",
              "L 340.479543 213.458438 \n",
              "L 341.713635 213.479048 \n",
              "L 342.947726 213.499296 \n",
              "L 344.181818 213.51919 \n",
              "L 344.181818 214.756364 \n",
              "L 344.181818 214.756364 \n",
              "L 342.947726 214.756364 \n",
              "L 341.713635 214.756364 \n",
              "L 340.479543 214.756364 \n",
              "L 339.245451 214.756364 \n",
              "L 338.011359 214.756364 \n",
              "L 336.777268 214.756364 \n",
              "L 335.543176 214.756364 \n",
              "L 334.309084 214.756364 \n",
              "L 333.074992 214.756364 \n",
              "L 331.8409 214.756364 \n",
              "L 330.606809 214.756364 \n",
              "L 329.372717 214.756364 \n",
              "L 328.138625 214.756364 \n",
              "L 326.904533 214.756364 \n",
              "L 325.670442 214.756364 \n",
              "L 324.43635 214.756364 \n",
              "L 323.202258 214.756364 \n",
              "L 321.968166 214.756364 \n",
              "L 320.734074 214.756364 \n",
              "L 319.499983 214.756364 \n",
              "L 318.265891 214.756364 \n",
              "L 317.031799 214.756364 \n",
              "L 315.797707 214.756364 \n",
              "L 314.563616 214.756364 \n",
              "L 313.329524 214.756364 \n",
              "L 312.095432 214.756364 \n",
              "L 310.86134 214.756364 \n",
              "L 309.627248 214.756364 \n",
              "L 308.393157 214.756364 \n",
              "L 307.159065 214.756364 \n",
              "L 305.924973 214.756364 \n",
              "L 304.690881 214.756364 \n",
              "L 303.45679 214.756364 \n",
              "L 302.222698 214.756364 \n",
              "L 300.988606 214.756364 \n",
              "L 299.754514 214.756364 \n",
              "L 298.520423 214.756364 \n",
              "L 297.286331 214.756364 \n",
              "L 296.052239 214.756364 \n",
              "L 294.818147 214.756364 \n",
              "L 293.584055 214.756364 \n",
              "L 292.349964 214.756364 \n",
              "L 291.115872 214.756364 \n",
              "L 289.88178 214.756364 \n",
              "L 288.647688 214.756364 \n",
              "L 287.413597 214.756364 \n",
              "L 286.179505 214.756364 \n",
              "L 284.945413 214.756364 \n",
              "L 283.711321 214.756364 \n",
              "L 282.477229 214.756364 \n",
              "L 281.243138 214.756364 \n",
              "L 280.009046 214.756364 \n",
              "L 278.774954 214.756364 \n",
              "L 277.540862 214.756364 \n",
              "L 276.306771 214.756364 \n",
              "L 275.072679 214.756364 \n",
              "L 273.838587 214.756364 \n",
              "L 272.604495 214.756364 \n",
              "L 271.370403 214.756364 \n",
              "L 270.136312 214.756364 \n",
              "L 268.90222 214.756364 \n",
              "L 267.668128 214.756364 \n",
              "L 266.434036 214.756364 \n",
              "L 265.199945 214.756364 \n",
              "L 263.965853 214.756364 \n",
              "L 262.731761 214.756364 \n",
              "L 261.497669 214.756364 \n",
              "L 260.263577 214.756364 \n",
              "L 259.029486 214.756364 \n",
              "L 257.795394 214.756364 \n",
              "L 256.561302 214.756364 \n",
              "L 255.32721 214.756364 \n",
              "L 254.093119 214.756364 \n",
              "L 252.859027 214.756364 \n",
              "L 251.624935 214.756364 \n",
              "L 250.390843 214.756364 \n",
              "L 249.156752 214.756364 \n",
              "L 247.92266 214.756364 \n",
              "L 246.688568 214.756364 \n",
              "L 245.454476 214.756364 \n",
              "L 244.220384 214.756364 \n",
              "L 242.986293 214.756364 \n",
              "L 241.752201 214.756364 \n",
              "L 240.518109 214.756364 \n",
              "L 239.284017 214.756364 \n",
              "L 238.049926 214.756364 \n",
              "L 236.815834 214.756364 \n",
              "L 235.581742 214.756364 \n",
              "L 234.34765 214.756364 \n",
              "L 233.113558 214.756364 \n",
              "L 231.879467 214.756364 \n",
              "L 230.645375 214.756364 \n",
              "L 229.411283 214.756364 \n",
              "L 228.177191 214.756364 \n",
              "L 226.9431 214.756364 \n",
              "L 225.709008 214.756364 \n",
              "L 224.474916 214.756364 \n",
              "L 223.240824 214.756364 \n",
              "L 222.006732 214.756364 \n",
              "z\n",
              "\" style=\"fill:#1f77b4;fill-opacity:0.5;\"/>\n",
              "   </g>\n",
              "   <g id=\"line2d_27\">\n",
              "    <path clip-path=\"url(#p21da7298c3)\" d=\"M 39.818182 17.083636 \n",
              "L 42.867918 29.885772 \n",
              "L 45.917653 41.777746 \n",
              "L 48.967389 52.829947 \n",
              "L 52.017125 63.106892 \n",
              "L 55.066861 72.667741 \n",
              "L 58.116597 81.566783 \n",
              "L 61.166333 89.85386 \n",
              "L 64.216069 97.574763 \n",
              "L 67.265804 104.771582 \n",
              "L 70.31554 111.483028 \n",
              "L 73.365276 117.744722 \n",
              "L 77.024959 124.711081 \n",
              "L 80.684642 131.128701 \n",
              "L 84.344325 137.044568 \n",
              "L 88.004008 142.501329 \n",
              "L 91.663691 147.537717 \n",
              "L 95.323374 152.188942 \n",
              "L 98.983057 156.487031 \n",
              "L 102.64274 160.461136 \n",
              "L 106.302423 164.137812 \n",
              "L 110.572053 168.083527 \n",
              "L 114.841683 171.692079 \n",
              "L 119.111314 174.994769 \n",
              "L 123.380944 178.019761 \n",
              "L 127.650574 180.792423 \n",
              "L 132.530151 183.68144 \n",
              "L 137.409729 186.301271 \n",
              "L 142.289306 188.679143 \n",
              "L 147.77883 191.095135 \n",
              "L 153.268355 193.266136 \n",
              "L 159.367827 195.423687 \n",
              "L 165.467298 197.344347 \n",
              "L 172.176717 199.217 \n",
              "L 179.496083 201.00988 \n",
              "L 186.815449 202.576895 \n",
              "L 194.744762 204.055214 \n",
              "L 203.284023 205.429113 \n",
              "L 213.043177 206.76553 \n",
              "L 223.412279 207.957898 \n",
              "L 235.001275 209.063111 \n",
              "L 247.810166 210.059145 \n",
              "L 262.448898 210.968319 \n",
              "L 278.917471 211.765617 \n",
              "L 298.435781 212.47941 \n",
              "L 321.613773 213.092947 \n",
              "L 344.181818 213.51919 \n",
              "L 344.181818 213.51919 \n",
              "\" style=\"fill:none;stroke:#1f77b4;stroke-linecap:round;stroke-width:1.5;\"/>\n",
              "   </g>\n",
              "   <g id=\"patch_3\">\n",
              "    <path d=\"M 24.6 224.64 \n",
              "L 24.6 7.2 \n",
              "\" style=\"fill:none;stroke:#cccccc;stroke-linecap:square;stroke-linejoin:miter;\"/>\n",
              "   </g>\n",
              "   <g id=\"patch_4\">\n",
              "    <path d=\"M 359.4 224.64 \n",
              "L 359.4 7.2 \n",
              "\" style=\"fill:none;stroke:#cccccc;stroke-linecap:square;stroke-linejoin:miter;\"/>\n",
              "   </g>\n",
              "   <g id=\"patch_5\">\n",
              "    <path d=\"M 24.6 224.64 \n",
              "L 359.4 224.64 \n",
              "\" style=\"fill:none;stroke:#cccccc;stroke-linecap:square;stroke-linejoin:miter;\"/>\n",
              "   </g>\n",
              "   <g id=\"patch_6\">\n",
              "    <path d=\"M 24.6 7.2 \n",
              "L 359.4 7.2 \n",
              "\" style=\"fill:none;stroke:#cccccc;stroke-linecap:square;stroke-linejoin:miter;\"/>\n",
              "   </g>\n",
              "  </g>\n",
              " </g>\n",
              " <defs>\n",
              "  <clipPath id=\"p21da7298c3\">\n",
              "   <rect height=\"217.44\" width=\"334.8\" x=\"24.6\" y=\"7.2\"/>\n",
              "  </clipPath>\n",
              " </defs>\n",
              "</svg>\n"
            ],
            "text/plain": [
              "<Figure size 432x288 with 1 Axes>"
            ]
          },
          "metadata": {},
          "output_type": "display_data"
        }
      ]
    },
    {
      "cell_type": "markdown",
      "metadata": {
        "id": "u_ZUPocja_1d"
      },
      "source": [
        "Значение статистики попало в критическую область, поэтому заключаем, что отличие средних зарплат действительно является статистически значимым."
      ]
    },
    {
      "cell_type": "markdown",
      "metadata": {
        "id": "1FeMx7Vga_1e"
      },
      "source": [
        "В `scipy` имеется готовая реализация однофакторного дисперсионного анализа: в функцию `scipy.stats.f_oneway` нужно поочерёдно передать каждую из выборок для теста. Возвращает такая функция, как обычно, значение статистики и P-значение."
      ]
    },
    {
      "cell_type": "code",
      "metadata": {
        "execution": {
          "iopub.execute_input": "2021-02-13T12:52:57.591854Z",
          "iopub.status.busy": "2021-02-13T12:52:57.591253Z",
          "iopub.status.idle": "2021-02-13T12:52:57.593711Z",
          "shell.execute_reply": "2021-02-13T12:52:57.594427Z"
        },
        "id": "dxVzYshOa_1e",
        "outputId": "589affe2-5a97-4a06-b7d5-56f6f5c1a1f9"
      },
      "source": [
        "stats.f_oneway(y1, y2, y3)"
      ],
      "execution_count": null,
      "outputs": [
        {
          "data": {
            "text/plain": [
              "F_onewayResult(statistic=31.77269601100413, pvalue=1.8091304567650962e-06)"
            ]
          },
          "execution_count": 1,
          "metadata": {},
          "output_type": "execute_result"
        }
      ]
    },
    {
      "cell_type": "markdown",
      "metadata": {
        "id": "aq0J__OHa_1g"
      },
      "source": [
        "__Двухфакторный дисперсионный анализ__\n",
        "\n",
        "Существует также процедура __двухфакторного дисперсионного анализа__ для случая, когда имеется пара категориальных факторов, и требуется исследовать влияние каждого из них на целевую переменную.\n",
        "\n",
        "Про двухфакторный дисперсионный анализ читайте в дополнительных материалах к уроку."
      ]
    },
    {
      "cell_type": "markdown",
      "metadata": {
        "id": "w-UpcAl4a_1g"
      },
      "source": [
        "### Метод главных компонент\n",
        "\n",
        "__Метод главных компонент__ — один из методов анализа факторов и понижения их размерности, т.е. приведения множества непосредственно наблюдаемых факторов $x_i$, $i = 1, \\dots, m$, к меньшему числу новых линейно независимых факторов $y_j$, $j = 1, \\dots, q$, $q < m$.\n",
        "\n",
        "С помощью этого метода можно:\n",
        "* Проанализировать уровень совокупной линейной зависимости в имеющихся данных (а не только лишь попарной, как в корреляционном анализе).\n",
        "* Понизить размерность в данных и одновременно избавиться от линейной зависимости, контролируя при этом уровень потери информации."
      ]
    },
    {
      "cell_type": "markdown",
      "metadata": {
        "id": "uV2ucISaa_1g"
      },
      "source": [
        "В основе метода главных компонент лежит работа с _собственными векторами_ и _собственными числами_ матрицы ковариаций. В дополнительных материалах к уроку представлен краткий экскурс в эту тематику."
      ]
    },
    {
      "cell_type": "markdown",
      "metadata": {
        "id": "F6grcmIla_1h"
      },
      "source": [
        "В контексте метода главных компонент нас интересует следующее: для матрицы ковариаций собственные векторы являются __главными направлениями вариативности в данных__ (или __главными компонентами__).\n",
        "\n",
        "Причём чем больше собственное значение, тем сильнее степень вариативности данных в этом направлении.\n",
        "\n",
        "Итак,\n",
        "1. метод главных компонент __перераспределяет__ вариативность внутри факторов $x_1$, ..., $x_m$ вдоль главных компонент,\n",
        "2. при этом главные компоненты с малым уровнем вариативности (т.е. с малыми собственными значениями) можно исключить.\n",
        "\n",
        "Допустим, имеется матрица объект-признак: $X = \\left( x_{ij} \\right)_{n \\times m}$ (т.е. $n$ объектов, $m$ признаков). Предположим также, что в процессе преобразования данных мы готовы потерять не более, чем долю $p$ от имеющейся информации (например, это может быть ограничение в $5 \\%$)."
      ]
    },
    {
      "cell_type": "markdown",
      "metadata": {
        "id": "AIQL_Mmba_1h"
      },
      "source": [
        "__Этапы метода главных компонент__:\n",
        "\n",
        "1. _Центрируем_ матрицу $X$, т.е. вычтем из каждого столбца среднее по этому столбцу. В результате получится матрица $X^\\ast = \\left( x_{ij}^\\ast \\right)_{n \\times m}$, в которой средние по столбцам равны $0$. Обозначим сумму дисперсий признаков за $\\sigma_X$, она нам ещё пригодится.\n",
        "2. Вычислим матрицу ковариаций $\\Sigma = \\left( \\sigma_{ij} \\right)_{m \\times m}$.\n",
        "3. Вычислим собственные векторы и собственные значения матрицы $\\Sigma$. Пусть это собственные значения $\\lambda_1, \\dots, \\lambda_m,$ расположенные в порядке убывания, и им соответствуют векторы $v_1, \\dots, v_m.$ Сумма собственных значений равна $\\sigma_X$. Собственные векторы $v_i$ называются __главными компонентами__, и уровень вариативности данных вдоль каждой компоненты равен $\\lambda_i$.\n",
        "4. Найдём наименьшее $k$, для которого верно:\n",
        "$$\\dfrac{\\lambda_1 + \\dots + \\lambda_k}{\\sigma_X} \\geq 1 - p$$\n",
        "Значение слева называется __долей объяснённой дисперсии__ выбранных главных компонент: в знаменателе стоит дисперсия признаков до применения метода, а в числителе стоит то, что будет дисперсией новых признаков.\n",
        "5. Составим матрицу $T$ из первых $k$ собственных векторов (столбцов). Тогда новая матрица объект-признак: $Y = X^\\ast \\cdot T$."
      ]
    },
    {
      "cell_type": "markdown",
      "metadata": {
        "id": "yO-sH2gua_1h"
      },
      "source": [
        "__Пример 2__\n",
        "\n",
        "Рассмотрим матрицу объект признак:"
      ]
    },
    {
      "cell_type": "code",
      "metadata": {
        "execution": {
          "iopub.execute_input": "2021-02-13T12:52:57.600443Z",
          "iopub.status.busy": "2021-02-13T12:52:57.599671Z",
          "iopub.status.idle": "2021-02-13T12:52:57.601675Z",
          "shell.execute_reply": "2021-02-13T12:52:57.602366Z"
        },
        "id": "lBalhAgza_1k"
      },
      "source": [
        "samples = np.array([[ 2.36499331, -0.57978654],\n",
        "                    [ 5.70144948,  3.54257542],\n",
        "                    [ 5.27028536,  2.1560189 ],\n",
        "                    [ 4.14275078,  0.39188923],\n",
        "                    [ 3.93109011,  0.87195848],\n",
        "                    [ 4.59408573,  2.17496773],\n",
        "                    [ 3.53666882,  0.84484304],\n",
        "                    [ 5.13601245,  2.74557671],\n",
        "                    [ 4.40989037,  1.7030094 ],\n",
        "                    [ 5.05796456,  1.86949263]])"
      ],
      "execution_count": null,
      "outputs": []
    },
    {
      "cell_type": "markdown",
      "metadata": {
        "id": "79HZbO1ja_1l"
      },
      "source": [
        "Поскольку признаков всего $2$, соответствующие объекты можно расположить на плоскости:"
      ]
    },
    {
      "cell_type": "code",
      "metadata": {
        "execution": {
          "iopub.execute_input": "2021-02-13T12:52:57.625091Z",
          "iopub.status.busy": "2021-02-13T12:52:57.624313Z",
          "iopub.status.idle": "2021-02-13T12:52:57.782565Z",
          "shell.execute_reply": "2021-02-13T12:52:57.783392Z"
        },
        "id": "wN-xtRUaa_1l",
        "outputId": "2e93c664-932d-470b-c47a-8275fbfd44ae"
      },
      "source": [
        "plt.scatter(samples[:, 0], samples[:, 1])"
      ],
      "execution_count": null,
      "outputs": [
        {
          "data": {
            "text/plain": [
              "<matplotlib.collections.PathCollection at 0x12884c490>"
            ]
          },
          "execution_count": 1,
          "metadata": {},
          "output_type": "execute_result"
        },
        {
          "data": {
            "image/svg+xml": [
              "<?xml version=\"1.0\" encoding=\"utf-8\" standalone=\"no\"?>\n",
              "<!DOCTYPE svg PUBLIC \"-//W3C//DTD SVG 1.1//EN\"\n",
              "  \"http://www.w3.org/Graphics/SVG/1.1/DTD/svg11.dtd\">\n",
              "<!-- Created with matplotlib (https://matplotlib.org/) -->\n",
              "<svg height=\"244.485312pt\" version=\"1.1\" viewBox=\"0 0 358.260937 244.485312\" width=\"358.260937pt\" xmlns=\"http://www.w3.org/2000/svg\" xmlns:xlink=\"http://www.w3.org/1999/xlink\">\n",
              " <metadata>\n",
              "  <rdf:RDF xmlns:cc=\"http://creativecommons.org/ns#\" xmlns:dc=\"http://purl.org/dc/elements/1.1/\" xmlns:rdf=\"http://www.w3.org/1999/02/22-rdf-syntax-ns#\">\n",
              "   <cc:Work>\n",
              "    <dc:type rdf:resource=\"http://purl.org/dc/dcmitype/StillImage\"/>\n",
              "    <dc:date>2021-02-13T15:52:57.734256</dc:date>\n",
              "    <dc:format>image/svg+xml</dc:format>\n",
              "    <dc:creator>\n",
              "     <cc:Agent>\n",
              "      <dc:title>Matplotlib v3.3.3, https://matplotlib.org/</dc:title>\n",
              "     </cc:Agent>\n",
              "    </dc:creator>\n",
              "   </cc:Work>\n",
              "  </rdf:RDF>\n",
              " </metadata>\n",
              " <defs>\n",
              "  <style type=\"text/css\">*{stroke-linecap:butt;stroke-linejoin:round;}</style>\n",
              " </defs>\n",
              " <g id=\"figure_1\">\n",
              "  <g id=\"patch_1\">\n",
              "   <path d=\"M 0 244.485312 \n",
              "L 358.260937 244.485312 \n",
              "L 358.260937 0 \n",
              "L 0 0 \n",
              "z\n",
              "\" style=\"fill:#ffffff;\"/>\n",
              "  </g>\n",
              "  <g id=\"axes_1\">\n",
              "   <g id=\"patch_2\">\n",
              "    <path d=\"M 16.260937 224.64 \n",
              "L 351.060938 224.64 \n",
              "L 351.060938 7.2 \n",
              "L 16.260937 7.2 \n",
              "z\n",
              "\" style=\"fill:#ffffff;\"/>\n",
              "   </g>\n",
              "   <g id=\"matplotlib.axis_1\">\n",
              "    <g id=\"xtick_1\">\n",
              "     <g id=\"line2d_1\">\n",
              "      <path clip-path=\"url(#p34041e96a7)\" d=\"M 43.794919 224.64 \n",
              "L 43.794919 7.2 \n",
              "\" style=\"fill:none;stroke:#cccccc;stroke-linecap:round;stroke-width:0.8;\"/>\n",
              "     </g>\n",
              "     <g id=\"line2d_2\"/>\n",
              "     <g id=\"text_1\">\n",
              "      <!-- 2.5 -->\n",
              "      <g style=\"fill:#262626;\" transform=\"translate(36.844919 235.297812)scale(0.1 -0.1)\">\n",
              "       <defs>\n",
              "        <path d=\"M 50.34375 8.453125 \n",
              "L 50.34375 0 \n",
              "L 3.03125 0 \n",
              "Q 2.9375 3.171875 4.046875 6.109375 \n",
              "Q 5.859375 10.9375 9.828125 15.625 \n",
              "Q 13.8125 20.3125 21.34375 26.46875 \n",
              "Q 33.015625 36.03125 37.109375 41.625 \n",
              "Q 41.21875 47.21875 41.21875 52.203125 \n",
              "Q 41.21875 57.421875 37.46875 61 \n",
              "Q 33.734375 64.59375 27.734375 64.59375 \n",
              "Q 21.390625 64.59375 17.578125 60.78125 \n",
              "Q 13.765625 56.984375 13.71875 50.25 \n",
              "L 4.6875 51.171875 \n",
              "Q 5.609375 61.28125 11.65625 66.578125 \n",
              "Q 17.71875 71.875 27.9375 71.875 \n",
              "Q 38.234375 71.875 44.234375 66.15625 \n",
              "Q 50.25 60.453125 50.25 52 \n",
              "Q 50.25 47.703125 48.484375 43.546875 \n",
              "Q 46.734375 39.40625 42.65625 34.8125 \n",
              "Q 38.578125 30.21875 29.109375 22.21875 \n",
              "Q 21.1875 15.578125 18.9375 13.203125 \n",
              "Q 16.703125 10.84375 15.234375 8.453125 \n",
              "z\n",
              "\" id=\"ArialMT-50\"/>\n",
              "        <path d=\"M 9.078125 0 \n",
              "L 9.078125 10.015625 \n",
              "L 19.09375 10.015625 \n",
              "L 19.09375 0 \n",
              "z\n",
              "\" id=\"ArialMT-46\"/>\n",
              "        <path d=\"M 4.15625 18.75 \n",
              "L 13.375 19.53125 \n",
              "Q 14.40625 12.796875 18.140625 9.390625 \n",
              "Q 21.875 6 27.15625 6 \n",
              "Q 33.5 6 37.890625 10.78125 \n",
              "Q 42.28125 15.578125 42.28125 23.484375 \n",
              "Q 42.28125 31 38.0625 35.34375 \n",
              "Q 33.84375 39.703125 27 39.703125 \n",
              "Q 22.75 39.703125 19.328125 37.765625 \n",
              "Q 15.921875 35.84375 13.96875 32.765625 \n",
              "L 5.71875 33.84375 \n",
              "L 12.640625 70.609375 \n",
              "L 48.25 70.609375 \n",
              "L 48.25 62.203125 \n",
              "L 19.671875 62.203125 \n",
              "L 15.828125 42.96875 \n",
              "Q 22.265625 47.46875 29.34375 47.46875 \n",
              "Q 38.71875 47.46875 45.15625 40.96875 \n",
              "Q 51.609375 34.46875 51.609375 24.265625 \n",
              "Q 51.609375 14.546875 45.953125 7.46875 \n",
              "Q 39.0625 -1.21875 27.15625 -1.21875 \n",
              "Q 17.390625 -1.21875 11.203125 4.25 \n",
              "Q 5.03125 9.71875 4.15625 18.75 \n",
              "z\n",
              "\" id=\"ArialMT-53\"/>\n",
              "       </defs>\n",
              "       <use xlink:href=\"#ArialMT-50\"/>\n",
              "       <use x=\"55.615234\" xlink:href=\"#ArialMT-46\"/>\n",
              "       <use x=\"83.398438\" xlink:href=\"#ArialMT-53\"/>\n",
              "      </g>\n",
              "     </g>\n",
              "    </g>\n",
              "    <g id=\"xtick_2\">\n",
              "     <g id=\"line2d_3\">\n",
              "      <path clip-path=\"url(#p34041e96a7)\" d=\"M 89.406733 224.64 \n",
              "L 89.406733 7.2 \n",
              "\" style=\"fill:none;stroke:#cccccc;stroke-linecap:round;stroke-width:0.8;\"/>\n",
              "     </g>\n",
              "     <g id=\"line2d_4\"/>\n",
              "     <g id=\"text_2\">\n",
              "      <!-- 3.0 -->\n",
              "      <g style=\"fill:#262626;\" transform=\"translate(82.456733 235.297812)scale(0.1 -0.1)\">\n",
              "       <defs>\n",
              "        <path d=\"M 4.203125 18.890625 \n",
              "L 12.984375 20.0625 \n",
              "Q 14.5 12.59375 18.140625 9.296875 \n",
              "Q 21.78125 6 27 6 \n",
              "Q 33.203125 6 37.46875 10.296875 \n",
              "Q 41.75 14.59375 41.75 20.953125 \n",
              "Q 41.75 27 37.796875 30.921875 \n",
              "Q 33.84375 34.859375 27.734375 34.859375 \n",
              "Q 25.25 34.859375 21.53125 33.890625 \n",
              "L 22.515625 41.609375 \n",
              "Q 23.390625 41.5 23.921875 41.5 \n",
              "Q 29.546875 41.5 34.03125 44.421875 \n",
              "Q 38.53125 47.359375 38.53125 53.46875 \n",
              "Q 38.53125 58.296875 35.25 61.46875 \n",
              "Q 31.984375 64.65625 26.8125 64.65625 \n",
              "Q 21.6875 64.65625 18.265625 61.421875 \n",
              "Q 14.84375 58.203125 13.875 51.765625 \n",
              "L 5.078125 53.328125 \n",
              "Q 6.6875 62.15625 12.390625 67.015625 \n",
              "Q 18.109375 71.875 26.609375 71.875 \n",
              "Q 32.46875 71.875 37.390625 69.359375 \n",
              "Q 42.328125 66.84375 44.9375 62.5 \n",
              "Q 47.5625 58.15625 47.5625 53.265625 \n",
              "Q 47.5625 48.640625 45.0625 44.828125 \n",
              "Q 42.578125 41.015625 37.703125 38.765625 \n",
              "Q 44.046875 37.3125 47.5625 32.6875 \n",
              "Q 51.078125 28.078125 51.078125 21.140625 \n",
              "Q 51.078125 11.765625 44.234375 5.25 \n",
              "Q 37.40625 -1.265625 26.953125 -1.265625 \n",
              "Q 17.53125 -1.265625 11.296875 4.34375 \n",
              "Q 5.078125 9.96875 4.203125 18.890625 \n",
              "z\n",
              "\" id=\"ArialMT-51\"/>\n",
              "        <path d=\"M 4.15625 35.296875 \n",
              "Q 4.15625 48 6.765625 55.734375 \n",
              "Q 9.375 63.484375 14.515625 67.671875 \n",
              "Q 19.671875 71.875 27.484375 71.875 \n",
              "Q 33.25 71.875 37.59375 69.546875 \n",
              "Q 41.9375 67.234375 44.765625 62.859375 \n",
              "Q 47.609375 58.5 49.21875 52.21875 \n",
              "Q 50.828125 45.953125 50.828125 35.296875 \n",
              "Q 50.828125 22.703125 48.234375 14.96875 \n",
              "Q 45.65625 7.234375 40.5 3 \n",
              "Q 35.359375 -1.21875 27.484375 -1.21875 \n",
              "Q 17.140625 -1.21875 11.234375 6.203125 \n",
              "Q 4.15625 15.140625 4.15625 35.296875 \n",
              "z\n",
              "M 13.1875 35.296875 \n",
              "Q 13.1875 17.671875 17.3125 11.828125 \n",
              "Q 21.4375 6 27.484375 6 \n",
              "Q 33.546875 6 37.671875 11.859375 \n",
              "Q 41.796875 17.71875 41.796875 35.296875 \n",
              "Q 41.796875 52.984375 37.671875 58.78125 \n",
              "Q 33.546875 64.59375 27.390625 64.59375 \n",
              "Q 21.34375 64.59375 17.71875 59.46875 \n",
              "Q 13.1875 52.9375 13.1875 35.296875 \n",
              "z\n",
              "\" id=\"ArialMT-48\"/>\n",
              "       </defs>\n",
              "       <use xlink:href=\"#ArialMT-51\"/>\n",
              "       <use x=\"55.615234\" xlink:href=\"#ArialMT-46\"/>\n",
              "       <use x=\"83.398438\" xlink:href=\"#ArialMT-48\"/>\n",
              "      </g>\n",
              "     </g>\n",
              "    </g>\n",
              "    <g id=\"xtick_3\">\n",
              "     <g id=\"line2d_5\">\n",
              "      <path clip-path=\"url(#p34041e96a7)\" d=\"M 135.018547 224.64 \n",
              "L 135.018547 7.2 \n",
              "\" style=\"fill:none;stroke:#cccccc;stroke-linecap:round;stroke-width:0.8;\"/>\n",
              "     </g>\n",
              "     <g id=\"line2d_6\"/>\n",
              "     <g id=\"text_3\">\n",
              "      <!-- 3.5 -->\n",
              "      <g style=\"fill:#262626;\" transform=\"translate(128.068547 235.297812)scale(0.1 -0.1)\">\n",
              "       <use xlink:href=\"#ArialMT-51\"/>\n",
              "       <use x=\"55.615234\" xlink:href=\"#ArialMT-46\"/>\n",
              "       <use x=\"83.398438\" xlink:href=\"#ArialMT-53\"/>\n",
              "      </g>\n",
              "     </g>\n",
              "    </g>\n",
              "    <g id=\"xtick_4\">\n",
              "     <g id=\"line2d_7\">\n",
              "      <path clip-path=\"url(#p34041e96a7)\" d=\"M 180.630361 224.64 \n",
              "L 180.630361 7.2 \n",
              "\" style=\"fill:none;stroke:#cccccc;stroke-linecap:round;stroke-width:0.8;\"/>\n",
              "     </g>\n",
              "     <g id=\"line2d_8\"/>\n",
              "     <g id=\"text_4\">\n",
              "      <!-- 4.0 -->\n",
              "      <g style=\"fill:#262626;\" transform=\"translate(173.680361 235.297812)scale(0.1 -0.1)\">\n",
              "       <defs>\n",
              "        <path d=\"M 32.328125 0 \n",
              "L 32.328125 17.140625 \n",
              "L 1.265625 17.140625 \n",
              "L 1.265625 25.203125 \n",
              "L 33.9375 71.578125 \n",
              "L 41.109375 71.578125 \n",
              "L 41.109375 25.203125 \n",
              "L 50.78125 25.203125 \n",
              "L 50.78125 17.140625 \n",
              "L 41.109375 17.140625 \n",
              "L 41.109375 0 \n",
              "z\n",
              "M 32.328125 25.203125 \n",
              "L 32.328125 57.46875 \n",
              "L 9.90625 25.203125 \n",
              "z\n",
              "\" id=\"ArialMT-52\"/>\n",
              "       </defs>\n",
              "       <use xlink:href=\"#ArialMT-52\"/>\n",
              "       <use x=\"55.615234\" xlink:href=\"#ArialMT-46\"/>\n",
              "       <use x=\"83.398438\" xlink:href=\"#ArialMT-48\"/>\n",
              "      </g>\n",
              "     </g>\n",
              "    </g>\n",
              "    <g id=\"xtick_5\">\n",
              "     <g id=\"line2d_9\">\n",
              "      <path clip-path=\"url(#p34041e96a7)\" d=\"M 226.242175 224.64 \n",
              "L 226.242175 7.2 \n",
              "\" style=\"fill:none;stroke:#cccccc;stroke-linecap:round;stroke-width:0.8;\"/>\n",
              "     </g>\n",
              "     <g id=\"line2d_10\"/>\n",
              "     <g id=\"text_5\">\n",
              "      <!-- 4.5 -->\n",
              "      <g style=\"fill:#262626;\" transform=\"translate(219.292175 235.297812)scale(0.1 -0.1)\">\n",
              "       <use xlink:href=\"#ArialMT-52\"/>\n",
              "       <use x=\"55.615234\" xlink:href=\"#ArialMT-46\"/>\n",
              "       <use x=\"83.398438\" xlink:href=\"#ArialMT-53\"/>\n",
              "      </g>\n",
              "     </g>\n",
              "    </g>\n",
              "    <g id=\"xtick_6\">\n",
              "     <g id=\"line2d_11\">\n",
              "      <path clip-path=\"url(#p34041e96a7)\" d=\"M 271.853989 224.64 \n",
              "L 271.853989 7.2 \n",
              "\" style=\"fill:none;stroke:#cccccc;stroke-linecap:round;stroke-width:0.8;\"/>\n",
              "     </g>\n",
              "     <g id=\"line2d_12\"/>\n",
              "     <g id=\"text_6\">\n",
              "      <!-- 5.0 -->\n",
              "      <g style=\"fill:#262626;\" transform=\"translate(264.903989 235.297812)scale(0.1 -0.1)\">\n",
              "       <use xlink:href=\"#ArialMT-53\"/>\n",
              "       <use x=\"55.615234\" xlink:href=\"#ArialMT-46\"/>\n",
              "       <use x=\"83.398438\" xlink:href=\"#ArialMT-48\"/>\n",
              "      </g>\n",
              "     </g>\n",
              "    </g>\n",
              "    <g id=\"xtick_7\">\n",
              "     <g id=\"line2d_13\">\n",
              "      <path clip-path=\"url(#p34041e96a7)\" d=\"M 317.465803 224.64 \n",
              "L 317.465803 7.2 \n",
              "\" style=\"fill:none;stroke:#cccccc;stroke-linecap:round;stroke-width:0.8;\"/>\n",
              "     </g>\n",
              "     <g id=\"line2d_14\"/>\n",
              "     <g id=\"text_7\">\n",
              "      <!-- 5.5 -->\n",
              "      <g style=\"fill:#262626;\" transform=\"translate(310.515803 235.297812)scale(0.1 -0.1)\">\n",
              "       <use xlink:href=\"#ArialMT-53\"/>\n",
              "       <use x=\"55.615234\" xlink:href=\"#ArialMT-46\"/>\n",
              "       <use x=\"83.398438\" xlink:href=\"#ArialMT-53\"/>\n",
              "      </g>\n",
              "     </g>\n",
              "    </g>\n",
              "   </g>\n",
              "   <g id=\"matplotlib.axis_2\">\n",
              "    <g id=\"ytick_1\">\n",
              "     <g id=\"line2d_15\">\n",
              "      <path clip-path=\"url(#p34041e96a7)\" d=\"M 16.260937 186.95483 \n",
              "L 351.060938 186.95483 \n",
              "\" style=\"fill:none;stroke:#cccccc;stroke-linecap:round;stroke-width:0.8;\"/>\n",
              "     </g>\n",
              "     <g id=\"line2d_16\"/>\n",
              "     <g id=\"text_8\">\n",
              "      <!-- 0 -->\n",
              "      <g style=\"fill:#262626;\" transform=\"translate(7.2 190.533736)scale(0.1 -0.1)\">\n",
              "       <use xlink:href=\"#ArialMT-48\"/>\n",
              "      </g>\n",
              "     </g>\n",
              "    </g>\n",
              "    <g id=\"ytick_2\">\n",
              "     <g id=\"line2d_17\">\n",
              "      <path clip-path=\"url(#p34041e96a7)\" d=\"M 16.260937 139.003502 \n",
              "L 351.060938 139.003502 \n",
              "\" style=\"fill:none;stroke:#cccccc;stroke-linecap:round;stroke-width:0.8;\"/>\n",
              "     </g>\n",
              "     <g id=\"line2d_18\"/>\n",
              "     <g id=\"text_9\">\n",
              "      <!-- 1 -->\n",
              "      <g style=\"fill:#262626;\" transform=\"translate(7.2 142.582409)scale(0.1 -0.1)\">\n",
              "       <defs>\n",
              "        <path d=\"M 37.25 0 \n",
              "L 28.46875 0 \n",
              "L 28.46875 56 \n",
              "Q 25.296875 52.984375 20.140625 49.953125 \n",
              "Q 14.984375 46.921875 10.890625 45.40625 \n",
              "L 10.890625 53.90625 \n",
              "Q 18.265625 57.375 23.78125 62.296875 \n",
              "Q 29.296875 67.234375 31.59375 71.875 \n",
              "L 37.25 71.875 \n",
              "z\n",
              "\" id=\"ArialMT-49\"/>\n",
              "       </defs>\n",
              "       <use xlink:href=\"#ArialMT-49\"/>\n",
              "      </g>\n",
              "     </g>\n",
              "    </g>\n",
              "    <g id=\"ytick_3\">\n",
              "     <g id=\"line2d_19\">\n",
              "      <path clip-path=\"url(#p34041e96a7)\" d=\"M 16.260937 91.052175 \n",
              "L 351.060938 91.052175 \n",
              "\" style=\"fill:none;stroke:#cccccc;stroke-linecap:round;stroke-width:0.8;\"/>\n",
              "     </g>\n",
              "     <g id=\"line2d_20\"/>\n",
              "     <g id=\"text_10\">\n",
              "      <!-- 2 -->\n",
              "      <g style=\"fill:#262626;\" transform=\"translate(7.2 94.631081)scale(0.1 -0.1)\">\n",
              "       <use xlink:href=\"#ArialMT-50\"/>\n",
              "      </g>\n",
              "     </g>\n",
              "    </g>\n",
              "    <g id=\"ytick_4\">\n",
              "     <g id=\"line2d_21\">\n",
              "      <path clip-path=\"url(#p34041e96a7)\" d=\"M 16.260937 43.100848 \n",
              "L 351.060938 43.100848 \n",
              "\" style=\"fill:none;stroke:#cccccc;stroke-linecap:round;stroke-width:0.8;\"/>\n",
              "     </g>\n",
              "     <g id=\"line2d_22\"/>\n",
              "     <g id=\"text_11\">\n",
              "      <!-- 3 -->\n",
              "      <g style=\"fill:#262626;\" transform=\"translate(7.2 46.679754)scale(0.1 -0.1)\">\n",
              "       <use xlink:href=\"#ArialMT-51\"/>\n",
              "      </g>\n",
              "     </g>\n",
              "    </g>\n",
              "   </g>\n",
              "   <g id=\"PathCollection_1\">\n",
              "    <defs>\n",
              "     <path d=\"M 0 3 \n",
              "C 0.795609 3 1.55874 2.683901 2.12132 2.12132 \n",
              "C 2.683901 1.55874 3 0.795609 3 0 \n",
              "C 3 -0.795609 2.683901 -1.55874 2.12132 -2.12132 \n",
              "C 1.55874 -2.683901 0.795609 -3 0 -3 \n",
              "C -0.795609 -3 -1.55874 -2.683901 -2.12132 -2.12132 \n",
              "C -2.683901 -1.55874 -3 -0.795609 -3 0 \n",
              "C -3 0.795609 -2.683901 1.55874 -2.12132 2.12132 \n",
              "C -1.55874 2.683901 -0.795609 3 0 3 \n",
              "z\n",
              "\" id=\"mc4265780da\" style=\"stroke:#1f77b4;\"/>\n",
              "    </defs>\n",
              "    <g clip-path=\"url(#p34041e96a7)\">\n",
              "     <use style=\"fill:#1f77b4;stroke:#1f77b4;\" x=\"31.479119\" xlink:href=\"#mc4265780da\" y=\"214.756364\"/>\n",
              "     <use style=\"fill:#1f77b4;stroke:#1f77b4;\" x=\"335.842756\" xlink:href=\"#mc4265780da\" y=\"17.083636\"/>\n",
              "     <use style=\"fill:#1f77b4;stroke:#1f77b4;\" x=\"296.5104\" xlink:href=\"#mc4265780da\" y=\"83.570862\"/>\n",
              "     <use style=\"fill:#1f77b4;stroke:#1f77b4;\" x=\"193.652605\" xlink:href=\"#mc4265780da\" y=\"168.163221\"/>\n",
              "     <use style=\"fill:#1f77b4;stroke:#1f77b4;\" x=\"174.344151\" xlink:href=\"#mc4265780da\" y=\"145.143263\"/>\n",
              "     <use style=\"fill:#1f77b4;stroke:#1f77b4;\" x=\"234.825017\" xlink:href=\"#mc4265780da\" y=\"82.66224\"/>\n",
              "     <use style=\"fill:#1f77b4;stroke:#1f77b4;\" x=\"138.36361\" xlink:href=\"#mc4265780da\" y=\"146.443484\"/>\n",
              "     <use style=\"fill:#1f77b4;stroke:#1f77b4;\" x=\"284.261538\" xlink:href=\"#mc4265780da\" y=\"55.300782\"/>\n",
              "     <use style=\"fill:#1f77b4;stroke:#1f77b4;\" x=\"218.022048\" xlink:href=\"#mc4265780da\" y=\"105.293269\"/>\n",
              "     <use style=\"fill:#1f77b4;stroke:#1f77b4;\" x=\"277.141727\" xlink:href=\"#mc4265780da\" y=\"97.310177\"/>\n",
              "    </g>\n",
              "   </g>\n",
              "   <g id=\"patch_3\">\n",
              "    <path d=\"M 16.260937 224.64 \n",
              "L 16.260937 7.2 \n",
              "\" style=\"fill:none;stroke:#cccccc;stroke-linecap:square;stroke-linejoin:miter;\"/>\n",
              "   </g>\n",
              "   <g id=\"patch_4\">\n",
              "    <path d=\"M 351.060938 224.64 \n",
              "L 351.060938 7.2 \n",
              "\" style=\"fill:none;stroke:#cccccc;stroke-linecap:square;stroke-linejoin:miter;\"/>\n",
              "   </g>\n",
              "   <g id=\"patch_5\">\n",
              "    <path d=\"M 16.260938 224.64 \n",
              "L 351.060938 224.64 \n",
              "\" style=\"fill:none;stroke:#cccccc;stroke-linecap:square;stroke-linejoin:miter;\"/>\n",
              "   </g>\n",
              "   <g id=\"patch_6\">\n",
              "    <path d=\"M 16.260938 7.2 \n",
              "L 351.060938 7.2 \n",
              "\" style=\"fill:none;stroke:#cccccc;stroke-linecap:square;stroke-linejoin:miter;\"/>\n",
              "   </g>\n",
              "  </g>\n",
              " </g>\n",
              " <defs>\n",
              "  <clipPath id=\"p34041e96a7\">\n",
              "   <rect height=\"217.44\" width=\"334.8\" x=\"16.260937\" y=\"7.2\"/>\n",
              "  </clipPath>\n",
              " </defs>\n",
              "</svg>\n"
            ],
            "text/plain": [
              "<Figure size 432x288 with 1 Axes>"
            ]
          },
          "metadata": {},
          "output_type": "display_data"
        }
      ]
    },
    {
      "cell_type": "markdown",
      "metadata": {
        "id": "F3qCP5LXa_1l"
      },
      "source": [
        "Как мы видим, объекты более-менее лежат на одной прямой, поэтому применение метода главных компонент здесь может быть вполне эффективным.\n",
        "\n",
        "Итак, сперва центрируем наши данные. Чтобы посчитать любую статистику двумерного массива вдоль конкретной оси, можно использовать аргумент `axis`. Например, посчитать среднее по столбцам можно следующим образом:"
      ]
    },
    {
      "cell_type": "code",
      "metadata": {
        "execution": {
          "iopub.execute_input": "2021-02-13T12:52:57.788990Z",
          "iopub.status.busy": "2021-02-13T12:52:57.788250Z",
          "iopub.status.idle": "2021-02-13T12:52:57.790868Z",
          "shell.execute_reply": "2021-02-13T12:52:57.791658Z"
        },
        "id": "j8ljgKFNa_1l",
        "outputId": "57880b9b-f2bf-4d72-eacc-dbaafaa96aa0"
      },
      "source": [
        "samples.mean(axis=0, keepdims=True)"
      ],
      "execution_count": null,
      "outputs": [
        {
          "data": {
            "text/plain": [
              "array([[4.4145191, 1.5720545]])"
            ]
          },
          "execution_count": 1,
          "metadata": {},
          "output_type": "execute_result"
        }
      ]
    },
    {
      "cell_type": "code",
      "metadata": {
        "execution": {
          "iopub.execute_input": "2021-02-13T12:52:57.796955Z",
          "iopub.status.busy": "2021-02-13T12:52:57.796276Z",
          "iopub.status.idle": "2021-02-13T12:52:57.798514Z",
          "shell.execute_reply": "2021-02-13T12:52:57.799278Z"
        },
        "id": "AFvATSeaa_1m",
        "outputId": "3bd11372-e085-4540-bbaf-a076c18e2907"
      },
      "source": [
        "samples_centered = samples - samples.mean(axis=0)\n",
        "\n",
        "print(samples_centered)"
      ],
      "execution_count": null,
      "outputs": [
        {
          "name": "stdout",
          "output_type": "stream",
          "text": [
            "[[-2.04952579 -2.15184104]\n",
            " [ 1.28693038  1.97052092]\n",
            " [ 0.85576626  0.5839644 ]\n",
            " [-0.27176832 -1.18016527]\n",
            " [-0.48342899 -0.70009602]\n",
            " [ 0.17956663  0.60291323]\n",
            " [-0.87785028 -0.72721146]\n",
            " [ 0.72149335  1.17352221]\n",
            " [-0.00462873  0.1309549 ]\n",
            " [ 0.64344546  0.29743813]]\n"
          ]
        }
      ]
    },
    {
      "cell_type": "code",
      "metadata": {
        "execution": {
          "iopub.execute_input": "2021-02-13T12:52:57.825140Z",
          "iopub.status.busy": "2021-02-13T12:52:57.824341Z",
          "iopub.status.idle": "2021-02-13T12:52:57.951124Z",
          "shell.execute_reply": "2021-02-13T12:52:57.951979Z"
        },
        "id": "N0Y8c1_va_1n",
        "outputId": "a38c9d69-1881-48ad-8560-416d0411809c"
      },
      "source": [
        "plt.scatter(samples_centered[:, 0], samples_centered[:, 1])"
      ],
      "execution_count": null,
      "outputs": [
        {
          "data": {
            "text/plain": [
              "<matplotlib.collections.PathCollection at 0x1288ba130>"
            ]
          },
          "execution_count": 1,
          "metadata": {},
          "output_type": "execute_result"
        },
        {
          "data": {
            "image/svg+xml": [
              "<?xml version=\"1.0\" encoding=\"utf-8\" standalone=\"no\"?>\n",
              "<!DOCTYPE svg PUBLIC \"-//W3C//DTD SVG 1.1//EN\"\n",
              "  \"http://www.w3.org/Graphics/SVG/1.1/DTD/svg11.dtd\">\n",
              "<!-- Created with matplotlib (https://matplotlib.org/) -->\n",
              "<svg height=\"244.485313pt\" version=\"1.1\" viewBox=\"0 0 364.101562 244.485313\" width=\"364.101562pt\" xmlns=\"http://www.w3.org/2000/svg\" xmlns:xlink=\"http://www.w3.org/1999/xlink\">\n",
              " <metadata>\n",
              "  <rdf:RDF xmlns:cc=\"http://creativecommons.org/ns#\" xmlns:dc=\"http://purl.org/dc/elements/1.1/\" xmlns:rdf=\"http://www.w3.org/1999/02/22-rdf-syntax-ns#\">\n",
              "   <cc:Work>\n",
              "    <dc:type rdf:resource=\"http://purl.org/dc/dcmitype/StillImage\"/>\n",
              "    <dc:date>2021-02-13T15:52:57.903335</dc:date>\n",
              "    <dc:format>image/svg+xml</dc:format>\n",
              "    <dc:creator>\n",
              "     <cc:Agent>\n",
              "      <dc:title>Matplotlib v3.3.3, https://matplotlib.org/</dc:title>\n",
              "     </cc:Agent>\n",
              "    </dc:creator>\n",
              "   </cc:Work>\n",
              "  </rdf:RDF>\n",
              " </metadata>\n",
              " <defs>\n",
              "  <style type=\"text/css\">*{stroke-linecap:butt;stroke-linejoin:round;}</style>\n",
              " </defs>\n",
              " <g id=\"figure_1\">\n",
              "  <g id=\"patch_1\">\n",
              "   <path d=\"M 0 244.485313 \n",
              "L 364.101562 244.485313 \n",
              "L 364.101562 0 \n",
              "L 0 0 \n",
              "z\n",
              "\" style=\"fill:#ffffff;\"/>\n",
              "  </g>\n",
              "  <g id=\"axes_1\">\n",
              "   <g id=\"patch_2\">\n",
              "    <path d=\"M 22.101562 224.64 \n",
              "L 356.901563 224.64 \n",
              "L 356.901563 7.2 \n",
              "L 22.101562 7.2 \n",
              "z\n",
              "\" style=\"fill:#ffffff;\"/>\n",
              "   </g>\n",
              "   <g id=\"matplotlib.axis_1\">\n",
              "    <g id=\"xtick_1\">\n",
              "     <g id=\"line2d_1\">\n",
              "      <path clip-path=\"url(#p006f35111e)\" d=\"M 41.837666 224.64 \n",
              "L 41.837666 7.2 \n",
              "\" style=\"fill:none;stroke:#cccccc;stroke-linecap:round;stroke-width:0.8;\"/>\n",
              "     </g>\n",
              "     <g id=\"line2d_2\"/>\n",
              "     <g id=\"text_1\">\n",
              "      <!-- −2.0 -->\n",
              "      <g style=\"fill:#262626;\" transform=\"translate(31.967354 235.297813)scale(0.1 -0.1)\">\n",
              "       <defs>\n",
              "        <path d=\"M 52.828125 31.203125 \n",
              "L 5.5625 31.203125 \n",
              "L 5.5625 39.40625 \n",
              "L 52.828125 39.40625 \n",
              "z\n",
              "\" id=\"ArialMT-8722\"/>\n",
              "        <path d=\"M 50.34375 8.453125 \n",
              "L 50.34375 0 \n",
              "L 3.03125 0 \n",
              "Q 2.9375 3.171875 4.046875 6.109375 \n",
              "Q 5.859375 10.9375 9.828125 15.625 \n",
              "Q 13.8125 20.3125 21.34375 26.46875 \n",
              "Q 33.015625 36.03125 37.109375 41.625 \n",
              "Q 41.21875 47.21875 41.21875 52.203125 \n",
              "Q 41.21875 57.421875 37.46875 61 \n",
              "Q 33.734375 64.59375 27.734375 64.59375 \n",
              "Q 21.390625 64.59375 17.578125 60.78125 \n",
              "Q 13.765625 56.984375 13.71875 50.25 \n",
              "L 4.6875 51.171875 \n",
              "Q 5.609375 61.28125 11.65625 66.578125 \n",
              "Q 17.71875 71.875 27.9375 71.875 \n",
              "Q 38.234375 71.875 44.234375 66.15625 \n",
              "Q 50.25 60.453125 50.25 52 \n",
              "Q 50.25 47.703125 48.484375 43.546875 \n",
              "Q 46.734375 39.40625 42.65625 34.8125 \n",
              "Q 38.578125 30.21875 29.109375 22.21875 \n",
              "Q 21.1875 15.578125 18.9375 13.203125 \n",
              "Q 16.703125 10.84375 15.234375 8.453125 \n",
              "z\n",
              "\" id=\"ArialMT-50\"/>\n",
              "        <path d=\"M 9.078125 0 \n",
              "L 9.078125 10.015625 \n",
              "L 19.09375 10.015625 \n",
              "L 19.09375 0 \n",
              "z\n",
              "\" id=\"ArialMT-46\"/>\n",
              "        <path d=\"M 4.15625 35.296875 \n",
              "Q 4.15625 48 6.765625 55.734375 \n",
              "Q 9.375 63.484375 14.515625 67.671875 \n",
              "Q 19.671875 71.875 27.484375 71.875 \n",
              "Q 33.25 71.875 37.59375 69.546875 \n",
              "Q 41.9375 67.234375 44.765625 62.859375 \n",
              "Q 47.609375 58.5 49.21875 52.21875 \n",
              "Q 50.828125 45.953125 50.828125 35.296875 \n",
              "Q 50.828125 22.703125 48.234375 14.96875 \n",
              "Q 45.65625 7.234375 40.5 3 \n",
              "Q 35.359375 -1.21875 27.484375 -1.21875 \n",
              "Q 17.140625 -1.21875 11.234375 6.203125 \n",
              "Q 4.15625 15.140625 4.15625 35.296875 \n",
              "z\n",
              "M 13.1875 35.296875 \n",
              "Q 13.1875 17.671875 17.3125 11.828125 \n",
              "Q 21.4375 6 27.484375 6 \n",
              "Q 33.546875 6 37.671875 11.859375 \n",
              "Q 41.796875 17.71875 41.796875 35.296875 \n",
              "Q 41.796875 52.984375 37.671875 58.78125 \n",
              "Q 33.546875 64.59375 27.390625 64.59375 \n",
              "Q 21.34375 64.59375 17.71875 59.46875 \n",
              "Q 13.1875 52.9375 13.1875 35.296875 \n",
              "z\n",
              "\" id=\"ArialMT-48\"/>\n",
              "       </defs>\n",
              "       <use xlink:href=\"#ArialMT-8722\"/>\n",
              "       <use x=\"58.398438\" xlink:href=\"#ArialMT-50\"/>\n",
              "       <use x=\"114.013672\" xlink:href=\"#ArialMT-46\"/>\n",
              "       <use x=\"141.796875\" xlink:href=\"#ArialMT-48\"/>\n",
              "      </g>\n",
              "     </g>\n",
              "    </g>\n",
              "    <g id=\"xtick_2\">\n",
              "     <g id=\"line2d_3\">\n",
              "      <path clip-path=\"url(#p006f35111e)\" d=\"M 87.44948 224.64 \n",
              "L 87.44948 7.2 \n",
              "\" style=\"fill:none;stroke:#cccccc;stroke-linecap:round;stroke-width:0.8;\"/>\n",
              "     </g>\n",
              "     <g id=\"line2d_4\"/>\n",
              "     <g id=\"text_2\">\n",
              "      <!-- −1.5 -->\n",
              "      <g style=\"fill:#262626;\" transform=\"translate(77.579168 235.297813)scale(0.1 -0.1)\">\n",
              "       <defs>\n",
              "        <path d=\"M 37.25 0 \n",
              "L 28.46875 0 \n",
              "L 28.46875 56 \n",
              "Q 25.296875 52.984375 20.140625 49.953125 \n",
              "Q 14.984375 46.921875 10.890625 45.40625 \n",
              "L 10.890625 53.90625 \n",
              "Q 18.265625 57.375 23.78125 62.296875 \n",
              "Q 29.296875 67.234375 31.59375 71.875 \n",
              "L 37.25 71.875 \n",
              "z\n",
              "\" id=\"ArialMT-49\"/>\n",
              "        <path d=\"M 4.15625 18.75 \n",
              "L 13.375 19.53125 \n",
              "Q 14.40625 12.796875 18.140625 9.390625 \n",
              "Q 21.875 6 27.15625 6 \n",
              "Q 33.5 6 37.890625 10.78125 \n",
              "Q 42.28125 15.578125 42.28125 23.484375 \n",
              "Q 42.28125 31 38.0625 35.34375 \n",
              "Q 33.84375 39.703125 27 39.703125 \n",
              "Q 22.75 39.703125 19.328125 37.765625 \n",
              "Q 15.921875 35.84375 13.96875 32.765625 \n",
              "L 5.71875 33.84375 \n",
              "L 12.640625 70.609375 \n",
              "L 48.25 70.609375 \n",
              "L 48.25 62.203125 \n",
              "L 19.671875 62.203125 \n",
              "L 15.828125 42.96875 \n",
              "Q 22.265625 47.46875 29.34375 47.46875 \n",
              "Q 38.71875 47.46875 45.15625 40.96875 \n",
              "Q 51.609375 34.46875 51.609375 24.265625 \n",
              "Q 51.609375 14.546875 45.953125 7.46875 \n",
              "Q 39.0625 -1.21875 27.15625 -1.21875 \n",
              "Q 17.390625 -1.21875 11.203125 4.25 \n",
              "Q 5.03125 9.71875 4.15625 18.75 \n",
              "z\n",
              "\" id=\"ArialMT-53\"/>\n",
              "       </defs>\n",
              "       <use xlink:href=\"#ArialMT-8722\"/>\n",
              "       <use x=\"58.398438\" xlink:href=\"#ArialMT-49\"/>\n",
              "       <use x=\"114.013672\" xlink:href=\"#ArialMT-46\"/>\n",
              "       <use x=\"141.796875\" xlink:href=\"#ArialMT-53\"/>\n",
              "      </g>\n",
              "     </g>\n",
              "    </g>\n",
              "    <g id=\"xtick_3\">\n",
              "     <g id=\"line2d_5\">\n",
              "      <path clip-path=\"url(#p006f35111e)\" d=\"M 133.061294 224.64 \n",
              "L 133.061294 7.2 \n",
              "\" style=\"fill:none;stroke:#cccccc;stroke-linecap:round;stroke-width:0.8;\"/>\n",
              "     </g>\n",
              "     <g id=\"line2d_6\"/>\n",
              "     <g id=\"text_3\">\n",
              "      <!-- −1.0 -->\n",
              "      <g style=\"fill:#262626;\" transform=\"translate(123.190982 235.297813)scale(0.1 -0.1)\">\n",
              "       <use xlink:href=\"#ArialMT-8722\"/>\n",
              "       <use x=\"58.398438\" xlink:href=\"#ArialMT-49\"/>\n",
              "       <use x=\"114.013672\" xlink:href=\"#ArialMT-46\"/>\n",
              "       <use x=\"141.796875\" xlink:href=\"#ArialMT-48\"/>\n",
              "      </g>\n",
              "     </g>\n",
              "    </g>\n",
              "    <g id=\"xtick_4\">\n",
              "     <g id=\"line2d_7\">\n",
              "      <path clip-path=\"url(#p006f35111e)\" d=\"M 178.673108 224.64 \n",
              "L 178.673108 7.2 \n",
              "\" style=\"fill:none;stroke:#cccccc;stroke-linecap:round;stroke-width:0.8;\"/>\n",
              "     </g>\n",
              "     <g id=\"line2d_8\"/>\n",
              "     <g id=\"text_4\">\n",
              "      <!-- −0.5 -->\n",
              "      <g style=\"fill:#262626;\" transform=\"translate(168.802796 235.297813)scale(0.1 -0.1)\">\n",
              "       <use xlink:href=\"#ArialMT-8722\"/>\n",
              "       <use x=\"58.398438\" xlink:href=\"#ArialMT-48\"/>\n",
              "       <use x=\"114.013672\" xlink:href=\"#ArialMT-46\"/>\n",
              "       <use x=\"141.796875\" xlink:href=\"#ArialMT-53\"/>\n",
              "      </g>\n",
              "     </g>\n",
              "    </g>\n",
              "    <g id=\"xtick_5\">\n",
              "     <g id=\"line2d_9\">\n",
              "      <path clip-path=\"url(#p006f35111e)\" d=\"M 224.284922 224.64 \n",
              "L 224.284922 7.2 \n",
              "\" style=\"fill:none;stroke:#cccccc;stroke-linecap:round;stroke-width:0.8;\"/>\n",
              "     </g>\n",
              "     <g id=\"line2d_10\"/>\n",
              "     <g id=\"text_5\">\n",
              "      <!-- 0.0 -->\n",
              "      <g style=\"fill:#262626;\" transform=\"translate(217.334922 235.297813)scale(0.1 -0.1)\">\n",
              "       <use xlink:href=\"#ArialMT-48\"/>\n",
              "       <use x=\"55.615234\" xlink:href=\"#ArialMT-46\"/>\n",
              "       <use x=\"83.398438\" xlink:href=\"#ArialMT-48\"/>\n",
              "      </g>\n",
              "     </g>\n",
              "    </g>\n",
              "    <g id=\"xtick_6\">\n",
              "     <g id=\"line2d_11\">\n",
              "      <path clip-path=\"url(#p006f35111e)\" d=\"M 269.896736 224.64 \n",
              "L 269.896736 7.2 \n",
              "\" style=\"fill:none;stroke:#cccccc;stroke-linecap:round;stroke-width:0.8;\"/>\n",
              "     </g>\n",
              "     <g id=\"line2d_12\"/>\n",
              "     <g id=\"text_6\">\n",
              "      <!-- 0.5 -->\n",
              "      <g style=\"fill:#262626;\" transform=\"translate(262.946736 235.297813)scale(0.1 -0.1)\">\n",
              "       <use xlink:href=\"#ArialMT-48\"/>\n",
              "       <use x=\"55.615234\" xlink:href=\"#ArialMT-46\"/>\n",
              "       <use x=\"83.398438\" xlink:href=\"#ArialMT-53\"/>\n",
              "      </g>\n",
              "     </g>\n",
              "    </g>\n",
              "    <g id=\"xtick_7\">\n",
              "     <g id=\"line2d_13\">\n",
              "      <path clip-path=\"url(#p006f35111e)\" d=\"M 315.50855 224.64 \n",
              "L 315.50855 7.2 \n",
              "\" style=\"fill:none;stroke:#cccccc;stroke-linecap:round;stroke-width:0.8;\"/>\n",
              "     </g>\n",
              "     <g id=\"line2d_14\"/>\n",
              "     <g id=\"text_7\">\n",
              "      <!-- 1.0 -->\n",
              "      <g style=\"fill:#262626;\" transform=\"translate(308.55855 235.297813)scale(0.1 -0.1)\">\n",
              "       <use xlink:href=\"#ArialMT-49\"/>\n",
              "       <use x=\"55.615234\" xlink:href=\"#ArialMT-46\"/>\n",
              "       <use x=\"83.398438\" xlink:href=\"#ArialMT-48\"/>\n",
              "      </g>\n",
              "     </g>\n",
              "    </g>\n",
              "   </g>\n",
              "   <g id=\"matplotlib.axis_2\">\n",
              "    <g id=\"ytick_1\">\n",
              "     <g id=\"line2d_15\">\n",
              "      <path clip-path=\"url(#p006f35111e)\" d=\"M 22.101562 207.475384 \n",
              "L 356.901563 207.475384 \n",
              "\" style=\"fill:none;stroke:#cccccc;stroke-linecap:round;stroke-width:0.8;\"/>\n",
              "     </g>\n",
              "     <g id=\"line2d_16\"/>\n",
              "     <g id=\"text_8\">\n",
              "      <!-- −2 -->\n",
              "      <g style=\"fill:#262626;\" transform=\"translate(7.2 211.05429)scale(0.1 -0.1)\">\n",
              "       <use xlink:href=\"#ArialMT-8722\"/>\n",
              "       <use x=\"58.398438\" xlink:href=\"#ArialMT-50\"/>\n",
              "      </g>\n",
              "     </g>\n",
              "    </g>\n",
              "    <g id=\"ytick_2\">\n",
              "     <g id=\"line2d_17\">\n",
              "      <path clip-path=\"url(#p006f35111e)\" d=\"M 22.101562 159.524057 \n",
              "L 356.901563 159.524057 \n",
              "\" style=\"fill:none;stroke:#cccccc;stroke-linecap:round;stroke-width:0.8;\"/>\n",
              "     </g>\n",
              "     <g id=\"line2d_18\"/>\n",
              "     <g id=\"text_9\">\n",
              "      <!-- −1 -->\n",
              "      <g style=\"fill:#262626;\" transform=\"translate(7.2 163.102963)scale(0.1 -0.1)\">\n",
              "       <use xlink:href=\"#ArialMT-8722\"/>\n",
              "       <use x=\"58.398438\" xlink:href=\"#ArialMT-49\"/>\n",
              "      </g>\n",
              "     </g>\n",
              "    </g>\n",
              "    <g id=\"ytick_3\">\n",
              "     <g id=\"line2d_19\">\n",
              "      <path clip-path=\"url(#p006f35111e)\" d=\"M 22.101562 111.57273 \n",
              "L 356.901563 111.57273 \n",
              "\" style=\"fill:none;stroke:#cccccc;stroke-linecap:round;stroke-width:0.8;\"/>\n",
              "     </g>\n",
              "     <g id=\"line2d_20\"/>\n",
              "     <g id=\"text_10\">\n",
              "      <!-- 0 -->\n",
              "      <g style=\"fill:#262626;\" transform=\"translate(13.040625 115.151636)scale(0.1 -0.1)\">\n",
              "       <use xlink:href=\"#ArialMT-48\"/>\n",
              "      </g>\n",
              "     </g>\n",
              "    </g>\n",
              "    <g id=\"ytick_4\">\n",
              "     <g id=\"line2d_21\">\n",
              "      <path clip-path=\"url(#p006f35111e)\" d=\"M 22.101562 63.621403 \n",
              "L 356.901563 63.621403 \n",
              "\" style=\"fill:none;stroke:#cccccc;stroke-linecap:round;stroke-width:0.8;\"/>\n",
              "     </g>\n",
              "     <g id=\"line2d_22\"/>\n",
              "     <g id=\"text_11\">\n",
              "      <!-- 1 -->\n",
              "      <g style=\"fill:#262626;\" transform=\"translate(13.040625 67.200309)scale(0.1 -0.1)\">\n",
              "       <use xlink:href=\"#ArialMT-49\"/>\n",
              "      </g>\n",
              "     </g>\n",
              "    </g>\n",
              "    <g id=\"ytick_5\">\n",
              "     <g id=\"line2d_23\">\n",
              "      <path clip-path=\"url(#p006f35111e)\" d=\"M 22.101562 15.670075 \n",
              "L 356.901563 15.670075 \n",
              "\" style=\"fill:none;stroke:#cccccc;stroke-linecap:round;stroke-width:0.8;\"/>\n",
              "     </g>\n",
              "     <g id=\"line2d_24\"/>\n",
              "     <g id=\"text_12\">\n",
              "      <!-- 2 -->\n",
              "      <g style=\"fill:#262626;\" transform=\"translate(13.040625 19.248982)scale(0.1 -0.1)\">\n",
              "       <use xlink:href=\"#ArialMT-50\"/>\n",
              "      </g>\n",
              "     </g>\n",
              "    </g>\n",
              "   </g>\n",
              "   <g id=\"PathCollection_1\">\n",
              "    <defs>\n",
              "     <path d=\"M 0 3 \n",
              "C 0.795609 3 1.55874 2.683901 2.12132 2.12132 \n",
              "C 2.683901 1.55874 3 0.795609 3 0 \n",
              "C 3 -0.795609 2.683901 -1.55874 2.12132 -2.12132 \n",
              "C 1.55874 -2.683901 0.795609 -3 0 -3 \n",
              "C -0.795609 -3 -1.55874 -2.683901 -2.12132 -2.12132 \n",
              "C -2.683901 -1.55874 -3 -0.795609 -3 0 \n",
              "C -3 0.795609 -2.683901 1.55874 -2.12132 2.12132 \n",
              "C -1.55874 2.683901 -0.795609 3 0 3 \n",
              "z\n",
              "\" id=\"mb48b91460d\" style=\"stroke:#1f77b4;\"/>\n",
              "    </defs>\n",
              "    <g clip-path=\"url(#p006f35111e)\">\n",
              "     <use style=\"fill:#1f77b4;stroke:#1f77b4;\" x=\"37.319744\" xlink:href=\"#mb48b91460d\" y=\"214.756364\"/>\n",
              "     <use style=\"fill:#1f77b4;stroke:#1f77b4;\" x=\"341.683381\" xlink:href=\"#mb48b91460d\" y=\"17.083636\"/>\n",
              "     <use style=\"fill:#1f77b4;stroke:#1f77b4;\" x=\"302.351025\" xlink:href=\"#mb48b91460d\" y=\"83.570862\"/>\n",
              "     <use style=\"fill:#1f77b4;stroke:#1f77b4;\" x=\"199.49323\" xlink:href=\"#mb48b91460d\" y=\"168.163221\"/>\n",
              "     <use style=\"fill:#1f77b4;stroke:#1f77b4;\" x=\"180.184776\" xlink:href=\"#mb48b91460d\" y=\"145.143263\"/>\n",
              "     <use style=\"fill:#1f77b4;stroke:#1f77b4;\" x=\"240.665642\" xlink:href=\"#mb48b91460d\" y=\"82.66224\"/>\n",
              "     <use style=\"fill:#1f77b4;stroke:#1f77b4;\" x=\"144.204235\" xlink:href=\"#mb48b91460d\" y=\"146.443484\"/>\n",
              "     <use style=\"fill:#1f77b4;stroke:#1f77b4;\" x=\"290.102163\" xlink:href=\"#mb48b91460d\" y=\"55.300782\"/>\n",
              "     <use style=\"fill:#1f77b4;stroke:#1f77b4;\" x=\"223.862673\" xlink:href=\"#mb48b91460d\" y=\"105.293269\"/>\n",
              "     <use style=\"fill:#1f77b4;stroke:#1f77b4;\" x=\"282.982352\" xlink:href=\"#mb48b91460d\" y=\"97.310177\"/>\n",
              "    </g>\n",
              "   </g>\n",
              "   <g id=\"patch_3\">\n",
              "    <path d=\"M 22.101562 224.64 \n",
              "L 22.101562 7.2 \n",
              "\" style=\"fill:none;stroke:#cccccc;stroke-linecap:square;stroke-linejoin:miter;\"/>\n",
              "   </g>\n",
              "   <g id=\"patch_4\">\n",
              "    <path d=\"M 356.901563 224.64 \n",
              "L 356.901563 7.2 \n",
              "\" style=\"fill:none;stroke:#cccccc;stroke-linecap:square;stroke-linejoin:miter;\"/>\n",
              "   </g>\n",
              "   <g id=\"patch_5\">\n",
              "    <path d=\"M 22.101562 224.64 \n",
              "L 356.901563 224.64 \n",
              "\" style=\"fill:none;stroke:#cccccc;stroke-linecap:square;stroke-linejoin:miter;\"/>\n",
              "   </g>\n",
              "   <g id=\"patch_6\">\n",
              "    <path d=\"M 22.101562 7.2 \n",
              "L 356.901563 7.2 \n",
              "\" style=\"fill:none;stroke:#cccccc;stroke-linecap:square;stroke-linejoin:miter;\"/>\n",
              "   </g>\n",
              "  </g>\n",
              " </g>\n",
              " <defs>\n",
              "  <clipPath id=\"p006f35111e\">\n",
              "   <rect height=\"217.44\" width=\"334.8\" x=\"22.101562\" y=\"7.2\"/>\n",
              "  </clipPath>\n",
              " </defs>\n",
              "</svg>\n"
            ],
            "text/plain": [
              "<Figure size 432x288 with 1 Axes>"
            ]
          },
          "metadata": {},
          "output_type": "display_data"
        }
      ]
    },
    {
      "cell_type": "markdown",
      "metadata": {
        "id": "wegBGqY5a_1n"
      },
      "source": [
        "Теперь посчитаем матрицу ковариаций. Отметим, что если функция `numpy.cov` получает на вход двумерный массив, а не несколько одномерных массивов, то ожидается, что значения каждого признака будут расположены в строках (а не в столбцах, как у нас). Поэтому в эту функцию мы подаём транспонированную матрицу `samples_centered.T`."
      ]
    },
    {
      "cell_type": "code",
      "metadata": {
        "execution": {
          "iopub.execute_input": "2021-02-13T12:52:57.958498Z",
          "iopub.status.busy": "2021-02-13T12:52:57.957458Z",
          "iopub.status.idle": "2021-02-13T12:52:57.960660Z",
          "shell.execute_reply": "2021-02-13T12:52:57.961536Z"
        },
        "id": "qIC-XDk9a_1n",
        "outputId": "b8fd4b48-fd48-4450-84ac-944142f4ed69"
      },
      "source": [
        "cov = np.cov(samples_centered.T, ddof=1)\n",
        "\n",
        "print(cov)"
      ],
      "execution_count": null,
      "outputs": [
        {
          "name": "stdout",
          "output_type": "stream",
          "text": [
            "[[0.95934497 1.09880063]\n",
            " [1.09880063 1.45693615]]\n"
          ]
        }
      ]
    },
    {
      "cell_type": "markdown",
      "metadata": {
        "id": "f34aN08pa_1n"
      },
      "source": [
        "Собственные значения и собственные векторы можно получить с помощью функции `numpy.linalg.eig`."
      ]
    },
    {
      "cell_type": "code",
      "metadata": {
        "execution": {
          "iopub.execute_input": "2021-02-13T12:52:57.968445Z",
          "iopub.status.busy": "2021-02-13T12:52:57.967502Z",
          "iopub.status.idle": "2021-02-13T12:52:57.970552Z",
          "shell.execute_reply": "2021-02-13T12:52:57.971444Z"
        },
        "id": "9d6IG9Oxa_1n",
        "outputId": "2b1b9fcf-ed35-44d4-a110-a9b258a366eb"
      },
      "source": [
        "eigenvalues, eigenvectors = np.linalg.eig(cov)\n",
        "\n",
        "print(f'eigenvalues:\\n{eigenvalues}\\n')\n",
        "print(f'eivenvectors:\\n{eigenvectors}')"
      ],
      "execution_count": null,
      "outputs": [
        {
          "name": "stdout",
          "output_type": "stream",
          "text": [
            "eigenvalues:\n",
            "[0.08152525 2.33475587]\n",
            "\n",
            "eivenvectors:\n",
            "[[-0.78129206 -0.62416562]\n",
            " [ 0.62416562 -0.78129206]]\n"
          ]
        }
      ]
    },
    {
      "cell_type": "markdown",
      "metadata": {
        "id": "aebNZIZRa_1o"
      },
      "source": [
        "Проверим, что сумма собственных значений действительно равна $\\sigma_X$:"
      ]
    },
    {
      "cell_type": "code",
      "metadata": {
        "execution": {
          "iopub.execute_input": "2021-02-13T12:52:57.977510Z",
          "iopub.status.busy": "2021-02-13T12:52:57.976647Z",
          "iopub.status.idle": "2021-02-13T12:52:57.979765Z",
          "shell.execute_reply": "2021-02-13T12:52:57.980615Z"
        },
        "id": "6XsGamQ0a_1o",
        "outputId": "41cf7619-16e1-4879-b6fe-94a1a92df575"
      },
      "source": [
        "sigma_x = samples.var(axis=0, ddof=1).sum()\n",
        "sigma_x"
      ],
      "execution_count": null,
      "outputs": [
        {
          "data": {
            "text/plain": [
              "2.416281116587471"
            ]
          },
          "execution_count": 1,
          "metadata": {},
          "output_type": "execute_result"
        }
      ]
    },
    {
      "cell_type": "code",
      "metadata": {
        "execution": {
          "iopub.execute_input": "2021-02-13T12:52:57.986377Z",
          "iopub.status.busy": "2021-02-13T12:52:57.985399Z",
          "iopub.status.idle": "2021-02-13T12:52:57.988846Z",
          "shell.execute_reply": "2021-02-13T12:52:57.989779Z"
        },
        "id": "EqOpzz4Qa_1o",
        "outputId": "ed2f2420-9daf-4e89-8caf-c1431fe1a123"
      },
      "source": [
        "eigenvalues.sum()"
      ],
      "execution_count": null,
      "outputs": [
        {
          "data": {
            "text/plain": [
              "2.416281116587471"
            ]
          },
          "execution_count": 1,
          "metadata": {},
          "output_type": "execute_result"
        }
      ]
    },
    {
      "cell_type": "markdown",
      "metadata": {
        "id": "iNBrZ_tYa_1r"
      },
      "source": [
        "_Замечание_. Для дальнейших шагов важно, чтобы собственные значения шли именно в порядке убывания. Однако, просто отсортировать их по убыванию мало, ведь собственные векторы находятся в соответствии с собственными значениями и должны идти в том же порядке.\n",
        "\n",
        "Отсортировать два массива в одном порядке можно с помощью функции `numpy.argsort`, которая возвращает индексы массива в том порядке, в котором расположились бы элементы массива при сортировке по возрастанию:"
      ]
    },
    {
      "cell_type": "code",
      "metadata": {
        "execution": {
          "iopub.execute_input": "2021-02-13T12:52:57.997438Z",
          "iopub.status.busy": "2021-02-13T12:52:57.996340Z",
          "iopub.status.idle": "2021-02-13T12:52:57.999491Z",
          "shell.execute_reply": "2021-02-13T12:52:58.000350Z"
        },
        "id": "9V7zfCjda_1r",
        "outputId": "fed1607c-cd77-45bd-ab92-8591e8d494d5"
      },
      "source": [
        "ids = eigenvalues.argsort()[::-1]  # поскольку нам нужен порядок убывания\n",
        "\n",
        "eigenvalues = eigenvalues[ids]\n",
        "eigenvectors = eigenvectors[:, ids]\n",
        "\n",
        "print(f'eigenvalues:\\n{eigenvalues}\\n')\n",
        "print(f'eivenvectors:\\n{eigenvectors}')"
      ],
      "execution_count": null,
      "outputs": [
        {
          "name": "stdout",
          "output_type": "stream",
          "text": [
            "eigenvalues:\n",
            "[2.33475587 0.08152525]\n",
            "\n",
            "eivenvectors:\n",
            "[[-0.62416562 -0.78129206]\n",
            " [-0.78129206  0.62416562]]\n"
          ]
        }
      ]
    },
    {
      "cell_type": "markdown",
      "metadata": {
        "id": "3PoelKmWa_1s"
      },
      "source": [
        "Чтобы посмотреть, какую долю объяснённой дисперсии можно получить при каждом выборке $k$, воспользуемся функцией `numpy.cumsum`, которая считает кумулятивную сумму значений массива:\n",
        "$$[a_1, a_1 + a_2, a_1 + a_2 + a_3, \\dots]$$"
      ]
    },
    {
      "cell_type": "code",
      "metadata": {
        "execution": {
          "iopub.execute_input": "2021-02-13T12:52:58.006996Z",
          "iopub.status.busy": "2021-02-13T12:52:58.006103Z",
          "iopub.status.idle": "2021-02-13T12:52:58.009066Z",
          "shell.execute_reply": "2021-02-13T12:52:58.009990Z"
        },
        "id": "FurSiEsBa_1s",
        "outputId": "498fadce-92a4-4ab8-d7f9-6e0a18073078"
      },
      "source": [
        "(eigenvalues / sigma_x).cumsum()"
      ],
      "execution_count": null,
      "outputs": [
        {
          "data": {
            "text/plain": [
              "array([0.96626003, 1.        ])"
            ]
          },
          "execution_count": 1,
          "metadata": {},
          "output_type": "execute_result"
        }
      ]
    },
    {
      "cell_type": "markdown",
      "metadata": {
        "id": "P07vjaB4a_1t"
      },
      "source": [
        "Видим, что если использовать только первую главную компоненту, удастся сохранить около $96 \\%$ информации. Это очень неплохо.\n",
        "\n",
        "Итак, нужно взять первый собственный вектор (столбец) и умножить на него центрированную матрицу $X^\\ast$:"
      ]
    },
    {
      "cell_type": "code",
      "metadata": {
        "execution": {
          "iopub.execute_input": "2021-02-13T12:52:58.016312Z",
          "iopub.status.busy": "2021-02-13T12:52:58.015292Z",
          "iopub.status.idle": "2021-02-13T12:52:58.018772Z",
          "shell.execute_reply": "2021-02-13T12:52:58.019681Z"
        },
        "id": "iRHs-GzAa_1t",
        "outputId": "976a75fa-cca5-4e6d-c55c-4e6ca930f0bd"
      },
      "source": [
        "samples_centered"
      ],
      "execution_count": null,
      "outputs": [
        {
          "data": {
            "text/plain": [
              "array([[-2.04952579, -2.15184104],\n",
              "       [ 1.28693038,  1.97052092],\n",
              "       [ 0.85576626,  0.5839644 ],\n",
              "       [-0.27176832, -1.18016527],\n",
              "       [-0.48342899, -0.70009602],\n",
              "       [ 0.17956663,  0.60291323],\n",
              "       [-0.87785028, -0.72721146],\n",
              "       [ 0.72149335,  1.17352221],\n",
              "       [-0.00462873,  0.1309549 ],\n",
              "       [ 0.64344546,  0.29743813]])"
            ]
          },
          "execution_count": 1,
          "metadata": {},
          "output_type": "execute_result"
        }
      ]
    },
    {
      "cell_type": "code",
      "metadata": {
        "execution": {
          "iopub.execute_input": "2021-02-13T12:52:58.025583Z",
          "iopub.status.busy": "2021-02-13T12:52:58.024659Z",
          "iopub.status.idle": "2021-02-13T12:52:58.027300Z",
          "shell.execute_reply": "2021-02-13T12:52:58.028085Z"
        },
        "id": "Hn0Kr2o2a_1u",
        "outputId": "d09f65f3-ba5f-4845-db05-cbf11f3db6b2"
      },
      "source": [
        "T = eigenvectors[:, [0]]\n",
        "T"
      ],
      "execution_count": null,
      "outputs": [
        {
          "data": {
            "text/plain": [
              "array([[-0.62416562],\n",
              "       [-0.78129206]])"
            ]
          },
          "execution_count": 1,
          "metadata": {},
          "output_type": "execute_result"
        }
      ]
    },
    {
      "cell_type": "code",
      "metadata": {
        "execution": {
          "iopub.execute_input": "2021-02-13T12:52:58.033799Z",
          "iopub.status.busy": "2021-02-13T12:52:58.032916Z",
          "iopub.status.idle": "2021-02-13T12:52:58.035708Z",
          "shell.execute_reply": "2021-02-13T12:52:58.036505Z"
        },
        "id": "kxyInBXia_1u",
        "outputId": "e81f5f33-a2ec-43f1-b993-954c46251c16"
      },
      "source": [
        "new_samples = samples_centered.dot(T)\n",
        "\n",
        "print(new_samples)"
      ],
      "execution_count": null,
      "outputs": [
        {
          "name": "stdout",
          "output_type": "stream",
          "text": [
            "[[ 2.96045985]\n",
            " [-2.34281004]\n",
            " [-0.99038663]\n",
            " [ 1.09168219]\n",
            " [ 0.84871921]\n",
            " [-0.58313064]\n",
            " [ 1.1160885 ]\n",
            " [-1.36719493]\n",
            " [-0.09942493]\n",
            " [-0.63400259]]\n"
          ]
        }
      ]
    },
    {
      "cell_type": "code",
      "metadata": {
        "execution": {
          "iopub.execute_input": "2021-02-13T12:52:58.042281Z",
          "iopub.status.busy": "2021-02-13T12:52:58.041475Z",
          "iopub.status.idle": "2021-02-13T12:52:58.045627Z",
          "shell.execute_reply": "2021-02-13T12:52:58.044713Z"
        },
        "id": "WEdok3lpa_1u",
        "outputId": "fd8ad69c-07c7-4cde-910b-7fe9bef5ce5e"
      },
      "source": [
        "new_samples.var(ddof=1)"
      ],
      "execution_count": null,
      "outputs": [
        {
          "data": {
            "text/plain": [
              "2.3347558703559046"
            ]
          },
          "execution_count": 1,
          "metadata": {},
          "output_type": "execute_result"
        }
      ]
    },
    {
      "cell_type": "code",
      "metadata": {
        "execution": {
          "iopub.execute_input": "2021-02-13T12:52:58.051394Z",
          "iopub.status.busy": "2021-02-13T12:52:58.050493Z",
          "iopub.status.idle": "2021-02-13T12:52:58.053475Z",
          "shell.execute_reply": "2021-02-13T12:52:58.054277Z"
        },
        "id": "UoKyqBuSa_1u",
        "outputId": "6fab1973-7c9c-4de9-c3ab-7b3864728c43"
      },
      "source": [
        "new_samples.var(ddof=1) / sigma_x"
      ],
      "execution_count": null,
      "outputs": [
        {
          "data": {
            "text/plain": [
              "0.966260032546749"
            ]
          },
          "execution_count": 1,
          "metadata": {},
          "output_type": "execute_result"
        }
      ]
    },
    {
      "cell_type": "markdown",
      "metadata": {
        "id": "6dXdrtZAa_1u"
      },
      "source": [
        "Готовая реализация метода главных компонент имеется в `sklearn`:"
      ]
    },
    {
      "cell_type": "code",
      "metadata": {
        "execution": {
          "iopub.execute_input": "2021-02-13T12:52:58.059409Z",
          "iopub.status.busy": "2021-02-13T12:52:58.058463Z",
          "iopub.status.idle": "2021-02-13T12:52:58.506110Z",
          "shell.execute_reply": "2021-02-13T12:52:58.507326Z"
        },
        "id": "xhyyDrwka_1v"
      },
      "source": [
        "from sklearn.decomposition import PCA"
      ],
      "execution_count": null,
      "outputs": []
    },
    {
      "cell_type": "code",
      "metadata": {
        "execution": {
          "iopub.execute_input": "2021-02-13T12:52:58.515464Z",
          "iopub.status.busy": "2021-02-13T12:52:58.513692Z",
          "iopub.status.idle": "2021-02-13T12:52:58.517054Z",
          "shell.execute_reply": "2021-02-13T12:52:58.517968Z"
        },
        "id": "7N_NgZYfa_1v"
      },
      "source": [
        "pca = PCA().fit(samples)"
      ],
      "execution_count": null,
      "outputs": []
    },
    {
      "cell_type": "markdown",
      "metadata": {
        "id": "6LCM7ecLa_1v"
      },
      "source": [
        "Главные компоненты:"
      ]
    },
    {
      "cell_type": "code",
      "metadata": {
        "execution": {
          "iopub.execute_input": "2021-02-13T12:52:58.525319Z",
          "iopub.status.busy": "2021-02-13T12:52:58.524074Z",
          "iopub.status.idle": "2021-02-13T12:52:58.528409Z",
          "shell.execute_reply": "2021-02-13T12:52:58.529778Z"
        },
        "id": "scGeVBZCa_1v",
        "outputId": "a9910fd0-ccb0-402d-e79b-138f7748b022"
      },
      "source": [
        "pca.components_.T"
      ],
      "execution_count": null,
      "outputs": [
        {
          "data": {
            "text/plain": [
              "array([[-0.62416562,  0.78129206],\n",
              "       [-0.78129206, -0.62416562]])"
            ]
          },
          "execution_count": 1,
          "metadata": {},
          "output_type": "execute_result"
        }
      ]
    },
    {
      "cell_type": "code",
      "metadata": {
        "execution": {
          "iopub.execute_input": "2021-02-13T12:52:58.536876Z",
          "iopub.status.busy": "2021-02-13T12:52:58.535891Z",
          "iopub.status.idle": "2021-02-13T12:52:58.539969Z",
          "shell.execute_reply": "2021-02-13T12:52:58.541534Z"
        },
        "id": "lciS3Tbga_1w",
        "outputId": "bd6b4549-17f9-490a-a991-f8ef57f5f209"
      },
      "source": [
        "eigenvectors"
      ],
      "execution_count": null,
      "outputs": [
        {
          "data": {
            "text/plain": [
              "array([[-0.62416562, -0.78129206],\n",
              "       [-0.78129206,  0.62416562]])"
            ]
          },
          "execution_count": 1,
          "metadata": {},
          "output_type": "execute_result"
        }
      ]
    },
    {
      "cell_type": "markdown",
      "metadata": {
        "id": "ShQXmn5Ra_1w"
      },
      "source": [
        "_Замечание_. Выше мы транспонировали матрицу компонент `pca.components_`, поскольку в реализации `sklearn` главные компоненты записаны в строках.\n",
        "\n",
        "Доля объяснённой дисперсии каждой компоненты:"
      ]
    },
    {
      "cell_type": "code",
      "metadata": {
        "execution": {
          "iopub.execute_input": "2021-02-13T12:52:58.549144Z",
          "iopub.status.busy": "2021-02-13T12:52:58.547544Z",
          "iopub.status.idle": "2021-02-13T12:52:58.551885Z",
          "shell.execute_reply": "2021-02-13T12:52:58.552820Z"
        },
        "id": "tgIJTS2Xa_1w",
        "outputId": "b67e760f-fb9b-4b28-b14d-2bd311ddc188"
      },
      "source": [
        "pca.explained_variance_ratio_"
      ],
      "execution_count": null,
      "outputs": [
        {
          "data": {
            "text/plain": [
              "array([0.96626003, 0.03373997])"
            ]
          },
          "execution_count": 1,
          "metadata": {},
          "output_type": "execute_result"
        }
      ]
    },
    {
      "cell_type": "markdown",
      "metadata": {
        "id": "jHK_AWK_a_1w"
      },
      "source": [
        "С помощью метода `.transform` происходит трансформация старых признаков в новые."
      ]
    },
    {
      "cell_type": "code",
      "metadata": {
        "execution": {
          "iopub.execute_input": "2021-02-13T12:52:58.560679Z",
          "iopub.status.busy": "2021-02-13T12:52:58.559762Z",
          "iopub.status.idle": "2021-02-13T12:52:58.563260Z",
          "shell.execute_reply": "2021-02-13T12:52:58.564144Z"
        },
        "id": "k_sX2aZSa_1w",
        "outputId": "5513a882-6f1a-40cb-f368-943192f5a968"
      },
      "source": [
        "pca.transform(samples)"
      ],
      "execution_count": null,
      "outputs": [
        {
          "data": {
            "text/plain": [
              "array([[ 2.96045985, -0.25817302],\n",
              "       [-2.34281004, -0.22446293],\n",
              "       [-0.99038663,  0.30411288],\n",
              "       [ 1.09168219,  0.52428816],\n",
              "       [ 0.84871921,  0.05927664],\n",
              "       [-0.58313064, -0.23602373],\n",
              "       [ 1.1160885 , -0.23195706],\n",
              "       [-1.36719493, -0.16877519],\n",
              "       [-0.09942493, -0.08535393],\n",
              "       [-0.63400259,  0.31706817]])"
            ]
          },
          "execution_count": 1,
          "metadata": {},
          "output_type": "execute_result"
        }
      ]
    },
    {
      "cell_type": "markdown",
      "metadata": {
        "id": "Blnu5NLua_1w"
      },
      "source": [
        "Новые признаки идут в порядке убывания их дисперсии. Таким образом, если нужно оставить только одну главную компоненту, следует оставить из новых признаков только один."
      ]
    },
    {
      "cell_type": "code",
      "metadata": {
        "execution": {
          "iopub.execute_input": "2021-02-13T12:52:58.572698Z",
          "iopub.status.busy": "2021-02-13T12:52:58.571082Z",
          "iopub.status.idle": "2021-02-13T12:52:58.575762Z",
          "shell.execute_reply": "2021-02-13T12:52:58.576871Z"
        },
        "id": "t9O32iYSa_1w",
        "outputId": "e5c65b0a-529b-4a5c-c04b-16c1b1e2ce4b"
      },
      "source": [
        "pca.transform(samples)[:, [0]]"
      ],
      "execution_count": null,
      "outputs": [
        {
          "data": {
            "text/plain": [
              "array([[ 2.96045985],\n",
              "       [-2.34281004],\n",
              "       [-0.99038663],\n",
              "       [ 1.09168219],\n",
              "       [ 0.84871921],\n",
              "       [-0.58313064],\n",
              "       [ 1.1160885 ],\n",
              "       [-1.36719493],\n",
              "       [-0.09942493],\n",
              "       [-0.63400259]])"
            ]
          },
          "execution_count": 1,
          "metadata": {},
          "output_type": "execute_result"
        }
      ]
    },
    {
      "cell_type": "code",
      "metadata": {
        "execution": {
          "iopub.execute_input": "2021-02-13T12:52:58.585382Z",
          "iopub.status.busy": "2021-02-13T12:52:58.584025Z",
          "iopub.status.idle": "2021-02-13T12:52:58.588511Z",
          "shell.execute_reply": "2021-02-13T12:52:58.589843Z"
        },
        "id": "urk86fVHa_1x",
        "outputId": "23407735-5e73-4ad6-8d98-e2838b360baf"
      },
      "source": [
        "new_samples"
      ],
      "execution_count": null,
      "outputs": [
        {
          "data": {
            "text/plain": [
              "array([[ 2.96045985],\n",
              "       [-2.34281004],\n",
              "       [-0.99038663],\n",
              "       [ 1.09168219],\n",
              "       [ 0.84871921],\n",
              "       [-0.58313064],\n",
              "       [ 1.1160885 ],\n",
              "       [-1.36719493],\n",
              "       [-0.09942493],\n",
              "       [-0.63400259]])"
            ]
          },
          "execution_count": 1,
          "metadata": {},
          "output_type": "execute_result"
        }
      ]
    },
    {
      "cell_type": "markdown",
      "metadata": {
        "id": "2ZWSrsHqa_1x"
      },
      "source": [
        "### Логистическая регрессия\n",
        "\n",
        "Логистическая регрессия возникает в задачах __бинарной классификации__: исследуется некоторый набор объектов, и каждому объекту приписана бинарная метка ($0$ или $1$).\n",
        "\n",
        "В модели __логистической регрессии__ вероятность объекта $x = (x_1, \\dots, x_m)$ принадлежать классу $1$ моделируется следующим образом:\n",
        "$$P(y = 1 | x) = \\sigma(b_0  + b_1 x_1 + \\dots + b_m x_m),$$\n",
        "где $\\sigma(z)$ — __логистическая функция__ или __сигмоида__:\n",
        "$$\\sigma(z) = \\dfrac{1}{1 + e^{-z}}$$\n",
        "Сигмоида принимает в качестве аргумента вещественное число, а отдаёт число из промежутка $[0, 1]$."
      ]
    },
    {
      "cell_type": "markdown",
      "metadata": {
        "id": "tiO_lAA4a_1x"
      },
      "source": [
        "_Замечание_. Как и ранее в линейной регрессии, мы вводим дополнительный нулевой фактор $x_0$, равный $1$ для каждого объекта, который нужен просто чтобы записать выражение в векторном виде:\n",
        "$$P \\left( y = 1 | x \\right) = \\sigma(x \\cdot b),$$\n",
        "где $b = (b_0, b_1, \\dots, b_m)$ — вектор коэффициентов модели."
      ]
    },
    {
      "cell_type": "markdown",
      "metadata": {
        "id": "S40ci2C1a_1x"
      },
      "source": [
        "Для оптимизации параметров модели используется __метод максимального правдоподобия__. Его схему можно изобразить следующим образом:\n",
        "$$\\displaystyle\\prod_{i = 1}^n P(y = y_i | x = x_i) \\rightarrow \\displaystyle\\max_b$$\n",
        "По сути мы подбираем набор параметров так, чтобы _максимизировать вероятность наблюдать ту выборку, которая у нас есть_.\n",
        "\n",
        "Тут кроме формулы для $P(y = 1 | x)$ нам понадобится также формула вероятности принадлежности объекта к нулевому классу:\n",
        "$$P(y = 0 | x) = 1 - \\sigma(x \\cdot b)$$\n",
        "\n",
        "Отсюда запишем общую вероятность:\n",
        "$$P(y | x) = \\sigma(x \\cdot b)^y \\cdot \\left( 1 - \\sigma(x \\cdot b) \\right)^{1 - y}$$\n",
        "\n",
        "Такие вероятности и используются в методе максимального правдоподобия."
      ]
    },
    {
      "cell_type": "markdown",
      "metadata": {
        "id": "_ObGu7xIa_1x"
      },
      "source": [
        "В практическом смысле удобнее оптимизировать не саму функцию, а её логарифм (поскольку в этом случае множители превращаются в слагаемые). Кроме того, традиционно оптимизационные задачи записываются именно как задачи _минимизации_, поэтому добавим перед всем выражением минус.\n",
        "\n",
        "Итак, __минимизируется функционал__:\n",
        "$$Q(b) = - \\displaystyle\\sum_{i = 1}^n \\Big[ y_i \\cdot \\ln \\big( \\sigma(x_i \\cdot b) \\big) + (1 - y_i) \\cdot \\ln \\big( 1 - \\sigma(x_i \\cdot b) \\big) \\Big],$$\n",
        "где $x_i$ — набор признаков $i$-го объекта, $y_i$ — его метка ($0$ или $1$). Такой функционал называют __бинарной кросс-энтропией__."
      ]
    },
    {
      "cell_type": "markdown",
      "metadata": {
        "id": "GBKTVO4Ba_1x"
      },
      "source": [
        "Для нахождения оптимального решения используют оптимизационные методы, например, __градиентный спуск__. \n",
        "\n",
        "Здесь нам понадобится вектор __градиента__, который состоит из частных производных функционала $Q(b)$ по переменным $b_j$:\n",
        "\n",
        "$$\\nabla Q = \\left( \\dfrac{\\partial Q}{\\partial b_0}, \\dots, \\dfrac{\\partial Q}{\\partial b_m} \\right)$$\n",
        "Результат взятия каждой частной производной вычисляется по формуле:\n",
        "$$\\dfrac{\\partial Q}{\\partial b_j} = \\displaystyle\\sum_{i=1}^n \\big( \\sigma(b_0 x_{i0} + \\dots + b_m x_{im}) - y_i \\big) x_{ij},$$\n",
        "где $x_{ij}$ — $j$-й признак $i$-го объекта из выборки.\n",
        "\n",
        "Вектор градиента указывает направление __наискорейшего роста__."
      ]
    },
    {
      "cell_type": "markdown",
      "metadata": {
        "id": "POszv80ba_1x"
      },
      "source": [
        "Непосредственно метод градиентного спуска заключается в следующем. Сначала выбираются начальные значения параметров $b_0, \\dots, b_m$, т.е. вектор $b^{[0]}$. Затем итеративно повторяется вычисление:\n",
        "$$b^{[k + 1]} = b^{[k]} - \\lambda_k \\nabla Q \\left( b^{[k]} \\right)$$\n",
        "\n",
        "Иначе говоря, на каждой итерации мы делаем шаг размера $\\lambda_k$ против направления вектора градиента.\n",
        "\n",
        "__Почему против?__ Потому что вектор градиента указывает направление наискорейшего роста, следовательно, обратное направление является направлением _наискорейшего убывания_.\n",
        "\n",
        "Описанный выше процесс повторяется, пока соседние векторы $b^{[k + 1]}$, $b^{[k]}$ не перестанут сильно отличаться друг от друга."
      ]
    },
    {
      "cell_type": "markdown",
      "metadata": {
        "id": "wn5I4ZUaa_1x"
      },
      "source": [
        "Результат оптимизации очень сильно зависит от выбора начальных коэффициентов $b^{[0]}$, а также параметров $\\lambda_k$, отвечающих за скорость спуска. \n",
        "\n",
        "Малые значения $\\lambda_k$ приводят к низкой скорости спуска, тогда как высокие значения $\\lambda_k$ могут привести к расхождению метода.\n",
        "\n",
        "Выбор этих значений — важная задача в теории оптимизации."
      ]
    },
    {
      "cell_type": "code",
      "metadata": {
        "execution": {
          "iopub.execute_input": "2021-02-13T12:52:58.598901Z",
          "iopub.status.busy": "2021-02-13T12:52:58.597778Z",
          "iopub.status.idle": "2021-02-13T12:52:58.600886Z",
          "shell.execute_reply": "2021-02-13T12:52:58.602245Z"
        },
        "id": "pYHW1_3ma_1y"
      },
      "source": [
        "def sigmoid(x: float) -> float:\n",
        "    \"\"\"Сигмоида.\n",
        "    \"\"\"\n",
        "    \n",
        "    return 1 / (1 + np.exp(-x))"
      ],
      "execution_count": null,
      "outputs": []
    },
    {
      "cell_type": "code",
      "metadata": {
        "execution": {
          "iopub.execute_input": "2021-02-13T12:52:58.612309Z",
          "iopub.status.busy": "2021-02-13T12:52:58.610671Z",
          "iopub.status.idle": "2021-02-13T12:52:58.613606Z",
          "shell.execute_reply": "2021-02-13T12:52:58.614550Z"
        },
        "id": "LaEkJxnga_1y"
      },
      "source": [
        "def partial_derivative(j: int, b: np.ndarray, x: np.ndarray, y: np.ndarray) -> float:\n",
        "    \"\"\"Частная производная функционала Q по переменной b_j.\n",
        "    \"\"\"\n",
        "    \n",
        "    return sum(\n",
        "        x[i, j] * (sigmoid(b.dot(x[i])) - y[i])\n",
        "        for i in range(x.shape[0])\n",
        "    )"
      ],
      "execution_count": null,
      "outputs": []
    },
    {
      "cell_type": "code",
      "metadata": {
        "execution": {
          "iopub.execute_input": "2021-02-13T12:52:58.622116Z",
          "iopub.status.busy": "2021-02-13T12:52:58.621190Z",
          "iopub.status.idle": "2021-02-13T12:52:58.623966Z",
          "shell.execute_reply": "2021-02-13T12:52:58.624948Z"
        },
        "id": "UaPYhcJ5a_1y"
      },
      "source": [
        "def gradient(b: np.ndarray, x: np.ndarray, y: np.ndarray) -> np.ndarray:\n",
        "    \"\"\"Вектор градиента.\n",
        "    \"\"\"\n",
        "    \n",
        "    return np.array([\n",
        "        partial_derivative(j, b, x, y)\n",
        "        for j in range(b.shape[0])\n",
        "    ])"
      ],
      "execution_count": null,
      "outputs": []
    },
    {
      "cell_type": "code",
      "metadata": {
        "execution": {
          "iopub.execute_input": "2021-02-13T12:52:58.633350Z",
          "iopub.status.busy": "2021-02-13T12:52:58.631684Z",
          "iopub.status.idle": "2021-02-13T12:52:58.635439Z",
          "shell.execute_reply": "2021-02-13T12:52:58.636423Z"
        },
        "id": "RCco2l_la_1y"
      },
      "source": [
        "def gradient_descent_step(\n",
        "        lambda_: float,\n",
        "        b: np.ndarray,\n",
        "        x: np.ndarray,\n",
        "        y: np.ndarray,\n",
        ") -> np.ndarray:\n",
        "    \"\"\"Один шаг градиентного спуска.\n",
        "    \"\"\"\n",
        "    \n",
        "    return b - lambda_ * gradient(b, x, y)"
      ],
      "execution_count": null,
      "outputs": []
    },
    {
      "cell_type": "markdown",
      "metadata": {
        "id": "ZPMo_KQ6a_1y"
      },
      "source": [
        "__Пример 3__\n",
        "\n",
        "Рассмотрим массив `samples` из примера 2."
      ]
    },
    {
      "cell_type": "code",
      "metadata": {
        "execution": {
          "iopub.execute_input": "2021-02-13T12:52:58.672217Z",
          "iopub.status.busy": "2021-02-13T12:52:58.671134Z",
          "iopub.status.idle": "2021-02-13T12:52:58.806750Z",
          "shell.execute_reply": "2021-02-13T12:52:58.807638Z"
        },
        "id": "9A5dvvgva_1y",
        "outputId": "420cc560-5564-48a2-f9ad-c49d8674b2b7"
      },
      "source": [
        "print(samples)\n",
        "\n",
        "plt.scatter(samples[:, 0], samples[:, 1])"
      ],
      "execution_count": null,
      "outputs": [
        {
          "name": "stdout",
          "output_type": "stream",
          "text": [
            "[[ 2.36499331 -0.57978654]\n",
            " [ 5.70144948  3.54257542]\n",
            " [ 5.27028536  2.1560189 ]\n",
            " [ 4.14275078  0.39188923]\n",
            " [ 3.93109011  0.87195848]\n",
            " [ 4.59408573  2.17496773]\n",
            " [ 3.53666882  0.84484304]\n",
            " [ 5.13601245  2.74557671]\n",
            " [ 4.40989037  1.7030094 ]\n",
            " [ 5.05796456  1.86949263]]\n"
          ]
        },
        {
          "data": {
            "text/plain": [
              "<matplotlib.collections.PathCollection at 0x1287fd1c0>"
            ]
          },
          "execution_count": 1,
          "metadata": {},
          "output_type": "execute_result"
        },
        {
          "data": {
            "image/svg+xml": [
              "<?xml version=\"1.0\" encoding=\"utf-8\" standalone=\"no\"?>\n",
              "<!DOCTYPE svg PUBLIC \"-//W3C//DTD SVG 1.1//EN\"\n",
              "  \"http://www.w3.org/Graphics/SVG/1.1/DTD/svg11.dtd\">\n",
              "<!-- Created with matplotlib (https://matplotlib.org/) -->\n",
              "<svg height=\"244.485312pt\" version=\"1.1\" viewBox=\"0 0 358.260937 244.485312\" width=\"358.260937pt\" xmlns=\"http://www.w3.org/2000/svg\" xmlns:xlink=\"http://www.w3.org/1999/xlink\">\n",
              " <metadata>\n",
              "  <rdf:RDF xmlns:cc=\"http://creativecommons.org/ns#\" xmlns:dc=\"http://purl.org/dc/elements/1.1/\" xmlns:rdf=\"http://www.w3.org/1999/02/22-rdf-syntax-ns#\">\n",
              "   <cc:Work>\n",
              "    <dc:type rdf:resource=\"http://purl.org/dc/dcmitype/StillImage\"/>\n",
              "    <dc:date>2021-02-13T15:52:58.760885</dc:date>\n",
              "    <dc:format>image/svg+xml</dc:format>\n",
              "    <dc:creator>\n",
              "     <cc:Agent>\n",
              "      <dc:title>Matplotlib v3.3.3, https://matplotlib.org/</dc:title>\n",
              "     </cc:Agent>\n",
              "    </dc:creator>\n",
              "   </cc:Work>\n",
              "  </rdf:RDF>\n",
              " </metadata>\n",
              " <defs>\n",
              "  <style type=\"text/css\">*{stroke-linecap:butt;stroke-linejoin:round;}</style>\n",
              " </defs>\n",
              " <g id=\"figure_1\">\n",
              "  <g id=\"patch_1\">\n",
              "   <path d=\"M 0 244.485312 \n",
              "L 358.260937 244.485312 \n",
              "L 358.260937 0 \n",
              "L 0 0 \n",
              "z\n",
              "\" style=\"fill:#ffffff;\"/>\n",
              "  </g>\n",
              "  <g id=\"axes_1\">\n",
              "   <g id=\"patch_2\">\n",
              "    <path d=\"M 16.260937 224.64 \n",
              "L 351.060938 224.64 \n",
              "L 351.060938 7.2 \n",
              "L 16.260937 7.2 \n",
              "z\n",
              "\" style=\"fill:#ffffff;\"/>\n",
              "   </g>\n",
              "   <g id=\"matplotlib.axis_1\">\n",
              "    <g id=\"xtick_1\">\n",
              "     <g id=\"line2d_1\">\n",
              "      <path clip-path=\"url(#pf85a76ef2f)\" d=\"M 43.794919 224.64 \n",
              "L 43.794919 7.2 \n",
              "\" style=\"fill:none;stroke:#cccccc;stroke-linecap:round;stroke-width:0.8;\"/>\n",
              "     </g>\n",
              "     <g id=\"line2d_2\"/>\n",
              "     <g id=\"text_1\">\n",
              "      <!-- 2.5 -->\n",
              "      <g style=\"fill:#262626;\" transform=\"translate(36.844919 235.297812)scale(0.1 -0.1)\">\n",
              "       <defs>\n",
              "        <path d=\"M 50.34375 8.453125 \n",
              "L 50.34375 0 \n",
              "L 3.03125 0 \n",
              "Q 2.9375 3.171875 4.046875 6.109375 \n",
              "Q 5.859375 10.9375 9.828125 15.625 \n",
              "Q 13.8125 20.3125 21.34375 26.46875 \n",
              "Q 33.015625 36.03125 37.109375 41.625 \n",
              "Q 41.21875 47.21875 41.21875 52.203125 \n",
              "Q 41.21875 57.421875 37.46875 61 \n",
              "Q 33.734375 64.59375 27.734375 64.59375 \n",
              "Q 21.390625 64.59375 17.578125 60.78125 \n",
              "Q 13.765625 56.984375 13.71875 50.25 \n",
              "L 4.6875 51.171875 \n",
              "Q 5.609375 61.28125 11.65625 66.578125 \n",
              "Q 17.71875 71.875 27.9375 71.875 \n",
              "Q 38.234375 71.875 44.234375 66.15625 \n",
              "Q 50.25 60.453125 50.25 52 \n",
              "Q 50.25 47.703125 48.484375 43.546875 \n",
              "Q 46.734375 39.40625 42.65625 34.8125 \n",
              "Q 38.578125 30.21875 29.109375 22.21875 \n",
              "Q 21.1875 15.578125 18.9375 13.203125 \n",
              "Q 16.703125 10.84375 15.234375 8.453125 \n",
              "z\n",
              "\" id=\"ArialMT-50\"/>\n",
              "        <path d=\"M 9.078125 0 \n",
              "L 9.078125 10.015625 \n",
              "L 19.09375 10.015625 \n",
              "L 19.09375 0 \n",
              "z\n",
              "\" id=\"ArialMT-46\"/>\n",
              "        <path d=\"M 4.15625 18.75 \n",
              "L 13.375 19.53125 \n",
              "Q 14.40625 12.796875 18.140625 9.390625 \n",
              "Q 21.875 6 27.15625 6 \n",
              "Q 33.5 6 37.890625 10.78125 \n",
              "Q 42.28125 15.578125 42.28125 23.484375 \n",
              "Q 42.28125 31 38.0625 35.34375 \n",
              "Q 33.84375 39.703125 27 39.703125 \n",
              "Q 22.75 39.703125 19.328125 37.765625 \n",
              "Q 15.921875 35.84375 13.96875 32.765625 \n",
              "L 5.71875 33.84375 \n",
              "L 12.640625 70.609375 \n",
              "L 48.25 70.609375 \n",
              "L 48.25 62.203125 \n",
              "L 19.671875 62.203125 \n",
              "L 15.828125 42.96875 \n",
              "Q 22.265625 47.46875 29.34375 47.46875 \n",
              "Q 38.71875 47.46875 45.15625 40.96875 \n",
              "Q 51.609375 34.46875 51.609375 24.265625 \n",
              "Q 51.609375 14.546875 45.953125 7.46875 \n",
              "Q 39.0625 -1.21875 27.15625 -1.21875 \n",
              "Q 17.390625 -1.21875 11.203125 4.25 \n",
              "Q 5.03125 9.71875 4.15625 18.75 \n",
              "z\n",
              "\" id=\"ArialMT-53\"/>\n",
              "       </defs>\n",
              "       <use xlink:href=\"#ArialMT-50\"/>\n",
              "       <use x=\"55.615234\" xlink:href=\"#ArialMT-46\"/>\n",
              "       <use x=\"83.398438\" xlink:href=\"#ArialMT-53\"/>\n",
              "      </g>\n",
              "     </g>\n",
              "    </g>\n",
              "    <g id=\"xtick_2\">\n",
              "     <g id=\"line2d_3\">\n",
              "      <path clip-path=\"url(#pf85a76ef2f)\" d=\"M 89.406733 224.64 \n",
              "L 89.406733 7.2 \n",
              "\" style=\"fill:none;stroke:#cccccc;stroke-linecap:round;stroke-width:0.8;\"/>\n",
              "     </g>\n",
              "     <g id=\"line2d_4\"/>\n",
              "     <g id=\"text_2\">\n",
              "      <!-- 3.0 -->\n",
              "      <g style=\"fill:#262626;\" transform=\"translate(82.456733 235.297812)scale(0.1 -0.1)\">\n",
              "       <defs>\n",
              "        <path d=\"M 4.203125 18.890625 \n",
              "L 12.984375 20.0625 \n",
              "Q 14.5 12.59375 18.140625 9.296875 \n",
              "Q 21.78125 6 27 6 \n",
              "Q 33.203125 6 37.46875 10.296875 \n",
              "Q 41.75 14.59375 41.75 20.953125 \n",
              "Q 41.75 27 37.796875 30.921875 \n",
              "Q 33.84375 34.859375 27.734375 34.859375 \n",
              "Q 25.25 34.859375 21.53125 33.890625 \n",
              "L 22.515625 41.609375 \n",
              "Q 23.390625 41.5 23.921875 41.5 \n",
              "Q 29.546875 41.5 34.03125 44.421875 \n",
              "Q 38.53125 47.359375 38.53125 53.46875 \n",
              "Q 38.53125 58.296875 35.25 61.46875 \n",
              "Q 31.984375 64.65625 26.8125 64.65625 \n",
              "Q 21.6875 64.65625 18.265625 61.421875 \n",
              "Q 14.84375 58.203125 13.875 51.765625 \n",
              "L 5.078125 53.328125 \n",
              "Q 6.6875 62.15625 12.390625 67.015625 \n",
              "Q 18.109375 71.875 26.609375 71.875 \n",
              "Q 32.46875 71.875 37.390625 69.359375 \n",
              "Q 42.328125 66.84375 44.9375 62.5 \n",
              "Q 47.5625 58.15625 47.5625 53.265625 \n",
              "Q 47.5625 48.640625 45.0625 44.828125 \n",
              "Q 42.578125 41.015625 37.703125 38.765625 \n",
              "Q 44.046875 37.3125 47.5625 32.6875 \n",
              "Q 51.078125 28.078125 51.078125 21.140625 \n",
              "Q 51.078125 11.765625 44.234375 5.25 \n",
              "Q 37.40625 -1.265625 26.953125 -1.265625 \n",
              "Q 17.53125 -1.265625 11.296875 4.34375 \n",
              "Q 5.078125 9.96875 4.203125 18.890625 \n",
              "z\n",
              "\" id=\"ArialMT-51\"/>\n",
              "        <path d=\"M 4.15625 35.296875 \n",
              "Q 4.15625 48 6.765625 55.734375 \n",
              "Q 9.375 63.484375 14.515625 67.671875 \n",
              "Q 19.671875 71.875 27.484375 71.875 \n",
              "Q 33.25 71.875 37.59375 69.546875 \n",
              "Q 41.9375 67.234375 44.765625 62.859375 \n",
              "Q 47.609375 58.5 49.21875 52.21875 \n",
              "Q 50.828125 45.953125 50.828125 35.296875 \n",
              "Q 50.828125 22.703125 48.234375 14.96875 \n",
              "Q 45.65625 7.234375 40.5 3 \n",
              "Q 35.359375 -1.21875 27.484375 -1.21875 \n",
              "Q 17.140625 -1.21875 11.234375 6.203125 \n",
              "Q 4.15625 15.140625 4.15625 35.296875 \n",
              "z\n",
              "M 13.1875 35.296875 \n",
              "Q 13.1875 17.671875 17.3125 11.828125 \n",
              "Q 21.4375 6 27.484375 6 \n",
              "Q 33.546875 6 37.671875 11.859375 \n",
              "Q 41.796875 17.71875 41.796875 35.296875 \n",
              "Q 41.796875 52.984375 37.671875 58.78125 \n",
              "Q 33.546875 64.59375 27.390625 64.59375 \n",
              "Q 21.34375 64.59375 17.71875 59.46875 \n",
              "Q 13.1875 52.9375 13.1875 35.296875 \n",
              "z\n",
              "\" id=\"ArialMT-48\"/>\n",
              "       </defs>\n",
              "       <use xlink:href=\"#ArialMT-51\"/>\n",
              "       <use x=\"55.615234\" xlink:href=\"#ArialMT-46\"/>\n",
              "       <use x=\"83.398438\" xlink:href=\"#ArialMT-48\"/>\n",
              "      </g>\n",
              "     </g>\n",
              "    </g>\n",
              "    <g id=\"xtick_3\">\n",
              "     <g id=\"line2d_5\">\n",
              "      <path clip-path=\"url(#pf85a76ef2f)\" d=\"M 135.018547 224.64 \n",
              "L 135.018547 7.2 \n",
              "\" style=\"fill:none;stroke:#cccccc;stroke-linecap:round;stroke-width:0.8;\"/>\n",
              "     </g>\n",
              "     <g id=\"line2d_6\"/>\n",
              "     <g id=\"text_3\">\n",
              "      <!-- 3.5 -->\n",
              "      <g style=\"fill:#262626;\" transform=\"translate(128.068547 235.297812)scale(0.1 -0.1)\">\n",
              "       <use xlink:href=\"#ArialMT-51\"/>\n",
              "       <use x=\"55.615234\" xlink:href=\"#ArialMT-46\"/>\n",
              "       <use x=\"83.398438\" xlink:href=\"#ArialMT-53\"/>\n",
              "      </g>\n",
              "     </g>\n",
              "    </g>\n",
              "    <g id=\"xtick_4\">\n",
              "     <g id=\"line2d_7\">\n",
              "      <path clip-path=\"url(#pf85a76ef2f)\" d=\"M 180.630361 224.64 \n",
              "L 180.630361 7.2 \n",
              "\" style=\"fill:none;stroke:#cccccc;stroke-linecap:round;stroke-width:0.8;\"/>\n",
              "     </g>\n",
              "     <g id=\"line2d_8\"/>\n",
              "     <g id=\"text_4\">\n",
              "      <!-- 4.0 -->\n",
              "      <g style=\"fill:#262626;\" transform=\"translate(173.680361 235.297812)scale(0.1 -0.1)\">\n",
              "       <defs>\n",
              "        <path d=\"M 32.328125 0 \n",
              "L 32.328125 17.140625 \n",
              "L 1.265625 17.140625 \n",
              "L 1.265625 25.203125 \n",
              "L 33.9375 71.578125 \n",
              "L 41.109375 71.578125 \n",
              "L 41.109375 25.203125 \n",
              "L 50.78125 25.203125 \n",
              "L 50.78125 17.140625 \n",
              "L 41.109375 17.140625 \n",
              "L 41.109375 0 \n",
              "z\n",
              "M 32.328125 25.203125 \n",
              "L 32.328125 57.46875 \n",
              "L 9.90625 25.203125 \n",
              "z\n",
              "\" id=\"ArialMT-52\"/>\n",
              "       </defs>\n",
              "       <use xlink:href=\"#ArialMT-52\"/>\n",
              "       <use x=\"55.615234\" xlink:href=\"#ArialMT-46\"/>\n",
              "       <use x=\"83.398438\" xlink:href=\"#ArialMT-48\"/>\n",
              "      </g>\n",
              "     </g>\n",
              "    </g>\n",
              "    <g id=\"xtick_5\">\n",
              "     <g id=\"line2d_9\">\n",
              "      <path clip-path=\"url(#pf85a76ef2f)\" d=\"M 226.242175 224.64 \n",
              "L 226.242175 7.2 \n",
              "\" style=\"fill:none;stroke:#cccccc;stroke-linecap:round;stroke-width:0.8;\"/>\n",
              "     </g>\n",
              "     <g id=\"line2d_10\"/>\n",
              "     <g id=\"text_5\">\n",
              "      <!-- 4.5 -->\n",
              "      <g style=\"fill:#262626;\" transform=\"translate(219.292175 235.297812)scale(0.1 -0.1)\">\n",
              "       <use xlink:href=\"#ArialMT-52\"/>\n",
              "       <use x=\"55.615234\" xlink:href=\"#ArialMT-46\"/>\n",
              "       <use x=\"83.398438\" xlink:href=\"#ArialMT-53\"/>\n",
              "      </g>\n",
              "     </g>\n",
              "    </g>\n",
              "    <g id=\"xtick_6\">\n",
              "     <g id=\"line2d_11\">\n",
              "      <path clip-path=\"url(#pf85a76ef2f)\" d=\"M 271.853989 224.64 \n",
              "L 271.853989 7.2 \n",
              "\" style=\"fill:none;stroke:#cccccc;stroke-linecap:round;stroke-width:0.8;\"/>\n",
              "     </g>\n",
              "     <g id=\"line2d_12\"/>\n",
              "     <g id=\"text_6\">\n",
              "      <!-- 5.0 -->\n",
              "      <g style=\"fill:#262626;\" transform=\"translate(264.903989 235.297812)scale(0.1 -0.1)\">\n",
              "       <use xlink:href=\"#ArialMT-53\"/>\n",
              "       <use x=\"55.615234\" xlink:href=\"#ArialMT-46\"/>\n",
              "       <use x=\"83.398438\" xlink:href=\"#ArialMT-48\"/>\n",
              "      </g>\n",
              "     </g>\n",
              "    </g>\n",
              "    <g id=\"xtick_7\">\n",
              "     <g id=\"line2d_13\">\n",
              "      <path clip-path=\"url(#pf85a76ef2f)\" d=\"M 317.465803 224.64 \n",
              "L 317.465803 7.2 \n",
              "\" style=\"fill:none;stroke:#cccccc;stroke-linecap:round;stroke-width:0.8;\"/>\n",
              "     </g>\n",
              "     <g id=\"line2d_14\"/>\n",
              "     <g id=\"text_7\">\n",
              "      <!-- 5.5 -->\n",
              "      <g style=\"fill:#262626;\" transform=\"translate(310.515803 235.297812)scale(0.1 -0.1)\">\n",
              "       <use xlink:href=\"#ArialMT-53\"/>\n",
              "       <use x=\"55.615234\" xlink:href=\"#ArialMT-46\"/>\n",
              "       <use x=\"83.398438\" xlink:href=\"#ArialMT-53\"/>\n",
              "      </g>\n",
              "     </g>\n",
              "    </g>\n",
              "   </g>\n",
              "   <g id=\"matplotlib.axis_2\">\n",
              "    <g id=\"ytick_1\">\n",
              "     <g id=\"line2d_15\">\n",
              "      <path clip-path=\"url(#pf85a76ef2f)\" d=\"M 16.260937 186.95483 \n",
              "L 351.060938 186.95483 \n",
              "\" style=\"fill:none;stroke:#cccccc;stroke-linecap:round;stroke-width:0.8;\"/>\n",
              "     </g>\n",
              "     <g id=\"line2d_16\"/>\n",
              "     <g id=\"text_8\">\n",
              "      <!-- 0 -->\n",
              "      <g style=\"fill:#262626;\" transform=\"translate(7.2 190.533736)scale(0.1 -0.1)\">\n",
              "       <use xlink:href=\"#ArialMT-48\"/>\n",
              "      </g>\n",
              "     </g>\n",
              "    </g>\n",
              "    <g id=\"ytick_2\">\n",
              "     <g id=\"line2d_17\">\n",
              "      <path clip-path=\"url(#pf85a76ef2f)\" d=\"M 16.260937 139.003502 \n",
              "L 351.060938 139.003502 \n",
              "\" style=\"fill:none;stroke:#cccccc;stroke-linecap:round;stroke-width:0.8;\"/>\n",
              "     </g>\n",
              "     <g id=\"line2d_18\"/>\n",
              "     <g id=\"text_9\">\n",
              "      <!-- 1 -->\n",
              "      <g style=\"fill:#262626;\" transform=\"translate(7.2 142.582409)scale(0.1 -0.1)\">\n",
              "       <defs>\n",
              "        <path d=\"M 37.25 0 \n",
              "L 28.46875 0 \n",
              "L 28.46875 56 \n",
              "Q 25.296875 52.984375 20.140625 49.953125 \n",
              "Q 14.984375 46.921875 10.890625 45.40625 \n",
              "L 10.890625 53.90625 \n",
              "Q 18.265625 57.375 23.78125 62.296875 \n",
              "Q 29.296875 67.234375 31.59375 71.875 \n",
              "L 37.25 71.875 \n",
              "z\n",
              "\" id=\"ArialMT-49\"/>\n",
              "       </defs>\n",
              "       <use xlink:href=\"#ArialMT-49\"/>\n",
              "      </g>\n",
              "     </g>\n",
              "    </g>\n",
              "    <g id=\"ytick_3\">\n",
              "     <g id=\"line2d_19\">\n",
              "      <path clip-path=\"url(#pf85a76ef2f)\" d=\"M 16.260937 91.052175 \n",
              "L 351.060938 91.052175 \n",
              "\" style=\"fill:none;stroke:#cccccc;stroke-linecap:round;stroke-width:0.8;\"/>\n",
              "     </g>\n",
              "     <g id=\"line2d_20\"/>\n",
              "     <g id=\"text_10\">\n",
              "      <!-- 2 -->\n",
              "      <g style=\"fill:#262626;\" transform=\"translate(7.2 94.631081)scale(0.1 -0.1)\">\n",
              "       <use xlink:href=\"#ArialMT-50\"/>\n",
              "      </g>\n",
              "     </g>\n",
              "    </g>\n",
              "    <g id=\"ytick_4\">\n",
              "     <g id=\"line2d_21\">\n",
              "      <path clip-path=\"url(#pf85a76ef2f)\" d=\"M 16.260937 43.100848 \n",
              "L 351.060938 43.100848 \n",
              "\" style=\"fill:none;stroke:#cccccc;stroke-linecap:round;stroke-width:0.8;\"/>\n",
              "     </g>\n",
              "     <g id=\"line2d_22\"/>\n",
              "     <g id=\"text_11\">\n",
              "      <!-- 3 -->\n",
              "      <g style=\"fill:#262626;\" transform=\"translate(7.2 46.679754)scale(0.1 -0.1)\">\n",
              "       <use xlink:href=\"#ArialMT-51\"/>\n",
              "      </g>\n",
              "     </g>\n",
              "    </g>\n",
              "   </g>\n",
              "   <g id=\"PathCollection_1\">\n",
              "    <defs>\n",
              "     <path d=\"M 0 3 \n",
              "C 0.795609 3 1.55874 2.683901 2.12132 2.12132 \n",
              "C 2.683901 1.55874 3 0.795609 3 0 \n",
              "C 3 -0.795609 2.683901 -1.55874 2.12132 -2.12132 \n",
              "C 1.55874 -2.683901 0.795609 -3 0 -3 \n",
              "C -0.795609 -3 -1.55874 -2.683901 -2.12132 -2.12132 \n",
              "C -2.683901 -1.55874 -3 -0.795609 -3 0 \n",
              "C -3 0.795609 -2.683901 1.55874 -2.12132 2.12132 \n",
              "C -1.55874 2.683901 -0.795609 3 0 3 \n",
              "z\n",
              "\" id=\"m2508260ca0\" style=\"stroke:#1f77b4;\"/>\n",
              "    </defs>\n",
              "    <g clip-path=\"url(#pf85a76ef2f)\">\n",
              "     <use style=\"fill:#1f77b4;stroke:#1f77b4;\" x=\"31.479119\" xlink:href=\"#m2508260ca0\" y=\"214.756364\"/>\n",
              "     <use style=\"fill:#1f77b4;stroke:#1f77b4;\" x=\"335.842756\" xlink:href=\"#m2508260ca0\" y=\"17.083636\"/>\n",
              "     <use style=\"fill:#1f77b4;stroke:#1f77b4;\" x=\"296.5104\" xlink:href=\"#m2508260ca0\" y=\"83.570862\"/>\n",
              "     <use style=\"fill:#1f77b4;stroke:#1f77b4;\" x=\"193.652605\" xlink:href=\"#m2508260ca0\" y=\"168.163221\"/>\n",
              "     <use style=\"fill:#1f77b4;stroke:#1f77b4;\" x=\"174.344151\" xlink:href=\"#m2508260ca0\" y=\"145.143263\"/>\n",
              "     <use style=\"fill:#1f77b4;stroke:#1f77b4;\" x=\"234.825017\" xlink:href=\"#m2508260ca0\" y=\"82.66224\"/>\n",
              "     <use style=\"fill:#1f77b4;stroke:#1f77b4;\" x=\"138.36361\" xlink:href=\"#m2508260ca0\" y=\"146.443484\"/>\n",
              "     <use style=\"fill:#1f77b4;stroke:#1f77b4;\" x=\"284.261538\" xlink:href=\"#m2508260ca0\" y=\"55.300782\"/>\n",
              "     <use style=\"fill:#1f77b4;stroke:#1f77b4;\" x=\"218.022048\" xlink:href=\"#m2508260ca0\" y=\"105.293269\"/>\n",
              "     <use style=\"fill:#1f77b4;stroke:#1f77b4;\" x=\"277.141727\" xlink:href=\"#m2508260ca0\" y=\"97.310177\"/>\n",
              "    </g>\n",
              "   </g>\n",
              "   <g id=\"patch_3\">\n",
              "    <path d=\"M 16.260937 224.64 \n",
              "L 16.260937 7.2 \n",
              "\" style=\"fill:none;stroke:#cccccc;stroke-linecap:square;stroke-linejoin:miter;\"/>\n",
              "   </g>\n",
              "   <g id=\"patch_4\">\n",
              "    <path d=\"M 351.060938 224.64 \n",
              "L 351.060938 7.2 \n",
              "\" style=\"fill:none;stroke:#cccccc;stroke-linecap:square;stroke-linejoin:miter;\"/>\n",
              "   </g>\n",
              "   <g id=\"patch_5\">\n",
              "    <path d=\"M 16.260938 224.64 \n",
              "L 351.060938 224.64 \n",
              "\" style=\"fill:none;stroke:#cccccc;stroke-linecap:square;stroke-linejoin:miter;\"/>\n",
              "   </g>\n",
              "   <g id=\"patch_6\">\n",
              "    <path d=\"M 16.260938 7.2 \n",
              "L 351.060938 7.2 \n",
              "\" style=\"fill:none;stroke:#cccccc;stroke-linecap:square;stroke-linejoin:miter;\"/>\n",
              "   </g>\n",
              "  </g>\n",
              " </g>\n",
              " <defs>\n",
              "  <clipPath id=\"pf85a76ef2f\">\n",
              "   <rect height=\"217.44\" width=\"334.8\" x=\"16.260937\" y=\"7.2\"/>\n",
              "  </clipPath>\n",
              " </defs>\n",
              "</svg>\n"
            ],
            "text/plain": [
              "<Figure size 432x288 with 1 Axes>"
            ]
          },
          "metadata": {},
          "output_type": "display_data"
        }
      ]
    },
    {
      "cell_type": "markdown",
      "metadata": {
        "id": "IiTWJlQka_2c"
      },
      "source": [
        "Рассмотрим набор меток к этим объектам:"
      ]
    },
    {
      "cell_type": "code",
      "metadata": {
        "execution": {
          "iopub.execute_input": "2021-02-13T12:52:58.841645Z",
          "iopub.status.busy": "2021-02-13T12:52:58.840479Z",
          "iopub.status.idle": "2021-02-13T12:52:58.963259Z",
          "shell.execute_reply": "2021-02-13T12:52:58.963965Z"
        },
        "id": "tLUY8vEZa_2d",
        "outputId": "03ddb7b1-9826-4e19-c524-3f2a70c27ee5"
      },
      "source": [
        "y = np.array([0, 1, 0, 0, 0, 1, 1, 1, 1, 1])\n",
        "\n",
        "color = {0: 'C0', 1: 'C3'}\n",
        "color = [color[i] for i in y]\n",
        "\n",
        "plt.scatter(samples[:, 0], samples[:, 1], color=color)"
      ],
      "execution_count": null,
      "outputs": [
        {
          "data": {
            "text/plain": [
              "<matplotlib.collections.PathCollection at 0x1291bffa0>"
            ]
          },
          "execution_count": 1,
          "metadata": {},
          "output_type": "execute_result"
        },
        {
          "data": {
            "image/svg+xml": [
              "<?xml version=\"1.0\" encoding=\"utf-8\" standalone=\"no\"?>\n",
              "<!DOCTYPE svg PUBLIC \"-//W3C//DTD SVG 1.1//EN\"\n",
              "  \"http://www.w3.org/Graphics/SVG/1.1/DTD/svg11.dtd\">\n",
              "<!-- Created with matplotlib (https://matplotlib.org/) -->\n",
              "<svg height=\"244.485312pt\" version=\"1.1\" viewBox=\"0 0 358.260937 244.485312\" width=\"358.260937pt\" xmlns=\"http://www.w3.org/2000/svg\" xmlns:xlink=\"http://www.w3.org/1999/xlink\">\n",
              " <metadata>\n",
              "  <rdf:RDF xmlns:cc=\"http://creativecommons.org/ns#\" xmlns:dc=\"http://purl.org/dc/elements/1.1/\" xmlns:rdf=\"http://www.w3.org/1999/02/22-rdf-syntax-ns#\">\n",
              "   <cc:Work>\n",
              "    <dc:type rdf:resource=\"http://purl.org/dc/dcmitype/StillImage\"/>\n",
              "    <dc:date>2021-02-13T15:52:58.923966</dc:date>\n",
              "    <dc:format>image/svg+xml</dc:format>\n",
              "    <dc:creator>\n",
              "     <cc:Agent>\n",
              "      <dc:title>Matplotlib v3.3.3, https://matplotlib.org/</dc:title>\n",
              "     </cc:Agent>\n",
              "    </dc:creator>\n",
              "   </cc:Work>\n",
              "  </rdf:RDF>\n",
              " </metadata>\n",
              " <defs>\n",
              "  <style type=\"text/css\">*{stroke-linecap:butt;stroke-linejoin:round;}</style>\n",
              " </defs>\n",
              " <g id=\"figure_1\">\n",
              "  <g id=\"patch_1\">\n",
              "   <path d=\"M 0 244.485312 \n",
              "L 358.260937 244.485312 \n",
              "L 358.260937 0 \n",
              "L 0 0 \n",
              "z\n",
              "\" style=\"fill:#ffffff;\"/>\n",
              "  </g>\n",
              "  <g id=\"axes_1\">\n",
              "   <g id=\"patch_2\">\n",
              "    <path d=\"M 16.260937 224.64 \n",
              "L 351.060938 224.64 \n",
              "L 351.060938 7.2 \n",
              "L 16.260937 7.2 \n",
              "z\n",
              "\" style=\"fill:#ffffff;\"/>\n",
              "   </g>\n",
              "   <g id=\"matplotlib.axis_1\">\n",
              "    <g id=\"xtick_1\">\n",
              "     <g id=\"line2d_1\">\n",
              "      <path clip-path=\"url(#p4dfd0c854f)\" d=\"M 43.794919 224.64 \n",
              "L 43.794919 7.2 \n",
              "\" style=\"fill:none;stroke:#cccccc;stroke-linecap:round;stroke-width:0.8;\"/>\n",
              "     </g>\n",
              "     <g id=\"line2d_2\"/>\n",
              "     <g id=\"text_1\">\n",
              "      <!-- 2.5 -->\n",
              "      <g style=\"fill:#262626;\" transform=\"translate(36.844919 235.297812)scale(0.1 -0.1)\">\n",
              "       <defs>\n",
              "        <path d=\"M 50.34375 8.453125 \n",
              "L 50.34375 0 \n",
              "L 3.03125 0 \n",
              "Q 2.9375 3.171875 4.046875 6.109375 \n",
              "Q 5.859375 10.9375 9.828125 15.625 \n",
              "Q 13.8125 20.3125 21.34375 26.46875 \n",
              "Q 33.015625 36.03125 37.109375 41.625 \n",
              "Q 41.21875 47.21875 41.21875 52.203125 \n",
              "Q 41.21875 57.421875 37.46875 61 \n",
              "Q 33.734375 64.59375 27.734375 64.59375 \n",
              "Q 21.390625 64.59375 17.578125 60.78125 \n",
              "Q 13.765625 56.984375 13.71875 50.25 \n",
              "L 4.6875 51.171875 \n",
              "Q 5.609375 61.28125 11.65625 66.578125 \n",
              "Q 17.71875 71.875 27.9375 71.875 \n",
              "Q 38.234375 71.875 44.234375 66.15625 \n",
              "Q 50.25 60.453125 50.25 52 \n",
              "Q 50.25 47.703125 48.484375 43.546875 \n",
              "Q 46.734375 39.40625 42.65625 34.8125 \n",
              "Q 38.578125 30.21875 29.109375 22.21875 \n",
              "Q 21.1875 15.578125 18.9375 13.203125 \n",
              "Q 16.703125 10.84375 15.234375 8.453125 \n",
              "z\n",
              "\" id=\"ArialMT-50\"/>\n",
              "        <path d=\"M 9.078125 0 \n",
              "L 9.078125 10.015625 \n",
              "L 19.09375 10.015625 \n",
              "L 19.09375 0 \n",
              "z\n",
              "\" id=\"ArialMT-46\"/>\n",
              "        <path d=\"M 4.15625 18.75 \n",
              "L 13.375 19.53125 \n",
              "Q 14.40625 12.796875 18.140625 9.390625 \n",
              "Q 21.875 6 27.15625 6 \n",
              "Q 33.5 6 37.890625 10.78125 \n",
              "Q 42.28125 15.578125 42.28125 23.484375 \n",
              "Q 42.28125 31 38.0625 35.34375 \n",
              "Q 33.84375 39.703125 27 39.703125 \n",
              "Q 22.75 39.703125 19.328125 37.765625 \n",
              "Q 15.921875 35.84375 13.96875 32.765625 \n",
              "L 5.71875 33.84375 \n",
              "L 12.640625 70.609375 \n",
              "L 48.25 70.609375 \n",
              "L 48.25 62.203125 \n",
              "L 19.671875 62.203125 \n",
              "L 15.828125 42.96875 \n",
              "Q 22.265625 47.46875 29.34375 47.46875 \n",
              "Q 38.71875 47.46875 45.15625 40.96875 \n",
              "Q 51.609375 34.46875 51.609375 24.265625 \n",
              "Q 51.609375 14.546875 45.953125 7.46875 \n",
              "Q 39.0625 -1.21875 27.15625 -1.21875 \n",
              "Q 17.390625 -1.21875 11.203125 4.25 \n",
              "Q 5.03125 9.71875 4.15625 18.75 \n",
              "z\n",
              "\" id=\"ArialMT-53\"/>\n",
              "       </defs>\n",
              "       <use xlink:href=\"#ArialMT-50\"/>\n",
              "       <use x=\"55.615234\" xlink:href=\"#ArialMT-46\"/>\n",
              "       <use x=\"83.398438\" xlink:href=\"#ArialMT-53\"/>\n",
              "      </g>\n",
              "     </g>\n",
              "    </g>\n",
              "    <g id=\"xtick_2\">\n",
              "     <g id=\"line2d_3\">\n",
              "      <path clip-path=\"url(#p4dfd0c854f)\" d=\"M 89.406733 224.64 \n",
              "L 89.406733 7.2 \n",
              "\" style=\"fill:none;stroke:#cccccc;stroke-linecap:round;stroke-width:0.8;\"/>\n",
              "     </g>\n",
              "     <g id=\"line2d_4\"/>\n",
              "     <g id=\"text_2\">\n",
              "      <!-- 3.0 -->\n",
              "      <g style=\"fill:#262626;\" transform=\"translate(82.456733 235.297812)scale(0.1 -0.1)\">\n",
              "       <defs>\n",
              "        <path d=\"M 4.203125 18.890625 \n",
              "L 12.984375 20.0625 \n",
              "Q 14.5 12.59375 18.140625 9.296875 \n",
              "Q 21.78125 6 27 6 \n",
              "Q 33.203125 6 37.46875 10.296875 \n",
              "Q 41.75 14.59375 41.75 20.953125 \n",
              "Q 41.75 27 37.796875 30.921875 \n",
              "Q 33.84375 34.859375 27.734375 34.859375 \n",
              "Q 25.25 34.859375 21.53125 33.890625 \n",
              "L 22.515625 41.609375 \n",
              "Q 23.390625 41.5 23.921875 41.5 \n",
              "Q 29.546875 41.5 34.03125 44.421875 \n",
              "Q 38.53125 47.359375 38.53125 53.46875 \n",
              "Q 38.53125 58.296875 35.25 61.46875 \n",
              "Q 31.984375 64.65625 26.8125 64.65625 \n",
              "Q 21.6875 64.65625 18.265625 61.421875 \n",
              "Q 14.84375 58.203125 13.875 51.765625 \n",
              "L 5.078125 53.328125 \n",
              "Q 6.6875 62.15625 12.390625 67.015625 \n",
              "Q 18.109375 71.875 26.609375 71.875 \n",
              "Q 32.46875 71.875 37.390625 69.359375 \n",
              "Q 42.328125 66.84375 44.9375 62.5 \n",
              "Q 47.5625 58.15625 47.5625 53.265625 \n",
              "Q 47.5625 48.640625 45.0625 44.828125 \n",
              "Q 42.578125 41.015625 37.703125 38.765625 \n",
              "Q 44.046875 37.3125 47.5625 32.6875 \n",
              "Q 51.078125 28.078125 51.078125 21.140625 \n",
              "Q 51.078125 11.765625 44.234375 5.25 \n",
              "Q 37.40625 -1.265625 26.953125 -1.265625 \n",
              "Q 17.53125 -1.265625 11.296875 4.34375 \n",
              "Q 5.078125 9.96875 4.203125 18.890625 \n",
              "z\n",
              "\" id=\"ArialMT-51\"/>\n",
              "        <path d=\"M 4.15625 35.296875 \n",
              "Q 4.15625 48 6.765625 55.734375 \n",
              "Q 9.375 63.484375 14.515625 67.671875 \n",
              "Q 19.671875 71.875 27.484375 71.875 \n",
              "Q 33.25 71.875 37.59375 69.546875 \n",
              "Q 41.9375 67.234375 44.765625 62.859375 \n",
              "Q 47.609375 58.5 49.21875 52.21875 \n",
              "Q 50.828125 45.953125 50.828125 35.296875 \n",
              "Q 50.828125 22.703125 48.234375 14.96875 \n",
              "Q 45.65625 7.234375 40.5 3 \n",
              "Q 35.359375 -1.21875 27.484375 -1.21875 \n",
              "Q 17.140625 -1.21875 11.234375 6.203125 \n",
              "Q 4.15625 15.140625 4.15625 35.296875 \n",
              "z\n",
              "M 13.1875 35.296875 \n",
              "Q 13.1875 17.671875 17.3125 11.828125 \n",
              "Q 21.4375 6 27.484375 6 \n",
              "Q 33.546875 6 37.671875 11.859375 \n",
              "Q 41.796875 17.71875 41.796875 35.296875 \n",
              "Q 41.796875 52.984375 37.671875 58.78125 \n",
              "Q 33.546875 64.59375 27.390625 64.59375 \n",
              "Q 21.34375 64.59375 17.71875 59.46875 \n",
              "Q 13.1875 52.9375 13.1875 35.296875 \n",
              "z\n",
              "\" id=\"ArialMT-48\"/>\n",
              "       </defs>\n",
              "       <use xlink:href=\"#ArialMT-51\"/>\n",
              "       <use x=\"55.615234\" xlink:href=\"#ArialMT-46\"/>\n",
              "       <use x=\"83.398438\" xlink:href=\"#ArialMT-48\"/>\n",
              "      </g>\n",
              "     </g>\n",
              "    </g>\n",
              "    <g id=\"xtick_3\">\n",
              "     <g id=\"line2d_5\">\n",
              "      <path clip-path=\"url(#p4dfd0c854f)\" d=\"M 135.018547 224.64 \n",
              "L 135.018547 7.2 \n",
              "\" style=\"fill:none;stroke:#cccccc;stroke-linecap:round;stroke-width:0.8;\"/>\n",
              "     </g>\n",
              "     <g id=\"line2d_6\"/>\n",
              "     <g id=\"text_3\">\n",
              "      <!-- 3.5 -->\n",
              "      <g style=\"fill:#262626;\" transform=\"translate(128.068547 235.297812)scale(0.1 -0.1)\">\n",
              "       <use xlink:href=\"#ArialMT-51\"/>\n",
              "       <use x=\"55.615234\" xlink:href=\"#ArialMT-46\"/>\n",
              "       <use x=\"83.398438\" xlink:href=\"#ArialMT-53\"/>\n",
              "      </g>\n",
              "     </g>\n",
              "    </g>\n",
              "    <g id=\"xtick_4\">\n",
              "     <g id=\"line2d_7\">\n",
              "      <path clip-path=\"url(#p4dfd0c854f)\" d=\"M 180.630361 224.64 \n",
              "L 180.630361 7.2 \n",
              "\" style=\"fill:none;stroke:#cccccc;stroke-linecap:round;stroke-width:0.8;\"/>\n",
              "     </g>\n",
              "     <g id=\"line2d_8\"/>\n",
              "     <g id=\"text_4\">\n",
              "      <!-- 4.0 -->\n",
              "      <g style=\"fill:#262626;\" transform=\"translate(173.680361 235.297812)scale(0.1 -0.1)\">\n",
              "       <defs>\n",
              "        <path d=\"M 32.328125 0 \n",
              "L 32.328125 17.140625 \n",
              "L 1.265625 17.140625 \n",
              "L 1.265625 25.203125 \n",
              "L 33.9375 71.578125 \n",
              "L 41.109375 71.578125 \n",
              "L 41.109375 25.203125 \n",
              "L 50.78125 25.203125 \n",
              "L 50.78125 17.140625 \n",
              "L 41.109375 17.140625 \n",
              "L 41.109375 0 \n",
              "z\n",
              "M 32.328125 25.203125 \n",
              "L 32.328125 57.46875 \n",
              "L 9.90625 25.203125 \n",
              "z\n",
              "\" id=\"ArialMT-52\"/>\n",
              "       </defs>\n",
              "       <use xlink:href=\"#ArialMT-52\"/>\n",
              "       <use x=\"55.615234\" xlink:href=\"#ArialMT-46\"/>\n",
              "       <use x=\"83.398438\" xlink:href=\"#ArialMT-48\"/>\n",
              "      </g>\n",
              "     </g>\n",
              "    </g>\n",
              "    <g id=\"xtick_5\">\n",
              "     <g id=\"line2d_9\">\n",
              "      <path clip-path=\"url(#p4dfd0c854f)\" d=\"M 226.242175 224.64 \n",
              "L 226.242175 7.2 \n",
              "\" style=\"fill:none;stroke:#cccccc;stroke-linecap:round;stroke-width:0.8;\"/>\n",
              "     </g>\n",
              "     <g id=\"line2d_10\"/>\n",
              "     <g id=\"text_5\">\n",
              "      <!-- 4.5 -->\n",
              "      <g style=\"fill:#262626;\" transform=\"translate(219.292175 235.297812)scale(0.1 -0.1)\">\n",
              "       <use xlink:href=\"#ArialMT-52\"/>\n",
              "       <use x=\"55.615234\" xlink:href=\"#ArialMT-46\"/>\n",
              "       <use x=\"83.398438\" xlink:href=\"#ArialMT-53\"/>\n",
              "      </g>\n",
              "     </g>\n",
              "    </g>\n",
              "    <g id=\"xtick_6\">\n",
              "     <g id=\"line2d_11\">\n",
              "      <path clip-path=\"url(#p4dfd0c854f)\" d=\"M 271.853989 224.64 \n",
              "L 271.853989 7.2 \n",
              "\" style=\"fill:none;stroke:#cccccc;stroke-linecap:round;stroke-width:0.8;\"/>\n",
              "     </g>\n",
              "     <g id=\"line2d_12\"/>\n",
              "     <g id=\"text_6\">\n",
              "      <!-- 5.0 -->\n",
              "      <g style=\"fill:#262626;\" transform=\"translate(264.903989 235.297812)scale(0.1 -0.1)\">\n",
              "       <use xlink:href=\"#ArialMT-53\"/>\n",
              "       <use x=\"55.615234\" xlink:href=\"#ArialMT-46\"/>\n",
              "       <use x=\"83.398438\" xlink:href=\"#ArialMT-48\"/>\n",
              "      </g>\n",
              "     </g>\n",
              "    </g>\n",
              "    <g id=\"xtick_7\">\n",
              "     <g id=\"line2d_13\">\n",
              "      <path clip-path=\"url(#p4dfd0c854f)\" d=\"M 317.465803 224.64 \n",
              "L 317.465803 7.2 \n",
              "\" style=\"fill:none;stroke:#cccccc;stroke-linecap:round;stroke-width:0.8;\"/>\n",
              "     </g>\n",
              "     <g id=\"line2d_14\"/>\n",
              "     <g id=\"text_7\">\n",
              "      <!-- 5.5 -->\n",
              "      <g style=\"fill:#262626;\" transform=\"translate(310.515803 235.297812)scale(0.1 -0.1)\">\n",
              "       <use xlink:href=\"#ArialMT-53\"/>\n",
              "       <use x=\"55.615234\" xlink:href=\"#ArialMT-46\"/>\n",
              "       <use x=\"83.398438\" xlink:href=\"#ArialMT-53\"/>\n",
              "      </g>\n",
              "     </g>\n",
              "    </g>\n",
              "   </g>\n",
              "   <g id=\"matplotlib.axis_2\">\n",
              "    <g id=\"ytick_1\">\n",
              "     <g id=\"line2d_15\">\n",
              "      <path clip-path=\"url(#p4dfd0c854f)\" d=\"M 16.260937 186.95483 \n",
              "L 351.060938 186.95483 \n",
              "\" style=\"fill:none;stroke:#cccccc;stroke-linecap:round;stroke-width:0.8;\"/>\n",
              "     </g>\n",
              "     <g id=\"line2d_16\"/>\n",
              "     <g id=\"text_8\">\n",
              "      <!-- 0 -->\n",
              "      <g style=\"fill:#262626;\" transform=\"translate(7.2 190.533736)scale(0.1 -0.1)\">\n",
              "       <use xlink:href=\"#ArialMT-48\"/>\n",
              "      </g>\n",
              "     </g>\n",
              "    </g>\n",
              "    <g id=\"ytick_2\">\n",
              "     <g id=\"line2d_17\">\n",
              "      <path clip-path=\"url(#p4dfd0c854f)\" d=\"M 16.260937 139.003502 \n",
              "L 351.060938 139.003502 \n",
              "\" style=\"fill:none;stroke:#cccccc;stroke-linecap:round;stroke-width:0.8;\"/>\n",
              "     </g>\n",
              "     <g id=\"line2d_18\"/>\n",
              "     <g id=\"text_9\">\n",
              "      <!-- 1 -->\n",
              "      <g style=\"fill:#262626;\" transform=\"translate(7.2 142.582409)scale(0.1 -0.1)\">\n",
              "       <defs>\n",
              "        <path d=\"M 37.25 0 \n",
              "L 28.46875 0 \n",
              "L 28.46875 56 \n",
              "Q 25.296875 52.984375 20.140625 49.953125 \n",
              "Q 14.984375 46.921875 10.890625 45.40625 \n",
              "L 10.890625 53.90625 \n",
              "Q 18.265625 57.375 23.78125 62.296875 \n",
              "Q 29.296875 67.234375 31.59375 71.875 \n",
              "L 37.25 71.875 \n",
              "z\n",
              "\" id=\"ArialMT-49\"/>\n",
              "       </defs>\n",
              "       <use xlink:href=\"#ArialMT-49\"/>\n",
              "      </g>\n",
              "     </g>\n",
              "    </g>\n",
              "    <g id=\"ytick_3\">\n",
              "     <g id=\"line2d_19\">\n",
              "      <path clip-path=\"url(#p4dfd0c854f)\" d=\"M 16.260937 91.052175 \n",
              "L 351.060938 91.052175 \n",
              "\" style=\"fill:none;stroke:#cccccc;stroke-linecap:round;stroke-width:0.8;\"/>\n",
              "     </g>\n",
              "     <g id=\"line2d_20\"/>\n",
              "     <g id=\"text_10\">\n",
              "      <!-- 2 -->\n",
              "      <g style=\"fill:#262626;\" transform=\"translate(7.2 94.631081)scale(0.1 -0.1)\">\n",
              "       <use xlink:href=\"#ArialMT-50\"/>\n",
              "      </g>\n",
              "     </g>\n",
              "    </g>\n",
              "    <g id=\"ytick_4\">\n",
              "     <g id=\"line2d_21\">\n",
              "      <path clip-path=\"url(#p4dfd0c854f)\" d=\"M 16.260937 43.100848 \n",
              "L 351.060938 43.100848 \n",
              "\" style=\"fill:none;stroke:#cccccc;stroke-linecap:round;stroke-width:0.8;\"/>\n",
              "     </g>\n",
              "     <g id=\"line2d_22\"/>\n",
              "     <g id=\"text_11\">\n",
              "      <!-- 3 -->\n",
              "      <g style=\"fill:#262626;\" transform=\"translate(7.2 46.679754)scale(0.1 -0.1)\">\n",
              "       <use xlink:href=\"#ArialMT-51\"/>\n",
              "      </g>\n",
              "     </g>\n",
              "    </g>\n",
              "   </g>\n",
              "   <g id=\"PathCollection_1\">\n",
              "    <defs>\n",
              "     <path d=\"M 0 3 \n",
              "C 0.795609 3 1.55874 2.683901 2.12132 2.12132 \n",
              "C 2.683901 1.55874 3 0.795609 3 -0 \n",
              "C 3 -0.795609 2.683901 -1.55874 2.12132 -2.12132 \n",
              "C 1.55874 -2.683901 0.795609 -3 0 -3 \n",
              "C -0.795609 -3 -1.55874 -2.683901 -2.12132 -2.12132 \n",
              "C -2.683901 -1.55874 -3 -0.795609 -3 0 \n",
              "C -3 0.795609 -2.683901 1.55874 -2.12132 2.12132 \n",
              "C -1.55874 2.683901 -0.795609 3 0 3 \n",
              "z\n",
              "\" id=\"C0_0_5bbfbf4914\"/>\n",
              "    </defs>\n",
              "    <g clip-path=\"url(#p4dfd0c854f)\">\n",
              "     <use style=\"fill:#1f77b4;stroke:#1f77b4;\" x=\"31.479119\" xlink:href=\"#C0_0_5bbfbf4914\" y=\"214.756364\"/>\n",
              "    </g>\n",
              "    <g clip-path=\"url(#p4dfd0c854f)\">\n",
              "     <use style=\"fill:#d62728;stroke:#d62728;\" x=\"335.842756\" xlink:href=\"#C0_0_5bbfbf4914\" y=\"17.083636\"/>\n",
              "    </g>\n",
              "    <g clip-path=\"url(#p4dfd0c854f)\">\n",
              "     <use style=\"fill:#1f77b4;stroke:#1f77b4;\" x=\"296.5104\" xlink:href=\"#C0_0_5bbfbf4914\" y=\"83.570862\"/>\n",
              "    </g>\n",
              "    <g clip-path=\"url(#p4dfd0c854f)\">\n",
              "     <use style=\"fill:#1f77b4;stroke:#1f77b4;\" x=\"193.652605\" xlink:href=\"#C0_0_5bbfbf4914\" y=\"168.163221\"/>\n",
              "    </g>\n",
              "    <g clip-path=\"url(#p4dfd0c854f)\">\n",
              "     <use style=\"fill:#1f77b4;stroke:#1f77b4;\" x=\"174.344151\" xlink:href=\"#C0_0_5bbfbf4914\" y=\"145.143263\"/>\n",
              "    </g>\n",
              "    <g clip-path=\"url(#p4dfd0c854f)\">\n",
              "     <use style=\"fill:#d62728;stroke:#d62728;\" x=\"234.825017\" xlink:href=\"#C0_0_5bbfbf4914\" y=\"82.66224\"/>\n",
              "    </g>\n",
              "    <g clip-path=\"url(#p4dfd0c854f)\">\n",
              "     <use style=\"fill:#d62728;stroke:#d62728;\" x=\"138.36361\" xlink:href=\"#C0_0_5bbfbf4914\" y=\"146.443484\"/>\n",
              "    </g>\n",
              "    <g clip-path=\"url(#p4dfd0c854f)\">\n",
              "     <use style=\"fill:#d62728;stroke:#d62728;\" x=\"284.261538\" xlink:href=\"#C0_0_5bbfbf4914\" y=\"55.300782\"/>\n",
              "    </g>\n",
              "    <g clip-path=\"url(#p4dfd0c854f)\">\n",
              "     <use style=\"fill:#d62728;stroke:#d62728;\" x=\"218.022048\" xlink:href=\"#C0_0_5bbfbf4914\" y=\"105.293269\"/>\n",
              "    </g>\n",
              "    <g clip-path=\"url(#p4dfd0c854f)\">\n",
              "     <use style=\"fill:#d62728;stroke:#d62728;\" x=\"277.141727\" xlink:href=\"#C0_0_5bbfbf4914\" y=\"97.310177\"/>\n",
              "    </g>\n",
              "   </g>\n",
              "   <g id=\"patch_3\">\n",
              "    <path d=\"M 16.260937 224.64 \n",
              "L 16.260937 7.2 \n",
              "\" style=\"fill:none;stroke:#cccccc;stroke-linecap:square;stroke-linejoin:miter;\"/>\n",
              "   </g>\n",
              "   <g id=\"patch_4\">\n",
              "    <path d=\"M 351.060938 224.64 \n",
              "L 351.060938 7.2 \n",
              "\" style=\"fill:none;stroke:#cccccc;stroke-linecap:square;stroke-linejoin:miter;\"/>\n",
              "   </g>\n",
              "   <g id=\"patch_5\">\n",
              "    <path d=\"M 16.260938 224.64 \n",
              "L 351.060938 224.64 \n",
              "\" style=\"fill:none;stroke:#cccccc;stroke-linecap:square;stroke-linejoin:miter;\"/>\n",
              "   </g>\n",
              "   <g id=\"patch_6\">\n",
              "    <path d=\"M 16.260938 7.2 \n",
              "L 351.060938 7.2 \n",
              "\" style=\"fill:none;stroke:#cccccc;stroke-linecap:square;stroke-linejoin:miter;\"/>\n",
              "   </g>\n",
              "  </g>\n",
              " </g>\n",
              " <defs>\n",
              "  <clipPath id=\"p4dfd0c854f\">\n",
              "   <rect height=\"217.44\" width=\"334.8\" x=\"16.260937\" y=\"7.2\"/>\n",
              "  </clipPath>\n",
              " </defs>\n",
              "</svg>\n"
            ],
            "text/plain": [
              "<Figure size 432x288 with 1 Axes>"
            ]
          },
          "metadata": {},
          "output_type": "display_data"
        }
      ]
    },
    {
      "cell_type": "markdown",
      "metadata": {
        "id": "p7Ie4O92a_2d"
      },
      "source": [
        "Построим для данной задачи модель логистической регрессии методом градиентного спуска.\n",
        "\n",
        "Для начала отмасштабируем наши данные, чтобы значения каждого признака попадали в интервал $[0, 1]$. Это немного упростит процесс оптимизации."
      ]
    },
    {
      "cell_type": "code",
      "metadata": {
        "execution": {
          "iopub.execute_input": "2021-02-13T12:52:58.969989Z",
          "iopub.status.busy": "2021-02-13T12:52:58.969221Z",
          "iopub.status.idle": "2021-02-13T12:52:58.972636Z",
          "shell.execute_reply": "2021-02-13T12:52:58.971853Z"
        },
        "id": "5KhOGlsqa_2d",
        "outputId": "6c4e9705-e8d9-41c6-a465-42eb8afe62e2"
      },
      "source": [
        "samples = (samples - samples.min(axis=0)) / (samples.max(axis=0) - samples.min(axis=0))\n",
        "\n",
        "samples"
      ],
      "execution_count": null,
      "outputs": [
        {
          "data": {
            "text/plain": [
              "array([[0.        , 0.        ],\n",
              "       [1.        , 1.        ],\n",
              "       [0.87077183, 0.66364998],\n",
              "       [0.53282806, 0.2357085 ],\n",
              "       [0.46938929, 0.3521634 ],\n",
              "       [0.66810181, 0.66824658],\n",
              "       [0.35117366, 0.34558576],\n",
              "       [0.83052766, 0.80666455],\n",
              "       [0.61289493, 0.55375922],\n",
              "       [0.80713521, 0.59414462]])"
            ]
          },
          "execution_count": 1,
          "metadata": {},
          "output_type": "execute_result"
        }
      ]
    },
    {
      "cell_type": "code",
      "metadata": {
        "execution": {
          "iopub.execute_input": "2021-02-13T12:52:58.998296Z",
          "iopub.status.busy": "2021-02-13T12:52:58.997576Z",
          "iopub.status.idle": "2021-02-13T12:52:59.123920Z",
          "shell.execute_reply": "2021-02-13T12:52:59.125023Z"
        },
        "id": "XvM7XE30a_2d",
        "outputId": "ade20c21-e00e-4d8d-e60f-9e01f182ed42"
      },
      "source": [
        "plt.scatter(samples[:, 0], samples[:, 1], color=color)"
      ],
      "execution_count": null,
      "outputs": [
        {
          "data": {
            "text/plain": [
              "<matplotlib.collections.PathCollection at 0x12b382d30>"
            ]
          },
          "execution_count": 1,
          "metadata": {},
          "output_type": "execute_result"
        },
        {
          "data": {
            "image/svg+xml": [
              "<?xml version=\"1.0\" encoding=\"utf-8\" standalone=\"no\"?>\n",
              "<!DOCTYPE svg PUBLIC \"-//W3C//DTD SVG 1.1//EN\"\n",
              "  \"http://www.w3.org/Graphics/SVG/1.1/DTD/svg11.dtd\">\n",
              "<!-- Created with matplotlib (https://matplotlib.org/) -->\n",
              "<svg height=\"244.485312pt\" version=\"1.1\" viewBox=\"0 0 366.6 244.485312\" width=\"366.6pt\" xmlns=\"http://www.w3.org/2000/svg\" xmlns:xlink=\"http://www.w3.org/1999/xlink\">\n",
              " <metadata>\n",
              "  <rdf:RDF xmlns:cc=\"http://creativecommons.org/ns#\" xmlns:dc=\"http://purl.org/dc/elements/1.1/\" xmlns:rdf=\"http://www.w3.org/1999/02/22-rdf-syntax-ns#\">\n",
              "   <cc:Work>\n",
              "    <dc:type rdf:resource=\"http://purl.org/dc/dcmitype/StillImage\"/>\n",
              "    <dc:date>2021-02-13T15:52:59.072444</dc:date>\n",
              "    <dc:format>image/svg+xml</dc:format>\n",
              "    <dc:creator>\n",
              "     <cc:Agent>\n",
              "      <dc:title>Matplotlib v3.3.3, https://matplotlib.org/</dc:title>\n",
              "     </cc:Agent>\n",
              "    </dc:creator>\n",
              "   </cc:Work>\n",
              "  </rdf:RDF>\n",
              " </metadata>\n",
              " <defs>\n",
              "  <style type=\"text/css\">*{stroke-linecap:butt;stroke-linejoin:round;}</style>\n",
              " </defs>\n",
              " <g id=\"figure_1\">\n",
              "  <g id=\"patch_1\">\n",
              "   <path d=\"M 0 244.485312 \n",
              "L 366.6 244.485312 \n",
              "L 366.6 0 \n",
              "L 0 0 \n",
              "z\n",
              "\" style=\"fill:#ffffff;\"/>\n",
              "  </g>\n",
              "  <g id=\"axes_1\">\n",
              "   <g id=\"patch_2\">\n",
              "    <path d=\"M 24.6 224.64 \n",
              "L 359.4 224.64 \n",
              "L 359.4 7.2 \n",
              "L 24.6 7.2 \n",
              "z\n",
              "\" style=\"fill:#ffffff;\"/>\n",
              "   </g>\n",
              "   <g id=\"matplotlib.axis_1\">\n",
              "    <g id=\"xtick_1\">\n",
              "     <g id=\"line2d_1\">\n",
              "      <path clip-path=\"url(#p2aa913ef10)\" d=\"M 39.818182 224.64 \n",
              "L 39.818182 7.2 \n",
              "\" style=\"fill:none;stroke:#cccccc;stroke-linecap:round;stroke-width:0.8;\"/>\n",
              "     </g>\n",
              "     <g id=\"line2d_2\"/>\n",
              "     <g id=\"text_1\">\n",
              "      <!-- 0.0 -->\n",
              "      <g style=\"fill:#262626;\" transform=\"translate(32.868182 235.297812)scale(0.1 -0.1)\">\n",
              "       <defs>\n",
              "        <path d=\"M 4.15625 35.296875 \n",
              "Q 4.15625 48 6.765625 55.734375 \n",
              "Q 9.375 63.484375 14.515625 67.671875 \n",
              "Q 19.671875 71.875 27.484375 71.875 \n",
              "Q 33.25 71.875 37.59375 69.546875 \n",
              "Q 41.9375 67.234375 44.765625 62.859375 \n",
              "Q 47.609375 58.5 49.21875 52.21875 \n",
              "Q 50.828125 45.953125 50.828125 35.296875 \n",
              "Q 50.828125 22.703125 48.234375 14.96875 \n",
              "Q 45.65625 7.234375 40.5 3 \n",
              "Q 35.359375 -1.21875 27.484375 -1.21875 \n",
              "Q 17.140625 -1.21875 11.234375 6.203125 \n",
              "Q 4.15625 15.140625 4.15625 35.296875 \n",
              "z\n",
              "M 13.1875 35.296875 \n",
              "Q 13.1875 17.671875 17.3125 11.828125 \n",
              "Q 21.4375 6 27.484375 6 \n",
              "Q 33.546875 6 37.671875 11.859375 \n",
              "Q 41.796875 17.71875 41.796875 35.296875 \n",
              "Q 41.796875 52.984375 37.671875 58.78125 \n",
              "Q 33.546875 64.59375 27.390625 64.59375 \n",
              "Q 21.34375 64.59375 17.71875 59.46875 \n",
              "Q 13.1875 52.9375 13.1875 35.296875 \n",
              "z\n",
              "\" id=\"ArialMT-48\"/>\n",
              "        <path d=\"M 9.078125 0 \n",
              "L 9.078125 10.015625 \n",
              "L 19.09375 10.015625 \n",
              "L 19.09375 0 \n",
              "z\n",
              "\" id=\"ArialMT-46\"/>\n",
              "       </defs>\n",
              "       <use xlink:href=\"#ArialMT-48\"/>\n",
              "       <use x=\"55.615234\" xlink:href=\"#ArialMT-46\"/>\n",
              "       <use x=\"83.398438\" xlink:href=\"#ArialMT-48\"/>\n",
              "      </g>\n",
              "     </g>\n",
              "    </g>\n",
              "    <g id=\"xtick_2\">\n",
              "     <g id=\"line2d_3\">\n",
              "      <path clip-path=\"url(#p2aa913ef10)\" d=\"M 100.690909 224.64 \n",
              "L 100.690909 7.2 \n",
              "\" style=\"fill:none;stroke:#cccccc;stroke-linecap:round;stroke-width:0.8;\"/>\n",
              "     </g>\n",
              "     <g id=\"line2d_4\"/>\n",
              "     <g id=\"text_2\">\n",
              "      <!-- 0.2 -->\n",
              "      <g style=\"fill:#262626;\" transform=\"translate(93.740909 235.297812)scale(0.1 -0.1)\">\n",
              "       <defs>\n",
              "        <path d=\"M 50.34375 8.453125 \n",
              "L 50.34375 0 \n",
              "L 3.03125 0 \n",
              "Q 2.9375 3.171875 4.046875 6.109375 \n",
              "Q 5.859375 10.9375 9.828125 15.625 \n",
              "Q 13.8125 20.3125 21.34375 26.46875 \n",
              "Q 33.015625 36.03125 37.109375 41.625 \n",
              "Q 41.21875 47.21875 41.21875 52.203125 \n",
              "Q 41.21875 57.421875 37.46875 61 \n",
              "Q 33.734375 64.59375 27.734375 64.59375 \n",
              "Q 21.390625 64.59375 17.578125 60.78125 \n",
              "Q 13.765625 56.984375 13.71875 50.25 \n",
              "L 4.6875 51.171875 \n",
              "Q 5.609375 61.28125 11.65625 66.578125 \n",
              "Q 17.71875 71.875 27.9375 71.875 \n",
              "Q 38.234375 71.875 44.234375 66.15625 \n",
              "Q 50.25 60.453125 50.25 52 \n",
              "Q 50.25 47.703125 48.484375 43.546875 \n",
              "Q 46.734375 39.40625 42.65625 34.8125 \n",
              "Q 38.578125 30.21875 29.109375 22.21875 \n",
              "Q 21.1875 15.578125 18.9375 13.203125 \n",
              "Q 16.703125 10.84375 15.234375 8.453125 \n",
              "z\n",
              "\" id=\"ArialMT-50\"/>\n",
              "       </defs>\n",
              "       <use xlink:href=\"#ArialMT-48\"/>\n",
              "       <use x=\"55.615234\" xlink:href=\"#ArialMT-46\"/>\n",
              "       <use x=\"83.398438\" xlink:href=\"#ArialMT-50\"/>\n",
              "      </g>\n",
              "     </g>\n",
              "    </g>\n",
              "    <g id=\"xtick_3\">\n",
              "     <g id=\"line2d_5\">\n",
              "      <path clip-path=\"url(#p2aa913ef10)\" d=\"M 161.563636 224.64 \n",
              "L 161.563636 7.2 \n",
              "\" style=\"fill:none;stroke:#cccccc;stroke-linecap:round;stroke-width:0.8;\"/>\n",
              "     </g>\n",
              "     <g id=\"line2d_6\"/>\n",
              "     <g id=\"text_3\">\n",
              "      <!-- 0.4 -->\n",
              "      <g style=\"fill:#262626;\" transform=\"translate(154.613636 235.297812)scale(0.1 -0.1)\">\n",
              "       <defs>\n",
              "        <path d=\"M 32.328125 0 \n",
              "L 32.328125 17.140625 \n",
              "L 1.265625 17.140625 \n",
              "L 1.265625 25.203125 \n",
              "L 33.9375 71.578125 \n",
              "L 41.109375 71.578125 \n",
              "L 41.109375 25.203125 \n",
              "L 50.78125 25.203125 \n",
              "L 50.78125 17.140625 \n",
              "L 41.109375 17.140625 \n",
              "L 41.109375 0 \n",
              "z\n",
              "M 32.328125 25.203125 \n",
              "L 32.328125 57.46875 \n",
              "L 9.90625 25.203125 \n",
              "z\n",
              "\" id=\"ArialMT-52\"/>\n",
              "       </defs>\n",
              "       <use xlink:href=\"#ArialMT-48\"/>\n",
              "       <use x=\"55.615234\" xlink:href=\"#ArialMT-46\"/>\n",
              "       <use x=\"83.398438\" xlink:href=\"#ArialMT-52\"/>\n",
              "      </g>\n",
              "     </g>\n",
              "    </g>\n",
              "    <g id=\"xtick_4\">\n",
              "     <g id=\"line2d_7\">\n",
              "      <path clip-path=\"url(#p2aa913ef10)\" d=\"M 222.436364 224.64 \n",
              "L 222.436364 7.2 \n",
              "\" style=\"fill:none;stroke:#cccccc;stroke-linecap:round;stroke-width:0.8;\"/>\n",
              "     </g>\n",
              "     <g id=\"line2d_8\"/>\n",
              "     <g id=\"text_4\">\n",
              "      <!-- 0.6 -->\n",
              "      <g style=\"fill:#262626;\" transform=\"translate(215.486364 235.297812)scale(0.1 -0.1)\">\n",
              "       <defs>\n",
              "        <path d=\"M 49.75 54.046875 \n",
              "L 41.015625 53.375 \n",
              "Q 39.84375 58.546875 37.703125 60.890625 \n",
              "Q 34.125 64.65625 28.90625 64.65625 \n",
              "Q 24.703125 64.65625 21.53125 62.3125 \n",
              "Q 17.390625 59.28125 14.984375 53.46875 \n",
              "Q 12.59375 47.65625 12.5 36.921875 \n",
              "Q 15.671875 41.75 20.265625 44.09375 \n",
              "Q 24.859375 46.4375 29.890625 46.4375 \n",
              "Q 38.671875 46.4375 44.84375 39.96875 \n",
              "Q 51.03125 33.5 51.03125 23.25 \n",
              "Q 51.03125 16.5 48.125 10.71875 \n",
              "Q 45.21875 4.9375 40.140625 1.859375 \n",
              "Q 35.0625 -1.21875 28.609375 -1.21875 \n",
              "Q 17.625 -1.21875 10.6875 6.859375 \n",
              "Q 3.765625 14.9375 3.765625 33.5 \n",
              "Q 3.765625 54.25 11.421875 63.671875 \n",
              "Q 18.109375 71.875 29.4375 71.875 \n",
              "Q 37.890625 71.875 43.28125 67.140625 \n",
              "Q 48.6875 62.40625 49.75 54.046875 \n",
              "z\n",
              "M 13.875 23.1875 \n",
              "Q 13.875 18.65625 15.796875 14.5 \n",
              "Q 17.71875 10.359375 21.1875 8.171875 \n",
              "Q 24.65625 6 28.46875 6 \n",
              "Q 34.03125 6 38.03125 10.484375 \n",
              "Q 42.046875 14.984375 42.046875 22.703125 \n",
              "Q 42.046875 30.125 38.078125 34.390625 \n",
              "Q 34.125 38.671875 28.125 38.671875 \n",
              "Q 22.171875 38.671875 18.015625 34.390625 \n",
              "Q 13.875 30.125 13.875 23.1875 \n",
              "z\n",
              "\" id=\"ArialMT-54\"/>\n",
              "       </defs>\n",
              "       <use xlink:href=\"#ArialMT-48\"/>\n",
              "       <use x=\"55.615234\" xlink:href=\"#ArialMT-46\"/>\n",
              "       <use x=\"83.398438\" xlink:href=\"#ArialMT-54\"/>\n",
              "      </g>\n",
              "     </g>\n",
              "    </g>\n",
              "    <g id=\"xtick_5\">\n",
              "     <g id=\"line2d_9\">\n",
              "      <path clip-path=\"url(#p2aa913ef10)\" d=\"M 283.309091 224.64 \n",
              "L 283.309091 7.2 \n",
              "\" style=\"fill:none;stroke:#cccccc;stroke-linecap:round;stroke-width:0.8;\"/>\n",
              "     </g>\n",
              "     <g id=\"line2d_10\"/>\n",
              "     <g id=\"text_5\">\n",
              "      <!-- 0.8 -->\n",
              "      <g style=\"fill:#262626;\" transform=\"translate(276.359091 235.297812)scale(0.1 -0.1)\">\n",
              "       <defs>\n",
              "        <path d=\"M 17.671875 38.8125 \n",
              "Q 12.203125 40.828125 9.5625 44.53125 \n",
              "Q 6.9375 48.25 6.9375 53.421875 \n",
              "Q 6.9375 61.234375 12.546875 66.546875 \n",
              "Q 18.171875 71.875 27.484375 71.875 \n",
              "Q 36.859375 71.875 42.578125 66.421875 \n",
              "Q 48.296875 60.984375 48.296875 53.171875 \n",
              "Q 48.296875 48.1875 45.671875 44.5 \n",
              "Q 43.0625 40.828125 37.75 38.8125 \n",
              "Q 44.34375 36.671875 47.78125 31.875 \n",
              "Q 51.21875 27.09375 51.21875 20.453125 \n",
              "Q 51.21875 11.28125 44.71875 5.03125 \n",
              "Q 38.234375 -1.21875 27.640625 -1.21875 \n",
              "Q 17.046875 -1.21875 10.546875 5.046875 \n",
              "Q 4.046875 11.328125 4.046875 20.703125 \n",
              "Q 4.046875 27.6875 7.59375 32.390625 \n",
              "Q 11.140625 37.109375 17.671875 38.8125 \n",
              "z\n",
              "M 15.921875 53.71875 \n",
              "Q 15.921875 48.640625 19.1875 45.40625 \n",
              "Q 22.46875 42.1875 27.6875 42.1875 \n",
              "Q 32.765625 42.1875 36.015625 45.375 \n",
              "Q 39.265625 48.578125 39.265625 53.21875 \n",
              "Q 39.265625 58.0625 35.90625 61.359375 \n",
              "Q 32.5625 64.65625 27.59375 64.65625 \n",
              "Q 22.5625 64.65625 19.234375 61.421875 \n",
              "Q 15.921875 58.203125 15.921875 53.71875 \n",
              "z\n",
              "M 13.09375 20.65625 \n",
              "Q 13.09375 16.890625 14.875 13.375 \n",
              "Q 16.65625 9.859375 20.171875 7.921875 \n",
              "Q 23.6875 6 27.734375 6 \n",
              "Q 34.03125 6 38.125 10.046875 \n",
              "Q 42.234375 14.109375 42.234375 20.359375 \n",
              "Q 42.234375 26.703125 38.015625 30.859375 \n",
              "Q 33.796875 35.015625 27.4375 35.015625 \n",
              "Q 21.234375 35.015625 17.15625 30.90625 \n",
              "Q 13.09375 26.8125 13.09375 20.65625 \n",
              "z\n",
              "\" id=\"ArialMT-56\"/>\n",
              "       </defs>\n",
              "       <use xlink:href=\"#ArialMT-48\"/>\n",
              "       <use x=\"55.615234\" xlink:href=\"#ArialMT-46\"/>\n",
              "       <use x=\"83.398438\" xlink:href=\"#ArialMT-56\"/>\n",
              "      </g>\n",
              "     </g>\n",
              "    </g>\n",
              "    <g id=\"xtick_6\">\n",
              "     <g id=\"line2d_11\">\n",
              "      <path clip-path=\"url(#p2aa913ef10)\" d=\"M 344.181818 224.64 \n",
              "L 344.181818 7.2 \n",
              "\" style=\"fill:none;stroke:#cccccc;stroke-linecap:round;stroke-width:0.8;\"/>\n",
              "     </g>\n",
              "     <g id=\"line2d_12\"/>\n",
              "     <g id=\"text_6\">\n",
              "      <!-- 1.0 -->\n",
              "      <g style=\"fill:#262626;\" transform=\"translate(337.231818 235.297812)scale(0.1 -0.1)\">\n",
              "       <defs>\n",
              "        <path d=\"M 37.25 0 \n",
              "L 28.46875 0 \n",
              "L 28.46875 56 \n",
              "Q 25.296875 52.984375 20.140625 49.953125 \n",
              "Q 14.984375 46.921875 10.890625 45.40625 \n",
              "L 10.890625 53.90625 \n",
              "Q 18.265625 57.375 23.78125 62.296875 \n",
              "Q 29.296875 67.234375 31.59375 71.875 \n",
              "L 37.25 71.875 \n",
              "z\n",
              "\" id=\"ArialMT-49\"/>\n",
              "       </defs>\n",
              "       <use xlink:href=\"#ArialMT-49\"/>\n",
              "       <use x=\"55.615234\" xlink:href=\"#ArialMT-46\"/>\n",
              "       <use x=\"83.398438\" xlink:href=\"#ArialMT-48\"/>\n",
              "      </g>\n",
              "     </g>\n",
              "    </g>\n",
              "   </g>\n",
              "   <g id=\"matplotlib.axis_2\">\n",
              "    <g id=\"ytick_1\">\n",
              "     <g id=\"line2d_13\">\n",
              "      <path clip-path=\"url(#p2aa913ef10)\" d=\"M 24.6 214.756364 \n",
              "L 359.4 214.756364 \n",
              "\" style=\"fill:none;stroke:#cccccc;stroke-linecap:round;stroke-width:0.8;\"/>\n",
              "     </g>\n",
              "     <g id=\"line2d_14\"/>\n",
              "     <g id=\"text_7\">\n",
              "      <!-- 0.0 -->\n",
              "      <g style=\"fill:#262626;\" transform=\"translate(7.2 218.33527)scale(0.1 -0.1)\">\n",
              "       <use xlink:href=\"#ArialMT-48\"/>\n",
              "       <use x=\"55.615234\" xlink:href=\"#ArialMT-46\"/>\n",
              "       <use x=\"83.398438\" xlink:href=\"#ArialMT-48\"/>\n",
              "      </g>\n",
              "     </g>\n",
              "    </g>\n",
              "    <g id=\"ytick_2\">\n",
              "     <g id=\"line2d_15\">\n",
              "      <path clip-path=\"url(#p2aa913ef10)\" d=\"M 24.6 175.221818 \n",
              "L 359.4 175.221818 \n",
              "\" style=\"fill:none;stroke:#cccccc;stroke-linecap:round;stroke-width:0.8;\"/>\n",
              "     </g>\n",
              "     <g id=\"line2d_16\"/>\n",
              "     <g id=\"text_8\">\n",
              "      <!-- 0.2 -->\n",
              "      <g style=\"fill:#262626;\" transform=\"translate(7.2 178.800724)scale(0.1 -0.1)\">\n",
              "       <use xlink:href=\"#ArialMT-48\"/>\n",
              "       <use x=\"55.615234\" xlink:href=\"#ArialMT-46\"/>\n",
              "       <use x=\"83.398438\" xlink:href=\"#ArialMT-50\"/>\n",
              "      </g>\n",
              "     </g>\n",
              "    </g>\n",
              "    <g id=\"ytick_3\">\n",
              "     <g id=\"line2d_17\">\n",
              "      <path clip-path=\"url(#p2aa913ef10)\" d=\"M 24.6 135.687273 \n",
              "L 359.4 135.687273 \n",
              "\" style=\"fill:none;stroke:#cccccc;stroke-linecap:round;stroke-width:0.8;\"/>\n",
              "     </g>\n",
              "     <g id=\"line2d_18\"/>\n",
              "     <g id=\"text_9\">\n",
              "      <!-- 0.4 -->\n",
              "      <g style=\"fill:#262626;\" transform=\"translate(7.2 139.266179)scale(0.1 -0.1)\">\n",
              "       <use xlink:href=\"#ArialMT-48\"/>\n",
              "       <use x=\"55.615234\" xlink:href=\"#ArialMT-46\"/>\n",
              "       <use x=\"83.398438\" xlink:href=\"#ArialMT-52\"/>\n",
              "      </g>\n",
              "     </g>\n",
              "    </g>\n",
              "    <g id=\"ytick_4\">\n",
              "     <g id=\"line2d_19\">\n",
              "      <path clip-path=\"url(#p2aa913ef10)\" d=\"M 24.6 96.152727 \n",
              "L 359.4 96.152727 \n",
              "\" style=\"fill:none;stroke:#cccccc;stroke-linecap:round;stroke-width:0.8;\"/>\n",
              "     </g>\n",
              "     <g id=\"line2d_20\"/>\n",
              "     <g id=\"text_10\">\n",
              "      <!-- 0.6 -->\n",
              "      <g style=\"fill:#262626;\" transform=\"translate(7.2 99.731634)scale(0.1 -0.1)\">\n",
              "       <use xlink:href=\"#ArialMT-48\"/>\n",
              "       <use x=\"55.615234\" xlink:href=\"#ArialMT-46\"/>\n",
              "       <use x=\"83.398438\" xlink:href=\"#ArialMT-54\"/>\n",
              "      </g>\n",
              "     </g>\n",
              "    </g>\n",
              "    <g id=\"ytick_5\">\n",
              "     <g id=\"line2d_21\">\n",
              "      <path clip-path=\"url(#p2aa913ef10)\" d=\"M 24.6 56.618182 \n",
              "L 359.4 56.618182 \n",
              "\" style=\"fill:none;stroke:#cccccc;stroke-linecap:round;stroke-width:0.8;\"/>\n",
              "     </g>\n",
              "     <g id=\"line2d_22\"/>\n",
              "     <g id=\"text_11\">\n",
              "      <!-- 0.8 -->\n",
              "      <g style=\"fill:#262626;\" transform=\"translate(7.2 60.197088)scale(0.1 -0.1)\">\n",
              "       <use xlink:href=\"#ArialMT-48\"/>\n",
              "       <use x=\"55.615234\" xlink:href=\"#ArialMT-46\"/>\n",
              "       <use x=\"83.398438\" xlink:href=\"#ArialMT-56\"/>\n",
              "      </g>\n",
              "     </g>\n",
              "    </g>\n",
              "    <g id=\"ytick_6\">\n",
              "     <g id=\"line2d_23\">\n",
              "      <path clip-path=\"url(#p2aa913ef10)\" d=\"M 24.6 17.083636 \n",
              "L 359.4 17.083636 \n",
              "\" style=\"fill:none;stroke:#cccccc;stroke-linecap:round;stroke-width:0.8;\"/>\n",
              "     </g>\n",
              "     <g id=\"line2d_24\"/>\n",
              "     <g id=\"text_12\">\n",
              "      <!-- 1.0 -->\n",
              "      <g style=\"fill:#262626;\" transform=\"translate(7.2 20.662543)scale(0.1 -0.1)\">\n",
              "       <use xlink:href=\"#ArialMT-49\"/>\n",
              "       <use x=\"55.615234\" xlink:href=\"#ArialMT-46\"/>\n",
              "       <use x=\"83.398438\" xlink:href=\"#ArialMT-48\"/>\n",
              "      </g>\n",
              "     </g>\n",
              "    </g>\n",
              "   </g>\n",
              "   <g id=\"PathCollection_1\">\n",
              "    <defs>\n",
              "     <path d=\"M 0 3 \n",
              "C 0.795609 3 1.55874 2.683901 2.12132 2.12132 \n",
              "C 2.683901 1.55874 3 0.795609 3 -0 \n",
              "C 3 -0.795609 2.683901 -1.55874 2.12132 -2.12132 \n",
              "C 1.55874 -2.683901 0.795609 -3 0 -3 \n",
              "C -0.795609 -3 -1.55874 -2.683901 -2.12132 -2.12132 \n",
              "C -2.683901 -1.55874 -3 -0.795609 -3 0 \n",
              "C -3 0.795609 -2.683901 1.55874 -2.12132 2.12132 \n",
              "C -1.55874 2.683901 -0.795609 3 0 3 \n",
              "z\n",
              "\" id=\"C0_0_f792676b7e\"/>\n",
              "    </defs>\n",
              "    <g clip-path=\"url(#p2aa913ef10)\">\n",
              "     <use style=\"fill:#1f77b4;stroke:#1f77b4;\" x=\"39.818182\" xlink:href=\"#C0_0_f792676b7e\" y=\"214.756364\"/>\n",
              "    </g>\n",
              "    <g clip-path=\"url(#p2aa913ef10)\">\n",
              "     <use style=\"fill:#d62728;stroke:#d62728;\" x=\"344.181818\" xlink:href=\"#C0_0_f792676b7e\" y=\"17.083636\"/>\n",
              "    </g>\n",
              "    <g clip-path=\"url(#p2aa913ef10)\">\n",
              "     <use style=\"fill:#1f77b4;stroke:#1f77b4;\" x=\"304.849463\" xlink:href=\"#C0_0_f792676b7e\" y=\"83.570862\"/>\n",
              "    </g>\n",
              "    <g clip-path=\"url(#p2aa913ef10)\">\n",
              "     <use style=\"fill:#1f77b4;stroke:#1f77b4;\" x=\"201.991668\" xlink:href=\"#C0_0_f792676b7e\" y=\"168.163221\"/>\n",
              "    </g>\n",
              "    <g clip-path=\"url(#p2aa913ef10)\">\n",
              "     <use style=\"fill:#1f77b4;stroke:#1f77b4;\" x=\"182.683214\" xlink:href=\"#C0_0_f792676b7e\" y=\"145.143263\"/>\n",
              "    </g>\n",
              "    <g clip-path=\"url(#p2aa913ef10)\">\n",
              "     <use style=\"fill:#d62728;stroke:#d62728;\" x=\"243.164079\" xlink:href=\"#C0_0_f792676b7e\" y=\"82.66224\"/>\n",
              "    </g>\n",
              "    <g clip-path=\"url(#p2aa913ef10)\">\n",
              "     <use style=\"fill:#d62728;stroke:#d62728;\" x=\"146.702673\" xlink:href=\"#C0_0_f792676b7e\" y=\"146.443484\"/>\n",
              "    </g>\n",
              "    <g clip-path=\"url(#p2aa913ef10)\">\n",
              "     <use style=\"fill:#d62728;stroke:#d62728;\" x=\"292.600601\" xlink:href=\"#C0_0_f792676b7e\" y=\"55.300782\"/>\n",
              "    </g>\n",
              "    <g clip-path=\"url(#p2aa913ef10)\">\n",
              "     <use style=\"fill:#d62728;stroke:#d62728;\" x=\"226.36111\" xlink:href=\"#C0_0_f792676b7e\" y=\"105.293269\"/>\n",
              "    </g>\n",
              "    <g clip-path=\"url(#p2aa913ef10)\">\n",
              "     <use style=\"fill:#d62728;stroke:#d62728;\" x=\"285.480789\" xlink:href=\"#C0_0_f792676b7e\" y=\"97.310177\"/>\n",
              "    </g>\n",
              "   </g>\n",
              "   <g id=\"patch_3\">\n",
              "    <path d=\"M 24.6 224.64 \n",
              "L 24.6 7.2 \n",
              "\" style=\"fill:none;stroke:#cccccc;stroke-linecap:square;stroke-linejoin:miter;\"/>\n",
              "   </g>\n",
              "   <g id=\"patch_4\">\n",
              "    <path d=\"M 359.4 224.64 \n",
              "L 359.4 7.2 \n",
              "\" style=\"fill:none;stroke:#cccccc;stroke-linecap:square;stroke-linejoin:miter;\"/>\n",
              "   </g>\n",
              "   <g id=\"patch_5\">\n",
              "    <path d=\"M 24.6 224.64 \n",
              "L 359.4 224.64 \n",
              "\" style=\"fill:none;stroke:#cccccc;stroke-linecap:square;stroke-linejoin:miter;\"/>\n",
              "   </g>\n",
              "   <g id=\"patch_6\">\n",
              "    <path d=\"M 24.6 7.2 \n",
              "L 359.4 7.2 \n",
              "\" style=\"fill:none;stroke:#cccccc;stroke-linecap:square;stroke-linejoin:miter;\"/>\n",
              "   </g>\n",
              "  </g>\n",
              " </g>\n",
              " <defs>\n",
              "  <clipPath id=\"p2aa913ef10\">\n",
              "   <rect height=\"217.44\" width=\"334.8\" x=\"24.6\" y=\"7.2\"/>\n",
              "  </clipPath>\n",
              " </defs>\n",
              "</svg>\n"
            ],
            "text/plain": [
              "<Figure size 432x288 with 1 Axes>"
            ]
          },
          "metadata": {},
          "output_type": "display_data"
        }
      ]
    },
    {
      "cell_type": "markdown",
      "metadata": {
        "id": "4YowOiYNa_2t"
      },
      "source": [
        "Добавим столбец «фиктивного» фактора:"
      ]
    },
    {
      "cell_type": "code",
      "metadata": {
        "execution": {
          "iopub.execute_input": "2021-02-13T12:52:59.132528Z",
          "iopub.status.busy": "2021-02-13T12:52:59.131433Z",
          "iopub.status.idle": "2021-02-13T12:52:59.134993Z",
          "shell.execute_reply": "2021-02-13T12:52:59.135835Z"
        },
        "id": "C586i29ja_2t",
        "outputId": "8b8dcc9e-669b-43d1-989c-566e1dba90ab"
      },
      "source": [
        "ones = np.ones((samples.shape[0], 1))\n",
        "\n",
        "x = np.hstack([ones, samples])\n",
        "\n",
        "x"
      ],
      "execution_count": null,
      "outputs": [
        {
          "data": {
            "text/plain": [
              "array([[1.        , 0.        , 0.        ],\n",
              "       [1.        , 1.        , 1.        ],\n",
              "       [1.        , 0.87077183, 0.66364998],\n",
              "       [1.        , 0.53282806, 0.2357085 ],\n",
              "       [1.        , 0.46938929, 0.3521634 ],\n",
              "       [1.        , 0.66810181, 0.66824658],\n",
              "       [1.        , 0.35117366, 0.34558576],\n",
              "       [1.        , 0.83052766, 0.80666455],\n",
              "       [1.        , 0.61289493, 0.55375922],\n",
              "       [1.        , 0.80713521, 0.59414462]])"
            ]
          },
          "execution_count": 1,
          "metadata": {},
          "output_type": "execute_result"
        }
      ]
    },
    {
      "cell_type": "markdown",
      "metadata": {
        "id": "syEN1Vc9a_2t"
      },
      "source": [
        "Нам понадобится метрика чтобы вычислять расстояние между соседними векторами параметров. Будем использовать евклидово расстояние."
      ]
    },
    {
      "cell_type": "code",
      "metadata": {
        "execution": {
          "iopub.execute_input": "2021-02-13T12:52:59.141038Z",
          "iopub.status.busy": "2021-02-13T12:52:59.140212Z",
          "iopub.status.idle": "2021-02-13T12:52:59.142339Z",
          "shell.execute_reply": "2021-02-13T12:52:59.143112Z"
        },
        "id": "MNixMnLPa_2t"
      },
      "source": [
        "from scipy.spatial.distance import euclidean"
      ],
      "execution_count": null,
      "outputs": []
    },
    {
      "cell_type": "markdown",
      "metadata": {
        "id": "KqIz9ru2a_2t"
      },
      "source": [
        "Начальное приближение $b^{[0]}$ можно выбирать нулевым или произвольным. Будем также использовать коэффициент $\\lambda_k = \\dfrac{0.1}{k}$."
      ]
    },
    {
      "cell_type": "code",
      "metadata": {
        "execution": {
          "iopub.execute_input": "2021-02-13T12:52:59.148074Z",
          "iopub.status.busy": "2021-02-13T12:52:59.147160Z",
          "iopub.status.idle": "2021-02-13T12:52:59.158800Z",
          "shell.execute_reply": "2021-02-13T12:52:59.159842Z"
        },
        "id": "ItSC5yBLa_2u"
      },
      "source": [
        "from tqdm import trange"
      ],
      "execution_count": null,
      "outputs": []
    },
    {
      "cell_type": "code",
      "metadata": {
        "execution": {
          "iopub.execute_input": "2021-02-13T12:52:59.167438Z",
          "iopub.status.busy": "2021-02-13T12:52:59.166605Z",
          "iopub.status.idle": "2021-02-13T12:53:01.410748Z",
          "shell.execute_reply": "2021-02-13T12:53:01.411483Z"
        },
        "id": "G3-kY2k6a_2u",
        "outputId": "0bdb3d88-746a-4ed8-8f15-9da5e37c2a75"
      },
      "source": [
        "b_0 = np.zeros(x.shape[1])\n",
        "\n",
        "b = b_0\n",
        "\n",
        "for k in trange(1, 10 ** 6):\n",
        "    lambda_ = 0.1 / k\n",
        "    \n",
        "    b_new = gradient_descent_step(lambda_, b, x, y)\n",
        "        \n",
        "    if euclidean(b, b_new) < 10 ** (-5):\n",
        "        print(f'success on step {k}\\n')\n",
        "        \n",
        "        break\n",
        "    \n",
        "    b = b_new\n",
        "\n",
        "b = b_new\n",
        "\n",
        "print(b)"
      ],
      "execution_count": null,
      "outputs": [
        {
          "name": "stderr",
          "output_type": "stream",
          "text": [
            "  1%|          | 6135/999999 [00:02<06:00, 2760.34it/s]"
          ]
        },
        {
          "name": "stdout",
          "output_type": "stream",
          "text": [
            "success on step 6136\n",
            "\n",
            "[-0.03670051  0.41548189  0.65301927]\n"
          ]
        },
        {
          "name": "stderr",
          "output_type": "stream",
          "text": [
            "\n"
          ]
        }
      ]
    },
    {
      "cell_type": "markdown",
      "metadata": {
        "id": "27NExhKba_2u"
      },
      "source": [
        "Для сравнения также построим модель логистической регрессии из библиотеки `sklearn`."
      ]
    },
    {
      "cell_type": "code",
      "metadata": {
        "execution": {
          "iopub.execute_input": "2021-02-13T12:53:01.416646Z",
          "iopub.status.busy": "2021-02-13T12:53:01.415950Z",
          "iopub.status.idle": "2021-02-13T12:53:01.417879Z",
          "shell.execute_reply": "2021-02-13T12:53:01.418648Z"
        },
        "id": "KPJArGzKa_29"
      },
      "source": [
        "from sklearn.linear_model import LogisticRegression"
      ],
      "execution_count": null,
      "outputs": []
    },
    {
      "cell_type": "code",
      "metadata": {
        "execution": {
          "iopub.execute_input": "2021-02-13T12:53:01.425737Z",
          "iopub.status.busy": "2021-02-13T12:53:01.425035Z",
          "iopub.status.idle": "2021-02-13T12:53:01.427740Z",
          "shell.execute_reply": "2021-02-13T12:53:01.428415Z"
        },
        "id": "e4GU1Tjla_29",
        "outputId": "90fb05d7-d4e3-4e4f-9589-c6c29585699f"
      },
      "source": [
        "model = LogisticRegression(solver='liblinear', fit_intercept=False)\n",
        "\n",
        "model.fit(x, y)\n",
        "b_sklearn = model.coef_.flatten()\n",
        "\n",
        "print(f'Коэффициенты: {b_sklearn}')\n",
        "print(f'Число итераций: {model.n_iter_}')"
      ],
      "execution_count": null,
      "outputs": [
        {
          "name": "stdout",
          "output_type": "stream",
          "text": [
            "Коэффициенты: [-0.09047654  0.35720772  0.61585617]\n",
            "Число итераций: [3]\n"
          ]
        }
      ]
    },
    {
      "cell_type": "markdown",
      "metadata": {
        "id": "ObBj9zHqa_2-"
      },
      "source": [
        "Видим, что коэффициенты достаточно близки, но модели из `sklearn` понадобилось ощутимо меньше итераций."
      ]
    },
    {
      "cell_type": "markdown",
      "metadata": {
        "id": "uyv3hM1ia_2-"
      },
      "source": [
        "__Оценка модели логистической регрессии__\n",
        "\n",
        "Для оценки качества моделей бинарной классификации используют __confusion matrix__, или __матрицу ошибок__:\n",
        "$$M = \\left( \\begin{array}{cc} TP & FP \\\\ FN & TN \\end{array} \\right),$$\n",
        "где:\n",
        "* $TP$ — _true positive_, т.е. число объектов, верно причисленных к классу $1$,\n",
        "* $FP$ — _false positive_, число ошибок первого рода, т.е. объектов, ложно причисленных к классу $1$,\n",
        "* $FN$ — _false negative_, ошибки второго рода,\n",
        "* $TN$ — _true negative_, число объектов, верно причисленных к классу $0$."
      ]
    },
    {
      "cell_type": "markdown",
      "metadata": {
        "id": "JNJ7ostfa_2-"
      },
      "source": [
        "Например, построим матрицу ошибок для построенной нами модели. Будем считать, что модель относит объект к классу $1$, если полученная моделью вероятность больше $0.5$."
      ]
    },
    {
      "cell_type": "code",
      "metadata": {
        "execution": {
          "iopub.execute_input": "2021-02-13T12:53:01.434503Z",
          "iopub.status.busy": "2021-02-13T12:53:01.433629Z",
          "iopub.status.idle": "2021-02-13T12:53:01.436503Z",
          "shell.execute_reply": "2021-02-13T12:53:01.437568Z"
        },
        "id": "WSHI2tjDa_2-",
        "outputId": "21bdccf9-0c7c-43cd-e805-d59e5be1248b"
      },
      "source": [
        "z = sigmoid(x.dot(b))\n",
        "z"
      ],
      "execution_count": null,
      "outputs": [
        {
          "data": {
            "text/plain": [
              "array([0.4908259 , 0.73726484, 0.68102051, 0.58385091, 0.5958714 ,\n",
              "       0.66312724, 0.58294627, 0.69743985, 0.64096654, 0.66521849])"
            ]
          },
          "execution_count": 1,
          "metadata": {},
          "output_type": "execute_result"
        }
      ]
    },
    {
      "cell_type": "code",
      "metadata": {
        "execution": {
          "iopub.execute_input": "2021-02-13T12:53:01.443117Z",
          "iopub.status.busy": "2021-02-13T12:53:01.442159Z",
          "iopub.status.idle": "2021-02-13T12:53:01.445356Z",
          "shell.execute_reply": "2021-02-13T12:53:01.446091Z"
        },
        "id": "o1CG77xOa_3A",
        "outputId": "de8bf3a2-6dcf-4f47-be2e-619327498602"
      },
      "source": [
        "z_ = (z > 0.5).astype(int)\n",
        "z_"
      ],
      "execution_count": null,
      "outputs": [
        {
          "data": {
            "text/plain": [
              "array([0, 1, 1, 1, 1, 1, 1, 1, 1, 1])"
            ]
          },
          "execution_count": 1,
          "metadata": {},
          "output_type": "execute_result"
        }
      ]
    },
    {
      "cell_type": "code",
      "metadata": {
        "execution": {
          "iopub.execute_input": "2021-02-13T12:53:01.451285Z",
          "iopub.status.busy": "2021-02-13T12:53:01.450542Z",
          "iopub.status.idle": "2021-02-13T12:53:01.453449Z",
          "shell.execute_reply": "2021-02-13T12:53:01.454298Z"
        },
        "id": "-MGjGD-za_3B",
        "outputId": "4fecc8f7-6597-483c-bcb0-10479e2fcd17"
      },
      "source": [
        "y"
      ],
      "execution_count": null,
      "outputs": [
        {
          "data": {
            "text/plain": [
              "array([0, 1, 0, 0, 0, 1, 1, 1, 1, 1])"
            ]
          },
          "execution_count": 1,
          "metadata": {},
          "output_type": "execute_result"
        }
      ]
    },
    {
      "cell_type": "code",
      "metadata": {
        "execution": {
          "iopub.execute_input": "2021-02-13T12:53:01.461382Z",
          "iopub.status.busy": "2021-02-13T12:53:01.460552Z",
          "iopub.status.idle": "2021-02-13T12:53:01.463307Z",
          "shell.execute_reply": "2021-02-13T12:53:01.464283Z"
        },
        "id": "Qvy3uIqva_3B",
        "outputId": "2231da74-7192-487b-8971-ecb8a12aaebd"
      },
      "source": [
        "TP = ((y == 1) & (z_ == 1)).sum()\n",
        "FP = ((y == 0) & (z_ == 1)).sum()\n",
        "FN = ((y == 1) & (z_ == 0)).sum()\n",
        "TN = ((y == 0) & (z_ == 0)).sum()\n",
        "\n",
        "TP, FP, FN, TN"
      ],
      "execution_count": null,
      "outputs": [
        {
          "data": {
            "text/plain": [
              "(6, 3, 0, 1)"
            ]
          },
          "execution_count": 1,
          "metadata": {},
          "output_type": "execute_result"
        }
      ]
    },
    {
      "cell_type": "code",
      "metadata": {
        "execution": {
          "iopub.execute_input": "2021-02-13T12:53:01.469476Z",
          "iopub.status.busy": "2021-02-13T12:53:01.468704Z",
          "iopub.status.idle": "2021-02-13T12:53:01.470855Z",
          "shell.execute_reply": "2021-02-13T12:53:01.471597Z"
        },
        "id": "3VF9-qV-a_3B"
      },
      "source": [
        "from sklearn.metrics import confusion_matrix, accuracy_score, precision_score, recall_score"
      ],
      "execution_count": null,
      "outputs": []
    },
    {
      "cell_type": "code",
      "metadata": {
        "execution": {
          "iopub.execute_input": "2021-02-13T12:53:01.478621Z",
          "iopub.status.busy": "2021-02-13T12:53:01.477585Z",
          "iopub.status.idle": "2021-02-13T12:53:01.481383Z",
          "shell.execute_reply": "2021-02-13T12:53:01.482632Z"
        },
        "id": "9DOXzMLHa_3B",
        "outputId": "7449cb15-1e11-4033-e531-5060397326d0"
      },
      "source": [
        "confusion_matrix(y, z_)"
      ],
      "execution_count": null,
      "outputs": [
        {
          "data": {
            "text/plain": [
              "array([[1, 3],\n",
              "       [0, 6]])"
            ]
          },
          "execution_count": 1,
          "metadata": {},
          "output_type": "execute_result"
        }
      ]
    },
    {
      "cell_type": "markdown",
      "metadata": {
        "id": "YyNbM7mqa_3B"
      },
      "source": [
        "На основании матрицы ошибок можно получить многие известные метрики качества:\n",
        "$$accuracy = \\dfrac{TP + TN}{TP + FP + FN + TN}$$\n",
        "\n",
        "$$precision = \\dfrac{TP}{TP + FP}, \\:\\: recall = \\dfrac{TP}{TP + FN}$$"
      ]
    },
    {
      "cell_type": "code",
      "metadata": {
        "execution": {
          "iopub.execute_input": "2021-02-13T12:53:01.488979Z",
          "iopub.status.busy": "2021-02-13T12:53:01.487875Z",
          "iopub.status.idle": "2021-02-13T12:53:01.491433Z",
          "shell.execute_reply": "2021-02-13T12:53:01.492270Z"
        },
        "id": "l7ULbcfVa_3C",
        "outputId": "a1c7a5b5-cc73-431b-eef9-19373d499f5a"
      },
      "source": [
        "accuracy = (TP + TN) / (TP + FP + FN + TN)\n",
        "accuracy"
      ],
      "execution_count": null,
      "outputs": [
        {
          "data": {
            "text/plain": [
              "0.7"
            ]
          },
          "execution_count": 1,
          "metadata": {},
          "output_type": "execute_result"
        }
      ]
    },
    {
      "cell_type": "code",
      "metadata": {
        "execution": {
          "iopub.execute_input": "2021-02-13T12:53:01.498807Z",
          "iopub.status.busy": "2021-02-13T12:53:01.497942Z",
          "iopub.status.idle": "2021-02-13T12:53:01.501201Z",
          "shell.execute_reply": "2021-02-13T12:53:01.502075Z"
        },
        "id": "-yGs5elDa_3C",
        "outputId": "f0a17462-1e51-449f-e5be-d1ce19d62ada"
      },
      "source": [
        "accuracy_score(y, z_)"
      ],
      "execution_count": null,
      "outputs": [
        {
          "data": {
            "text/plain": [
              "0.7"
            ]
          },
          "execution_count": 1,
          "metadata": {},
          "output_type": "execute_result"
        }
      ]
    },
    {
      "cell_type": "code",
      "metadata": {
        "execution": {
          "iopub.execute_input": "2021-02-13T12:53:01.508661Z",
          "iopub.status.busy": "2021-02-13T12:53:01.507696Z",
          "iopub.status.idle": "2021-02-13T12:53:01.512259Z",
          "shell.execute_reply": "2021-02-13T12:53:01.511170Z"
        },
        "id": "Oieta7q3a_3C",
        "outputId": "5e225e2f-d6eb-4c94-8bcf-6575ae5b9d05"
      },
      "source": [
        "precision = TP / (TP + FP)\n",
        "recall = TP / (TP + FN)\n",
        "\n",
        "precision, recall"
      ],
      "execution_count": null,
      "outputs": [
        {
          "data": {
            "text/plain": [
              "(0.6666666666666666, 1.0)"
            ]
          },
          "execution_count": 1,
          "metadata": {},
          "output_type": "execute_result"
        }
      ]
    },
    {
      "cell_type": "code",
      "metadata": {
        "execution": {
          "iopub.execute_input": "2021-02-13T12:53:01.522153Z",
          "iopub.status.busy": "2021-02-13T12:53:01.521039Z",
          "iopub.status.idle": "2021-02-13T12:53:01.524571Z",
          "shell.execute_reply": "2021-02-13T12:53:01.525498Z"
        },
        "id": "xWx5sdDDa_3C",
        "outputId": "02864a14-21d4-4260-f42a-2e01a4557ae9"
      },
      "source": [
        "precision_score(y, z_), recall_score(y, z_)"
      ],
      "execution_count": null,
      "outputs": [
        {
          "data": {
            "text/plain": [
              "(0.6666666666666666, 1.0)"
            ]
          },
          "execution_count": 1,
          "metadata": {},
          "output_type": "execute_result"
        }
      ]
    },
    {
      "cell_type": "markdown",
      "metadata": {
        "id": "7YaYPEqxa_3D"
      },
      "source": [
        "То же для модели из `sklearn`:"
      ]
    },
    {
      "cell_type": "code",
      "metadata": {
        "execution": {
          "iopub.execute_input": "2021-02-13T12:53:01.531805Z",
          "iopub.status.busy": "2021-02-13T12:53:01.530851Z",
          "iopub.status.idle": "2021-02-13T12:53:01.533707Z",
          "shell.execute_reply": "2021-02-13T12:53:01.534690Z"
        },
        "id": "PEAouoT3a_3E",
        "outputId": "d78ddaed-3bae-4f72-edce-cd5dc88cd241"
      },
      "source": [
        "z_sklearn = model.predict(x)\n",
        "z_sklearn"
      ],
      "execution_count": null,
      "outputs": [
        {
          "data": {
            "text/plain": [
              "array([0, 1, 1, 1, 1, 1, 1, 1, 1, 1])"
            ]
          },
          "execution_count": 1,
          "metadata": {},
          "output_type": "execute_result"
        }
      ]
    },
    {
      "cell_type": "code",
      "metadata": {
        "execution": {
          "iopub.execute_input": "2021-02-13T12:53:01.541212Z",
          "iopub.status.busy": "2021-02-13T12:53:01.540366Z",
          "iopub.status.idle": "2021-02-13T12:53:01.543336Z",
          "shell.execute_reply": "2021-02-13T12:53:01.544267Z"
        },
        "id": "s4Dkr4Ssa_3E",
        "outputId": "9cf968a8-a1ae-40f3-def7-db4941699ded"
      },
      "source": [
        "accuracy_score(y, z_sklearn)"
      ],
      "execution_count": null,
      "outputs": [
        {
          "data": {
            "text/plain": [
              "0.7"
            ]
          },
          "execution_count": 1,
          "metadata": {},
          "output_type": "execute_result"
        }
      ]
    },
    {
      "cell_type": "code",
      "metadata": {
        "execution": {
          "iopub.execute_input": "2021-02-13T12:53:01.552609Z",
          "iopub.status.busy": "2021-02-13T12:53:01.551816Z",
          "iopub.status.idle": "2021-02-13T12:53:01.555236Z",
          "shell.execute_reply": "2021-02-13T12:53:01.556109Z"
        },
        "id": "lPWrqpWva_3E",
        "outputId": "82a6cbc9-d236-48e6-c99d-eec49ceebdad"
      },
      "source": [
        "precision_score(y, z_sklearn), recall_score(y, z_sklearn)"
      ],
      "execution_count": null,
      "outputs": [
        {
          "data": {
            "text/plain": [
              "(0.6666666666666666, 1.0)"
            ]
          },
          "execution_count": 1,
          "metadata": {},
          "output_type": "execute_result"
        }
      ]
    },
    {
      "cell_type": "code",
      "metadata": {
        "id": "QeUvpkdXa_3F"
      },
      "source": [
        ""
      ],
      "execution_count": null,
      "outputs": []
    }
  ]
}