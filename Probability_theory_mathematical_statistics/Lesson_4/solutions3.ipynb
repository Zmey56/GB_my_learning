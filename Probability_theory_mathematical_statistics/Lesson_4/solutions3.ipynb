{
  "nbformat": 4,
  "nbformat_minor": 0,
  "metadata": {
    "kernelspec": {
      "display_name": "Python 3",
      "language": "python",
      "name": "python3"
    },
    "language_info": {
      "codemirror_mode": {
        "name": "ipython",
        "version": 3
      },
      "file_extension": ".py",
      "mimetype": "text/x-python",
      "name": "python",
      "nbconvert_exporter": "python",
      "pygments_lexer": "ipython3",
      "version": "3.8.5"
    },
    "colab": {
      "name": "solutions3.ipynb",
      "provenance": []
    }
  },
  "cells": [
    {
      "cell_type": "markdown",
      "metadata": {
        "id": "pas8cUJ4f0Nd"
      },
      "source": [
        "# Теория вероятностей и математическая статистика\n",
        "\n",
        "## Урок 3\n",
        "\n",
        "## Основы математической статистики. Количественные характеристики популяции. Графическое представление данных\n",
        "\n",
        "### Разбор домашнего задания"
      ]
    },
    {
      "cell_type": "markdown",
      "metadata": {
        "id": "lHDiCbRRf0Ni"
      },
      "source": [
        "__Задача 1__\n",
        "\n",
        "Даны значения зарплат из выборки выпускников: \n",
        "```\n",
        "100, 80, 75, 77, 89, 33, 45, 25, 65, 17, 30, 230, 24, 57, 55, 70, 75, 65, 84, 90, 150\n",
        "```\n",
        "Используя только встроенные питоновские функции и структуры данных (т.е. без библиотек `numpy`, `pandas` и др.), посчитайте (несмещённое) среднее квадратичное отклонение для данной выборки."
      ]
    },
    {
      "cell_type": "markdown",
      "metadata": {
        "id": "DqaOmwhcf0Nj"
      },
      "source": [
        "__Решение__"
      ]
    },
    {
      "cell_type": "code",
      "metadata": {
        "execution": {
          "iopub.execute_input": "2021-02-13T12:55:02.045718Z",
          "iopub.status.busy": "2021-02-13T12:55:02.044734Z",
          "iopub.status.idle": "2021-02-13T12:55:02.047325Z",
          "shell.execute_reply": "2021-02-13T12:55:02.048301Z"
        },
        "id": "aRtxvnWxf0Nk"
      },
      "source": [
        "samples = [100, 80, 75, 77, 89, 33, 45, 25, 65, 17, 30, 230, 24, 57, 55, 70, 75, 65, 84, 90, 150]"
      ],
      "execution_count": null,
      "outputs": []
    },
    {
      "cell_type": "code",
      "metadata": {
        "execution": {
          "iopub.execute_input": "2021-02-13T12:55:02.055331Z",
          "iopub.status.busy": "2021-02-13T12:55:02.054205Z",
          "iopub.status.idle": "2021-02-13T12:55:02.056560Z",
          "shell.execute_reply": "2021-02-13T12:55:02.057518Z"
        },
        "id": "vO1KpQbTf0Nl"
      },
      "source": [
        "def mean(l: list) -> float:\n",
        "    \"\"\"Среднее арифметическое.\n",
        "    \"\"\"\n",
        "    \n",
        "    return sum(l) / len(l)"
      ],
      "execution_count": null,
      "outputs": []
    },
    {
      "cell_type": "code",
      "metadata": {
        "execution": {
          "iopub.execute_input": "2021-02-13T12:55:02.073580Z",
          "iopub.status.busy": "2021-02-13T12:55:02.072655Z",
          "iopub.status.idle": "2021-02-13T12:55:02.076007Z",
          "shell.execute_reply": "2021-02-13T12:55:02.076947Z"
        },
        "id": "TYtnER0-f0Nl",
        "outputId": "217cc450-3403-48c9-ea15-ba56d7b5fe0d"
      },
      "source": [
        "mean(samples)"
      ],
      "execution_count": null,
      "outputs": [
        {
          "data": {
            "text/plain": [
              "73.14285714285714"
            ]
          },
          "execution_count": 1,
          "metadata": {},
          "output_type": "execute_result"
        }
      ]
    },
    {
      "cell_type": "code",
      "metadata": {
        "execution": {
          "iopub.execute_input": "2021-02-13T12:55:02.083981Z",
          "iopub.status.busy": "2021-02-13T12:55:02.082526Z",
          "iopub.status.idle": "2021-02-13T12:55:02.171233Z",
          "shell.execute_reply": "2021-02-13T12:55:02.172112Z"
        },
        "id": "8e_lGIDbf0Nn"
      },
      "source": [
        "import numpy as np"
      ],
      "execution_count": null,
      "outputs": []
    },
    {
      "cell_type": "code",
      "metadata": {
        "execution": {
          "iopub.execute_input": "2021-02-13T12:55:02.177421Z",
          "iopub.status.busy": "2021-02-13T12:55:02.176557Z",
          "iopub.status.idle": "2021-02-13T12:55:02.179411Z",
          "shell.execute_reply": "2021-02-13T12:55:02.180218Z"
        },
        "id": "MuBuaNFaf0No",
        "outputId": "b32ea26a-b3a9-4a9f-b752-36d502eadea4"
      },
      "source": [
        "np.mean(samples)"
      ],
      "execution_count": null,
      "outputs": [
        {
          "data": {
            "text/plain": [
              "73.14285714285714"
            ]
          },
          "execution_count": 1,
          "metadata": {},
          "output_type": "execute_result"
        }
      ]
    },
    {
      "cell_type": "code",
      "metadata": {
        "execution": {
          "iopub.execute_input": "2021-02-13T12:55:02.186427Z",
          "iopub.status.busy": "2021-02-13T12:55:02.185546Z",
          "iopub.status.idle": "2021-02-13T12:55:02.187907Z",
          "shell.execute_reply": "2021-02-13T12:55:02.188749Z"
        },
        "id": "T42LFBN6f0No"
      },
      "source": [
        "def variance(l: list, unbiased: bool = True) -> float:\n",
        "    \"\"\"Выборочная дисперсия.\n",
        "    \"\"\"\n",
        "    \n",
        "    mean_ = mean(l)\n",
        "    n = len(l)\n",
        "    l = map(lambda x: (x - mean_) ** 2, l)\n",
        "    \n",
        "    return sum(l) / (n - int(unbiased))"
      ],
      "execution_count": null,
      "outputs": []
    },
    {
      "cell_type": "code",
      "metadata": {
        "execution": {
          "iopub.execute_input": "2021-02-13T12:55:02.193952Z",
          "iopub.status.busy": "2021-02-13T12:55:02.193108Z",
          "iopub.status.idle": "2021-02-13T12:55:02.196340Z",
          "shell.execute_reply": "2021-02-13T12:55:02.197227Z"
        },
        "id": "qsh9wCmGf0Np",
        "outputId": "04919560-c3e0-4652-a8cd-acb405326820"
      },
      "source": [
        "variance(samples)"
      ],
      "execution_count": null,
      "outputs": [
        {
          "data": {
            "text/plain": [
              "2241.8285714285716"
            ]
          },
          "execution_count": 1,
          "metadata": {},
          "output_type": "execute_result"
        }
      ]
    },
    {
      "cell_type": "code",
      "metadata": {
        "execution": {
          "iopub.execute_input": "2021-02-13T12:55:02.202732Z",
          "iopub.status.busy": "2021-02-13T12:55:02.201868Z",
          "iopub.status.idle": "2021-02-13T12:55:02.205032Z",
          "shell.execute_reply": "2021-02-13T12:55:02.205952Z"
        },
        "id": "oPHuqejjf0Nq",
        "outputId": "6faee2f6-b9c3-4a3f-b8fc-3af991b28126"
      },
      "source": [
        "np.var(samples, ddof=1)"
      ],
      "execution_count": null,
      "outputs": [
        {
          "data": {
            "text/plain": [
              "2241.828571428571"
            ]
          },
          "execution_count": 1,
          "metadata": {},
          "output_type": "execute_result"
        }
      ]
    },
    {
      "cell_type": "code",
      "metadata": {
        "execution": {
          "iopub.execute_input": "2021-02-13T12:55:02.211450Z",
          "iopub.status.busy": "2021-02-13T12:55:02.210562Z",
          "iopub.status.idle": "2021-02-13T12:55:02.212893Z",
          "shell.execute_reply": "2021-02-13T12:55:02.213797Z"
        },
        "id": "MznK3y3lf0Nq"
      },
      "source": [
        "def std(l: list, unbiased: bool = True) -> float:\n",
        "    \"\"\"Выборочное среднее квадратическое отклонение.\n",
        "    \"\"\"\n",
        "    \n",
        "    return variance(l, unbiased) ** 0.5"
      ],
      "execution_count": null,
      "outputs": []
    },
    {
      "cell_type": "code",
      "metadata": {
        "execution": {
          "iopub.execute_input": "2021-02-13T12:55:02.219550Z",
          "iopub.status.busy": "2021-02-13T12:55:02.218329Z",
          "iopub.status.idle": "2021-02-13T12:55:02.221644Z",
          "shell.execute_reply": "2021-02-13T12:55:02.222524Z"
        },
        "id": "psii7Hwkf0Nr",
        "outputId": "aeb9faa7-e939-4158-f3a3-65c2b38dba64"
      },
      "source": [
        "std(samples)"
      ],
      "execution_count": null,
      "outputs": [
        {
          "data": {
            "text/plain": [
              "47.34795213553139"
            ]
          },
          "execution_count": 1,
          "metadata": {},
          "output_type": "execute_result"
        }
      ]
    },
    {
      "cell_type": "code",
      "metadata": {
        "execution": {
          "iopub.execute_input": "2021-02-13T12:55:02.228212Z",
          "iopub.status.busy": "2021-02-13T12:55:02.227354Z",
          "iopub.status.idle": "2021-02-13T12:55:02.230612Z",
          "shell.execute_reply": "2021-02-13T12:55:02.231483Z"
        },
        "id": "4h2MwI9bf0Nr",
        "outputId": "6bd9a935-1b80-481d-8eac-4b523ec347d2"
      },
      "source": [
        "np.std(samples, ddof=1)"
      ],
      "execution_count": null,
      "outputs": [
        {
          "data": {
            "text/plain": [
              "47.347952135531386"
            ]
          },
          "execution_count": 1,
          "metadata": {},
          "output_type": "execute_result"
        }
      ]
    },
    {
      "cell_type": "markdown",
      "metadata": {
        "id": "n2cpkRkGf0Nr"
      },
      "source": [
        "__Задача 2__\n",
        "\n",
        "Найдите число выбросов в выборке из задачи 1. Для определения выбросов используйте методику как при построении \"усов\" в `boxplot`, однако, как и в задаче 1, пользоваться можно только встроенными функциями и структурами данных."
      ]
    },
    {
      "cell_type": "markdown",
      "metadata": {
        "id": "bVVCeJ5uf0Ns"
      },
      "source": [
        "__Решение__"
      ]
    },
    {
      "cell_type": "markdown",
      "metadata": {
        "id": "quxfp136f0Ns"
      },
      "source": [
        "В основе процедуры построения боксплотов лежит вычисление квантилей, поэтому сразу разберёмся с этим.\n",
        "\n",
        "Квантиль порядка $\\alpha$ — это такое значение $a$, что хотя бы $\\alpha \\%$ значений выборки меньше, либо равны $a$ (и, соответственно, хотя бы $(1 - \\alpha) \\%$ значений выборки больше, либо равны $a$)."
      ]
    },
    {
      "cell_type": "code",
      "metadata": {
        "execution": {
          "iopub.execute_input": "2021-02-13T12:55:02.239742Z",
          "iopub.status.busy": "2021-02-13T12:55:02.238830Z",
          "iopub.status.idle": "2021-02-13T12:55:02.241216Z",
          "shell.execute_reply": "2021-02-13T12:55:02.242129Z"
        },
        "id": "lz8dSb4Vf0Ns"
      },
      "source": [
        "def quantile(l: list, order: float) -> float:\n",
        "    \"\"\"Квантиль порядка `order` по списку `l`.\n",
        "    \"\"\"\n",
        "    \n",
        "    l = sorted(l)\n",
        "    n = len(l)\n",
        "    \n",
        "    n_left_elements = int(n * order)\n",
        "    n_right_elements = int(n * (1 - order))\n",
        "    \n",
        "    print(n, n_left_elements, n_right_elements)\n",
        "    \n",
        "    if n_left_elements + n_right_elements == n:\n",
        "        return (l[n_left_elements - 1] + l[n_left_elements]) / 2\n",
        "    \n",
        "    else:\n",
        "        assert n_left_elements + n_right_elements == n - 1\n",
        "        \n",
        "        return l[n_left_elements]\n",
        "    \n",
        "    \n",
        "def median(l: list) -> float:\n",
        "    \"\"\"Медиана выборки.\n",
        "    \"\"\"\n",
        "    \n",
        "    return quantile(l, 0.5)"
      ],
      "execution_count": null,
      "outputs": []
    },
    {
      "cell_type": "markdown",
      "metadata": {
        "id": "TARQVY0_f0Ns"
      },
      "source": [
        "Медиана — квантиль порядка $0.5$:"
      ]
    },
    {
      "cell_type": "code",
      "metadata": {
        "execution": {
          "iopub.execute_input": "2021-02-13T12:55:02.247528Z",
          "iopub.status.busy": "2021-02-13T12:55:02.246607Z",
          "iopub.status.idle": "2021-02-13T12:55:02.250717Z",
          "shell.execute_reply": "2021-02-13T12:55:02.251660Z"
        },
        "id": "E8mi4THZf0Nt",
        "outputId": "42a4253c-9ebf-4a16-adf6-2c51af2dca75"
      },
      "source": [
        "median(samples)"
      ],
      "execution_count": null,
      "outputs": [
        {
          "name": "stdout",
          "output_type": "stream",
          "text": [
            "21 10 10\n"
          ]
        },
        {
          "data": {
            "text/plain": [
              "70"
            ]
          },
          "execution_count": 1,
          "metadata": {},
          "output_type": "execute_result"
        }
      ]
    },
    {
      "cell_type": "code",
      "metadata": {
        "execution": {
          "iopub.execute_input": "2021-02-13T12:55:02.257859Z",
          "iopub.status.busy": "2021-02-13T12:55:02.256919Z",
          "iopub.status.idle": "2021-02-13T12:55:02.260436Z",
          "shell.execute_reply": "2021-02-13T12:55:02.261406Z"
        },
        "id": "Ertr_GkCf0Nt",
        "outputId": "3cf9398f-ef22-4498-a601-4a6b41662df6"
      },
      "source": [
        "np.median(samples)"
      ],
      "execution_count": null,
      "outputs": [
        {
          "data": {
            "text/plain": [
              "70.0"
            ]
          },
          "execution_count": 1,
          "metadata": {},
          "output_type": "execute_result"
        }
      ]
    },
    {
      "cell_type": "markdown",
      "metadata": {
        "id": "cKPysB8Bf0Nt"
      },
      "source": [
        "Первый квартиль — это квантиль порядка $0.25$:"
      ]
    },
    {
      "cell_type": "code",
      "metadata": {
        "execution": {
          "iopub.execute_input": "2021-02-13T12:55:02.267229Z",
          "iopub.status.busy": "2021-02-13T12:55:02.266314Z",
          "iopub.status.idle": "2021-02-13T12:55:02.270509Z",
          "shell.execute_reply": "2021-02-13T12:55:02.271447Z"
        },
        "id": "naI0QwLsf0Nu",
        "outputId": "c3aacdbe-4d94-4591-994c-4c8bf356361e"
      },
      "source": [
        "q1 = quantile(samples, 0.25)\n",
        "q1"
      ],
      "execution_count": null,
      "outputs": [
        {
          "name": "stdout",
          "output_type": "stream",
          "text": [
            "21 5 15\n"
          ]
        },
        {
          "data": {
            "text/plain": [
              "45"
            ]
          },
          "execution_count": 1,
          "metadata": {},
          "output_type": "execute_result"
        }
      ]
    },
    {
      "cell_type": "code",
      "metadata": {
        "execution": {
          "iopub.execute_input": "2021-02-13T12:55:02.277160Z",
          "iopub.status.busy": "2021-02-13T12:55:02.276255Z",
          "iopub.status.idle": "2021-02-13T12:55:02.279679Z",
          "shell.execute_reply": "2021-02-13T12:55:02.280561Z"
        },
        "id": "-DDgHMLyf0Nu",
        "outputId": "eb56a7e6-6242-4e5c-e012-ff64dd69baae"
      },
      "source": [
        "np.quantile(samples, 0.25)"
      ],
      "execution_count": null,
      "outputs": [
        {
          "data": {
            "text/plain": [
              "45.0"
            ]
          },
          "execution_count": 1,
          "metadata": {},
          "output_type": "execute_result"
        }
      ]
    },
    {
      "cell_type": "markdown",
      "metadata": {
        "id": "HLuzdh15f0Nu"
      },
      "source": [
        "Аналогично, третий квартиль — кванииль порядка $0.75$:"
      ]
    },
    {
      "cell_type": "code",
      "metadata": {
        "execution": {
          "iopub.execute_input": "2021-02-13T12:55:02.286496Z",
          "iopub.status.busy": "2021-02-13T12:55:02.285477Z",
          "iopub.status.idle": "2021-02-13T12:55:02.290155Z",
          "shell.execute_reply": "2021-02-13T12:55:02.291031Z"
        },
        "id": "8HP_N4Gqf0Nu",
        "outputId": "57465880-4720-4f15-b924-734009ebf5b6"
      },
      "source": [
        "q3 = quantile(samples, 0.75)\n",
        "q3"
      ],
      "execution_count": null,
      "outputs": [
        {
          "name": "stdout",
          "output_type": "stream",
          "text": [
            "21 15 5\n"
          ]
        },
        {
          "data": {
            "text/plain": [
              "84"
            ]
          },
          "execution_count": 1,
          "metadata": {},
          "output_type": "execute_result"
        }
      ]
    },
    {
      "cell_type": "code",
      "metadata": {
        "execution": {
          "iopub.execute_input": "2021-02-13T12:55:02.296848Z",
          "iopub.status.busy": "2021-02-13T12:55:02.296027Z",
          "iopub.status.idle": "2021-02-13T12:55:02.300094Z",
          "shell.execute_reply": "2021-02-13T12:55:02.299230Z"
        },
        "id": "j7sYdNoYf0Nv",
        "outputId": "c444d57a-1f2a-4bf9-c34d-60722b37199e"
      },
      "source": [
        "np.quantile(samples, 0.75)"
      ],
      "execution_count": null,
      "outputs": [
        {
          "data": {
            "text/plain": [
              "84.0"
            ]
          },
          "execution_count": 1,
          "metadata": {},
          "output_type": "execute_result"
        }
      ]
    },
    {
      "cell_type": "code",
      "metadata": {
        "execution": {
          "iopub.execute_input": "2021-02-13T12:55:02.305092Z",
          "iopub.status.busy": "2021-02-13T12:55:02.304260Z",
          "iopub.status.idle": "2021-02-13T12:55:02.307429Z",
          "shell.execute_reply": "2021-02-13T12:55:02.308480Z"
        },
        "id": "dgKGkcPUf0Nv",
        "outputId": "cb544b58-d990-4ccb-8968-87caa2ff947b"
      },
      "source": [
        "iqd = q3 - q1\n",
        "iqd"
      ],
      "execution_count": null,
      "outputs": [
        {
          "data": {
            "text/plain": [
              "39"
            ]
          },
          "execution_count": 1,
          "metadata": {},
          "output_type": "execute_result"
        }
      ]
    },
    {
      "cell_type": "code",
      "metadata": {
        "execution": {
          "iopub.execute_input": "2021-02-13T12:55:02.314105Z",
          "iopub.status.busy": "2021-02-13T12:55:02.313162Z",
          "iopub.status.idle": "2021-02-13T12:55:02.317519Z",
          "shell.execute_reply": "2021-02-13T12:55:02.316631Z"
        },
        "id": "S2-L5sRaf0Nv",
        "outputId": "7fc58a00-397c-4e1c-e4ad-ecaa190c46b2"
      },
      "source": [
        "boxplot_range = (q1 - 1.5 * iqd, q3 + 1.5 * iqd)\n",
        "boxplot_range"
      ],
      "execution_count": null,
      "outputs": [
        {
          "data": {
            "text/plain": [
              "(-13.5, 142.5)"
            ]
          },
          "execution_count": 1,
          "metadata": {},
          "output_type": "execute_result"
        }
      ]
    },
    {
      "cell_type": "code",
      "metadata": {
        "execution": {
          "iopub.execute_input": "2021-02-13T12:55:02.323347Z",
          "iopub.status.busy": "2021-02-13T12:55:02.322408Z",
          "iopub.status.idle": "2021-02-13T12:55:02.325730Z",
          "shell.execute_reply": "2021-02-13T12:55:02.326772Z"
        },
        "id": "i_4rUBbYf0Nv",
        "outputId": "1da45dae-c4d7-455a-efec-b55c23a2da99"
      },
      "source": [
        "outliers = list(filter(lambda x: not (boxplot_range[0] <= x <= boxplot_range[1]), samples))\n",
        "outliers"
      ],
      "execution_count": null,
      "outputs": [
        {
          "data": {
            "text/plain": [
              "[230, 150]"
            ]
          },
          "execution_count": 1,
          "metadata": {},
          "output_type": "execute_result"
        }
      ]
    },
    {
      "cell_type": "code",
      "metadata": {
        "execution": {
          "iopub.execute_input": "2021-02-13T12:55:02.332955Z",
          "iopub.status.busy": "2021-02-13T12:55:02.331664Z",
          "iopub.status.idle": "2021-02-13T12:55:03.159343Z",
          "shell.execute_reply": "2021-02-13T12:55:03.160018Z"
        },
        "id": "B2PdZE9Hf0Nw"
      },
      "source": [
        "import seaborn as sns\n",
        "\n",
        "%config InlineBackend.figure_formats = ['svg']"
      ],
      "execution_count": null,
      "outputs": []
    },
    {
      "cell_type": "code",
      "metadata": {
        "execution": {
          "iopub.execute_input": "2021-02-13T12:55:03.187413Z",
          "iopub.status.busy": "2021-02-13T12:55:03.186792Z",
          "iopub.status.idle": "2021-02-13T12:55:03.263571Z",
          "shell.execute_reply": "2021-02-13T12:55:03.264384Z"
        },
        "id": "5TVjNkJCf0Nw",
        "outputId": "5beb1ace-e505-4096-fbef-61c857948432"
      },
      "source": [
        "sns.boxplot(data=samples)"
      ],
      "execution_count": null,
      "outputs": [
        {
          "data": {
            "text/plain": [
              "<AxesSubplot:>"
            ]
          },
          "execution_count": 1,
          "metadata": {},
          "output_type": "execute_result"
        },
        {
          "data": {
            "image/svg+xml": [
              "<?xml version=\"1.0\" encoding=\"utf-8\" standalone=\"no\"?>\n",
              "<!DOCTYPE svg PUBLIC \"-//W3C//DTD SVG 1.1//EN\"\n",
              "  \"http://www.w3.org/Graphics/SVG/1.1/DTD/svg11.dtd\">\n",
              "<!-- Created with matplotlib (https://matplotlib.org/) -->\n",
              "<svg height=\"248.518125pt\" version=\"1.1\" viewBox=\"0 0 375.2875 248.518125\" width=\"375.2875pt\" xmlns=\"http://www.w3.org/2000/svg\" xmlns:xlink=\"http://www.w3.org/1999/xlink\">\n",
              " <metadata>\n",
              "  <rdf:RDF xmlns:cc=\"http://creativecommons.org/ns#\" xmlns:dc=\"http://purl.org/dc/elements/1.1/\" xmlns:rdf=\"http://www.w3.org/1999/02/22-rdf-syntax-ns#\">\n",
              "   <cc:Work>\n",
              "    <dc:type rdf:resource=\"http://purl.org/dc/dcmitype/StillImage\"/>\n",
              "    <dc:date>2021-02-13T15:55:03.233917</dc:date>\n",
              "    <dc:format>image/svg+xml</dc:format>\n",
              "    <dc:creator>\n",
              "     <cc:Agent>\n",
              "      <dc:title>Matplotlib v3.3.3, https://matplotlib.org/</dc:title>\n",
              "     </cc:Agent>\n",
              "    </dc:creator>\n",
              "   </cc:Work>\n",
              "  </rdf:RDF>\n",
              " </metadata>\n",
              " <defs>\n",
              "  <style type=\"text/css\">*{stroke-linecap:butt;stroke-linejoin:round;}</style>\n",
              " </defs>\n",
              " <g id=\"figure_1\">\n",
              "  <g id=\"patch_1\">\n",
              "   <path d=\"M 0 248.518125 \n",
              "L 375.2875 248.518125 \n",
              "L 375.2875 0 \n",
              "L 0 0 \n",
              "z\n",
              "\" style=\"fill:none;\"/>\n",
              "  </g>\n",
              "  <g id=\"axes_1\">\n",
              "   <g id=\"patch_2\">\n",
              "    <path d=\"M 33.2875 224.64 \n",
              "L 368.0875 224.64 \n",
              "L 368.0875 7.2 \n",
              "L 33.2875 7.2 \n",
              "z\n",
              "\" style=\"fill:#ffffff;\"/>\n",
              "   </g>\n",
              "   <g id=\"patch_3\">\n",
              "    <path clip-path=\"url(#p051bda7e8b)\" d=\"M 66.7675 188.771216 \n",
              "L 334.6075 188.771216 \n",
              "L 334.6075 152.577618 \n",
              "L 66.7675 152.577618 \n",
              "L 66.7675 188.771216 \n",
              "z\n",
              "\" style=\"fill:#3274a1;stroke:#3f3f3f;stroke-linejoin:miter;stroke-width:1.5;\"/>\n",
              "   </g>\n",
              "   <g id=\"matplotlib.axis_1\">\n",
              "    <g id=\"xtick_1\">\n",
              "     <g id=\"line2d_1\">\n",
              "      <defs>\n",
              "       <path d=\"M 0 0 \n",
              "L 0 3.5 \n",
              "\" id=\"ma412dbdcc1\" style=\"stroke:#000000;stroke-width:0.8;\"/>\n",
              "      </defs>\n",
              "      <g>\n",
              "       <use style=\"stroke:#000000;stroke-width:0.8;\" x=\"200.6875\" xlink:href=\"#ma412dbdcc1\" y=\"224.64\"/>\n",
              "      </g>\n",
              "     </g>\n",
              "     <g id=\"text_1\">\n",
              "      <!-- 0 -->\n",
              "      <g transform=\"translate(197.50625 239.238437)scale(0.1 -0.1)\">\n",
              "       <defs>\n",
              "        <path d=\"M 31.78125 66.40625 \n",
              "Q 24.171875 66.40625 20.328125 58.90625 \n",
              "Q 16.5 51.421875 16.5 36.375 \n",
              "Q 16.5 21.390625 20.328125 13.890625 \n",
              "Q 24.171875 6.390625 31.78125 6.390625 \n",
              "Q 39.453125 6.390625 43.28125 13.890625 \n",
              "Q 47.125 21.390625 47.125 36.375 \n",
              "Q 47.125 51.421875 43.28125 58.90625 \n",
              "Q 39.453125 66.40625 31.78125 66.40625 \n",
              "z\n",
              "M 31.78125 74.21875 \n",
              "Q 44.046875 74.21875 50.515625 64.515625 \n",
              "Q 56.984375 54.828125 56.984375 36.375 \n",
              "Q 56.984375 17.96875 50.515625 8.265625 \n",
              "Q 44.046875 -1.421875 31.78125 -1.421875 \n",
              "Q 19.53125 -1.421875 13.0625 8.265625 \n",
              "Q 6.59375 17.96875 6.59375 36.375 \n",
              "Q 6.59375 54.828125 13.0625 64.515625 \n",
              "Q 19.53125 74.21875 31.78125 74.21875 \n",
              "z\n",
              "\" id=\"DejaVuSans-48\"/>\n",
              "       </defs>\n",
              "       <use xlink:href=\"#DejaVuSans-48\"/>\n",
              "      </g>\n",
              "     </g>\n",
              "    </g>\n",
              "   </g>\n",
              "   <g id=\"matplotlib.axis_2\">\n",
              "    <g id=\"ytick_1\">\n",
              "     <g id=\"line2d_2\">\n",
              "      <defs>\n",
              "       <path d=\"M 0 0 \n",
              "L -3.5 0 \n",
              "\" id=\"mea307a9f6c\" style=\"stroke:#000000;stroke-width:0.8;\"/>\n",
              "      </defs>\n",
              "      <g>\n",
              "       <use style=\"stroke:#000000;stroke-width:0.8;\" x=\"33.2875\" xlink:href=\"#mea307a9f6c\" y=\"184.131012\"/>\n",
              "      </g>\n",
              "     </g>\n",
              "     <g id=\"text_2\">\n",
              "      <!-- 50 -->\n",
              "      <g transform=\"translate(13.5625 187.93023)scale(0.1 -0.1)\">\n",
              "       <defs>\n",
              "        <path d=\"M 10.796875 72.90625 \n",
              "L 49.515625 72.90625 \n",
              "L 49.515625 64.59375 \n",
              "L 19.828125 64.59375 \n",
              "L 19.828125 46.734375 \n",
              "Q 21.96875 47.46875 24.109375 47.828125 \n",
              "Q 26.265625 48.1875 28.421875 48.1875 \n",
              "Q 40.625 48.1875 47.75 41.5 \n",
              "Q 54.890625 34.8125 54.890625 23.390625 \n",
              "Q 54.890625 11.625 47.5625 5.09375 \n",
              "Q 40.234375 -1.421875 26.90625 -1.421875 \n",
              "Q 22.3125 -1.421875 17.546875 -0.640625 \n",
              "Q 12.796875 0.140625 7.71875 1.703125 \n",
              "L 7.71875 11.625 \n",
              "Q 12.109375 9.234375 16.796875 8.0625 \n",
              "Q 21.484375 6.890625 26.703125 6.890625 \n",
              "Q 35.15625 6.890625 40.078125 11.328125 \n",
              "Q 45.015625 15.765625 45.015625 23.390625 \n",
              "Q 45.015625 31 40.078125 35.4375 \n",
              "Q 35.15625 39.890625 26.703125 39.890625 \n",
              "Q 22.75 39.890625 18.8125 39.015625 \n",
              "Q 14.890625 38.140625 10.796875 36.28125 \n",
              "z\n",
              "\" id=\"DejaVuSans-53\"/>\n",
              "       </defs>\n",
              "       <use xlink:href=\"#DejaVuSans-53\"/>\n",
              "       <use x=\"63.623047\" xlink:href=\"#DejaVuSans-48\"/>\n",
              "      </g>\n",
              "     </g>\n",
              "    </g>\n",
              "    <g id=\"ytick_2\">\n",
              "     <g id=\"line2d_3\">\n",
              "      <g>\n",
              "       <use style=\"stroke:#000000;stroke-width:0.8;\" x=\"33.2875\" xlink:href=\"#mea307a9f6c\" y=\"137.728963\"/>\n",
              "      </g>\n",
              "     </g>\n",
              "     <g id=\"text_3\">\n",
              "      <!-- 100 -->\n",
              "      <g transform=\"translate(7.2 141.528182)scale(0.1 -0.1)\">\n",
              "       <defs>\n",
              "        <path d=\"M 12.40625 8.296875 \n",
              "L 28.515625 8.296875 \n",
              "L 28.515625 63.921875 \n",
              "L 10.984375 60.40625 \n",
              "L 10.984375 69.390625 \n",
              "L 28.421875 72.90625 \n",
              "L 38.28125 72.90625 \n",
              "L 38.28125 8.296875 \n",
              "L 54.390625 8.296875 \n",
              "L 54.390625 0 \n",
              "L 12.40625 0 \n",
              "z\n",
              "\" id=\"DejaVuSans-49\"/>\n",
              "       </defs>\n",
              "       <use xlink:href=\"#DejaVuSans-49\"/>\n",
              "       <use x=\"63.623047\" xlink:href=\"#DejaVuSans-48\"/>\n",
              "       <use x=\"127.246094\" xlink:href=\"#DejaVuSans-48\"/>\n",
              "      </g>\n",
              "     </g>\n",
              "    </g>\n",
              "    <g id=\"ytick_3\">\n",
              "     <g id=\"line2d_4\">\n",
              "      <g>\n",
              "       <use style=\"stroke:#000000;stroke-width:0.8;\" x=\"33.2875\" xlink:href=\"#mea307a9f6c\" y=\"91.326914\"/>\n",
              "      </g>\n",
              "     </g>\n",
              "     <g id=\"text_4\">\n",
              "      <!-- 150 -->\n",
              "      <g transform=\"translate(7.2 95.126133)scale(0.1 -0.1)\">\n",
              "       <use xlink:href=\"#DejaVuSans-49\"/>\n",
              "       <use x=\"63.623047\" xlink:href=\"#DejaVuSans-53\"/>\n",
              "       <use x=\"127.246094\" xlink:href=\"#DejaVuSans-48\"/>\n",
              "      </g>\n",
              "     </g>\n",
              "    </g>\n",
              "    <g id=\"ytick_4\">\n",
              "     <g id=\"line2d_5\">\n",
              "      <g>\n",
              "       <use style=\"stroke:#000000;stroke-width:0.8;\" x=\"33.2875\" xlink:href=\"#mea307a9f6c\" y=\"44.924866\"/>\n",
              "      </g>\n",
              "     </g>\n",
              "     <g id=\"text_5\">\n",
              "      <!-- 200 -->\n",
              "      <g transform=\"translate(7.2 48.724084)scale(0.1 -0.1)\">\n",
              "       <defs>\n",
              "        <path d=\"M 19.1875 8.296875 \n",
              "L 53.609375 8.296875 \n",
              "L 53.609375 0 \n",
              "L 7.328125 0 \n",
              "L 7.328125 8.296875 \n",
              "Q 12.9375 14.109375 22.625 23.890625 \n",
              "Q 32.328125 33.6875 34.8125 36.53125 \n",
              "Q 39.546875 41.84375 41.421875 45.53125 \n",
              "Q 43.3125 49.21875 43.3125 52.78125 \n",
              "Q 43.3125 58.59375 39.234375 62.25 \n",
              "Q 35.15625 65.921875 28.609375 65.921875 \n",
              "Q 23.96875 65.921875 18.8125 64.3125 \n",
              "Q 13.671875 62.703125 7.8125 59.421875 \n",
              "L 7.8125 69.390625 \n",
              "Q 13.765625 71.78125 18.9375 73 \n",
              "Q 24.125 74.21875 28.421875 74.21875 \n",
              "Q 39.75 74.21875 46.484375 68.546875 \n",
              "Q 53.21875 62.890625 53.21875 53.421875 \n",
              "Q 53.21875 48.921875 51.53125 44.890625 \n",
              "Q 49.859375 40.875 45.40625 35.40625 \n",
              "Q 44.1875 33.984375 37.640625 27.21875 \n",
              "Q 31.109375 20.453125 19.1875 8.296875 \n",
              "z\n",
              "\" id=\"DejaVuSans-50\"/>\n",
              "       </defs>\n",
              "       <use xlink:href=\"#DejaVuSans-50\"/>\n",
              "       <use x=\"63.623047\" xlink:href=\"#DejaVuSans-48\"/>\n",
              "       <use x=\"127.246094\" xlink:href=\"#DejaVuSans-48\"/>\n",
              "      </g>\n",
              "     </g>\n",
              "    </g>\n",
              "   </g>\n",
              "   <g id=\"line2d_6\">\n",
              "    <path clip-path=\"url(#p051bda7e8b)\" d=\"M 200.6875 188.771216 \n",
              "L 200.6875 214.756364 \n",
              "\" style=\"fill:none;stroke:#3f3f3f;stroke-linecap:square;stroke-width:1.5;\"/>\n",
              "   </g>\n",
              "   <g id=\"line2d_7\">\n",
              "    <path clip-path=\"url(#p051bda7e8b)\" d=\"M 200.6875 152.577618 \n",
              "L 200.6875 137.728963 \n",
              "\" style=\"fill:none;stroke:#3f3f3f;stroke-linecap:square;stroke-width:1.5;\"/>\n",
              "   </g>\n",
              "   <g id=\"line2d_8\">\n",
              "    <path clip-path=\"url(#p051bda7e8b)\" d=\"M 133.7275 214.756364 \n",
              "L 267.6475 214.756364 \n",
              "\" style=\"fill:none;stroke:#3f3f3f;stroke-linecap:square;stroke-width:1.5;\"/>\n",
              "   </g>\n",
              "   <g id=\"line2d_9\">\n",
              "    <path clip-path=\"url(#p051bda7e8b)\" d=\"M 133.7275 137.728963 \n",
              "L 267.6475 137.728963 \n",
              "\" style=\"fill:none;stroke:#3f3f3f;stroke-linecap:square;stroke-width:1.5;\"/>\n",
              "   </g>\n",
              "   <g id=\"line2d_10\">\n",
              "    <defs>\n",
              "     <path d=\"M -0 3.535534 \n",
              "L 2.12132 0 \n",
              "L -0 -3.535534 \n",
              "L -2.12132 -0 \n",
              "z\n",
              "\" id=\"mcec2e3b978\" style=\"stroke:#3f3f3f;stroke-linejoin:miter;\"/>\n",
              "    </defs>\n",
              "    <g clip-path=\"url(#p051bda7e8b)\">\n",
              "     <use style=\"fill:#3f3f3f;stroke:#3f3f3f;stroke-linejoin:miter;\" x=\"200.6875\" xlink:href=\"#mcec2e3b978\" y=\"17.083636\"/>\n",
              "     <use style=\"fill:#3f3f3f;stroke:#3f3f3f;stroke-linejoin:miter;\" x=\"200.6875\" xlink:href=\"#mcec2e3b978\" y=\"91.326914\"/>\n",
              "    </g>\n",
              "   </g>\n",
              "   <g id=\"line2d_11\">\n",
              "    <path clip-path=\"url(#p051bda7e8b)\" d=\"M 66.7675 165.570192 \n",
              "L 334.6075 165.570192 \n",
              "\" style=\"fill:none;stroke:#3f3f3f;stroke-linecap:square;stroke-width:1.5;\"/>\n",
              "   </g>\n",
              "   <g id=\"patch_4\">\n",
              "    <path d=\"M 33.2875 224.64 \n",
              "L 33.2875 7.2 \n",
              "\" style=\"fill:none;stroke:#000000;stroke-linecap:square;stroke-linejoin:miter;stroke-width:0.8;\"/>\n",
              "   </g>\n",
              "   <g id=\"patch_5\">\n",
              "    <path d=\"M 368.0875 224.64 \n",
              "L 368.0875 7.2 \n",
              "\" style=\"fill:none;stroke:#000000;stroke-linecap:square;stroke-linejoin:miter;stroke-width:0.8;\"/>\n",
              "   </g>\n",
              "   <g id=\"patch_6\">\n",
              "    <path d=\"M 33.2875 224.64 \n",
              "L 368.0875 224.64 \n",
              "\" style=\"fill:none;stroke:#000000;stroke-linecap:square;stroke-linejoin:miter;stroke-width:0.8;\"/>\n",
              "   </g>\n",
              "   <g id=\"patch_7\">\n",
              "    <path d=\"M 33.2875 7.2 \n",
              "L 368.0875 7.2 \n",
              "\" style=\"fill:none;stroke:#000000;stroke-linecap:square;stroke-linejoin:miter;stroke-width:0.8;\"/>\n",
              "   </g>\n",
              "  </g>\n",
              " </g>\n",
              " <defs>\n",
              "  <clipPath id=\"p051bda7e8b\">\n",
              "   <rect height=\"217.44\" width=\"334.8\" x=\"33.2875\" y=\"7.2\"/>\n",
              "  </clipPath>\n",
              " </defs>\n",
              "</svg>\n"
            ],
            "text/plain": [
              "<Figure size 432x288 with 1 Axes>"
            ]
          },
          "metadata": {
            "needs_background": "light"
          },
          "output_type": "display_data"
        }
      ]
    },
    {
      "cell_type": "markdown",
      "metadata": {
        "id": "-JQA2D3Kf0Nw"
      },
      "source": [
        "__Задача 3__\n",
        "\n",
        "В университет на факультет A поступило 100 человек, на факультет B - 90 человек и на факультет C - 45 человек. Вероятность того, что студент с факультета A сдаст первую сессию, равна 0.6. Для студента с факультета B эта вероятность равна 0.7, а для студента с факультета C - 0.8. Случайным образом выбирается студент, сдавший первую сессию. Какое событие наиболее вероятно:\n",
        "1. студент учится на факультете A,\n",
        "2. студент учится на факультете B,\n",
        "3. студент учится на факультете C?\n",
        "\n",
        "_Замечание_: да, эта задача не на тему статистики, но тема важная, и её стоит иногда освежать в памяти."
      ]
    },
    {
      "cell_type": "markdown",
      "metadata": {
        "id": "DPD4mGZMf0Nw"
      },
      "source": [
        "__Решение__\n",
        "\n",
        "Пусть $A$, $B$, $C$ — события, заключающиеся в том, что случайным образом взятый студент учится, соответственно, на факультете $A$, $B$ или $C$. Кроме того, пусть событие $S$ обозначает, что случайным образом взятый студент сдал первую сессию. Для решения задачи нам нужно посчитать условные вероятности\n",
        "$$P(A|S), \\: P(B|S), \\: P(C|S)$$\n",
        "и выбрать тот факультет, которому соответствует наибольшая вероятность. Данные вероятности можно посчитать с помощью формулы Байеса. Например, для факультета $A$:\n",
        "$$P(A | S) = \\dfrac{P(S | A) \\cdot P(A)}{P(S)}$$\n",
        "\n",
        "Сперва оценим вероятности $P(A)$, $P(B)$, $P(C)$. Поскольку мы знаем, сколько на каждом факультете студентов, мы можем оценить вероятности этих событий. (Заметим, что всего студентов 235.)\n",
        "$$P(A) = \\dfrac{100}{235} = 0.4255, \\: P(B) = \\dfrac{90}{235} = 0.383, \\: P(C) = \\dfrac{45}{235} = 0.1915$$"
      ]
    },
    {
      "cell_type": "code",
      "metadata": {
        "execution": {
          "iopub.execute_input": "2021-02-13T12:55:03.270732Z",
          "iopub.status.busy": "2021-02-13T12:55:03.269977Z",
          "iopub.status.idle": "2021-02-13T12:55:03.272502Z",
          "shell.execute_reply": "2021-02-13T12:55:03.273193Z"
        },
        "id": "FziT4uYMf0Nw",
        "outputId": "41529d8d-9dbd-45b3-844f-692a53943f1d"
      },
      "source": [
        "a = 100\n",
        "b = 90\n",
        "c = 45\n",
        "\n",
        "p_a = a / (a + b + c)\n",
        "p_b = b / (a + b + c)\n",
        "p_c = c / (a + b + c)\n",
        "\n",
        "p_a, p_b, p_c"
      ],
      "execution_count": null,
      "outputs": [
        {
          "data": {
            "text/plain": [
              "(0.425531914893617, 0.3829787234042553, 0.19148936170212766)"
            ]
          },
          "execution_count": 1,
          "metadata": {},
          "output_type": "execute_result"
        }
      ]
    },
    {
      "cell_type": "markdown",
      "metadata": {
        "id": "F_WLtWxqf0Nx"
      },
      "source": [
        "Далее, по условию задачи нам даны вероятности:\n",
        "$$P(S | A) = 0.6, \\: P(S | B) = 0.7, \\: P(S | C) = 0.8$$"
      ]
    },
    {
      "cell_type": "code",
      "metadata": {
        "execution": {
          "iopub.execute_input": "2021-02-13T12:55:03.277903Z",
          "iopub.status.busy": "2021-02-13T12:55:03.277076Z",
          "iopub.status.idle": "2021-02-13T12:55:03.279129Z",
          "shell.execute_reply": "2021-02-13T12:55:03.279892Z"
        },
        "id": "i2hzeEm3f0Nx"
      },
      "source": [
        "p_sa = 0.5\n",
        "p_sb = 0.6\n",
        "p_sc = 0.7"
      ],
      "execution_count": null,
      "outputs": []
    },
    {
      "cell_type": "markdown",
      "metadata": {
        "id": "FStFwHETf0Nx"
      },
      "source": [
        "Для того, чтобы посчитать вероятность $P(S)$, нам понадобится формула полной вероятности. Имеем:\n",
        "$$P(S) = P(S | A) \\cdot P(A) + P(S | B) \\cdot P(B) + P(S | C) \\cdot P(C) = 0.5766$$"
      ]
    },
    {
      "cell_type": "code",
      "metadata": {
        "execution": {
          "iopub.execute_input": "2021-02-13T12:55:03.284443Z",
          "iopub.status.busy": "2021-02-13T12:55:03.283820Z",
          "iopub.status.idle": "2021-02-13T12:55:03.286334Z",
          "shell.execute_reply": "2021-02-13T12:55:03.287062Z"
        },
        "id": "fAkYkRPvf0Nx",
        "outputId": "6ec84a16-3bc9-408e-c9bc-199b7cc94a99"
      },
      "source": [
        "p_s = p_sa * p_a + p_sb * p_b + p_sc * p_c\n",
        "p_s"
      ],
      "execution_count": null,
      "outputs": [
        {
          "data": {
            "text/plain": [
              "0.5765957446808511"
            ]
          },
          "execution_count": 1,
          "metadata": {},
          "output_type": "execute_result"
        }
      ]
    },
    {
      "cell_type": "markdown",
      "metadata": {
        "id": "zT9Vpl29f0Ny"
      },
      "source": [
        "Теперь всё готово, чтобы применить формулу Байеса для каждого факультета:"
      ]
    },
    {
      "cell_type": "code",
      "metadata": {
        "execution": {
          "iopub.execute_input": "2021-02-13T12:55:03.291905Z",
          "iopub.status.busy": "2021-02-13T12:55:03.291284Z",
          "iopub.status.idle": "2021-02-13T12:55:03.293575Z",
          "shell.execute_reply": "2021-02-13T12:55:03.294210Z"
        },
        "id": "9oXqpa7Wf0Ny",
        "outputId": "d6c86528-c649-4443-d661-a788e7806efe"
      },
      "source": [
        "p_as = p_sa * p_a / p_s\n",
        "p_bs = p_sb * p_b / p_s\n",
        "p_cs = p_sc * p_c / p_s\n",
        "\n",
        "p_as, p_bs, p_cs"
      ],
      "execution_count": null,
      "outputs": [
        {
          "data": {
            "text/plain": [
              "(0.36900369003690037, 0.3985239852398524, 0.23247232472324722)"
            ]
          },
          "execution_count": 1,
          "metadata": {},
          "output_type": "execute_result"
        }
      ]
    },
    {
      "cell_type": "markdown",
      "metadata": {
        "id": "7XpSFNNvf0Ny"
      },
      "source": [
        "Как мы видим, наиболее вероятно, что данный студент учится на факультете $B$."
      ]
    },
    {
      "cell_type": "code",
      "metadata": {
        "id": "2UOdsGIhf0Ny"
      },
      "source": [
        ""
      ],
      "execution_count": null,
      "outputs": []
    }
  ]
}